{
  "nbformat": 4,
  "nbformat_minor": 0,
  "metadata": {
    "colab": {
      "name": "Neural Network Mercari Project.ipynb",
      "provenance": [],
      "collapsed_sections": []
    },
    "kernelspec": {
      "display_name": "Python 3",
      "name": "python3"
    },
    "language_info": {
      "name": "python"
    }
  },
  "cells": [
    {
      "cell_type": "markdown",
      "metadata": {
        "id": "BbYMX3pg2wzq"
      },
      "source": [
        "## Data"
      ]
    },
    {
      "cell_type": "code",
      "metadata": {
        "colab": {
          "base_uri": "https://localhost:8080/"
        },
        "id": "gGk36-Hyu9xn",
        "outputId": "64a99545-dac7-4995-a170-fdf5e5d1484d"
      },
      "source": [
        "%%shell\n",
        "mkdir /root/.kaggle\n",
        "mv ./kaggle.json /root/.kaggle/kaggle.json\n",
        "chmod 600 /root/.kaggle/kaggle.json\n",
        "kaggle competitions download -c mercari-price-suggestion-challenge\n",
        "7za e train.tsv.7z\n",
        "7za e test.tsv.7z"
      ],
      "execution_count": null,
      "outputs": [
        {
          "output_type": "stream",
          "name": "stdout",
          "text": [
            "mkdir: cannot create directory ‘/root/.kaggle’: File exists\n",
            "Warning: Looks like you're using an outdated API Version, please consider updating (server 1.5.12 / client 1.5.4)\n",
            "Downloading test_stg2.tsv.zip to /content\n",
            " 96% 283M/294M [00:02<00:00, 174MB/s]\n",
            "100% 294M/294M [00:02<00:00, 111MB/s]\n",
            "Downloading sample_submission.csv.7z to /content\n",
            "  0% 0.00/170k [00:00<?, ?B/s]\n",
            "100% 170k/170k [00:00<00:00, 151MB/s]\n",
            "Downloading train.tsv.7z to /content\n",
            " 92% 68.0M/74.3M [00:00<00:00, 62.4MB/s]\n",
            "100% 74.3M/74.3M [00:01<00:00, 76.4MB/s]\n",
            "Downloading test.tsv.7z to /content\n",
            " 50% 17.0M/34.0M [00:00<00:00, 33.5MB/s]\n",
            "100% 34.0M/34.0M [00:00<00:00, 84.4MB/s]\n",
            "Downloading sample_submission_stg2.csv.zip to /content\n",
            " 64% 5.00M/7.77M [00:00<00:00, 35.2MB/s]\n",
            "100% 7.77M/7.77M [00:00<00:00, 49.4MB/s]\n",
            "\n",
            "7-Zip (a) [64] 16.02 : Copyright (c) 1999-2016 Igor Pavlov : 2016-05-21\n",
            "p7zip Version 16.02 (locale=en_US.UTF-8,Utf16=on,HugeFiles=on,64 bits,2 CPUs Intel(R) Xeon(R) CPU @ 2.20GHz (406F0),ASM,AES-NI)\n",
            "\n",
            "Scanning the drive for archives:\n",
            "  0M Scan\b\b\b\b\b\b\b\b\b         \b\b\b\b\b\b\b\b\b1 file, 77912192 bytes (75 MiB)\n",
            "\n",
            "Extracting archive: train.tsv.7z\n",
            "--\n",
            "Path = train.tsv.7z\n",
            "Type = 7z\n",
            "Physical Size = 77912192\n",
            "Headers Size = 122\n",
            "Method = LZMA2:24\n",
            "Solid = -\n",
            "Blocks = 1\n",
            "\n",
            "  0%\b\b\b\b    \b\b\b\b  3% - train.tsv\b\b\b\b\b\b\b\b\b\b\b\b\b\b\b\b                \b\b\b\b\b\b\b\b\b\b\b\b\b\b\b\b  7% - train.tsv\b\b\b\b\b\b\b\b\b\b\b\b\b\b\b\b                \b\b\b\b\b\b\b\b\b\b\b\b\b\b\b\b 11% - train.tsv\b\b\b\b\b\b\b\b\b\b\b\b\b\b\b\b                \b\b\b\b\b\b\b\b\b\b\b\b\b\b\b\b 16% - train.tsv\b\b\b\b\b\b\b\b\b\b\b\b\b\b\b\b                \b\b\b\b\b\b\b\b\b\b\b\b\b\b\b\b 19% - train.tsv\b\b\b\b\b\b\b\b\b\b\b\b\b\b\b\b                \b\b\b\b\b\b\b\b\b\b\b\b\b\b\b\b 22% - train.tsv\b\b\b\b\b\b\b\b\b\b\b\b\b\b\b\b                \b\b\b\b\b\b\b\b\b\b\b\b\b\b\b\b 26% - train.tsv\b\b\b\b\b\b\b\b\b\b\b\b\b\b\b\b                \b\b\b\b\b\b\b\b\b\b\b\b\b\b\b\b 29% - train.tsv\b\b\b\b\b\b\b\b\b\b\b\b\b\b\b\b                \b\b\b\b\b\b\b\b\b\b\b\b\b\b\b\b 33% - train.tsv\b\b\b\b\b\b\b\b\b\b\b\b\b\b\b\b                \b\b\b\b\b\b\b\b\b\b\b\b\b\b\b\b 37% - train.tsv\b\b\b\b\b\b\b\b\b\b\b\b\b\b\b\b                \b\b\b\b\b\b\b\b\b\b\b\b\b\b\b\b 40% - train.tsv\b\b\b\b\b\b\b\b\b\b\b\b\b\b\b\b                \b\b\b\b\b\b\b\b\b\b\b\b\b\b\b\b 44% - train.tsv\b\b\b\b\b\b\b\b\b\b\b\b\b\b\b\b                \b\b\b\b\b\b\b\b\b\b\b\b\b\b\b\b 48% - train.tsv\b\b\b\b\b\b\b\b\b\b\b\b\b\b\b\b                \b\b\b\b\b\b\b\b\b\b\b\b\b\b\b\b 52% - train.tsv\b\b\b\b\b\b\b\b\b\b\b\b\b\b\b\b                \b\b\b\b\b\b\b\b\b\b\b\b\b\b\b\b 56% - train.tsv\b\b\b\b\b\b\b\b\b\b\b\b\b\b\b\b                \b\b\b\b\b\b\b\b\b\b\b\b\b\b\b\b 60% - train.tsv\b\b\b\b\b\b\b\b\b\b\b\b\b\b\b\b                \b\b\b\b\b\b\b\b\b\b\b\b\b\b\b\b 64% - train.tsv\b\b\b\b\b\b\b\b\b\b\b\b\b\b\b\b                \b\b\b\b\b\b\b\b\b\b\b\b\b\b\b\b 68% - train.tsv\b\b\b\b\b\b\b\b\b\b\b\b\b\b\b\b                \b\b\b\b\b\b\b\b\b\b\b\b\b\b\b\b 72% - train.tsv\b\b\b\b\b\b\b\b\b\b\b\b\b\b\b\b                \b\b\b\b\b\b\b\b\b\b\b\b\b\b\b\b 75% - train.tsv\b\b\b\b\b\b\b\b\b\b\b\b\b\b\b\b                \b\b\b\b\b\b\b\b\b\b\b\b\b\b\b\b 79% - train.tsv\b\b\b\b\b\b\b\b\b\b\b\b\b\b\b\b                \b\b\b\b\b\b\b\b\b\b\b\b\b\b\b\b 83% - train.tsv\b\b\b\b\b\b\b\b\b\b\b\b\b\b\b\b                \b\b\b\b\b\b\b\b\b\b\b\b\b\b\b\b 86% - train.tsv\b\b\b\b\b\b\b\b\b\b\b\b\b\b\b\b                \b\b\b\b\b\b\b\b\b\b\b\b\b\b\b\b 90% - train.tsv\b\b\b\b\b\b\b\b\b\b\b\b\b\b\b\b                \b\b\b\b\b\b\b\b\b\b\b\b\b\b\b\b 94% - train.tsv\b\b\b\b\b\b\b\b\b\b\b\b\b\b\b\b                \b\b\b\b\b\b\b\b\b\b\b\b\b\b\b\b 98% - train.tsv\b\b\b\b\b\b\b\b\b\b\b\b\b\b\b\b                \b\b\b\b\b\b\b\b\b\b\b\b\b\b\b\bEverything is Ok\n",
            "\n",
            "Size:       337809843\n",
            "Compressed: 77912192\n",
            "\n",
            "7-Zip (a) [64] 16.02 : Copyright (c) 1999-2016 Igor Pavlov : 2016-05-21\n",
            "p7zip Version 16.02 (locale=en_US.UTF-8,Utf16=on,HugeFiles=on,64 bits,2 CPUs Intel(R) Xeon(R) CPU @ 2.20GHz (406F0),ASM,AES-NI)\n",
            "\n",
            "Scanning the drive for archives:\n",
            "  0M Scan\b\b\b\b\b\b\b\b\b         \b\b\b\b\b\b\b\b\b1 file, 35617013 bytes (34 MiB)\n",
            "\n",
            "Extracting archive: test.tsv.7z\n",
            "--\n",
            "Path = test.tsv.7z\n",
            "Type = 7z\n",
            "Physical Size = 35617013\n",
            "Headers Size = 122\n",
            "Method = LZMA2:24\n",
            "Solid = -\n",
            "Blocks = 1\n",
            "\n",
            "  0%\b\b\b\b    \b\b\b\b  8% - test.tsv\b\b\b\b\b\b\b\b\b\b\b\b\b\b\b               \b\b\b\b\b\b\b\b\b\b\b\b\b\b\b 16% - test.tsv\b\b\b\b\b\b\b\b\b\b\b\b\b\b\b               \b\b\b\b\b\b\b\b\b\b\b\b\b\b\b 24% - test.tsv\b\b\b\b\b\b\b\b\b\b\b\b\b\b\b               \b\b\b\b\b\b\b\b\b\b\b\b\b\b\b 35% - test.tsv\b\b\b\b\b\b\b\b\b\b\b\b\b\b\b               \b\b\b\b\b\b\b\b\b\b\b\b\b\b\b 43% - test.tsv\b\b\b\b\b\b\b\b\b\b\b\b\b\b\b               \b\b\b\b\b\b\b\b\b\b\b\b\b\b\b 48% - test.tsv\b\b\b\b\b\b\b\b\b\b\b\b\b\b\b               \b\b\b\b\b\b\b\b\b\b\b\b\b\b\b 57% - test.tsv\b\b\b\b\b\b\b\b\b\b\b\b\b\b\b               \b\b\b\b\b\b\b\b\b\b\b\b\b\b\b 65% - test.tsv\b\b\b\b\b\b\b\b\b\b\b\b\b\b\b               \b\b\b\b\b\b\b\b\b\b\b\b\b\b\b 73% - test.tsv\b\b\b\b\b\b\b\b\b\b\b\b\b\b\b               \b\b\b\b\b\b\b\b\b\b\b\b\b\b\b 81% - test.tsv\b\b\b\b\b\b\b\b\b\b\b\b\b\b\b               \b\b\b\b\b\b\b\b\b\b\b\b\b\b\b 89% - test.tsv\b\b\b\b\b\b\b\b\b\b\b\b\b\b\b               \b\b\b\b\b\b\b\b\b\b\b\b\b\b\b 97% - test.tsv\b\b\b\b\b\b\b\b\b\b\b\b\b\b\b               \b\b\b\b\b\b\b\b\b\b\b\b\b\b\bEverything is Ok\n",
            "\n",
            "Size:       154222160\n",
            "Compressed: 35617013\n"
          ]
        },
        {
          "output_type": "execute_result",
          "data": {
            "text/plain": [
              ""
            ]
          },
          "metadata": {},
          "execution_count": 3
        }
      ]
    },
    {
      "cell_type": "code",
      "metadata": {
        "id": "yQFnNPMisCKg"
      },
      "source": [
        "import numpy as np\n",
        "import pandas as pd\n",
        "\n",
        "from sklearn.preprocessing import LabelEncoder, MinMaxScaler, StandardScaler\n",
        "from sklearn.model_selection import train_test_split\n",
        "\n",
        "import matplotlib.pyplot as plt\n",
        "%matplotlib inline \n",
        "\n",
        "import math\n",
        "\n",
        "\n",
        "from subprocess import check_output\n"
      ],
      "execution_count": null,
      "outputs": []
    },
    {
      "cell_type": "code",
      "metadata": {
        "id": "zQnt0-BUsCgq"
      },
      "source": [
        "def rmsle(y, y_pred):\n",
        "    assert len(y) == len(y_pred)\n",
        "    to_sum = [(math.log(y_pred[i] + 1) - math.log(y[i] + 1)) ** 2.0 for i,pred in enumerate(y_pred)]\n",
        "    return (sum(to_sum) * (1.0/len(y))) ** 0.5\n",
        "#Source: https://www.kaggle.com/marknagelberg/rmsle-function"
      ],
      "execution_count": null,
      "outputs": []
    },
    {
      "cell_type": "code",
      "metadata": {
        "colab": {
          "base_uri": "https://localhost:8080/"
        },
        "id": "6C1YNyWBsELK",
        "outputId": "de4c318e-8497-41f8-f5bd-f95434cd1dad"
      },
      "source": [
        "#LOAD DATA\n",
        "print(\"Loading data...\")\n",
        "train = pd.read_table(\"train.tsv\")\n",
        "test = pd.read_table(\"test.tsv\")\n",
        "print(train.shape)\n",
        "print(test.shape)"
      ],
      "execution_count": null,
      "outputs": [
        {
          "output_type": "stream",
          "name": "stdout",
          "text": [
            "Loading data...\n",
            "(1482535, 8)\n",
            "(693359, 7)\n"
          ]
        }
      ]
    },
    {
      "cell_type": "code",
      "metadata": {
        "colab": {
          "base_uri": "https://localhost:8080/"
        },
        "id": "k453M5iWsLDZ",
        "outputId": "b7b92518-0691-4ed2-a81f-5f26f7d43f1e"
      },
      "source": [
        "#HANDLE MISSING VALUES\n",
        "print(\"Handling missing values...\")\n",
        "def handle_missing(dataset):\n",
        "    dataset.category_name.fillna(value=\"missing\", inplace=True)\n",
        "    dataset.brand_name.fillna(value=\"missing\", inplace=True)\n",
        "    dataset.item_description.fillna(value=\"missing\", inplace=True)\n",
        "    return (dataset)\n",
        "\n",
        "train = handle_missing(train)\n",
        "test = handle_missing(test)\n",
        "print(train.shape)\n",
        "print(test.shape)"
      ],
      "execution_count": null,
      "outputs": [
        {
          "output_type": "stream",
          "name": "stdout",
          "text": [
            "Handling missing values...\n",
            "(1482535, 8)\n",
            "(693359, 7)\n"
          ]
        }
      ]
    },
    {
      "cell_type": "code",
      "metadata": {
        "colab": {
          "base_uri": "https://localhost:8080/",
          "height": 209
        },
        "id": "wqOFKzIesVXD",
        "outputId": "d5513b81-683e-442a-c1d9-a5c13e9151b0"
      },
      "source": [
        "#PROCESS CATEGORICAL DATA\n",
        "print(\"Handling categorical variables...\")\n",
        "le = LabelEncoder()\n",
        "\n",
        "le.fit(np.hstack([train.category_name, test.category_name]))\n",
        "train.category_name = le.transform(train.category_name)\n",
        "test.category_name = le.transform(test.category_name)\n",
        "\n",
        "le.fit(np.hstack([train.brand_name, test.brand_name]))\n",
        "train.brand_name = le.transform(train.brand_name)\n",
        "test.brand_name = le.transform(test.brand_name)\n",
        "del le\n",
        "\n",
        "train.head(3)"
      ],
      "execution_count": null,
      "outputs": [
        {
          "output_type": "stream",
          "name": "stdout",
          "text": [
            "Handling categorical variables...\n"
          ]
        },
        {
          "output_type": "execute_result",
          "data": {
            "text/html": [
              "<div>\n",
              "<style scoped>\n",
              "    .dataframe tbody tr th:only-of-type {\n",
              "        vertical-align: middle;\n",
              "    }\n",
              "\n",
              "    .dataframe tbody tr th {\n",
              "        vertical-align: top;\n",
              "    }\n",
              "\n",
              "    .dataframe thead th {\n",
              "        text-align: right;\n",
              "    }\n",
              "</style>\n",
              "<table border=\"1\" class=\"dataframe\">\n",
              "  <thead>\n",
              "    <tr style=\"text-align: right;\">\n",
              "      <th></th>\n",
              "      <th>train_id</th>\n",
              "      <th>name</th>\n",
              "      <th>item_condition_id</th>\n",
              "      <th>category_name</th>\n",
              "      <th>brand_name</th>\n",
              "      <th>price</th>\n",
              "      <th>shipping</th>\n",
              "      <th>item_description</th>\n",
              "    </tr>\n",
              "  </thead>\n",
              "  <tbody>\n",
              "    <tr>\n",
              "      <th>0</th>\n",
              "      <td>0</td>\n",
              "      <td>MLB Cincinnati Reds T Shirt Size XL</td>\n",
              "      <td>3</td>\n",
              "      <td>829</td>\n",
              "      <td>5265</td>\n",
              "      <td>10.0</td>\n",
              "      <td>1</td>\n",
              "      <td>No description yet</td>\n",
              "    </tr>\n",
              "    <tr>\n",
              "      <th>1</th>\n",
              "      <td>1</td>\n",
              "      <td>Razer BlackWidow Chroma Keyboard</td>\n",
              "      <td>3</td>\n",
              "      <td>86</td>\n",
              "      <td>3889</td>\n",
              "      <td>52.0</td>\n",
              "      <td>0</td>\n",
              "      <td>This keyboard is in great condition and works ...</td>\n",
              "    </tr>\n",
              "    <tr>\n",
              "      <th>2</th>\n",
              "      <td>2</td>\n",
              "      <td>AVA-VIV Blouse</td>\n",
              "      <td>1</td>\n",
              "      <td>1277</td>\n",
              "      <td>4588</td>\n",
              "      <td>10.0</td>\n",
              "      <td>1</td>\n",
              "      <td>Adorable top with a hint of lace and a key hol...</td>\n",
              "    </tr>\n",
              "  </tbody>\n",
              "</table>\n",
              "</div>"
            ],
            "text/plain": [
              "   train_id  ...                                   item_description\n",
              "0         0  ...                                 No description yet\n",
              "1         1  ...  This keyboard is in great condition and works ...\n",
              "2         2  ...  Adorable top with a hint of lace and a key hol...\n",
              "\n",
              "[3 rows x 8 columns]"
            ]
          },
          "metadata": {},
          "execution_count": 10
        }
      ]
    },
    {
      "cell_type": "code",
      "metadata": {
        "colab": {
          "base_uri": "https://localhost:8080/",
          "height": 326
        },
        "id": "Qw_D0HMZsXHx",
        "outputId": "d73be225-70d7-4093-96a7-20abf9f6cda4"
      },
      "source": [
        "#PROCESS TEXT: RAW\n",
        "print(\"Text to seq process...\")\n",
        "from keras.preprocessing.text import Tokenizer\n",
        "raw_text = np.hstack([train.item_description.str.lower(), train.name.str.lower()])\n",
        "\n",
        "print(\"   Fitting tokenizer...\")\n",
        "tok_raw = Tokenizer()\n",
        "tok_raw.fit_on_texts(raw_text)\n",
        "print(\"   Transforming text to seq...\")\n",
        "\n",
        "train[\"seq_item_description\"] = tok_raw.texts_to_sequences(train.item_description.str.lower())\n",
        "test[\"seq_item_description\"] = tok_raw.texts_to_sequences(test.item_description.str.lower())\n",
        "train[\"seq_name\"] = tok_raw.texts_to_sequences(train.name.str.lower())\n",
        "test[\"seq_name\"] = tok_raw.texts_to_sequences(test.name.str.lower())\n",
        "train.head(3)"
      ],
      "execution_count": null,
      "outputs": [
        {
          "output_type": "stream",
          "name": "stdout",
          "text": [
            "Text to seq process...\n",
            "   Fitting tokenizer...\n",
            "   Transforming text to seq...\n"
          ]
        },
        {
          "output_type": "execute_result",
          "data": {
            "text/html": [
              "<div>\n",
              "<style scoped>\n",
              "    .dataframe tbody tr th:only-of-type {\n",
              "        vertical-align: middle;\n",
              "    }\n",
              "\n",
              "    .dataframe tbody tr th {\n",
              "        vertical-align: top;\n",
              "    }\n",
              "\n",
              "    .dataframe thead th {\n",
              "        text-align: right;\n",
              "    }\n",
              "</style>\n",
              "<table border=\"1\" class=\"dataframe\">\n",
              "  <thead>\n",
              "    <tr style=\"text-align: right;\">\n",
              "      <th></th>\n",
              "      <th>train_id</th>\n",
              "      <th>name</th>\n",
              "      <th>item_condition_id</th>\n",
              "      <th>category_name</th>\n",
              "      <th>brand_name</th>\n",
              "      <th>price</th>\n",
              "      <th>shipping</th>\n",
              "      <th>item_description</th>\n",
              "      <th>seq_item_description</th>\n",
              "      <th>seq_name</th>\n",
              "    </tr>\n",
              "  </thead>\n",
              "  <tbody>\n",
              "    <tr>\n",
              "      <th>0</th>\n",
              "      <td>0</td>\n",
              "      <td>MLB Cincinnati Reds T Shirt Size XL</td>\n",
              "      <td>3</td>\n",
              "      <td>829</td>\n",
              "      <td>5265</td>\n",
              "      <td>10.0</td>\n",
              "      <td>1</td>\n",
              "      <td>No description yet</td>\n",
              "      <td>[12, 68, 79]</td>\n",
              "      <td>[3852, 8823, 6896, 208, 84, 6, 155]</td>\n",
              "    </tr>\n",
              "    <tr>\n",
              "      <th>1</th>\n",
              "      <td>1</td>\n",
              "      <td>Razer BlackWidow Chroma Keyboard</td>\n",
              "      <td>3</td>\n",
              "      <td>86</td>\n",
              "      <td>3889</td>\n",
              "      <td>52.0</td>\n",
              "      <td>0</td>\n",
              "      <td>This keyboard is in great condition and works ...</td>\n",
              "      <td>[29, 2627, 10, 7, 39, 17, 1, 207, 51, 19, 1113...</td>\n",
              "      <td>[10760, 25565, 16369, 2627]</td>\n",
              "    </tr>\n",
              "    <tr>\n",
              "      <th>2</th>\n",
              "      <td>2</td>\n",
              "      <td>AVA-VIV Blouse</td>\n",
              "      <td>1</td>\n",
              "      <td>1277</td>\n",
              "      <td>4588</td>\n",
              "      <td>10.0</td>\n",
              "      <td>1</td>\n",
              "      <td>Adorable top with a hint of lace and a key hol...</td>\n",
              "      <td>[604, 60, 9, 4, 5347, 11, 192, 1, 4, 886, 1290...</td>\n",
              "      <td>[7634, 10563, 666]</td>\n",
              "    </tr>\n",
              "  </tbody>\n",
              "</table>\n",
              "</div>"
            ],
            "text/plain": [
              "   train_id  ...                             seq_name\n",
              "0         0  ...  [3852, 8823, 6896, 208, 84, 6, 155]\n",
              "1         1  ...          [10760, 25565, 16369, 2627]\n",
              "2         2  ...                   [7634, 10563, 666]\n",
              "\n",
              "[3 rows x 10 columns]"
            ]
          },
          "metadata": {},
          "execution_count": 11
        }
      ]
    },
    {
      "cell_type": "code",
      "metadata": {
        "colab": {
          "base_uri": "https://localhost:8080/"
        },
        "id": "edqPzJGIsZXA",
        "outputId": "c0c23b0b-b256-4e7a-9965-b0ce17601895"
      },
      "source": [
        "#SEQUENCES VARIABLES ANALYSIS\n",
        "max_name_seq = np.max([np.max(train.seq_name.apply(lambda x: len(x))), np.max(test.seq_name.apply(lambda x: len(x)))])\n",
        "max_seq_item_description = np.max([np.max(train.seq_item_description.apply(lambda x: len(x)))\n",
        "                                   , np.max(test.seq_item_description.apply(lambda x: len(x)))])\n",
        "print(\"max name seq \"+str(max_name_seq))\n",
        "print(\"max item desc seq \"+str(max_seq_item_description))"
      ],
      "execution_count": null,
      "outputs": [
        {
          "output_type": "stream",
          "name": "stdout",
          "text": [
            "max name seq 17\n",
            "max item desc seq 269\n"
          ]
        }
      ]
    },
    {
      "cell_type": "code",
      "metadata": {
        "colab": {
          "base_uri": "https://localhost:8080/",
          "height": 282
        },
        "id": "nS6eJ8Vqsowt",
        "outputId": "4a115c5f-88a5-4d56-eafd-f1752ae0878f"
      },
      "source": [
        "train.seq_name.apply(lambda x: len(x)).hist()\n"
      ],
      "execution_count": null,
      "outputs": [
        {
          "output_type": "execute_result",
          "data": {
            "text/plain": [
              "<matplotlib.axes._subplots.AxesSubplot at 0x7f59d07f09d0>"
            ]
          },
          "metadata": {},
          "execution_count": 13
        },
        {
          "output_type": "display_data",
          "data": {
            "image/png": "[encoded data removed]",
            "text/plain": [
              "<Figure size 432x288 with 1 Axes>"
            ]
          },
          "metadata": {
            "needs_background": "light"
          }
        }
      ]
    },
    {
      "cell_type": "code",
      "metadata": {
        "colab": {
          "base_uri": "https://localhost:8080/",
          "height": 293
        },
        "id": "C_n_6R0LsrEp",
        "outputId": "98f95558-5860-43ec-8ce3-fe8e26b11362"
      },
      "source": [
        "train.seq_item_description.apply(lambda x: len(x)).hist()\n"
      ],
      "execution_count": null,
      "outputs": [
        {
          "output_type": "execute_result",
          "data": {
            "text/plain": [
              "<matplotlib.axes._subplots.AxesSubplot at 0x7f59f700bf90>"
            ]
          },
          "metadata": {},
          "execution_count": 14
        },
        {
          "output_type": "display_data",
          "data": {
            "image/png": "[encoded data removed]",
            "text/plain": [
              "<Figure size 432x288 with 1 Axes>"
            ]
          },
          "metadata": {
            "needs_background": "light"
          }
        }
      ]
    },
    {
      "cell_type": "code",
      "metadata": {
        "id": "kW2IxJIuss6t"
      },
      "source": [
        "#EMBEDDINGS MAX VALUE\n",
        "#Base on the histograms, we select the next lengths\n",
        "MAX_NAME_SEQ = 10\n",
        "MAX_ITEM_DESC_SEQ = 75\n",
        "MAX_TEXT = np.max([np.max(train.seq_name.max())\n",
        "                   , np.max(test.seq_name.max())\n",
        "                  , np.max(train.seq_item_description.max())\n",
        "                  , np.max(test.seq_item_description.max())])+2\n",
        "MAX_CATEGORY = np.max([train.category_name.max(), test.category_name.max()])+1\n",
        "MAX_BRAND = np.max([train.brand_name.max(), test.brand_name.max()])+1\n",
        "MAX_CONDITION = np.max([train.item_condition_id.max(), test.item_condition_id.max()])+1"
      ],
      "execution_count": null,
      "outputs": []
    },
    {
      "cell_type": "code",
      "metadata": {
        "colab": {
          "base_uri": "https://localhost:8080/",
          "height": 314
        },
        "id": "y4sGGynHsuTD",
        "outputId": "1525b052-f453-4046-cc98-92c86d6d8816"
      },
      "source": [
        "#SCALE target variable\n",
        "train[\"target\"] = np.log(train.price+1)\n",
        "target_scaler = MinMaxScaler(feature_range=(-1, 1))\n",
        "#train[\"target\"] = target_scaler.fit_transform(train.target.reshape(-1,1))\n",
        "pd.DataFrame(train.target).hist()"
      ],
      "execution_count": null,
      "outputs": [
        {
          "output_type": "execute_result",
          "data": {
            "text/plain": [
              "array([[<matplotlib.axes._subplots.AxesSubplot object at 0x7f59f4a33610>]],\n",
              "      dtype=object)"
            ]
          },
          "metadata": {},
          "execution_count": 19
        },
        {
          "output_type": "display_data",
          "data": {
            "image/png": "[encoded data removed]",
            "text/plain": [
              "<Figure size 432x288 with 1 Axes>"
            ]
          },
          "metadata": {
            "needs_background": "light"
          }
        }
      ]
    },
    {
      "cell_type": "code",
      "metadata": {
        "colab": {
          "base_uri": "https://localhost:8080/"
        },
        "id": "H7-M-A4_suxG",
        "outputId": "19c71e40-dd90-4d87-f5c5-40a7e04ee2a9"
      },
      "source": [
        "#EXTRACT DEVELOPTMENT TEST\n",
        "dtrain, dvalid = train_test_split(train, random_state=123, train_size=0.99)\n",
        "print(dtrain.shape)\n",
        "print(dvalid.shape)"
      ],
      "execution_count": null,
      "outputs": [
        {
          "output_type": "stream",
          "name": "stdout",
          "text": [
            "(1467709, 11)\n",
            "(14826, 11)\n"
          ]
        }
      ]
    },
    {
      "cell_type": "code",
      "metadata": {
        "id": "pSfTIulSswG0"
      },
      "source": [
        "#KERAS DATA DEFINITION\n",
        "from keras.preprocessing.sequence import pad_sequences\n",
        "\n",
        "def get_keras_data(dataset):\n",
        "    X = {\n",
        "        'name': pad_sequences(dataset.seq_name, maxlen=MAX_NAME_SEQ)\n",
        "        ,'item_desc': pad_sequences(dataset.seq_item_description, maxlen=MAX_ITEM_DESC_SEQ)\n",
        "        ,'brand_name': np.array(dataset.brand_name)\n",
        "        ,'category_name': np.array(dataset.category_name)\n",
        "        ,'item_condition': np.array(dataset.item_condition_id)\n",
        "        ,'num_vars': np.array(dataset[[\"shipping\"]])\n",
        "    }\n",
        "    return X\n",
        "\n",
        "X_train = get_keras_data(dtrain)\n",
        "X_valid = get_keras_data(dvalid)\n",
        "X_test = get_keras_data(test)"
      ],
      "execution_count": null,
      "outputs": []
    },
    {
      "cell_type": "code",
      "metadata": {
        "colab": {
          "base_uri": "https://localhost:8080/"
        },
        "id": "4XK_JhaFs1KR",
        "outputId": "b390f111-f61f-4b08-b65a-c243c655966c"
      },
      "source": [
        "#KERAS MODEL DEFINITION\n",
        "from keras.layers import Input, Dropout, Dense, BatchNormalization, Activation, concatenate, GRU, Embedding, Flatten, BatchNormalization\n",
        "from keras.models import Model\n",
        "from keras.callbacks import ModelCheckpoint, Callback, EarlyStopping\n",
        "from keras import backend as K\n",
        "\n",
        "def get_callbacks(filepath, patience=2):\n",
        "    es = EarlyStopping('val_loss', patience=patience, mode=\"min\")\n",
        "    msave = ModelCheckpoint(filepath, save_best_only=True)\n",
        "    return [es, msave]\n",
        "\n",
        "def rmsle_cust(y_true, y_pred):\n",
        "    first_log = K.log(K.clip(y_pred, K.epsilon(), None) + 1.)\n",
        "    second_log = K.log(K.clip(y_true, K.epsilon(), None) + 1.)\n",
        "    return K.sqrt(K.mean(K.square(first_log - second_log), axis=-1))\n",
        "\n",
        "def get_model():\n",
        "    #params\n",
        "    dr_r = 0.1\n",
        "    \n",
        "    #Inputs\n",
        "    name = Input(shape=[X_train[\"name\"].shape[1]], name=\"name\")\n",
        "    item_desc = Input(shape=[X_train[\"item_desc\"].shape[1]], name=\"item_desc\")\n",
        "    brand_name = Input(shape=[1], name=\"brand_name\")\n",
        "    category_name = Input(shape=[1], name=\"category_name\")\n",
        "    item_condition = Input(shape=[1], name=\"item_condition\")\n",
        "    num_vars = Input(shape=[X_train[\"num_vars\"].shape[1]], name=\"num_vars\")\n",
        "    \n",
        "    #Embeddings layers\n",
        "    emb_name = Embedding(MAX_TEXT, 50)(name)\n",
        "    emb_item_desc = Embedding(MAX_TEXT, 50)(item_desc)\n",
        "    emb_brand_name = Embedding(MAX_BRAND, 10)(brand_name)\n",
        "    emb_category_name = Embedding(MAX_CATEGORY, 10)(category_name)\n",
        "    emb_item_condition = Embedding(MAX_CONDITION, 5)(item_condition)\n",
        "    \n",
        "    #rnn layer\n",
        "    rnn_layer1 = GRU(16) (emb_item_desc)\n",
        "    rnn_layer2 = GRU(8) (emb_name)\n",
        "    \n",
        "    #main layer\n",
        "    main_l = concatenate([\n",
        "        Flatten() (emb_brand_name)\n",
        "        , Flatten() (emb_category_name)\n",
        "        , Flatten() (emb_item_condition)\n",
        "        , rnn_layer1\n",
        "        , rnn_layer2\n",
        "        , num_vars\n",
        "    ])\n",
        "    main_l = Dropout(dr_r) (Dense(128) (main_l))\n",
        "    main_l = Dropout(dr_r) (Dense(64) (main_l))\n",
        "    \n",
        "    #output\n",
        "    output = Dense(1, activation=\"linear\") (main_l)\n",
        "    \n",
        "    #model\n",
        "    model = Model([name, item_desc, brand_name\n",
        "                   , category_name, item_condition, num_vars], output)\n",
        "    model.compile(loss=\"mse\", optimizer=\"adam\", metrics=[\"mae\", rmsle_cust])\n",
        "    \n",
        "    return model\n",
        "\n",
        "    \n",
        "model = get_model()\n",
        "model.summary()"
      ],
      "execution_count": null,
      "outputs": [
        {
          "output_type": "stream",
          "name": "stdout",
          "text": [
            "Model: \"model\"\n",
            "__________________________________________________________________________________________________\n",
            " Layer (type)                   Output Shape         Param #     Connected to                     \n",
            "==================================================================================================\n",
            " brand_name (InputLayer)        [(None, 1)]          0           []                               \n",
            "                                                                                                  \n",
            " category_name (InputLayer)     [(None, 1)]          0           []                               \n",
            "                                                                                                  \n",
            " item_condition (InputLayer)    [(None, 1)]          0           []                               \n",
            "                                                                                                  \n",
            " item_desc (InputLayer)         [(None, 75)]         0           []                               \n",
            "                                                                                                  \n",
            " name (InputLayer)              [(None, 10)]         0           []                               \n",
            "                                                                                                  \n",
            " embedding_2 (Embedding)        (None, 1, 10)        52900       ['brand_name[0][0]']             \n",
            "                                                                                                  \n",
            " embedding_3 (Embedding)        (None, 1, 10)        13110       ['category_name[0][0]']          \n",
            "                                                                                                  \n",
            " embedding_4 (Embedding)        (None, 1, 5)         30          ['item_condition[0][0]']         \n",
            "                                                                                                  \n",
            " embedding_1 (Embedding)        (None, 75, 50)       12954400    ['item_desc[0][0]']              \n",
            "                                                                                                  \n",
            " embedding (Embedding)          (None, 10, 50)       12954400    ['name[0][0]']                   \n",
            "                                                                                                  \n",
            " flatten (Flatten)              (None, 10)           0           ['embedding_2[0][0]']            \n",
            "                                                                                                  \n",
            " flatten_1 (Flatten)            (None, 10)           0           ['embedding_3[0][0]']            \n",
            "                                                                                                  \n",
            " flatten_2 (Flatten)            (None, 5)            0           ['embedding_4[0][0]']            \n",
            "                                                                                                  \n",
            " gru (GRU)                      (None, 16)           3264        ['embedding_1[0][0]']            \n",
            "                                                                                                  \n",
            " gru_1 (GRU)                    (None, 8)            1440        ['embedding[0][0]']              \n",
            "                                                                                                  \n",
            " num_vars (InputLayer)          [(None, 1)]          0           []                               \n",
            "                                                                                                  \n",
            " concatenate (Concatenate)      (None, 50)           0           ['flatten[0][0]',                \n",
            "                                                                  'flatten_1[0][0]',              \n",
            "                                                                  'flatten_2[0][0]',              \n",
            "                                                                  'gru[0][0]',                    \n",
            "                                                                  'gru_1[0][0]',                  \n",
            "                                                                  'num_vars[0][0]']               \n",
            "                                                                                                  \n",
            " dense (Dense)                  (None, 128)          6528        ['concatenate[0][0]']            \n",
            "                                                                                                  \n",
            " dropout (Dropout)              (None, 128)          0           ['dense[0][0]']                  \n",
            "                                                                                                  \n",
            " dense_1 (Dense)                (None, 64)           8256        ['dropout[0][0]']                \n",
            "                                                                                                  \n",
            " dropout_1 (Dropout)            (None, 64)           0           ['dense_1[0][0]']                \n",
            "                                                                                                  \n",
            " dense_2 (Dense)                (None, 1)            65          ['dropout_1[0][0]']              \n",
            "                                                                                                  \n",
            "==================================================================================================\n",
            "Total params: 25,994,393\n",
            "Trainable params: 25,994,393\n",
            "Non-trainable params: 0\n",
            "__________________________________________________________________________________________________\n"
          ]
        }
      ]
    },
    {
      "cell_type": "code",
      "metadata": {
        "colab": {
          "base_uri": "https://localhost:8080/"
        },
        "id": "JY34e6kNs3EU",
        "outputId": "31a4cd19-0706-4b5f-892a-c9fa17ff8a29"
      },
      "source": [
        "#FITTING THE MODEL\n",
        "BATCH_SIZE = 20000\n",
        "epochs = 5\n",
        "\n",
        "model = get_model()\n",
        "model.fit(X_train, dtrain.target, epochs=epochs, batch_size=BATCH_SIZE\n",
        "          , validation_data=(X_valid, dvalid.target)\n",
        "          , verbose=1)"
      ],
      "execution_count": null,
      "outputs": [
        {
          "output_type": "stream",
          "name": "stdout",
          "text": [
            "Epoch 1/5\n",
            "74/74 [==============================] - 214s 3s/step - loss: 1.7706 - mae: 0.9721 - rmsle_cust: 0.2959 - val_loss: 0.3160 - val_mae: 0.4272 - val_rmsle_cust: 0.1082\n",
            "Epoch 2/5\n",
            "74/74 [==============================] - 204s 3s/step - loss: 0.3190 - mae: 0.4315 - rmsle_cust: 0.1094 - val_loss: 0.2589 - val_mae: 0.3852 - val_rmsle_cust: 0.0980\n",
            "Epoch 3/5\n",
            "74/74 [==============================] - 203s 3s/step - loss: 0.2807 - mae: 0.4033 - rmsle_cust: 0.1024 - val_loss: 0.2441 - val_mae: 0.3728 - val_rmsle_cust: 0.0949\n",
            "Epoch 4/5\n",
            "74/74 [==============================] - 202s 3s/step - loss: 0.2609 - mae: 0.3880 - rmsle_cust: 0.0986 - val_loss: 0.2377 - val_mae: 0.3676 - val_rmsle_cust: 0.0936\n",
            "Epoch 5/5\n",
            "74/74 [==============================] - 202s 3s/step - loss: 0.2473 - mae: 0.3773 - rmsle_cust: 0.0959 - val_loss: 0.2349 - val_mae: 0.3656 - val_rmsle_cust: 0.0931\n"
          ]
        },
        {
          "output_type": "execute_result",
          "data": {
            "text/plain": [
              "<keras.callbacks.History at 0x7f59f651acd0>"
            ]
          },
          "metadata": {},
          "execution_count": 23
        }
      ]
    },
    {
      "cell_type": "code",
      "metadata": {
        "colab": {
          "base_uri": "https://localhost:8080/"
        },
        "id": "NOr8-3dus6gI",
        "outputId": "66e3c949-bb8c-40a3-e470-bbad2b7d44fd"
      },
      "source": [
        "#EVLUEATE THE MODEL ON DEV TEST: What is it doing?\n",
        "val_preds = model.predict(X_valid)\n",
        "#val_preds = target_scaler.inverse_transform(val_preds)\n",
        "val_preds = np.exp(val_preds)+1\n",
        "\n",
        "#mean_absolute_error, mean_squared_log_error\n",
        "y_true = np.array(dvalid.price.values)\n",
        "y_pred = val_preds[:,0]\n",
        "v_rmsle = rmsle(y_true, y_pred)\n",
        "print(\" RMSLE error on dev test: \"+str(v_rmsle))"
      ],
      "execution_count": null,
      "outputs": [
        {
          "output_type": "stream",
          "name": "stdout",
          "text": [
            " RMSLE error on dev test: 0.49580554242348107\n"
          ]
        }
      ]
    }
  ]
}