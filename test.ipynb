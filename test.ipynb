{
 "cells": [
  {
   "cell_type": "markdown",
   "metadata": {
    "id": "BbYMX3pg2wzq"
   },
   "source": [
    "## Data"
   ]
  },
  {
   "cell_type": "code",
   "execution_count": 6,
   "metadata": {
    "id": "4A60L1xkvQTt"
   },
   "outputs": [],
   "source": [
    "import numpy as np\n",
    "import pandas as pd\n",
    "import matplotlib.pyplot as plt"
   ]
  },
  {
   "cell_type": "code",
   "execution_count": 7,
   "metadata": {
    "colab": {
     "base_uri": "https://localhost:8080/",
     "height": 160
    },
    "id": "VWl8bwbwvQRQ",
    "outputId": "71453552-a873-496e-9ae7-ce5e493588fb"
   },
   "outputs": [
    {
     "name": "stdout",
     "output_type": "stream",
     "text": [
      "(1482535, 8)\n"
     ]
    },
    {
     "data": {
      "text/html": [
       "<div>\n",
       "<style scoped>\n",
       "    .dataframe tbody tr th:only-of-type {\n",
       "        vertical-align: middle;\n",
       "    }\n",
       "\n",
       "    .dataframe tbody tr th {\n",
       "        vertical-align: top;\n",
       "    }\n",
       "\n",
       "    .dataframe thead th {\n",
       "        text-align: right;\n",
       "    }\n",
       "</style>\n",
       "<table border=\"1\" class=\"dataframe\">\n",
       "  <thead>\n",
       "    <tr style=\"text-align: right;\">\n",
       "      <th></th>\n",
       "      <th>train_id</th>\n",
       "      <th>name</th>\n",
       "      <th>item_condition_id</th>\n",
       "      <th>category_name</th>\n",
       "      <th>brand_name</th>\n",
       "      <th>price</th>\n",
       "      <th>shipping</th>\n",
       "      <th>item_description</th>\n",
       "    </tr>\n",
       "  </thead>\n",
       "  <tbody>\n",
       "    <tr>\n",
       "      <th>0</th>\n",
       "      <td>0</td>\n",
       "      <td>MLB Cincinnati Reds T Shirt Size XL</td>\n",
       "      <td>3</td>\n",
       "      <td>Men/Tops/T-shirts</td>\n",
       "      <td>NaN</td>\n",
       "      <td>10.0</td>\n",
       "      <td>1</td>\n",
       "      <td>No description yet</td>\n",
       "    </tr>\n",
       "    <tr>\n",
       "      <th>1</th>\n",
       "      <td>1</td>\n",
       "      <td>Razer BlackWidow Chroma Keyboard</td>\n",
       "      <td>3</td>\n",
       "      <td>Electronics/Computers &amp; Tablets/Components &amp; P...</td>\n",
       "      <td>Razer</td>\n",
       "      <td>52.0</td>\n",
       "      <td>0</td>\n",
       "      <td>This keyboard is in great condition and works ...</td>\n",
       "    </tr>\n",
       "    <tr>\n",
       "      <th>2</th>\n",
       "      <td>2</td>\n",
       "      <td>AVA-VIV Blouse</td>\n",
       "      <td>1</td>\n",
       "      <td>Women/Tops &amp; Blouses/Blouse</td>\n",
       "      <td>Target</td>\n",
       "      <td>10.0</td>\n",
       "      <td>1</td>\n",
       "      <td>Adorable top with a hint of lace and a key hol...</td>\n",
       "    </tr>\n",
       "  </tbody>\n",
       "</table>\n",
       "</div>"
      ],
      "text/plain": [
       "   train_id                                 name  item_condition_id  \\\n",
       "0         0  MLB Cincinnati Reds T Shirt Size XL                  3   \n",
       "1         1     Razer BlackWidow Chroma Keyboard                  3   \n",
       "2         2                       AVA-VIV Blouse                  1   \n",
       "\n",
       "                                       category_name brand_name  price  \\\n",
       "0                                  Men/Tops/T-shirts        NaN   10.0   \n",
       "1  Electronics/Computers & Tablets/Components & P...      Razer   52.0   \n",
       "2                        Women/Tops & Blouses/Blouse     Target   10.0   \n",
       "\n",
       "   shipping                                   item_description  \n",
       "0         1                                 No description yet  \n",
       "1         0  This keyboard is in great condition and works ...  \n",
       "2         1  Adorable top with a hint of lace and a key hol...  "
      ]
     },
     "execution_count": 7,
     "metadata": {},
     "output_type": "execute_result"
    }
   ],
   "source": [
    "mercari_df= pd.read_csv('train.tsv',sep='\\t')\n",
    "print(mercari_df.shape)\n",
    "mercari_df.head(3)"
   ]
  },
  {
   "cell_type": "code",
   "execution_count": 3,
   "metadata": {},
   "outputs": [
    {
     "name": "stdout",
     "output_type": "stream",
     "text": [
      "<class 'pandas.core.frame.DataFrame'>\n",
      "RangeIndex: 1482535 entries, 0 to 1482534\n",
      "Data columns (total 8 columns):\n",
      " #   Column             Non-Null Count    Dtype  \n",
      "---  ------             --------------    -----  \n",
      " 0   train_id           1482535 non-null  int64  \n",
      " 1   name               1482535 non-null  object \n",
      " 2   item_condition_id  1482535 non-null  int64  \n",
      " 3   category_name      1476208 non-null  object \n",
      " 4   brand_name         849853 non-null   object \n",
      " 5   price              1482535 non-null  float64\n",
      " 6   shipping           1482535 non-null  int64  \n",
      " 7   item_description   1482531 non-null  object \n",
      "dtypes: float64(1), int64(3), object(4)\n",
      "memory usage: 90.5+ MB\n",
      "None\n"
     ]
    }
   ],
   "source": [
    "print(mercari_df.info())"
   ]
  },
  {
   "cell_type": "markdown",
   "metadata": {},
   "source": [
    "A lot of Null values in brand_name and a few in item_description. Null values are handled in later part of this colab notebook."
   ]
  },
  {
   "cell_type": "markdown",
   "metadata": {
    "id": "WS8TSWpAvgrT"
   },
   "source": [
    "### Distribution of Price"
   ]
  },
  {
   "cell_type": "code",
   "execution_count": 8,
   "metadata": {
    "colab": {
     "base_uri": "https://localhost:8080/",
     "height": 364
    },
    "id": "eXhWt_YrvQML",
    "outputId": "506a5fdc-a50f-4863-e51a-450b1958e0d9"
   },
   "outputs": [
    {
     "name": "stderr",
     "output_type": "stream",
     "text": [
      "/opt/conda/lib/python3.9/site-packages/seaborn/distributions.py:2619: FutureWarning: `distplot` is a deprecated function and will be removed in a future version. Please adapt your code to use either `displot` (a figure-level function with similar flexibility) or `histplot` (an axes-level function for histograms).\n",
      "  warnings.warn(msg, FutureWarning)\n"
     ]
    },
    {
     "data": {
      "text/plain": [
       "<AxesSubplot:xlabel='price'>"
      ]
     },
     "execution_count": 8,
     "metadata": {},
     "output_type": "execute_result"
    },
    {
     "data": {
      "image/png": "[encoded data removed]",
      "text/plain": [
       "<Figure size 432x288 with 1 Axes>"
      ]
     },
     "metadata": {
      "needs_background": "light"
     },
     "output_type": "display_data"
    }
   ],
   "source": [
    "import matplotlib.pyplot as plt\n",
    "import seaborn as sns\n",
    "%matplotlib inline\n",
    "\n",
    "y_train_df = mercari_df['price']\n",
    "plt.figure(figsize=(6,4))\n",
    "sns.distplot(y_train_df,kde=False)"
   ]
  },
  {
   "cell_type": "markdown",
   "metadata": {
    "id": "9dRiL07Rvm5-"
   },
   "source": [
    "### Distribution of Log(Price)"
   ]
  },
  {
   "cell_type": "code",
   "execution_count": 9,
   "metadata": {
    "colab": {
     "base_uri": "https://localhost:8080/",
     "height": 353
    },
    "id": "l7-_SLrevQJv",
    "outputId": "5082a7f7-f6a9-4341-98cb-da0fa5e2148c"
   },
   "outputs": [
    {
     "data": {
      "text/plain": [
       "<AxesSubplot:xlabel='price'>"
      ]
     },
     "execution_count": 9,
     "metadata": {},
     "output_type": "execute_result"
    },
    {
     "data": {
      "image/png": "[encoded data removed]",
      "text/plain": [
       "<Figure size 432x288 with 1 Axes>"
      ]
     },
     "metadata": {
      "needs_background": "light"
     },
     "output_type": "display_data"
    }
   ],
   "source": [
    "import numpy as np\n",
    "\n",
    "y_train_df = np.log1p(y_train_df)\n",
    "sns.distplot(y_train_df,kde=False)"
   ]
  },
  {
   "cell_type": "markdown",
   "metadata": {
    "id": "pwHlLhuaA0pe"
   },
   "source": [
    "Log(Price) makes it normally distributed"
   ]
  },
  {
   "cell_type": "code",
   "execution_count": 10,
   "metadata": {
    "colab": {
     "base_uri": "https://localhost:8080/"
    },
    "id": "St4gJvxlvPTS",
    "outputId": "4e117972-308d-4769-8ba1-fc2a8a7a0b63"
   },
   "outputs": [
    {
     "data": {
      "text/plain": [
       "0    2.397895\n",
       "1    3.970292\n",
       "2    2.397895\n",
       "Name: price, dtype: float64"
      ]
     },
     "execution_count": 10,
     "metadata": {},
     "output_type": "execute_result"
    }
   ],
   "source": [
    "mercari_df['price'] = np.log1p(mercari_df['price'])\n",
    "mercari_df['price'].head(3)"
   ]
  },
  {
   "cell_type": "code",
   "execution_count": 11,
   "metadata": {
    "colab": {
     "base_uri": "https://localhost:8080/"
    },
    "id": "vOhkOq9MvrPf",
    "outputId": "d18a8e06-f9e3-477f-cd27-c4f9c8927916"
   },
   "outputs": [
    {
     "name": "stdout",
     "output_type": "stream",
     "text": [
      "Shipping:\n",
      " 0    819435\n",
      "1    663100\n",
      "Name: shipping, dtype: int64\n",
      "item_condition_id:\n",
      " 1    640549\n",
      "3    432161\n",
      "2    375479\n",
      "4     31962\n",
      "5      2384\n",
      "Name: item_condition_id, dtype: int64\n"
     ]
    }
   ],
   "source": [
    "print('Shipping:\\n',mercari_df['shipping'].value_counts())\n",
    "print('item_condition_id:\\n',mercari_df['item_condition_id'].value_counts())"
   ]
  },
  {
   "cell_type": "code",
   "execution_count": 12,
   "metadata": {
    "colab": {
     "base_uri": "https://localhost:8080/"
    },
    "id": "xvIpA-1JvvtO",
    "outputId": "5e65a768-d157-43f4-8cc3-c77f9c1402ce"
   },
   "outputs": [
    {
     "data": {
      "text/plain": [
       "82489"
      ]
     },
     "execution_count": 12,
     "metadata": {},
     "output_type": "execute_result"
    }
   ],
   "source": [
    "boolean_cond= mercari_df['item_description']=='No description yet'\n",
    "mercari_df[boolean_cond]['item_description'].count()"
   ]
  },
  {
   "cell_type": "markdown",
   "metadata": {
    "id": "4La1sYf65Fmn"
   },
   "source": [
    "# EDA"
   ]
  },
  {
   "cell_type": "markdown",
   "metadata": {
    "id": "z0Ayoo7j12O4"
   },
   "source": [
    "#### Distribution of Shipping variable"
   ]
  },
  {
   "cell_type": "code",
   "execution_count": 13,
   "metadata": {
    "colab": {
     "base_uri": "https://localhost:8080/",
     "height": 530
    },
    "id": "bxuHfZCl5FVn",
    "outputId": "4ce4f184-fe4d-4424-c534-2b9fe354bde8"
   },
   "outputs": [
    {
     "name": "stderr",
     "output_type": "stream",
     "text": [
      "/opt/conda/lib/python3.9/site-packages/seaborn/distributions.py:1699: FutureWarning: The `bw` parameter is deprecated in favor of `bw_method` and `bw_adjust`. Using 0.09 for `bw_method`, but please see the docs for the new parameters and update your code.\n",
      "  warnings.warn(msg, FutureWarning)\n",
      "/opt/conda/lib/python3.9/site-packages/seaborn/distributions.py:1699: FutureWarning: The `bw` parameter is deprecated in favor of `bw_method` and `bw_adjust`. Using 0.09 for `bw_method`, but please see the docs for the new parameters and update your code.\n",
      "  warnings.warn(msg, FutureWarning)\n"
     ]
    },
    {
     "data": {
      "image/png": "[encoded data removed]",
      "text/plain": [
       "<Figure size 792x504 with 1 Axes>"
      ]
     },
     "metadata": {
      "needs_background": "light"
     },
     "output_type": "display_data"
    }
   ],
   "source": [
    "plt.figure(figsize=(11,7))\n",
    "\n",
    "sns.kdeplot(mercari_df[mercari_df['shipping'] == 1].loc[:, 'price'], shade=True, color=\"g\", bw=.09, label=\"Seller\")\n",
    "\n",
    "sns.kdeplot(mercari_df[mercari_df['shipping'] == 0].loc[:, 'price'], shade=True, color=\"r\", bw=.09, label=\"Buyer\")\n",
    "plt.title(\"Distribution of Shipping variable\")\n",
    "plt.show()"
   ]
  },
  {
   "cell_type": "markdown",
   "metadata": {
    "id": "63aThzs-3KXU"
   },
   "source": [
    "## Shipping and Price Interacction"
   ]
  },
  {
   "cell_type": "code",
   "execution_count": 14,
   "metadata": {
    "colab": {
     "base_uri": "https://localhost:8080/",
     "height": 458
    },
    "id": "Tf4q-_805EpG",
    "outputId": "4f847f01-17fe-4071-9876-c7cd3181c678"
   },
   "outputs": [
    {
     "data": {
      "image/png": "[encoded data removed]",
      "text/plain": [
       "<Figure size 1080x504 with 1 Axes>"
      ]
     },
     "metadata": {
      "needs_background": "light"
     },
     "output_type": "display_data"
    }
   ],
   "source": [
    "plt.figure(figsize=(15,7))\n",
    "ax = sns.boxplot(x='shipping', y='price', data=mercari_df)\n",
    "ax.set_xticklabels([\"buyer\", \"seller\"])\n",
    "plt.ylabel(\"Log (price)\")\n",
    "plt.xlabel(\"Item Condition\")\n",
    "\n",
    "plt.title(\"Shipping and price interaction\")\n",
    "plt.show()"
   ]
  },
  {
   "cell_type": "markdown",
   "metadata": {
    "id": "aGQ4EYYGv-tP"
   },
   "source": [
    "### Since the category name is split by '/', we create new coulmns"
   ]
  },
  {
   "cell_type": "code",
   "execution_count": 15,
   "metadata": {
    "id": "PCZzsLPRv1Q7"
   },
   "outputs": [],
   "source": [
    "# # apply lambda에서 호출되는 대,중,소 분할 함수 생성, 대,중,소 값을 리스트 반환\n",
    "# def split_cat(category_name):\n",
    "#     try:\n",
    "#         return category_name.split('/')\n",
    "#     except:\n",
    "#         return ['Other_Null' , 'Other_Null' , 'Other_Null']\n",
    "\n",
    "# # 위의 split_cat( )을 apply lambda에서 호출하여 대,중,소 컬럼을 mercari_df에 생성. \n",
    "# mercari_df['cat_dae'], mercari_df['cat_jung'], mercari_df['cat_so'] = \\\n",
    "#                         zip(*mercari_df['category_name'].apply(lambda x : split_cat(x)))\n",
    "\n",
    "# # 대분류만 값의 유형과 건수를 살펴보고, 중분류, 소분류는 값의 유형이 많으므로 분류 갯수만 추출\n",
    "# print('대분류 유형 :\\n', mercari_df['cat_dae'].value_counts())\n",
    "# print('중분류 갯수 :', mercari_df['cat_jung'].nunique())\n",
    "# print('소분류 갯수 :', mercari_df['cat_so'].nunique())"
   ]
  },
  {
   "cell_type": "code",
   "execution_count": 16,
   "metadata": {
    "colab": {
     "base_uri": "https://localhost:8080/"
    },
    "id": "QNLGj3fJwL0v",
    "outputId": "279bd0c9-a52b-41e4-beee-5b3c2bd2e49b"
   },
   "outputs": [
    {
     "data": {
      "text/plain": [
       "['test1', 'test2', 'test3']"
      ]
     },
     "execution_count": 16,
     "metadata": {},
     "output_type": "execute_result"
    }
   ],
   "source": [
    "'test1/test2/test3'.split('/')"
   ]
  },
  {
   "cell_type": "code",
   "execution_count": 17,
   "metadata": {
    "colab": {
     "base_uri": "https://localhost:8080/"
    },
    "id": "_kncXKZCwPBL",
    "outputId": "6e0a98fd-60f0-4ca0-9ec9-5d1ed6599c19"
   },
   "outputs": [
    {
     "data": {
      "text/plain": [
       "0                                [Men, Tops, T-shirts]\n",
       "1    [Electronics, Computers & Tablets, Components ...\n",
       "2                      [Women, Tops & Blouses, Blouse]\n",
       "3               [Home, Home Décor, Home Décor Accents]\n",
       "4                          [Women, Jewelry, Necklaces]\n",
       "Name: category_list, dtype: object"
      ]
     },
     "execution_count": 17,
     "metadata": {},
     "output_type": "execute_result"
    }
   ],
   "source": [
    "# Create split_cat() function that returns cateogires (dae, jung, so) called by \"apply lambda\"\n",
    "def split_cat(category_name):\n",
    "    try:\n",
    "        return category_name.split('/')\n",
    "    except:\n",
    "        return ['Other_Null' , 'Other_Null' , 'Other_Null']\n",
    "\n",
    "# Calls split_cat() function above and create cat_dae, cat_jung, cat_so columns in mercari_df\n",
    "mercari_df['category_list'] = mercari_df['category_name'].apply(lambda x : split_cat(x))\n",
    "mercari_df['category_list'].head()"
   ]
  },
  {
   "cell_type": "code",
   "execution_count": 18,
   "metadata": {
    "id": "wUFmVOo3wnmb"
   },
   "outputs": [],
   "source": [
    "mercari_df['cat_dae'] = mercari_df['category_list'].apply(lambda x:x[0])\n",
    "mercari_df['cat_jung'] = mercari_df['category_list'].apply(lambda x:x[1])\n",
    "mercari_df['cat_so'] = mercari_df['category_list'].apply(lambda x:x[2])\n",
    "\n",
    "mercari_df.drop('category_list', axis=1, inplace=True)"
   ]
  },
  {
   "cell_type": "code",
   "execution_count": 19,
   "metadata": {
    "colab": {
     "base_uri": "https://localhost:8080/",
     "height": 204
    },
    "id": "AAHO7nnDwqIE",
    "outputId": "f90f31bd-b579-4362-c4c4-498cbc8aceb7"
   },
   "outputs": [
    {
     "data": {
      "text/html": [
       "<div>\n",
       "<style scoped>\n",
       "    .dataframe tbody tr th:only-of-type {\n",
       "        vertical-align: middle;\n",
       "    }\n",
       "\n",
       "    .dataframe tbody tr th {\n",
       "        vertical-align: top;\n",
       "    }\n",
       "\n",
       "    .dataframe thead th {\n",
       "        text-align: right;\n",
       "    }\n",
       "</style>\n",
       "<table border=\"1\" class=\"dataframe\">\n",
       "  <thead>\n",
       "    <tr style=\"text-align: right;\">\n",
       "      <th></th>\n",
       "      <th>cat_dae</th>\n",
       "      <th>cat_jung</th>\n",
       "      <th>cat_so</th>\n",
       "    </tr>\n",
       "  </thead>\n",
       "  <tbody>\n",
       "    <tr>\n",
       "      <th>0</th>\n",
       "      <td>Men</td>\n",
       "      <td>Tops</td>\n",
       "      <td>T-shirts</td>\n",
       "    </tr>\n",
       "    <tr>\n",
       "      <th>1</th>\n",
       "      <td>Electronics</td>\n",
       "      <td>Computers &amp; Tablets</td>\n",
       "      <td>Components &amp; Parts</td>\n",
       "    </tr>\n",
       "    <tr>\n",
       "      <th>2</th>\n",
       "      <td>Women</td>\n",
       "      <td>Tops &amp; Blouses</td>\n",
       "      <td>Blouse</td>\n",
       "    </tr>\n",
       "    <tr>\n",
       "      <th>3</th>\n",
       "      <td>Home</td>\n",
       "      <td>Home Décor</td>\n",
       "      <td>Home Décor Accents</td>\n",
       "    </tr>\n",
       "    <tr>\n",
       "      <th>4</th>\n",
       "      <td>Women</td>\n",
       "      <td>Jewelry</td>\n",
       "      <td>Necklaces</td>\n",
       "    </tr>\n",
       "  </tbody>\n",
       "</table>\n",
       "</div>"
      ],
      "text/plain": [
       "       cat_dae             cat_jung              cat_so\n",
       "0          Men                 Tops            T-shirts\n",
       "1  Electronics  Computers & Tablets  Components & Parts\n",
       "2        Women       Tops & Blouses              Blouse\n",
       "3         Home           Home Décor  Home Décor Accents\n",
       "4        Women              Jewelry           Necklaces"
      ]
     },
     "execution_count": 19,
     "metadata": {},
     "output_type": "execute_result"
    }
   ],
   "source": [
    "mercari_df[['cat_dae','cat_jung','cat_so']].head()"
   ]
  },
  {
   "cell_type": "markdown",
   "metadata": {
    "id": "pOmhKNxC5Nut"
   },
   "source": [
    "## Handling Null Values"
   ]
  },
  {
   "cell_type": "markdown",
   "metadata": {
    "id": "x_sjIYnI4Mgx"
   },
   "source": [
    "As we observed in the beginning, there are lots of null values in brand_name and a few in category_name and item_description. Here, we are handling those Null values by replacing \"Other_Null\" values."
   ]
  },
  {
   "cell_type": "code",
   "execution_count": 20,
   "metadata": {
    "colab": {
     "base_uri": "https://localhost:8080/"
    },
    "id": "2cviMYgIwu56",
    "outputId": "bafd5598-a9a6-452c-b399-6253edf796b5"
   },
   "outputs": [
    {
     "data": {
      "text/plain": [
       "train_id             0\n",
       "name                 0\n",
       "item_condition_id    0\n",
       "category_name        0\n",
       "brand_name           0\n",
       "price                0\n",
       "shipping             0\n",
       "item_description     0\n",
       "cat_dae              0\n",
       "cat_jung             0\n",
       "cat_so               0\n",
       "dtype: int64"
      ]
     },
     "execution_count": 20,
     "metadata": {},
     "output_type": "execute_result"
    }
   ],
   "source": [
    "# Handling Null Values\n",
    "mercari_df['brand_name'] = mercari_df['brand_name'].fillna(value='Other_Null')\n",
    "mercari_df['category_name'] = mercari_df['category_name'].fillna(value='Other_Null')\n",
    "mercari_df['item_description'] = mercari_df['item_description'].fillna(value='Other_Null')\n",
    "\n",
    "# Check Null values now. All columns should have 0 Null values now.\n",
    "mercari_df.isnull().sum()"
   ]
  },
  {
   "cell_type": "code",
   "execution_count": 21,
   "metadata": {
    "colab": {
     "base_uri": "https://localhost:8080/"
    },
    "id": "04EK6cALwu3Q",
    "outputId": "bb329911-7dd7-4fce-b714-640a01f63c53"
   },
   "outputs": [
    {
     "name": "stdout",
     "output_type": "stream",
     "text": [
      "<class 'pandas.core.frame.DataFrame'>\n",
      "RangeIndex: 1482535 entries, 0 to 1482534\n",
      "Data columns (total 11 columns):\n",
      " #   Column             Non-Null Count    Dtype  \n",
      "---  ------             --------------    -----  \n",
      " 0   train_id           1482535 non-null  int64  \n",
      " 1   name               1482535 non-null  object \n",
      " 2   item_condition_id  1482535 non-null  int64  \n",
      " 3   category_name      1482535 non-null  object \n",
      " 4   brand_name         1482535 non-null  object \n",
      " 5   price              1482535 non-null  float64\n",
      " 6   shipping           1482535 non-null  int64  \n",
      " 7   item_description   1482535 non-null  object \n",
      " 8   cat_dae            1482535 non-null  object \n",
      " 9   cat_jung           1482535 non-null  object \n",
      " 10  cat_so             1482535 non-null  object \n",
      "dtypes: float64(1), int64(3), object(7)\n",
      "memory usage: 124.4+ MB\n"
     ]
    }
   ],
   "source": [
    "mercari_df.info()"
   ]
  },
  {
   "cell_type": "markdown",
   "metadata": {
    "id": "vo2UmCeu2s9U"
   },
   "source": [
    "### Feature Encoding & Feature Vectorization\n",
    "\n",
    "**brand name & type**"
   ]
  },
  {
   "cell_type": "code",
   "execution_count": 22,
   "metadata": {
    "colab": {
     "base_uri": "https://localhost:8080/"
    },
    "id": "qn7TgoUNwu1C",
    "outputId": "9385cc77-a0ba-4640-dbc6-3e58aaae204e"
   },
   "outputs": [
    {
     "name": "stdout",
     "output_type": "stream",
     "text": [
      "# of unique values in brand name  : 4810\n",
      "5 samples from brand name: \n",
      " Other_Null           632682\n",
      "PINK                  54088\n",
      "Nike                  54043\n",
      "Victoria's Secret     48036\n",
      "LuLaRoe               31024\n",
      "Name: brand_name, dtype: int64\n"
     ]
    }
   ],
   "source": [
    "print('# of unique values in brand name  :', mercari_df['brand_name'].nunique())\n",
    "print('5 samples from brand name: \\n', mercari_df['brand_name'].value_counts()[:5])"
   ]
  },
  {
   "cell_type": "code",
   "execution_count": 23,
   "metadata": {
    "colab": {
     "base_uri": "https://localhost:8080/"
    },
    "id": "Q7tkYiWAwuyl",
    "outputId": "b1f965e7-7aa1-49cc-ee8b-e83cf0ea27c7"
   },
   "outputs": [
    {
     "name": "stdout",
     "output_type": "stream",
     "text": [
      "# of unique values in name: 1225273\n",
      "7 samples in name: \n",
      " 0    MLB Cincinnati Reds T Shirt Size XL\n",
      "1       Razer BlackWidow Chroma Keyboard\n",
      "2                         AVA-VIV Blouse\n",
      "3                  Leather Horse Statues\n",
      "4                   24K GOLD plated rose\n",
      "5       Bundled items requested for Ruie\n",
      "6     Acacia pacific tides santorini top\n",
      "Name: name, dtype: object\n"
     ]
    }
   ],
   "source": [
    "print('# of unique values in name:', mercari_df['name'].nunique())\n",
    "print('7 samples in name: \\n', mercari_df['name'][:7])"
   ]
  },
  {
   "cell_type": "markdown",
   "metadata": {
    "id": "AFl-CRA_2-xq"
   },
   "source": [
    "**Average length of item_description**"
   ]
  },
  {
   "cell_type": "code",
   "execution_count": 24,
   "metadata": {
    "colab": {
     "base_uri": "https://localhost:8080/"
    },
    "id": "HAhbIIGUwuv6",
    "outputId": "623263ef-559c-4b75-896f-4b46403d6a77"
   },
   "outputs": [
    {
     "name": "stdout",
     "output_type": "stream",
     "text": [
      "Average length of item_description: 145.7113889385411\n"
     ]
    },
    {
     "data": {
      "text/plain": [
       "0                                                                                                                                                                              No description yet\n",
       "1    This keyboard is in great condition and works like it came out of the box. All of the ports are tested and work perfectly. The lights are customizable via the Razer Synapse app on your PC.\n",
       "Name: item_description, dtype: object"
      ]
     },
     "execution_count": 24,
     "metadata": {},
     "output_type": "execute_result"
    }
   ],
   "source": [
    "pd.set_option('max_colwidth', 200)\n",
    "\n",
    "# Average length of item_description\n",
    "print('Average length of item_description:',mercari_df['item_description'].str.len().mean())\n",
    "\n",
    "mercari_df['item_description'][:2]"
   ]
  },
  {
   "cell_type": "code",
   "execution_count": 25,
   "metadata": {
    "colab": {
     "base_uri": "https://localhost:8080/"
    },
    "id": "33Ok3wri2_2I",
    "outputId": "88a842ad-d6c2-4fa0-ad56-3090edb1ca33"
   },
   "outputs": [
    {
     "data": {
      "text/plain": [
       "0"
      ]
     },
     "execution_count": 25,
     "metadata": {},
     "output_type": "execute_result"
    }
   ],
   "source": [
    "import gc\n",
    "gc.collect()"
   ]
  },
  {
   "cell_type": "code",
   "execution_count": 26,
   "metadata": {
    "colab": {
     "base_uri": "https://localhost:8080/"
    },
    "id": "JkZxFMrS2_zf",
    "outputId": "60d72bae-7459-4da8-8059-e13f11568aad"
   },
   "outputs": [
    {
     "name": "stdout",
     "output_type": "stream",
     "text": [
      "name vectorization shape: (1482535, 30000)\n",
      "item_description vectorization shape: (1482535, 50000)\n"
     ]
    }
   ],
   "source": [
    "from sklearn.feature_extraction.text import CountVectorizer, TfidfVectorizer\n",
    "\n",
    "# Convert \"name\" with feature vectorization\n",
    "cnt_vec = CountVectorizer(max_features=30000)\n",
    "X_name = cnt_vec.fit_transform(mercari_df.name)\n",
    "\n",
    "# Convert \"item_description\" with feature vectorization\n",
    "tfidf_descp = TfidfVectorizer(max_features = 50000, ngram_range= (1,3) , stop_words='english')\n",
    "X_descp = tfidf_descp.fit_transform(mercari_df['item_description'])\n",
    "\n",
    "print('name vectorization shape:',X_name.shape)\n",
    "print('item_description vectorization shape:',X_descp.shape)"
   ]
  },
  {
   "cell_type": "markdown",
   "metadata": {
    "id": "2wJJpjWG44aG"
   },
   "source": [
    "## Using LabelBinarizer to convert to one-hot-encoding, then store in spare matrix"
   ]
  },
  {
   "cell_type": "code",
   "execution_count": 27,
   "metadata": {
    "id": "1LM40v5g2_w9"
   },
   "outputs": [],
   "source": [
    "from sklearn.preprocessing import LabelBinarizer\n",
    "\n",
    "# Convert each feature (brand_name, item_condition_id, shipping) to one-hot-encoded sparse matrix \n",
    "lb_brand_name= LabelBinarizer(sparse_output=True)\n",
    "X_brand = lb_brand_name.fit_transform(mercari_df['brand_name'])\n",
    "\n",
    "lb_item_cond_id = LabelBinarizer(sparse_output=True)\n",
    "X_item_cond_id = lb_item_cond_id.fit_transform(mercari_df['item_condition_id'])\n",
    "\n",
    "lb_shipping= LabelBinarizer(sparse_output=True)\n",
    "X_shipping = lb_shipping.fit_transform(mercari_df['shipping'])\n",
    "\n",
    "# Convert each feature (cat_dae, cat_jung, cat_so) to one-hot-encoded spare matrix\n",
    "lb_cat_dae = LabelBinarizer(sparse_output=True)\n",
    "X_cat_dae= lb_cat_dae.fit_transform(mercari_df['cat_dae'])\n",
    "\n",
    "lb_cat_jung = LabelBinarizer(sparse_output=True)\n",
    "X_cat_jung = lb_cat_jung.fit_transform(mercari_df['cat_jung'])\n",
    "\n",
    "lb_cat_so = LabelBinarizer(sparse_output=True)\n",
    "X_cat_so = lb_cat_so.fit_transform(mercari_df['cat_so'])"
   ]
  },
  {
   "cell_type": "code",
   "execution_count": 28,
   "metadata": {
    "colab": {
     "base_uri": "https://localhost:8080/"
    },
    "id": "Tkebe_NP2_tw",
    "outputId": "38aeaed5-3572-4978-fee9-dd7c3006a277"
   },
   "outputs": [
    {
     "name": "stdout",
     "output_type": "stream",
     "text": [
      "<class 'scipy.sparse.csr.csr_matrix'> <class 'scipy.sparse.csr.csr_matrix'> <class 'scipy.sparse.csr.csr_matrix'>\n",
      "X_brand_shape:(1482535, 4810), X_item_cond_id shape:(1482535, 5)\n",
      "X_shipping shape:(1482535, 1), X_cat_dae shape:(1482535, 11)\n",
      "X_cat_jung shape:(1482535, 114), X_cat_so shape:(1482535, 871)\n"
     ]
    }
   ],
   "source": [
    "print(type(X_brand), type(X_item_cond_id), type(X_shipping))\n",
    "print('X_brand_shape:{0}, X_item_cond_id shape:{1}'.format(X_brand.shape, X_item_cond_id.shape))\n",
    "print('X_shipping shape:{0}, X_cat_dae shape:{1}'.format(X_shipping.shape, X_cat_dae.shape))\n",
    "print('X_cat_jung shape:{0}, X_cat_so shape:{1}'.format(X_cat_jung.shape, X_cat_so.shape))"
   ]
  },
  {
   "cell_type": "code",
   "execution_count": 29,
   "metadata": {
    "colab": {
     "base_uri": "https://localhost:8080/"
    },
    "id": "7gcU4pCT2_rf",
    "outputId": "4d20d4b5-779c-49bd-b645-8905db1df01b"
   },
   "outputs": [
    {
     "data": {
      "text/plain": [
       "0"
      ]
     },
     "execution_count": 29,
     "metadata": {},
     "output_type": "execute_result"
    }
   ],
   "source": [
    "import gc\n",
    "gc.collect()"
   ]
  },
  {
   "cell_type": "markdown",
   "metadata": {
    "id": "RrO4aMt56ht5"
   },
   "source": [
    "## Merge feature-vectorized spare matrix with one-hot-encoded spare matrix by using hstack() function"
   ]
  },
  {
   "cell_type": "code",
   "execution_count": 30,
   "metadata": {
    "colab": {
     "base_uri": "https://localhost:8080/"
    },
    "id": "wV0neP-l2_pH",
    "outputId": "485f20cf-eb8f-4df2-f283-d5647ad70732"
   },
   "outputs": [
    {
     "name": "stdout",
     "output_type": "stream",
     "text": [
      "<class 'scipy.sparse.csr.csr_matrix'> (1482535, 85812)\n"
     ]
    },
    {
     "data": {
      "text/plain": [
       "0"
      ]
     },
     "execution_count": 30,
     "metadata": {},
     "output_type": "execute_result"
    }
   ],
   "source": [
    "from  scipy.sparse import hstack\n",
    "import gc\n",
    "\n",
    "sparse_matrix_list = (X_name, X_descp, X_brand, X_item_cond_id,\n",
    "            X_shipping, X_cat_dae, X_cat_jung, X_cat_so)\n",
    "\n",
    "# Use hstack() to merge all the datasets that are encoded and vectorized in the previous steps.\n",
    "# 사이파이 sparse 모듈의 hstack 함수를 이용하여 앞에서 인코딩과 Vectorization을 수행한 데이터 셋을 모두 결합. \n",
    "X_features_sparse= hstack(sparse_matrix_list).tocsr()\n",
    "print(type(X_features_sparse), X_features_sparse.shape)\n",
    "\n",
    "# Data set takes too much memory, so we need to delete it after we are done using it.\n",
    "# 데이터 셋이 메모리를 많이 차지하므로 사용 용도가 끝났으면 바로 메모리에서 삭제. \n",
    "del X_features_sparse\n",
    "gc.collect()"
   ]
  },
  {
   "cell_type": "markdown",
   "metadata": {
    "id": "UW-yUEYx7eH5"
   },
   "source": [
    "# Modeling\n",
    "\n",
    "**rmsle**"
   ]
  },
  {
   "cell_type": "code",
   "execution_count": 31,
   "metadata": {
    "id": "Dp5lKw2C2_mG"
   },
   "outputs": [],
   "source": [
    "def rmsle(y , y_pred):\n",
    "    # underflow, overflow를 막기 위해 log가 아닌 log1p로 rmsle 계산 \n",
    "    return np.sqrt(np.mean(np.power(np.log1p(y) - np.log1p(y_pred), 2)))\n",
    "\n",
    "def evaluate_org_price(y_test , preds): \n",
    "    # In the original dataset, we need to convert the log1p back to its original form.\n",
    "    # 원본 데이터는 log1p로 변환되었으므로 exmpm1으로 원복 필요. \n",
    "    preds_exmpm = np.expm1(preds)\n",
    "    y_test_exmpm = np.expm1(y_test)\n",
    "    \n",
    "    # rmsle로 RMSLE 값 추출\n",
    "    rmsle_result = rmsle(y_test_exmpm, preds_exmpm)\n",
    "    return rmsle_result"
   ]
  },
  {
   "cell_type": "markdown",
   "metadata": {
    "id": "fosaTwXM7mkL"
   },
   "source": [
    "여러 모델에 대한 학습/예측을 수행하기 위해 별도의 함수인 model_train_predict()생성.\n",
    "\n",
    "해당 함수는 여러 희소 행렬을 hstack()으로 결합한 뒤 학습과 테스트 데이터 세트로 분할 후 모델 학습 및 예측을 수행\n",
    "\n",
    "Create model_train_predict() function to train on a number of different models"
   ]
  },
  {
   "cell_type": "code",
   "execution_count": 32,
   "metadata": {
    "id": "lWNUpp9h2_jc"
   },
   "outputs": [],
   "source": [
    "import gc \n",
    "from  scipy.sparse import hstack\n",
    "\n",
    "def model_train_predict(model,matrix_list):\n",
    "    # scipy.sparse 모듈의 hstack 을 이용하여 sparse matrix 결합\n",
    "    X= hstack(matrix_list).tocsr()     \n",
    "    \n",
    "    X_train, X_test, y_train, y_test=train_test_split(X, mercari_df['price'], \n",
    "                                                      test_size=0.2, random_state=156)\n",
    "    \n",
    "    # 모델 학습 및 예측\n",
    "    model.fit(X_train , y_train)\n",
    "    preds = model.predict(X_test)\n",
    "    \n",
    "    del X , X_train , X_test , y_train \n",
    "    gc.collect()\n",
    "    \n",
    "    return preds , y_test"
   ]
  },
  {
   "cell_type": "markdown",
   "metadata": {
    "id": "kzsCik3775TA"
   },
   "source": [
    "## Ridge Regression\n",
    "\n",
    "Let's see how much Item Description helps build a better model.\n",
    "\n",
    "릿지 선형 회귀로 학습/예측/평가. Item Description 피처의 영향도를 알아보기 위한 테스트 함께 수행"
   ]
  },
  {
   "cell_type": "code",
   "execution_count": 29,
   "metadata": {
    "colab": {
     "base_uri": "https://localhost:8080/"
    },
    "id": "E0MsAu_C2_Px",
    "outputId": "dd1faaca-18b8-4789-d583-7e82523f41b1"
   },
   "outputs": [
    {
     "name": "stdout",
     "output_type": "stream",
     "text": [
      "Item Description을 제외했을 때 rmsle 값: 0.5033970623645883\n",
      "Item Description을 포함한 rmsle 값: 0.4711438610635729\n"
     ]
    }
   ],
   "source": [
    "from sklearn.linear_model import Ridge\n",
    "from sklearn.model_selection import train_test_split\n",
    "\n",
    "linear_model = Ridge(solver = \"lsqr\", fit_intercept=False)\n",
    "\n",
    "# RMSLE without Item Description\n",
    "sparse_matrix_list = (X_name, X_brand, X_item_cond_id,\n",
    "                      X_shipping, X_cat_dae, X_cat_jung, X_cat_so)\n",
    "linear_preds , y_test = model_train_predict(model=linear_model ,matrix_list=sparse_matrix_list)\n",
    "print('Item Description을 제외했을 때 rmsle 값:', evaluate_org_price(y_test , linear_preds))\n",
    "\n",
    "# RMSLE with Item Description\n",
    "sparse_matrix_list = (X_descp, X_name, X_brand, X_item_cond_id,\n",
    "                      X_shipping, X_cat_dae, X_cat_jung, X_cat_so)\n",
    "linear_preds , y_test = model_train_predict(model=linear_model , matrix_list=sparse_matrix_list)\n",
    "print('Item Description을 포함한 rmsle 값:',  evaluate_org_price(y_test ,linear_preds))"
   ]
  },
  {
   "cell_type": "code",
   "execution_count": 30,
   "metadata": {
    "colab": {
     "base_uri": "https://localhost:8080/"
    },
    "id": "Enf0_3Qx7qTD",
    "outputId": "c48c342c-531e-465a-d6a5-d047e2f72c80"
   },
   "outputs": [
    {
     "data": {
      "text/plain": [
       "0"
      ]
     },
     "execution_count": 30,
     "metadata": {},
     "output_type": "execute_result"
    }
   ],
   "source": [
    "import gc\n",
    "gc.collect()"
   ]
  },
  {
   "cell_type": "code",
   "execution_count": 31,
   "metadata": {
    "colab": {
     "base_uri": "https://localhost:8080/",
     "height": 376
    },
    "id": "D8bC3oX78Bpi",
    "outputId": "5a124648-6730-47e1-fb97-de7d2e5076ef"
   },
   "outputs": [
    {
     "name": "stdout",
     "output_type": "stream",
     "text": [
      "LightGBM rmsle 값: 0.45682627184738794\n"
     ]
    }
   ],
   "source": [
    "## Skip for now\n",
    "\n",
    "from lightgbm import LGBMRegressor\n",
    "\n",
    "sparse_matrix_list = (X_descp, X_name, X_brand, X_item_cond_id,\n",
    "                      X_shipping, X_cat_dae, X_cat_jung, X_cat_so)\n",
    "\n",
    "# RMSLE of LGBM\n",
    "lgbm_model = LGBMRegressor(n_estimators=200, learning_rate=0.5, num_leaves=125, random_state=156)\n",
    "lgbm_preds , y_test = model_train_predict(model = lgbm_model , matrix_list=sparse_matrix_list)\n",
    "print('LightGBM rmsle 값:',  evaluate_org_price(y_test , lgbm_preds))"
   ]
  },
  {
   "cell_type": "code",
   "execution_count": 32,
   "metadata": {
    "id": "jrANAFU68Bmz"
   },
   "outputs": [
    {
     "name": "stdout",
     "output_type": "stream",
     "text": [
      "LightGBM과 Ridge를 ensemble한 최종 rmsle 값: 0.45066331311726593\n"
     ]
    }
   ],
   "source": [
    "### Skip for now\n",
    "\n",
    "# RMSLE of ensemble of LGBM and Ridge\n",
    "preds = lgbm_preds * 0.45 + linear_preds * 0.55\n",
    "print('LightGBM과 Ridge를 ensemble한 최종 rmsle 값:',  evaluate_org_price(y_test , preds))"
   ]
  },
  {
   "cell_type": "code",
   "execution_count": 37,
   "metadata": {},
   "outputs": [],
   "source": [
    "import mlflow\n",
    "from sklearn.model_selection import RepeatedKFold, GridSearchCV\n",
    "from sklearn.metrics import make_scorer\n",
    "from sklearn.linear_model import Ridge"
   ]
  },
  {
   "cell_type": "code",
   "execution_count": 38,
   "metadata": {},
   "outputs": [],
   "source": [
    "def rmsle_eval(y_test, y_pred):\n",
    "  return -1 * evaluate_org_price(y_test, y_pred)"
   ]
  },
  {
   "cell_type": "code",
   "execution_count": 52,
   "metadata": {},
   "outputs": [],
   "source": [
    "mlflow.set_tracking_uri(\"file:///home/jovyan/work/jupyter/Mercari/test\")\n",
    "mlflow.sklearn.autolog()"
   ]
  },
  {
   "cell_type": "code",
   "execution_count": 53,
   "metadata": {
    "id": "AmskJCtD8qwm"
   },
   "outputs": [
    {
     "name": "stderr",
     "output_type": "stream",
     "text": [
      "2021/11/19 22:27:58 WARNING mlflow.utils: Truncated the value of the key `scoring`. Truncated value: `{'Root mean squared log error': make_scorer(rmsle_eval, greater_is_better=False), 'Explained variance': 'explained_variance', 'Max error': 'max_error', 'Negative mean absolute error': 'neg_mean_absolute_error', 'Negative mean squared error': 'neg_...`\n"
     ]
    },
    {
     "name": "stdout",
     "output_type": "stream",
     "text": [
      "Fitting 4 folds for each of 3 candidates, totalling 12 fits\n"
     ]
    },
    {
     "name": "stderr",
     "output_type": "stream",
     "text": [
      "2021/11/19 22:29:34 WARNING mlflow.sklearn: Failed to infer model signature: Expected one of (pandas.DataFrame, numpy array, dictionary of (name -> numpy.ndarray), pyspark.sql.DataFrame) but got '<class 'scipy.sparse.csr.csr_matrix'>'\n",
      "2021/11/19 22:29:37 WARNING mlflow.utils.autologging_utils: MLflow autologging encountered a warning: \"/opt/conda/lib/python3.9/site-packages/mlflow/sklearn/utils.py:644: UserWarning: Top 5 child runs will be created based on ordering in rank_test_Root mean squared log error column. You can choose not to limit the number of child runs created by setting `max_tuning_runs=None`.\"\n",
      "2021/11/19 22:29:37 INFO mlflow.sklearn.utils: Logging the 5 best runs, no runs will be omitted.\n"
     ]
    },
    {
     "name": "stdout",
     "output_type": "stream",
     "text": [
      "{'mean_fit_time': array([20.83737701, 20.6113382 , 19.89434493]), 'std_fit_time': array([0.55060005, 0.43711667, 0.21904162]), 'mean_score_time': array([0.43631989, 0.43954521, 0.3608734 ]), 'std_score_time': array([0.04079407, 0.01885692, 0.03207397]), 'param_alpha': masked_array(data=[0.01, 0.1, 1],\n",
      "             mask=[False, False, False],\n",
      "       fill_value='?',\n",
      "            dtype=object), 'params': [{'alpha': 0.01}, {'alpha': 0.1}, {'alpha': 1}], 'split0_test_Root mean squared log error': array([0.47487794, 0.47478454, 0.47467758]), 'split1_test_Root mean squared log error': array([0.47539599, 0.47532797, 0.47472837]), 'split2_test_Root mean squared log error': array([0.47455373, 0.47447466, 0.47402765]), 'split3_test_Root mean squared log error': array([0.47560324, 0.4755389 , 0.47497542]), 'mean_test_Root mean squared log error': array([0.47510773, 0.47503151, 0.47460225]), 'std_test_Root mean squared log error': array([0.00041483, 0.00042321, 0.00035036]), 'rank_test_Root mean squared log error': array([1, 2, 3], dtype=int32), 'split0_train_Root mean squared log error': array([0.44860731, 0.44860838, 0.45171757]), 'split1_train_Root mean squared log error': array([0.45129052, 0.45129123, 0.45135735]), 'split2_train_Root mean squared log error': array([0.45086511, 0.45086594, 0.45213319]), 'split3_train_Root mean squared log error': array([0.45099154, 0.45099225, 0.45105803]), 'mean_train_Root mean squared log error': array([0.45043862, 0.45043945, 0.45156653]), 'std_train_Root mean squared log error': array([0.00106853, 0.00106839, 0.00040195]), 'split0_test_Explained variance': array([0.59881794, 0.59897574, 0.59915646]), 'split1_test_Explained variance': array([0.5968016 , 0.59691697, 0.59793315]), 'split2_test_Explained variance': array([0.597658  , 0.59779207, 0.5985496 ]), 'split3_test_Explained variance': array([0.5981639 , 0.59827259, 0.59922376]), 'mean_test_Explained variance': array([0.59786036, 0.59798934, 0.59871574]), 'std_test_Explained variance': array([0.00073672, 0.00074868, 0.00052258]), 'rank_test_Explained variance': array([3, 2, 1], dtype=int32), 'split0_train_Explained variance': array([0.64095921, 0.64095749, 0.63596338]), 'split1_train_Explained variance': array([0.63768215, 0.63768101, 0.63757482]), 'split2_train_Explained variance': array([0.63887261, 0.63887128, 0.63683836]), 'split3_train_Explained variance': array([0.6366199 , 0.63661876, 0.63651275]), 'mean_train_Explained variance': array([0.63853347, 0.63853213, 0.63672233]), 'std_train_Explained variance': array([0.00161134, 0.00161112, 0.00058312]), 'split0_test_Max error': array([-5.19603271, -5.19333677, -5.17663389]), 'split1_test_Max error': array([-5.08606806, -5.08421012, -5.06631469]), 'split2_test_Max error': array([-5.24068067, -5.2351518 , -5.18997835]), 'split3_test_Max error': array([-5.03705811, -5.0361825 , -5.02773043]), 'mean_test_Max error': array([-5.13995989, -5.1372203 , -5.11516434]), 'std_test_Max error': array([0.08182595, 0.08024705, 0.06965382]), 'rank_test_Max error': array([3, 2, 1], dtype=int32), 'split0_train_Max error': array([-4.79506669, -4.79502026, -4.82083979]), 'split1_train_Max error': array([-4.92942965, -4.92748775, -4.90878613]), 'split2_train_Max error': array([-4.74002006, -4.73962628, -4.75880776]), 'split3_train_Max error': array([-4.88555316, -4.88481031, -4.8775987 ]), 'mean_train_Max error': array([-4.83751739, -4.83673615, -4.8415081 ]), 'std_train_Max error': array([0.07426825, 0.07368433, 0.05721755]), 'split0_test_Negative mean absolute error': array([-0.3569075 , -0.35683113, -0.35664734]), 'split1_test_Negative mean absolute error': array([-0.35693968, -0.3568845 , -0.35639885]), 'split2_test_Negative mean absolute error': array([-0.35675239, -0.35668972, -0.35630168]), 'split3_test_Negative mean absolute error': array([-0.35685736, -0.35680471, -0.3563433 ]), 'mean_test_Negative mean absolute error': array([-0.35686423, -0.35680252, -0.35642279]), 'std_test_Negative mean absolute error': array([7.09209719e-05, 7.11821274e-05, 1.34149793e-04]), 'rank_test_Negative mean absolute error': array([3, 2, 1], dtype=int32), 'split0_train_Negative mean absolute error': array([-0.33771239, -0.33770291, -0.33978823]), 'split1_train_Negative mean absolute error': array([-0.33986662, -0.33986014, -0.3398469 ]), 'split2_train_Negative mean absolute error': array([-0.33920731, -0.33919965, -0.34008914]), 'split3_train_Negative mean absolute error': array([-0.3397224 , -0.33971678, -0.33971095]), 'mean_train_Negative mean absolute error': array([-0.33912718, -0.33911987, -0.33985881]), 'std_train_Negative mean absolute error': array([0.00085281, 0.00085417, 0.00014146]), 'split0_test_Negative mean squared error': array([-0.22550905, -0.22542036, -0.22531881]), 'split1_test_Negative mean squared error': array([-0.22600135, -0.22593668, -0.22536702]), 'split2_test_Negative mean squared error': array([-0.22520124, -0.2251262 , -0.22470221]), 'split3_test_Negative mean squared error': array([-0.22619844, -0.22613724, -0.22560165]), 'mean_test_Negative mean squared error': array([-0.22572752, -0.22565512, -0.22524742]), 'std_test_Negative mean squared error': array([0.00039416, 0.00040205, 0.00033247]), 'rank_test_Negative mean squared error': array([3, 2, 1], dtype=int32), 'split0_train_Negative mean squared error': array([-0.20124851, -0.20124948, -0.20404876]), 'split1_train_Negative mean squared error': array([-0.20366313, -0.20366377, -0.20372346]), 'split2_train_Negative mean squared error': array([-0.20327934, -0.2032801 , -0.20442442]), 'split3_train_Negative mean squared error': array([-0.20339337, -0.20339401, -0.20345335]), 'mean_train_Negative mean squared error': array([-0.20289609, -0.20289684, -0.2039125 ]), 'std_train_Negative mean squared error': array([0.00096138, 0.00096125, 0.00036304]), 'split0_test_Negative root mean squared error': array([-0.47487794, -0.47478454, -0.47467758]), 'split1_test_Negative root mean squared error': array([-0.47539599, -0.47532797, -0.47472837]), 'split2_test_Negative root mean squared error': array([-0.47455373, -0.47447466, -0.47402765]), 'split3_test_Negative root mean squared error': array([-0.47560324, -0.4755389 , -0.47497542]), 'mean_test_Negative root mean squared error': array([-0.47510773, -0.47503151, -0.47460225]), 'std_test_Negative root mean squared error': array([0.00041483, 0.00042321, 0.00035036]), 'rank_test_Negative root mean squared error': array([3, 2, 1], dtype=int32), 'split0_train_Negative root mean squared error': array([-0.44860731, -0.44860838, -0.45171757]), 'split1_train_Negative root mean squared error': array([-0.45129052, -0.45129123, -0.45135735]), 'split2_train_Negative root mean squared error': array([-0.45086511, -0.45086594, -0.45213319]), 'split3_train_Negative root mean squared error': array([-0.45099154, -0.45099225, -0.45105803]), 'mean_train_Negative root mean squared error': array([-0.45043862, -0.45043945, -0.45156653]), 'std_train_Negative root mean squared error': array([0.00106853, 0.00106839, 0.00040195]), 'split0_test_Negative mean squared log error': array([-0.01501831, -0.01501224, -0.0149862 ]), 'split1_test_Negative mean squared log error': array([-0.01498342, -0.01497903, -0.01494004]), 'split2_test_Negative mean squared log error': array([-0.01494428, -0.01493929, -0.01490646]), 'split3_test_Negative mean squared log error': array([-0.01503669, -0.0150324 , -0.01499453]), 'mean_test_Negative mean squared log error': array([-0.01499567, -0.01499074, -0.01495681]), 'std_test_Negative mean squared log error': array([3.53034137e-05, 3.52924803e-05, 3.57157704e-05]), 'rank_test_Negative mean squared log error': array([3, 2, 1], dtype=int32), 'split0_train_Negative mean squared log error': array([-0.01343188, -0.01343166, -0.01359154]), 'split1_train_Negative mean squared log error': array([-0.01360273, -0.01360255, -0.0136041 ]), 'split2_train_Negative mean squared log error': array([-0.01358387, -0.01358371, -0.01365014]), 'split3_train_Negative mean squared log error': array([-0.01354832, -0.01354815, -0.01354974]), 'mean_train_Negative mean squared log error': array([-0.0135417 , -0.01354152, -0.01359888]), 'std_train_Negative mean squared log error': array([6.63484357e-05, 6.63662247e-05, 3.57897414e-05]), 'split0_test_Negitive median absolute error': array([-0.28112524, -0.28108552, -0.2811447 ]), 'split1_test_Negitive median absolute error': array([-0.28088601, -0.28081595, -0.28042836]), 'split2_test_Negitive median absolute error': array([-0.28058826, -0.28052287, -0.28061212]), 'split3_test_Negitive median absolute error': array([-0.28084686, -0.28080897, -0.28040247]), 'mean_test_Negitive median absolute error': array([-0.28086159, -0.28080833, -0.28064691]), 'std_test_Negitive median absolute error': array([0.00019042, 0.00019898, 0.00029855]), 'rank_test_Negitive median absolute error': array([3, 2, 1], dtype=int32), 'split0_train_Negitive median absolute error': array([-0.2665338 , -0.26652602, -0.26816086]), 'split1_train_Negitive median absolute error': array([-0.26810239, -0.26812072, -0.26815062]), 'split2_train_Negitive median absolute error': array([-0.26793975, -0.26791831, -0.26854852]), 'split3_train_Negitive median absolute error': array([-0.26842982, -0.26840935, -0.26845483]), 'mean_train_Negitive median absolute error': array([-0.26775144, -0.2677436 , -0.26832871]), 'std_train_Negitive median absolute error': array([0.00072482, 0.00072431, 0.00017615]), 'split0_test_R2': array([0.59881794, 0.59897573, 0.59915639]), 'split1_test_R2': array([0.59679849, 0.59691388, 0.59793018]), 'split2_test_R2': array([0.597658  , 0.59779207, 0.59854957]), 'split3_test_R2': array([0.59815662, 0.59826534, 0.59921683]), 'mean_test_R2': array([0.59785776, 0.59798676, 0.59871324]), 'std_test_R2': array([0.00073709, 0.00074911, 0.000522  ]), 'rank_test_R2': array([3, 2, 1], dtype=int32), 'split0_train_R2': array([0.64095921, 0.64095748, 0.63596338]), 'split1_train_R2': array([0.63768198, 0.63768084, 0.63757466]), 'split2_train_R2': array([0.63887258, 0.63887125, 0.63683835]), 'split3_train_R2': array([0.63661969, 0.63661855, 0.63651255]), 'mean_train_R2': array([0.63853337, 0.63853203, 0.63672223]), 'std_train_R2': array([0.00161143, 0.0016112 , 0.00058308])}\n",
      "[CV 1/4] END alpha=0.01; Explained variance: (train=0.641, test=0.599) Max error: (train=-4.795, test=-5.196) Negative mean absolute error: (train=-0.338, test=-0.357) Negative mean squared error: (train=-0.201, test=-0.226) Negative mean squared log error: (train=-0.013, test=-0.015) Negative root mean squared error: (train=-0.449, test=-0.475) Negitive median absolute error: (train=-0.267, test=-0.281) R2: (train=0.641, test=0.599) Root mean squared log error: (train=0.449, test=0.475) total time=  22.1s\n",
      "[CV 4/4] END alpha=0.1; Explained variance: (train=0.637, test=0.598) Max error: (train=-4.885, test=-5.036) Negative mean absolute error: (train=-0.340, test=-0.357) Negative mean squared error: (train=-0.203, test=-0.226) Negative mean squared log error: (train=-0.014, test=-0.015) Negative root mean squared error: (train=-0.451, test=-0.476) Negitive median absolute error: (train=-0.268, test=-0.281) R2: (train=0.637, test=0.598) Root mean squared log error: (train=0.451, test=0.476) total time=  20.6s\n",
      "[CV 4/4] END alpha=1; Explained variance: (train=0.637, test=0.599) Max error: (train=-4.878, test=-5.028) Negative mean absolute error: (train=-0.340, test=-0.356) Negative mean squared error: (train=-0.203, test=-0.226) Negative mean squared log error: (train=-0.014, test=-0.015) Negative root mean squared error: (train=-0.451, test=-0.475) Negitive median absolute error: (train=-0.268, test=-0.280) R2: (train=0.637, test=0.599) Root mean squared log error: (train=0.451, test=0.475) total time=  19.6s\n",
      "[CV 4/4] END alpha=0.01; Explained variance: (train=0.637, test=0.598) Max error: (train=-4.886, test=-5.037) Negative mean absolute error: (train=-0.340, test=-0.357) Negative mean squared error: (train=-0.203, test=-0.226) Negative mean squared log error: (train=-0.014, test=-0.015) Negative root mean squared error: (train=-0.451, test=-0.476) Negitive median absolute error: (train=-0.268, test=-0.281) R2: (train=0.637, test=0.598) Root mean squared log error: (train=0.451, test=0.476) total time=  20.9s\n",
      "[CV 2/4] END alpha=0.1; Explained variance: (train=0.638, test=0.597) Max error: (train=-4.927, test=-5.084) Negative mean absolute error: (train=-0.340, test=-0.357) Negative mean squared error: (train=-0.204, test=-0.226) Negative mean squared log error: (train=-0.014, test=-0.015) Negative root mean squared error: (train=-0.451, test=-0.475) Negitive median absolute error: (train=-0.268, test=-0.281) R2: (train=0.638, test=0.597) Root mean squared log error: (train=0.451, test=0.475) total time=  20.6s\n",
      "[CV 1/4] END alpha=1; Explained variance: (train=0.636, test=0.599) Max error: (train=-4.821, test=-5.177) Negative mean absolute error: (train=-0.340, test=-0.357) Negative mean squared error: (train=-0.204, test=-0.225) Negative mean squared log error: (train=-0.014, test=-0.015) Negative root mean squared error: (train=-0.452, test=-0.475) Negitive median absolute error: (train=-0.268, test=-0.281) R2: (train=0.636, test=0.599) Root mean squared log error: (train=0.452, test=0.475) total time=  20.0s\n",
      "[CV 4/4] END alpha=0.01; Explained variance: (train=0.637, test=0.598) Max error: (train=-4.886, test=-5.037) Negative mean absolute error: (train=-0.340, test=-0.357) Negative mean squared error: (train=-0.203, test=-0.226) Negative mean squared log error: (train=-0.014, test=-0.015) Negative root mean squared error: (train=-0.451, test=-0.476) Negitive median absolute error: (train=-0.268, test=-0.281) R2: (train=0.637, test=0.598) Root mean squared log error: (train=0.451, test=0.476) total time=  20.9s\n",
      "[CV 1/4] END alpha=0.1; Explained variance: (train=0.641, test=0.599) Max error: (train=-4.795, test=-5.193) Negative mean absolute error: (train=-0.338, test=-0.357) Negative mean squared error: (train=-0.201, test=-0.225) Negative mean squared log error: (train=-0.013, test=-0.015) Negative root mean squared error: (train=-0.449, test=-0.475) Negitive median absolute error: (train=-0.267, test=-0.281) R2: (train=0.641, test=0.599) Root mean squared log error: (train=0.449, test=0.475) total time=  21.2s\n",
      "[CV 3/4] END alpha=1; Explained variance: (train=0.637, test=0.599) Max error: (train=-4.759, test=-5.190) Negative mean absolute error: (train=-0.340, test=-0.356) Negative mean squared error: (train=-0.204, test=-0.225) Negative mean squared log error: (train=-0.014, test=-0.015) Negative root mean squared error: (train=-0.452, test=-0.474) Negitive median absolute error: (train=-0.269, test=-0.281) R2: (train=0.637, test=0.599) Root mean squared log error: (train=0.452, test=0.474) total time=  19.2s\n",
      "[CV 2/4] END alpha=0.01; Explained variance: (train=0.638, test=0.597) Max error: (train=-4.929, test=-5.086) Negative mean absolute error: (train=-0.340, test=-0.357) Negative mean squared error: (train=-0.204, test=-0.226) Negative mean squared log error: (train=-0.014, test=-0.015) Negative root mean squared error: (train=-0.451, test=-0.475) Negitive median absolute error: (train=-0.268, test=-0.281) R2: (train=0.638, test=0.597) Root mean squared log error: (train=0.451, test=0.475) total time=  20.8s\n",
      "[CV 1/4] END alpha=0.1; Explained variance: (train=0.641, test=0.599) Max error: (train=-4.795, test=-5.193) Negative mean absolute error: (train=-0.338, test=-0.357) Negative mean squared error: (train=-0.201, test=-0.225) Negative mean squared log error: (train=-0.013, test=-0.015) Negative root mean squared error: (train=-0.449, test=-0.475) Negitive median absolute error: (train=-0.267, test=-0.281) R2: (train=0.641, test=0.599) Root mean squared log error: (train=0.449, test=0.475) total time=  21.7s\n",
      "[CV 3/4] END alpha=1; Explained variance: (train=0.637, test=0.599) Max error: (train=-4.759, test=-5.190) Negative mean absolute error: (train=-0.340, test=-0.356) Negative mean squared error: (train=-0.204, test=-0.225) Negative mean squared log error: (train=-0.014, test=-0.015) Negative root mean squared error: (train=-0.452, test=-0.474) Negitive median absolute error: (train=-0.269, test=-0.281) R2: (train=0.637, test=0.599) Root mean squared log error: (train=0.452, test=0.474) total time=  20.1s\n",
      "[CV 3/4] END alpha=0.01; Explained variance: (train=0.639, test=0.598) Max error: (train=-4.740, test=-5.241) Negative mean absolute error: (train=-0.339, test=-0.357) Negative mean squared error: (train=-0.203, test=-0.225) Negative mean squared log error: (train=-0.014, test=-0.015) Negative root mean squared error: (train=-0.451, test=-0.475) Negitive median absolute error: (train=-0.268, test=-0.281) R2: (train=0.639, test=0.598) Root mean squared log error: (train=0.451, test=0.475) total time=  21.2s\n",
      "[CV 3/4] END alpha=0.1; Explained variance: (train=0.639, test=0.598) Max error: (train=-4.740, test=-5.235) Negative mean absolute error: (train=-0.339, test=-0.357) Negative mean squared error: (train=-0.203, test=-0.225) Negative mean squared log error: (train=-0.014, test=-0.015) Negative root mean squared error: (train=-0.451, test=-0.474) Negitive median absolute error: (train=-0.268, test=-0.281) R2: (train=0.639, test=0.598) Root mean squared log error: (train=0.451, test=0.474) total time=  20.7s\n",
      "[CV 2/4] END alpha=1; Explained variance: (train=0.638, test=0.598) Max error: (train=-4.909, test=-5.066) Negative mean absolute error: (train=-0.340, test=-0.356) Negative mean squared error: (train=-0.204, test=-0.225) Negative mean squared log error: (train=-0.014, test=-0.015) Negative root mean squared error: (train=-0.451, test=-0.475) Negitive median absolute error: (train=-0.268, test=-0.280) R2: (train=0.638, test=0.598) Root mean squared log error: (train=0.451, test=0.475) total time=  19.8s\n",
      "[CV 3/4] END alpha=0.01; Explained variance: (train=0.639, test=0.598) Max error: (train=-4.740, test=-5.241) Negative mean absolute error: (train=-0.339, test=-0.357) Negative mean squared error: (train=-0.203, test=-0.225) Negative mean squared log error: (train=-0.014, test=-0.015) Negative root mean squared error: (train=-0.451, test=-0.475) Negitive median absolute error: (train=-0.268, test=-0.281) R2: (train=0.639, test=0.598) Root mean squared log error: (train=0.451, test=0.475) total time=  21.1s\n",
      "[CV 3/4] END alpha=0.1; Explained variance: (train=0.639, test=0.598) Max error: (train=-4.740, test=-5.235) Negative mean absolute error: (train=-0.339, test=-0.357) Negative mean squared error: (train=-0.203, test=-0.225) Negative mean squared log error: (train=-0.014, test=-0.015) Negative root mean squared error: (train=-0.451, test=-0.474) Negitive median absolute error: (train=-0.268, test=-0.281) R2: (train=0.639, test=0.598) Root mean squared log error: (train=0.451, test=0.474) total time=  21.1s\n",
      "[CV 2/4] END alpha=1; Explained variance: (train=0.638, test=0.598) Max error: (train=-4.909, test=-5.066) Negative mean absolute error: (train=-0.340, test=-0.356) Negative mean squared error: (train=-0.204, test=-0.225) Negative mean squared log error: (train=-0.014, test=-0.015) Negative root mean squared error: (train=-0.451, test=-0.475) Negitive median absolute error: (train=-0.268, test=-0.280) R2: (train=0.638, test=0.598) Root mean squared log error: (train=0.451, test=0.475) total time=  20.6s\n",
      "[CV 2/4] END alpha=0.01; Explained variance: (train=0.638, test=0.597) Max error: (train=-4.929, test=-5.086) Negative mean absolute error: (train=-0.340, test=-0.357) Negative mean squared error: (train=-0.204, test=-0.226) Negative mean squared log error: (train=-0.014, test=-0.015) Negative root mean squared error: (train=-0.451, test=-0.475) Negitive median absolute error: (train=-0.268, test=-0.281) R2: (train=0.638, test=0.597) Root mean squared log error: (train=0.451, test=0.475) total time=  21.0s\n",
      "[CV 2/4] END alpha=0.1; Explained variance: (train=0.638, test=0.597) Max error: (train=-4.927, test=-5.084) Negative mean absolute error: (train=-0.340, test=-0.357) Negative mean squared error: (train=-0.204, test=-0.226) Negative mean squared log error: (train=-0.014, test=-0.015) Negative root mean squared error: (train=-0.451, test=-0.475) Negitive median absolute error: (train=-0.268, test=-0.281) R2: (train=0.638, test=0.597) Root mean squared log error: (train=0.451, test=0.475) total time=  20.4s\n",
      "[CV 1/4] END alpha=1; Explained variance: (train=0.636, test=0.599) Max error: (train=-4.821, test=-5.177) Negative mean absolute error: (train=-0.340, test=-0.357) Negative mean squared error: (train=-0.204, test=-0.225) Negative mean squared log error: (train=-0.014, test=-0.015) Negative root mean squared error: (train=-0.452, test=-0.475) Negitive median absolute error: (train=-0.268, test=-0.281) R2: (train=0.636, test=0.599) Root mean squared log error: (train=0.452, test=0.475) total time=  19.3s\n",
      "[CV 1/4] END alpha=0.01; Explained variance: (train=0.641, test=0.599) Max error: (train=-4.795, test=-5.196) Negative mean absolute error: (train=-0.338, test=-0.357) Negative mean squared error: (train=-0.201, test=-0.226) Negative mean squared log error: (train=-0.013, test=-0.015) Negative root mean squared error: (train=-0.449, test=-0.475) Negitive median absolute error: (train=-0.267, test=-0.281) R2: (train=0.641, test=0.599) Root mean squared log error: (train=0.449, test=0.475) total time=  22.3s\n",
      "[CV 4/4] END alpha=0.1; Explained variance: (train=0.637, test=0.598) Max error: (train=-4.885, test=-5.036) Negative mean absolute error: (train=-0.340, test=-0.357) Negative mean squared error: (train=-0.203, test=-0.226) Negative mean squared log error: (train=-0.014, test=-0.015) Negative root mean squared error: (train=-0.451, test=-0.476) Negitive median absolute error: (train=-0.268, test=-0.281) R2: (train=0.637, test=0.598) Root mean squared log error: (train=0.451, test=0.476) total time=  20.7s\n",
      "[CV 4/4] END alpha=1; Explained variance: (train=0.637, test=0.599) Max error: (train=-4.878, test=-5.028) Negative mean absolute error: (train=-0.340, test=-0.356) Negative mean squared error: (train=-0.203, test=-0.226) Negative mean squared log error: (train=-0.014, test=-0.015) Negative root mean squared error: (train=-0.451, test=-0.475) Negitive median absolute error: (train=-0.268, test=-0.280) R2: (train=0.637, test=0.599) Root mean squared log error: (train=0.451, test=0.475) total time=  20.3s\n"
     ]
    }
   ],
   "source": [
    "with mlflow.start_run() as run:\n",
    "    rmsle_metric = make_scorer(rmsle_eval, greater_is_better=False)\n",
    "    metrics = {\n",
    "        \"Root mean squared log error\": rmsle_metric\n",
    "        ,\"Explained variance\": \"explained_variance\"\n",
    "        ,\"Max error\": \"max_error\"\n",
    "        ,\"Negative mean absolute error\": \"neg_mean_absolute_error\"\n",
    "        ,\"Negative mean squared error\": \"neg_mean_squared_error\"\n",
    "        ,\"Negative root mean squared error\": \"neg_root_mean_squared_error\"\n",
    "        ,\"Negative mean squared log error\": \"neg_mean_squared_log_error\"\n",
    "        ,\"Negitive median absolute error\": \"neg_median_absolute_error\"\n",
    "        ,\"R2\": \"r2\"\n",
    "    }\n",
    "    param_grid={\"alpha\": [0.01, 0.1, 1]}\n",
    "\n",
    "    linear_model = Ridge(solver = \"lsqr\", fit_intercept=False)\n",
    "\n",
    "    sparse_matrix_list = (X_descp, X_name, X_brand, X_item_cond_id,\n",
    "                          X_shipping, X_cat_dae, X_cat_jung, X_cat_so)\n",
    "    X = hstack(sparse_matrix_list).tocsr()\n",
    "    y = mercari_df['price']\n",
    "    cv = RepeatedKFold(n_splits=2, n_repeats=2, random_state=42)\n",
    "    gs = GridSearchCV(linear_model, scoring=metrics, refit=\"Root mean squared log error\", param_grid=param_grid, cv=cv, n_jobs=4, return_train_score=True, verbose=4)\n",
    "    gs.fit(X, y)\n",
    "    results = gs.cv_results_\n",
    "    print(results)"
   ]
  },
  {
   "cell_type": "code",
   "execution_count": 34,
   "metadata": {
    "id": "f20F_fRBb-Zi"
   },
   "outputs": [
    {
     "data": {
      "image/png": "[encoded data removed]",
      "text/plain": [
       "<Figure size 936x936 with 1 Axes>"
      ]
     },
     "metadata": {
      "needs_background": "light"
     },
     "output_type": "display_data"
    }
   ],
   "source": [
    "metrics = {\n",
    "    \"Root mean squared log error\": rmsle_metric\n",
    "    # ,\"Explained variance\": \"explained_variance\"\n",
    "    # ,\"Max error\": \"max_error\"\n",
    "    # ,\"Negative mean absolute error\": \"neg_mean_absolute_error\"\n",
    "    # ,\"Negative mean squared error\": \"neg_mean_squared_error\"\n",
    "    # ,\"Negative root mean squared error\": \"neg_root_mean_squared_error\"\n",
    "    # ,\"Negative mean squared log error\": \"neg_mean_squared_log_error\"\n",
    "    # ,\"Negitive median absolute error\": \"neg_median_absolute_error\"\n",
    "    # ,\"R2\": \"r2\"\n",
    "}\n",
    "\n",
    "\n",
    "\n",
    "plt.figure(figsize=(13, 13))\n",
    "plt.title(\"GridSearchCV evaluating using multiple scorers simultaneously\", fontsize=16)\n",
    "\n",
    "plt.xlabel(\"alpha\")\n",
    "plt.ylabel(\"Score\")\n",
    "\n",
    "ax = plt.gca()\n",
    "# ax.set_xlim(0, 402)\n",
    "# ax.set_ylim(0.73, 1)\n",
    "\n",
    "# Get the regular numpy array from the MaskedArray\n",
    "X_axis = np.array(results[\"param_alpha\"].data, dtype=float)\n",
    "\n",
    "for scorer, color in zip(sorted(metrics), [\"g\", \"k\"]):\n",
    "    for sample, style in ((\"train\", \"--\"), (\"test\", \"-\")):\n",
    "        sample_score_mean = results[\"mean_%s_%s\" % (sample, scorer)]\n",
    "        sample_score_std = results[\"std_%s_%s\" % (sample, scorer)]\n",
    "        ax.fill_between(\n",
    "            X_axis,\n",
    "            sample_score_mean - sample_score_std,\n",
    "            sample_score_mean + sample_score_std,\n",
    "            alpha=0.1 if sample == \"test\" else 0,\n",
    "            color=color,\n",
    "        )\n",
    "        ax.plot(\n",
    "            X_axis,\n",
    "            sample_score_mean,\n",
    "            style,\n",
    "            color=color,\n",
    "            alpha=1 if sample == \"test\" else 0.7,\n",
    "            label=\"%s (%s)\" % (scorer, sample),\n",
    "        )\n",
    "\n",
    "    best_index = np.nonzero(results[\"rank_test_%s\" % scorer] == 1)[0][0]\n",
    "    best_score = results[\"mean_test_%s\" % scorer][best_index]\n",
    "\n",
    "    # Plot a dotted vertical line at the best score for that scorer marked by x\n",
    "    ax.plot(\n",
    "        [\n",
    "            X_axis[best_index],\n",
    "        ]\n",
    "        * 2,\n",
    "        [0, best_score],\n",
    "        linestyle=\"-.\",\n",
    "        color=color,\n",
    "        marker=\"x\",\n",
    "        markeredgewidth=3,\n",
    "        ms=8,\n",
    "    )\n",
    "\n",
    "    # Annotate the best score for that scorer\n",
    "    ax.annotate(\"%0.2f\" % best_score, (X_axis[best_index], best_score + 0.005))\n",
    "\n",
    "plt.legend(loc=\"best\")\n",
    "plt.grid(False)\n",
    "plt.show()"
   ]
  },
  {
   "cell_type": "code",
   "execution_count": null,
   "metadata": {},
   "outputs": [],
   "source": []
  }
 ],
 "metadata": {
  "colab": {
   "collapsed_sections": [],
   "name": "test2.ipynb",
   "provenance": []
  },
  "kernelspec": {
   "display_name": "Python 3 (ipykernel)",
   "language": "python",
   "name": "python3"
  },
  "language_info": {
   "codemirror_mode": {
    "name": "ipython",
    "version": 3
   },
   "file_extension": ".py",
   "mimetype": "text/x-python",
   "name": "python",
   "nbconvert_exporter": "python",
   "pygments_lexer": "ipython3",
   "version": "3.9.6"
  }
 },
 "nbformat": 4,
 "nbformat_minor": 4
}
