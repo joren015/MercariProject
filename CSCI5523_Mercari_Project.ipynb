{
  "nbformat": 4,
  "nbformat_minor": 0,
  "metadata": {
    "colab": {
      "name": "CSCI5523_Mercari_Project.ipynb",
      "provenance": [],
      "collapsed_sections": [],
      "include_colab_link": true
    },
    "kernelspec": {
      "name": "python3",
      "display_name": "Python 3"
    },
    "language_info": {
      "name": "python"
    }
  },
  "cells": [
    {
      "cell_type": "markdown",
      "metadata": {
        "id": "view-in-github",
        "colab_type": "text"
      },
      "source": [
        "<a href=\"https://colab.research.google.com/github/joren015/MercariProject/blob/main/CSCI5523_Mercari_Project.ipynb\" target=\"_parent\"><img src=\"https://colab.research.google.com/assets/colab-badge.svg\" alt=\"Open In Colab\"/></a>"
      ]
    },
    {
      "cell_type": "markdown",
      "metadata": {
        "id": "aXeAU-I8cHKJ"
      },
      "source": [
        "### Download dataset from Kaggle using Kaggle API\n",
        "Create a Kaggle API key with your Kaggle account and upload the json to the Google Colab root directory."
      ]
    },
    {
      "cell_type": "code",
      "metadata": {
        "colab": {
          "base_uri": "https://localhost:8080/"
        },
        "id": "Zkd-Mx4kcwd-",
        "outputId": "969882f1-c29a-4c73-eb95-fd30ffca998d"
      },
      "source": [
        "%%shell\n",
        "mkdir /root/.kaggle\n",
        "mv ./kaggle.json /root/.kaggle/kaggle.json\n",
        "chmod 600 /root/.kaggle/kaggle.json\n",
        "kaggle competitions download -c mercari-price-suggestion-challenge\n",
        "7za e train.tsv.7z\n",
        "7za e test.tsv.7z"
      ],
      "execution_count": 1,
      "outputs": [
        {
          "output_type": "stream",
          "name": "stdout",
          "text": [
            "Warning: Looks like you're using an outdated API Version, please consider updating (server 1.5.12 / client 1.5.4)\n",
            "Downloading sample_submission.csv.7z to /content\n",
            "  0% 0.00/170k [00:00<?, ?B/s]\n",
            "100% 170k/170k [00:00<00:00, 68.0MB/s]\n",
            "Downloading test_stg2.tsv.zip to /content\n",
            " 98% 288M/294M [00:03<00:00, 118MB/s]\n",
            "100% 294M/294M [00:04<00:00, 76.7MB/s]\n",
            "Downloading test.tsv.7z to /content\n",
            " 74% 25.0M/34.0M [00:00<00:00, 12.9MB/s]\n",
            "100% 34.0M/34.0M [00:00<00:00, 49.3MB/s]\n",
            "Downloading sample_submission_stg2.csv.zip to /content\n",
            " 64% 5.00M/7.77M [00:00<00:00, 40.0MB/s]\n",
            "100% 7.77M/7.77M [00:00<00:00, 49.7MB/s]\n",
            "Downloading train.tsv.7z to /content\n",
            " 96% 71.0M/74.3M [00:01<00:00, 42.8MB/s]\n",
            "100% 74.3M/74.3M [00:01<00:00, 59.1MB/s]\n",
            "\n",
            "7-Zip (a) [64] 16.02 : Copyright (c) 1999-2016 Igor Pavlov : 2016-05-21\n",
            "p7zip Version 16.02 (locale=en_US.UTF-8,Utf16=on,HugeFiles=on,64 bits,2 CPUs Intel(R) Xeon(R) CPU @ 2.20GHz (406F0),ASM,AES-NI)\n",
            "\n",
            "Scanning the drive for archives:\n",
            "  0M Scan\b\b\b\b\b\b\b\b\b         \b\b\b\b\b\b\b\b\b1 file, 77912192 bytes (75 MiB)\n",
            "\n",
            "Extracting archive: train.tsv.7z\n",
            "--\n",
            "Path = train.tsv.7z\n",
            "Type = 7z\n",
            "Physical Size = 77912192\n",
            "Headers Size = 122\n",
            "Method = LZMA2:24\n",
            "Solid = -\n",
            "Blocks = 1\n",
            "\n",
            "  0%\b\b\b\b    \b\b\b\b  2% - train.tsv\b\b\b\b\b\b\b\b\b\b\b\b\b\b\b\b                \b\b\b\b\b\b\b\b\b\b\b\b\b\b\b\b  6% - train.tsv\b\b\b\b\b\b\b\b\b\b\b\b\b\b\b\b                \b\b\b\b\b\b\b\b\b\b\b\b\b\b\b\b  9% - train.tsv\b\b\b\b\b\b\b\b\b\b\b\b\b\b\b\b                \b\b\b\b\b\b\b\b\b\b\b\b\b\b\b\b 13% - train.tsv\b\b\b\b\b\b\b\b\b\b\b\b\b\b\b\b                \b\b\b\b\b\b\b\b\b\b\b\b\b\b\b\b 17% - train.tsv\b\b\b\b\b\b\b\b\b\b\b\b\b\b\b\b                \b\b\b\b\b\b\b\b\b\b\b\b\b\b\b\b 21% - train.tsv\b\b\b\b\b\b\b\b\b\b\b\b\b\b\b\b                \b\b\b\b\b\b\b\b\b\b\b\b\b\b\b\b 24% - train.tsv\b\b\b\b\b\b\b\b\b\b\b\b\b\b\b\b                \b\b\b\b\b\b\b\b\b\b\b\b\b\b\b\b 28% - train.tsv\b\b\b\b\b\b\b\b\b\b\b\b\b\b\b\b                \b\b\b\b\b\b\b\b\b\b\b\b\b\b\b\b 32% - train.tsv\b\b\b\b\b\b\b\b\b\b\b\b\b\b\b\b                \b\b\b\b\b\b\b\b\b\b\b\b\b\b\b\b 36% - train.tsv\b\b\b\b\b\b\b\b\b\b\b\b\b\b\b\b                \b\b\b\b\b\b\b\b\b\b\b\b\b\b\b\b 39% - train.tsv\b\b\b\b\b\b\b\b\b\b\b\b\b\b\b\b                \b\b\b\b\b\b\b\b\b\b\b\b\b\b\b\b 43% - train.tsv\b\b\b\b\b\b\b\b\b\b\b\b\b\b\b\b                \b\b\b\b\b\b\b\b\b\b\b\b\b\b\b\b 46% - train.tsv\b\b\b\b\b\b\b\b\b\b\b\b\b\b\b\b                \b\b\b\b\b\b\b\b\b\b\b\b\b\b\b\b 50% - train.tsv\b\b\b\b\b\b\b\b\b\b\b\b\b\b\b\b                \b\b\b\b\b\b\b\b\b\b\b\b\b\b\b\b 54% - train.tsv\b\b\b\b\b\b\b\b\b\b\b\b\b\b\b\b                \b\b\b\b\b\b\b\b\b\b\b\b\b\b\b\b 58% - train.tsv\b\b\b\b\b\b\b\b\b\b\b\b\b\b\b\b                \b\b\b\b\b\b\b\b\b\b\b\b\b\b\b\b 61% - train.tsv\b\b\b\b\b\b\b\b\b\b\b\b\b\b\b\b                \b\b\b\b\b\b\b\b\b\b\b\b\b\b\b\b 65% - train.tsv\b\b\b\b\b\b\b\b\b\b\b\b\b\b\b\b                \b\b\b\b\b\b\b\b\b\b\b\b\b\b\b\b 69% - train.tsv\b\b\b\b\b\b\b\b\b\b\b\b\b\b\b\b                \b\b\b\b\b\b\b\b\b\b\b\b\b\b\b\b 73% - train.tsv\b\b\b\b\b\b\b\b\b\b\b\b\b\b\b\b                \b\b\b\b\b\b\b\b\b\b\b\b\b\b\b\b 76% - train.tsv\b\b\b\b\b\b\b\b\b\b\b\b\b\b\b\b                \b\b\b\b\b\b\b\b\b\b\b\b\b\b\b\b 80% - train.tsv\b\b\b\b\b\b\b\b\b\b\b\b\b\b\b\b                \b\b\b\b\b\b\b\b\b\b\b\b\b\b\b\b 84% - train.tsv\b\b\b\b\b\b\b\b\b\b\b\b\b\b\b\b                \b\b\b\b\b\b\b\b\b\b\b\b\b\b\b\b 87% - train.tsv\b\b\b\b\b\b\b\b\b\b\b\b\b\b\b\b                \b\b\b\b\b\b\b\b\b\b\b\b\b\b\b\b 91% - train.tsv\b\b\b\b\b\b\b\b\b\b\b\b\b\b\b\b                \b\b\b\b\b\b\b\b\b\b\b\b\b\b\b\b 95% - train.tsv\b\b\b\b\b\b\b\b\b\b\b\b\b\b\b\b                \b\b\b\b\b\b\b\b\b\b\b\b\b\b\b\b 99% - train.tsv\b\b\b\b\b\b\b\b\b\b\b\b\b\b\b\b                \b\b\b\b\b\b\b\b\b\b\b\b\b\b\b\bEverything is Ok\n",
            "\n",
            "Size:       337809843\n",
            "Compressed: 77912192\n",
            "\n",
            "7-Zip (a) [64] 16.02 : Copyright (c) 1999-2016 Igor Pavlov : 2016-05-21\n",
            "p7zip Version 16.02 (locale=en_US.UTF-8,Utf16=on,HugeFiles=on,64 bits,2 CPUs Intel(R) Xeon(R) CPU @ 2.20GHz (406F0),ASM,AES-NI)\n",
            "\n",
            "Scanning the drive for archives:\n",
            "  0M Scan\b\b\b\b\b\b\b\b\b         \b\b\b\b\b\b\b\b\b1 file, 35617013 bytes (34 MiB)\n",
            "\n",
            "Extracting archive: test.tsv.7z\n",
            "--\n",
            "Path = test.tsv.7z\n",
            "Type = 7z\n",
            "Physical Size = 35617013\n",
            "Headers Size = 122\n",
            "Method = LZMA2:24\n",
            "Solid = -\n",
            "Blocks = 1\n",
            "\n",
            "  0%\b\b\b\b    \b\b\b\b  8% - test.tsv\b\b\b\b\b\b\b\b\b\b\b\b\b\b\b               \b\b\b\b\b\b\b\b\b\b\b\b\b\b\b 16% - test.tsv\b\b\b\b\b\b\b\b\b\b\b\b\b\b\b               \b\b\b\b\b\b\b\b\b\b\b\b\b\b\b 24% - test.tsv\b\b\b\b\b\b\b\b\b\b\b\b\b\b\b               \b\b\b\b\b\b\b\b\b\b\b\b\b\b\b 32% - test.tsv\b\b\b\b\b\b\b\b\b\b\b\b\b\b\b               \b\b\b\b\b\b\b\b\b\b\b\b\b\b\b 40% - test.tsv\b\b\b\b\b\b\b\b\b\b\b\b\b\b\b               \b\b\b\b\b\b\b\b\b\b\b\b\b\b\b 48% - test.tsv\b\b\b\b\b\b\b\b\b\b\b\b\b\b\b               \b\b\b\b\b\b\b\b\b\b\b\b\b\b\b 57% - test.tsv\b\b\b\b\b\b\b\b\b\b\b\b\b\b\b               \b\b\b\b\b\b\b\b\b\b\b\b\b\b\b 65% - test.tsv\b\b\b\b\b\b\b\b\b\b\b\b\b\b\b               \b\b\b\b\b\b\b\b\b\b\b\b\b\b\b 73% - test.tsv\b\b\b\b\b\b\b\b\b\b\b\b\b\b\b               \b\b\b\b\b\b\b\b\b\b\b\b\b\b\b 81% - test.tsv\b\b\b\b\b\b\b\b\b\b\b\b\b\b\b               \b\b\b\b\b\b\b\b\b\b\b\b\b\b\b 89% - test.tsv\b\b\b\b\b\b\b\b\b\b\b\b\b\b\b               \b\b\b\b\b\b\b\b\b\b\b\b\b\b\b 97% - test.tsv\b\b\b\b\b\b\b\b\b\b\b\b\b\b\b               \b\b\b\b\b\b\b\b\b\b\b\b\b\b\bEverything is Ok\n",
            "\n",
            "Size:       154222160\n",
            "Compressed: 35617013\n"
          ]
        },
        {
          "output_type": "execute_result",
          "data": {
            "text/plain": [
              ""
            ]
          },
          "metadata": {},
          "execution_count": 1
        }
      ]
    },
    {
      "cell_type": "markdown",
      "metadata": {
        "id": "shMGsiJFXtPB"
      },
      "source": [
        "### Import packages"
      ]
    },
    {
      "cell_type": "code",
      "metadata": {
        "id": "tUcz236VoPML"
      },
      "source": [
        "import numpy as np\n",
        "import pandas as pd\n",
        "import matplotlib.pyplot as plt"
      ],
      "execution_count": null,
      "outputs": []
    },
    {
      "cell_type": "markdown",
      "metadata": {
        "id": "PrDpREyLXoJ2"
      },
      "source": [
        "### Load train and test datasets"
      ]
    },
    {
      "cell_type": "code",
      "metadata": {
        "id": "iB1rir0_vEo1"
      },
      "source": [
        "df_train = pd.read_csv(\"train.tsv\", sep='\\t')\n",
        "df_test = pd.read_csv(\"test.tsv\", sep='\\t')"
      ],
      "execution_count": null,
      "outputs": []
    },
    {
      "cell_type": "code",
      "metadata": {
        "id": "Ogxiq8nQu3C-"
      },
      "source": [
        ""
      ],
      "execution_count": null,
      "outputs": []
    },
    {
      "cell_type": "markdown",
      "metadata": {
        "id": "aGMlaaECXrHa"
      },
      "source": [
        "### Functions"
      ]
    },
    {
      "cell_type": "code",
      "metadata": {
        "id": "7HE3wNuPAntI"
      },
      "source": [
        "def describe_df(df):\n",
        "  for col in df.columns:\n",
        "    print(col)\n",
        "    print(df[col].describe())\n",
        "    print(\"null/nan count: {}\".format(len(df) - len(df[col].dropna())))\n",
        "    print(\"\\n\")"
      ],
      "execution_count": null,
      "outputs": []
    },
    {
      "cell_type": "code",
      "metadata": {
        "id": "GnbTLO4ZdTdJ"
      },
      "source": [
        "def extract_sub_category(df):\n",
        "  df[\"temp\"] = df[\"category_name\"].apply(lambda x: str(x).lower().split('/'))\n",
        "  max_categories = df[\"temp\"].apply(lambda x: len(x)).max()\n",
        "  new_cols = []\n",
        "  for i in range(max_categories):\n",
        "    new_col = \"category_{}\".format(i+1)\n",
        "    df[new_col] = df[\"temp\"].apply(lambda x: x[i] if len(x) >= (i+1) else None)\n",
        "    new_cols.append(new_col)\n",
        "\n",
        "  df = df.drop(\"temp\", axis=1)\n",
        "  return df, new_cols"
      ],
      "execution_count": null,
      "outputs": []
    },
    {
      "cell_type": "markdown",
      "metadata": {
        "id": "w6FOPLt6X5gE"
      },
      "source": [
        "### Describe datasets"
      ]
    },
    {
      "cell_type": "markdown",
      "metadata": {
        "id": "Fp-81EVlX-_b"
      },
      "source": [
        "##### Train"
      ]
    },
    {
      "cell_type": "code",
      "metadata": {
        "colab": {
          "base_uri": "https://localhost:8080/"
        },
        "id": "xMeGl9T7Xfl7",
        "outputId": "644ca4b6-6602-4576-b8a1-598eab7177ca"
      },
      "source": [
        "describe_df(df_train)"
      ],
      "execution_count": null,
      "outputs": [
        {
          "output_type": "stream",
          "name": "stdout",
          "text": [
            "train_id\n",
            "count    1.482535e+06\n",
            "mean     7.412670e+05\n",
            "std      4.279711e+05\n",
            "min      0.000000e+00\n",
            "25%      3.706335e+05\n",
            "50%      7.412670e+05\n",
            "75%      1.111900e+06\n",
            "max      1.482534e+06\n",
            "Name: train_id, dtype: float64\n",
            "null/nan count: 0\n",
            "\n",
            "\n",
            "name\n",
            "count     1482535\n",
            "unique    1225273\n",
            "top        Bundle\n",
            "freq         2232\n",
            "Name: name, dtype: object\n",
            "null/nan count: 0\n",
            "\n",
            "\n",
            "item_condition_id\n",
            "count    1.482535e+06\n",
            "mean     1.907380e+00\n",
            "std      9.031586e-01\n",
            "min      1.000000e+00\n",
            "25%      1.000000e+00\n",
            "50%      2.000000e+00\n",
            "75%      3.000000e+00\n",
            "max      5.000000e+00\n",
            "Name: item_condition_id, dtype: float64\n",
            "null/nan count: 0\n",
            "\n",
            "\n",
            "category_name\n",
            "count                                            1476208\n",
            "unique                                              1287\n",
            "top       Women/Athletic Apparel/Pants, Tights, Leggings\n",
            "freq                                               60177\n",
            "Name: category_name, dtype: object\n",
            "null/nan count: 6327\n",
            "\n",
            "\n",
            "brand_name\n",
            "count     849853\n",
            "unique      4809\n",
            "top         PINK\n",
            "freq       54088\n",
            "Name: brand_name, dtype: object\n",
            "null/nan count: 632682\n",
            "\n",
            "\n",
            "price\n",
            "count    1.482535e+06\n",
            "mean     2.673752e+01\n",
            "std      3.858607e+01\n",
            "min      0.000000e+00\n",
            "25%      1.000000e+01\n",
            "50%      1.700000e+01\n",
            "75%      2.900000e+01\n",
            "max      2.009000e+03\n",
            "Name: price, dtype: float64\n",
            "null/nan count: 0\n",
            "\n",
            "\n",
            "shipping\n",
            "count    1.482535e+06\n",
            "mean     4.472744e-01\n",
            "std      4.972124e-01\n",
            "min      0.000000e+00\n",
            "25%      0.000000e+00\n",
            "50%      0.000000e+00\n",
            "75%      1.000000e+00\n",
            "max      1.000000e+00\n",
            "Name: shipping, dtype: float64\n",
            "null/nan count: 0\n",
            "\n",
            "\n",
            "item_description\n",
            "count                1482531\n",
            "unique               1281426\n",
            "top       No description yet\n",
            "freq                   82489\n",
            "Name: item_description, dtype: object\n",
            "null/nan count: 4\n",
            "\n",
            "\n"
          ]
        }
      ]
    },
    {
      "cell_type": "markdown",
      "metadata": {
        "id": "dFYbImHAX7Zt"
      },
      "source": [
        "##### Test"
      ]
    },
    {
      "cell_type": "code",
      "metadata": {
        "colab": {
          "base_uri": "https://localhost:8080/"
        },
        "id": "07fXeIP0Xhg7",
        "outputId": "7f393f4e-c847-4e15-c234-567a63ebe91f"
      },
      "source": [
        "describe_df(df_test)"
      ],
      "execution_count": null,
      "outputs": [
        {
          "output_type": "stream",
          "name": "stdout",
          "text": [
            "test_id\n",
            "count    693359.000000\n",
            "mean     346679.000000\n",
            "std      200155.646984\n",
            "min           0.000000\n",
            "25%      173339.500000\n",
            "50%      346679.000000\n",
            "75%      520018.500000\n",
            "max      693358.000000\n",
            "Name: test_id, dtype: float64\n",
            "null/nan count: 0\n",
            "\n",
            "\n",
            "name\n",
            "count     693359\n",
            "unique    601117\n",
            "top       Bundle\n",
            "freq        1111\n",
            "Name: name, dtype: object\n",
            "null/nan count: 0\n",
            "\n",
            "\n",
            "item_condition_id\n",
            "count    693359.000000\n",
            "mean          1.906102\n",
            "std           0.903378\n",
            "min           1.000000\n",
            "25%           1.000000\n",
            "50%           2.000000\n",
            "75%           3.000000\n",
            "max           5.000000\n",
            "Name: item_condition_id, dtype: float64\n",
            "null/nan count: 0\n",
            "\n",
            "\n",
            "category_name\n",
            "count                                             690301\n",
            "unique                                              1223\n",
            "top       Women/Athletic Apparel/Pants, Tights, Leggings\n",
            "freq                                               27900\n",
            "Name: category_name, dtype: object\n",
            "null/nan count: 3058\n",
            "\n",
            "\n",
            "brand_name\n",
            "count     397834\n",
            "unique      3900\n",
            "top         Nike\n",
            "freq       25234\n",
            "Name: brand_name, dtype: object\n",
            "null/nan count: 295525\n",
            "\n",
            "\n",
            "shipping\n",
            "count    693359.000000\n",
            "mean          0.447719\n",
            "std           0.497260\n",
            "min           0.000000\n",
            "25%           0.000000\n",
            "50%           0.000000\n",
            "75%           1.000000\n",
            "max           1.000000\n",
            "Name: shipping, dtype: float64\n",
            "null/nan count: 0\n",
            "\n",
            "\n",
            "item_description\n",
            "count                 693359\n",
            "unique                609555\n",
            "top       No description yet\n",
            "freq                   38503\n",
            "Name: item_description, dtype: object\n",
            "null/nan count: 0\n",
            "\n",
            "\n"
          ]
        }
      ]
    },
    {
      "cell_type": "markdown",
      "metadata": {
        "id": "hbiSRdQ5YBpb"
      },
      "source": [
        "##### Unique sub categories"
      ]
    },
    {
      "cell_type": "code",
      "metadata": {
        "colab": {
          "base_uri": "https://localhost:8080/"
        },
        "id": "DMZB5Q1mAuja",
        "outputId": "b3e050b3-44a0-4a3c-e279-d145e57f47c4"
      },
      "source": [
        "df = pd.concat([df_train, df_test])\n",
        "unique_categories = set(df[\"category_name\"].apply(lambda x: str(x)).unique())\n",
        "sub_categories = set()\n",
        "for category in unique_categories:\n",
        "  sub_categories = sub_categories.union(set([x.lower() for x in category.split('/')]))\n",
        "\n",
        "sub_categories = list(sub_categories)\n",
        "sub_categories.sort()\n",
        "print(\"Category count: {}\".format(len(unique_categories)))\n",
        "print(\"Sub category count: {}\\n\".format(len(sub_categories)))\n",
        "for c in sub_categories[0:10]:\n",
        "  print(c)"
      ],
      "execution_count": null,
      "outputs": [
        {
          "output_type": "stream",
          "name": "stdout",
          "text": [
            "Category count: 1311\n",
            "Sub category count: 961\n",
            "\n",
            "100 years or older\n",
            "50 to 75 years\n",
            "75 to 100 years\n",
            "a-line\n",
            "above knee, mini\n",
            "accessories\n",
            "accessory\n",
            "aceo\n",
            "action figure\n",
            "action figures & statues\n"
          ]
        }
      ]
    },
    {
      "cell_type": "code",
      "metadata": {
        "colab": {
          "base_uri": "https://localhost:8080/"
        },
        "id": "gcv_vxTSTX61",
        "outputId": "679b6c5b-649b-4f36-cc5b-e82ee38ba969"
      },
      "source": [
        "for item_description in df[\"item_description\"][0:10]:\n",
        "  print(item_description)"
      ],
      "execution_count": null,
      "outputs": [
        {
          "output_type": "stream",
          "name": "stdout",
          "text": [
            "No description yet\n",
            "This keyboard is in great condition and works like it came out of the box. All of the ports are tested and work perfectly. The lights are customizable via the Razer Synapse app on your PC.\n",
            "Adorable top with a hint of lace and a key hole in the back! The pale pink is a 1X, and I also have a 3X available in white!\n",
            "New with tags. Leather horses. Retail for [rm] each. Stand about a foot high. They are being sold as a pair. Any questions please ask. Free shipping. Just got out of storage\n",
            "Complete with certificate of authenticity\n",
            "Banana republic bottoms, Candies skirt with matching blazer,Amy Byers suit, Loft bottoms and cami top.\n",
            "Size small but straps slightly shortened to fit xs, besides that, perfect condition\n",
            "You get three pairs of Sophie cheer shorts size small and medium girls and two sports bra/boy shorts spandex matching sets in small and medium girls. All items total retail for [rm] in store and you can take him today for less than the price of one item at the store!)\n",
            "Girls Size small Plus green. Three shorts total.\n",
            "I realized his pants are on backwards after the picture. They were very dirty so I hand washed them. He has a stuffed body and painted porcelain head, hands and feet. Back before clowns were too scary. 9\" tall. No chips or cracks but minor paint loss in a few places. Clown Circus Doll Collectible\n"
          ]
        }
      ]
    },
    {
      "cell_type": "markdown",
      "metadata": {
        "id": "eNZqBJbxdKxw"
      },
      "source": [
        "##### Graphs"
      ]
    },
    {
      "cell_type": "code",
      "metadata": {
        "id": "zXsm_8Y7dvqO",
        "colab": {
          "base_uri": "https://localhost:8080/",
          "height": 295
        },
        "outputId": "62e4a16c-4316-45f5-d100-4a865a5de326"
      },
      "source": [
        "df[\"price\"].plot.hist(grid=True, bins=100)\n",
        "plt.title('Price distribution')\n",
        "plt.xlabel('Price')\n",
        "plt.ylabel('Count')\n",
        "plt.grid(axis='y')"
      ],
      "execution_count": null,
      "outputs": [
        {
          "output_type": "display_data",
          "data": {
            "image/png": "[encoded data removed]",
            "text/plain": [
              "<Figure size 432x288 with 1 Axes>"
            ]
          },
          "metadata": {
            "needs_background": "light"
          }
        }
      ]
    },
    {
      "cell_type": "code",
      "metadata": {
        "colab": {
          "base_uri": "https://localhost:8080/",
          "height": 279
        },
        "id": "PvE1z-UdXgSR",
        "outputId": "c17cb728-b933-48ef-f331-d54b8c1e48c0"
      },
      "source": [
        "df_category_freq_by_avg_price = df[[\"category_name\", \"price\"]].groupby(\"category_name\").agg(avg_price=pd.NamedAgg(column=\"price\", aggfunc=\"mean\"), frequency=pd.NamedAgg(column=\"category_name\", aggfunc=\"count\"))\n",
        "df_category_freq_by_avg_price.plot.scatter(x=\"frequency\", y=\"avg_price\");"
      ],
      "execution_count": null,
      "outputs": [
        {
          "output_type": "display_data",
          "data": {
            "image/png": "[encoded data removed]",
            "text/plain": [
              "<Figure size 432x288 with 1 Axes>"
            ]
          },
          "metadata": {
            "needs_background": "light"
          }
        }
      ]
    },
    {
      "cell_type": "code",
      "metadata": {
        "id": "MnfPEO30X4o4"
      },
      "source": [
        "df, new_cols = extract_sub_category(df)"
      ],
      "execution_count": null,
      "outputs": []
    },
    {
      "cell_type": "code",
      "metadata": {
        "colab": {
          "base_uri": "https://localhost:8080/"
        },
        "id": "xGn5aSOfey9d",
        "outputId": "58f0688b-c266-44de-dfa0-c1234c819b9e"
      },
      "source": [
        "total_count = len(df)\n",
        "for sub_category in sub_categories:\n",
        "  df[sub_category] = np.logical_or.reduce([sub_category == df[col] for col in new_cols])\n",
        "  print(\"P({}) = {}\".format(sub_category, len(df[df[sub_category] == True]) / total_count))"
      ],
      "execution_count": null,
      "outputs": [
        {
          "output_type": "stream",
          "name": "stdout",
          "text": [
            "P(100 years or older) = 8.73204301312472e-05\n",
            "P(50 to 75 years) = 5.698807019091923e-05\n",
            "P(75 to 100 years) = 2.9872778729110887e-05\n",
            "P(a-line) = 0.000507837238394885\n",
            "P(above knee, mini) = 0.013595331390223972\n",
            "P(accessories) = 0.012386632804723024\n",
            "P(accessory) = 1.9761992082334892e-05\n",
            "P(aceo) = 4.5958121121709056e-07\n",
            "P(action figure) = 0.0035746226608465302\n",
            "P(action figures & statues) = 0.008419987370708315\n",
            "P(action, adventure) = 8.27246180190763e-06\n",
            "P(activity centers & entertainers) = 1.3327855125295626e-05\n",
            "P(advertisement) = 1.8383248448683623e-06\n",
            "P(afghan) = 5.974555745822177e-06\n",
            "P(air conditioners) = 2.6655710250591252e-05\n",
            "P(air fresheners) = 0.00029505113760137214\n",
            "P(air purifiers) = 2.1140735715986164e-05\n",
            "P(album) = 9.191624224341811e-07\n",
            "P(all other sports) = 3.768565931980142e-05\n",
            "P(amigurumi) = 1.3787436336512716e-06\n",
            "P(amplifiers & effects) = 3.4928172052498884e-05\n",
            "P(animal) = 0.00017372169784006023\n",
            "P(animals) = 9.191624224341811e-07\n",
            "P(animation) = 0.0020235360729888496\n",
            "P(antique) = 0.004089813198620888\n",
            "P(apparel) = 0.0019913653882036534\n",
            "P(apron) = 3.676649689736724e-05\n",
            "P(area rugs & pads) = 0.00014706598758946896\n",
            "P(art) = 0.0004991051953817604\n",
            "P(art doll) = 5.514974534605086e-06\n",
            "P(artist bears) = 4.5958121121709056e-07\n",
            "P(arts & crafts) = 0.004833875179581358\n",
            "P(arts & photography) = 0.00013511687609782462\n",
            "P(artwork) = 0.0008465485910618808\n",
            "P(asymmetrical) = 7.812880590690539e-05\n",
            "P(asymmetrical hem) = 0.002244135054373053\n",
            "P(athletic) = 0.018242157016839976\n",
            "P(athletic apparel) = 0.0905793204999876\n",
            "P(athletic training) = 0.00020543280141403948\n",
            "P(automotive) = 0.0016825268142657685\n",
            "P(automotive enthusiast merchandise) = 1.4706598758946898e-05\n",
            "P(baby) = 0.00028034453884242524\n",
            "P(baby & child care) = 0.00010524409736871373\n",
            "P(baby & toddler toys) = 0.0013589816415689366\n",
            "P(baby gyms & playmats) = 0.00011535488401548972\n",
            "P(baby seats) = 0.00014660640637825188\n",
            "P(backpack) = 0.00011489530280427264\n",
            "P(backpack style) = 0.0030814920212105922\n",
            "P(backpacks & carriers) = 0.001314861845292096\n",
            "P(backpacks, bags & briefcases) = 0.0011861791061513107\n",
            "P(badminton) = 1.3787436336512716e-06\n",
            "P(baggy, loose) = 3.768565931980142e-05\n",
            "P(bags & cases) = 0.00034652423325768624\n",
            "P(bags and purses) = 0.004255722015870258\n",
            "P(baguette) = 4.595812112170905e-05\n",
            "P(bakeware) = 0.0008359782232038877\n",
            "P(ballet) = 0.0004016739786037371\n",
            "P(band & orchestra) = 7.81288059069054e-06\n",
            "P(baseball) = 2.619612903937416e-05\n",
            "P(baseball & softball) = 0.00043430424460015057\n",
            "P(basic supplies) = 0.00023162893045341364\n",
            "P(basket) = 1.2868273914078535e-05\n",
            "P(basketball) = 8.961833618733266e-05\n",
            "P(baskets) = 0.00018153457843075077\n",
            "P(baskets & bins) = 0.00015350012454650824\n",
            "P(bass guitars) = 2.2979060560854525e-06\n",
            "P(bath) = 0.004157831217881018\n",
            "P(bath & body) = 0.00518269731889513\n",
            "P(bath linen sets) = 7.81288059069054e-06\n",
            "P(bath rugs) = 1.7464086026249442e-05\n",
            "P(bathing & skin care) = 0.0005000243578041945\n",
            "P(bathing accessories) = 0.00022473521228515728\n",
            "P(bathing tubs & seats) = 0.00010478451615749665\n",
            "P(bathroom) = 4.5958121121709056e-07\n",
            "P(bathroom accessories) = 0.0006015918054831715\n",
            "P(bathroom furniture) = 9.191624224341811e-07\n",
            "P(bathroom furniture sets) = 2.757487267302543e-06\n",
            "P(bathroom safety) = 5.055393323387996e-06\n",
            "P(bathroom shelves) = 9.191624224341811e-07\n",
            "P(bathroom storage & organization) = 2.527696661693998e-05\n",
            "P(batteries) = 0.00016682797967180387\n",
            "P(beach accessories) = 0.0006604182005189591\n",
            "P(bead) = 0.00014890431243433732\n",
            "P(beading) = 1.3787436336512716e-06\n",
            "P(beads) = 7.353299379473449e-06\n",
            "P(bear) = 4.5958121121709056e-07\n",
            "P(beauty) = 0.14021501047385582\n",
            "P(bed) = 5.974555745822177e-06\n",
            "P(bed in a bag) = 5.974555745822177e-06\n",
            "P(bed pillows) = 8.318419923029339e-05\n",
            "P(bedding) = 0.0037956812234419507\n",
            "P(bedroom) = 4.5958121121709056e-07\n",
            "P(bedroom furniture) = 2.3438641772071617e-05\n",
            "P(bedspreads & coverlets) = 2.7574872673025433e-05\n",
            "P(belt) = 7.353299379473449e-06\n",
            "P(belts) = 0.0017886900740569163\n",
            "P(bicycle child seats & trailers) = 9.191624224341811e-07\n",
            "P(bike & skate) = 0.00020589238262525657\n",
            "P(binoculars & telescopes) = 4.0443146587103965e-05\n",
            "P(biographies & memoirs) = 7.858838711812248e-05\n",
            "P(biography) = 8.27246180190763e-06\n",
            "P(birthday) = 2.8953616306676705e-05\n",
            "P(blanket) = 1.0110786646775991e-05\n",
            "P(blankets & throws) = 0.0011356251729174307\n",
            "P(blazer) = 0.0009021579176191487\n",
            "P(blazers & sport coats) = 4.6877283544143235e-05\n",
            "P(block) = 1.0110786646775991e-05\n",
            "P(blouse) = 0.01370471171849364\n",
            "P(blu-ray) = 0.0014674428074161702\n",
            "P(board shorts) = 9.467372951072065e-05\n",
            "P(board, surf) = 3.079194115154507e-05\n",
            "P(boating) = 5.974555745822177e-06\n",
            "P(body) = 0.007218182503375624\n",
            "P(bomber) = 0.00019256452749996094\n",
            "P(book) = 0.0014320550541524542\n",
            "P(bookmark) = 1.0570367857993082e-05\n",
            "P(books) = 0.005290239322319929\n",
            "P(books and zines) = 3.354942841884761e-05\n",
            "P(boot cut) = 0.004850879684396391\n",
            "P(boots) = 0.01355764573090417\n",
            "P(bottle-feeding) = 0.0013134831016584447\n",
            "P(bottles) = 0.0001452276627446006\n",
            "P(bottoms) = 0.005162935326812795\n",
            "P(bouquets) = 1.7923667237466533e-05\n",
            "P(bowl) = 0.00026517835887226125\n",
            "P(bowling) = 4.595812112170905e-06\n",
            "P(bowls) = 3.768565931980142e-05\n",
            "P(box) = 1.4247017547729807e-05\n",
            "P(boxes) = 2.2979060560854525e-06\n",
            "P(boxing & mma) = 9.74312167780232e-05\n",
            "P(boyfriend) = 0.0005423058292361668\n",
            "P(boys) = 0.0007095933901191878\n",
            "P(boys (4+)) = 0.009947175735582708\n",
            "P(boys 0-24 mos) = 0.010318976935457334\n",
            "P(boys 2t-5t) = 0.00975553037050518\n",
            "P(bracelet) = 0.00021646275048324963\n",
            "P(bracelets) = 0.009728415079043373\n",
            "P(bras) = 0.014408330552867006\n",
            "P(brass instruments) = 1.3787436336512717e-05\n",
            "P(breastfeeding) = 0.00042557220158702586\n",
            "P(breastfeeding pillows & stools) = 0.00028907658185554994\n",
            "P(brooch) = 0.00024633552921236054\n",
            "P(brushes) = 3.6766496897367245e-06\n",
            "P(brushes & applicators) = 0.0017068846184602742\n",
            "P(bubble) = 7.353299379473449e-06\n",
            "P(bubble bath) = 9.19162422434181e-06\n",
            "P(buckle) = 2.619612903937416e-05\n",
            "P(building toys) = 0.0014614682516703478\n",
            "P(burning) = 1.8383248448683623e-06\n",
            "P(business & money) = 0.00011029949069210173\n",
            "P(butter dish) = 1.8383248448683623e-06\n",
            "P(button) = 8.732043013124721e-06\n",
            "P(button down shirt) = 0.002390281879540088\n",
            "P(button-front) = 0.001339679230697819\n",
            "P(cabinet locks & straps) = 3.676649689736724e-05\n",
            "P(cables & adapters) = 0.0022813611324816376\n",
            "P(cabochon) = 3.125152236276216e-05\n",
            "P(cage) = 0.00012868273914078536\n",
            "P(cake toppers) = 2.573654782815707e-05\n",
            "P(calendar) = 4.595812112170905e-06\n",
            "P(calendars) = 0.0003681245501848895\n",
            "P(camcorders) = 8.042671196299085e-05\n",
            "P(camera) = 0.00014292975668851515\n",
            "P(camera & photo accessories) = 0.0007164871082874441\n",
            "P(cameras & photography) = 0.0026977417098443214\n",
            "P(candle holder) = 2.527696661693998e-05\n",
            "P(candles) = 4.411979627684069e-05\n",
            "P(candles & holders) = 0.0015189159030724842\n",
            "P(candles & home scents) = 0.002008829474229903\n",
            "P(cape) = 3.86048217422356e-05\n",
            "P(capri, cropped) = 0.0009334094399819109\n",
            "P(capris, cropped) = 0.0011733108322372321\n",
            "P(car) = 0.0004081081155607764\n",
            "P(car audio, video & gps) = 0.0003506604641586401\n",
            "P(car care) = 2.9872778729110887e-05\n",
            "P(car electronics & accessories) = 0.00021048819473742746\n",
            "P(car seats) = 0.0001999178268794344\n",
            "P(car seats & accessories) = 0.0006314645842122824\n",
            "P(car security & convenience) = 5.514974534605086e-06\n",
            "P(car speakers & systems) = 2.2979060560854527e-05\n",
            "P(car stereos & components) = 8.640126770881302e-05\n",
            "P(car subwoofers) = 1.4247017547729807e-05\n",
            "P(car video) = 1.9761992082334892e-05\n",
            "P(cardigan) = 0.005683181257910542\n",
            "P(cards) = 0.0002766678891526885\n",
            "P(cargo) = 0.000461879117273176\n",
            "P(carpenter) = 3.814524053101851e-05\n",
            "P(carpenter, utility) = 2.2979060560854525e-06\n",
            "P(carving) = 1.3787436336512716e-06\n",
            "P(case) = 8.27246180190763e-06\n",
            "P(cases, covers & skins) = 0.01658444758797993\n",
            "P(casserole) = 3.6766496897367245e-06\n",
            "P(casual pants) = 0.0018397035885020134\n",
            "P(casual shorts) = 0.00044395545003570944\n",
            "P(cd) = 0.0010473855803637493\n",
            "P(cell phone accessories) = 0.006836270516854222\n",
            "P(cell phones & accessories) = 0.035969583077116805\n",
            "P(cell phones & smartphones) = 0.005882179922367542\n",
            "P(ceramic) = 0.0004549853991049196\n",
            "P(ceramics and pottery) = 4.274105264318942e-05\n",
            "P(chain) = 1.8383248448683623e-06\n",
            "P(chair) = 2.2979060560854525e-06\n",
            "P(change purse) = 0.00014936389364555443\n",
            "P(changing kits) = 1.8383248448683623e-06\n",
            "P(changing pads & covers) = 6.985634410499777e-05\n",
            "P(chargers & cradles) = 0.001437110447475842\n",
            "P(charm) = 0.0006967251162051093\n",
            "P(child friendly) = 4.5958121121709056e-07\n",
            "P(children) = 0.0009292732090809571\n",
            "P(children's books) = 0.0009467372951072065\n",
            "P(christian books & bibles) = 0.0001452276627446006\n",
            "P(christmas) = 0.00145641285834696\n",
            "P(classic, straight leg) = 0.0012064006794448626\n",
            "P(cleaning) = 9.191624224341811e-07\n",
            "P(cleaning supplies) = 0.0016057767519925144\n",
            "P(cleansers) = 0.0004986456141705432\n",
            "P(cleats) = 0.00032722182238656845\n",
            "P(clock) = 5.514974534605086e-06\n",
            "P(clocks) = 0.00020497322020282237\n",
            "P(cloth diapers) = 0.0004995647765929774\n",
            "P(clothing) = 0.005675827958531068\n",
            "P(clothing & closet storage) = 0.00029734904365745756\n",
            "P(clutch) = 0.0002274926995524598\n",
            "P(coaster) = 2.619612903937416e-05\n",
            "P(coasters) = 1.3787436336512716e-06\n",
            "P(coats & jackets) = 0.01710055728817672\n",
            "P(coffee & tea accessories) = 0.006744354274610804\n",
            "P(collages) = 1.8383248448683623e-06\n",
            "P(collar) = 7.123508773864903e-05\n",
            "P(collared) = 0.0003888057046896586\n",
            "P(collectibles) = 0.00726781727418707\n",
            "P(comforters & sets) = 0.0003984569101252175\n",
            "P(comic) = 2.2519479349637436e-05\n",
            "P(comics) = 0.0007394661688482987\n",
            "P(compact) = 3.217068478519634e-06\n",
            "P(competitive swimwear) = 1.8383248448683623e-06\n",
            "P(components & parts) = 0.0006521457387170514\n",
            "P(computer) = 4.5958121121709056e-07\n",
            "P(computers & tablets) = 0.005012652270744806\n",
            "P(conditioners) = 0.00030745983030423357\n",
            "P(consoles) = 0.0028562972277142175\n",
            "P(cookbook) = 7.583089985081994e-05\n",
            "P(cookware) = 0.0003676649689736724\n",
            "P(corduroys) = 4.6417702332926144e-05\n",
            "P(corset) = 0.00043430424460015057\n",
            "P(cosmetic bags) = 0.0025653823210137995\n",
            "P(costume) = 0.001553844075124983\n",
            "P(cotton & swabs) = 1.8383248448683623e-06\n",
            "P(cover-ups) = 0.0006277879345225457\n",
            "P(cowl neck) = 0.00039523984164669784\n",
            "P(cozy) = 9.191624224341811e-07\n",
            "P(crafting) = 2.8034453884242524e-05\n",
            "P(cream and sugar set) = 1.1489530280427263e-05\n",
            "P(crewneck) = 0.005519570346717257\n",
            "P(crib netting) = 4.5958121121709056e-07\n",
            "P(crochet) = 0.00017326211662884312\n",
            "P(cross stitch) = 2.9872778729110887e-05\n",
            "P(cuff) = 4.5958121121709056e-07\n",
            "P(cuff links) = 1.1489530280427263e-05\n",
            "P(cup) = 0.00026379961523860995\n",
            "P(custom) = 4.457937748805778e-05\n",
            "P(daily & travel items) = 0.007742564665374325\n",
            "P(dance) = 0.0004016739786037371\n",
            "P(day of the dead) = 3.217068478519634e-06\n",
            "P(decorating) = 1.3787436336512716e-06\n",
            "P(decorations) = 0.0002095690323149933\n",
            "P(decorative pillows) = 0.0005873447879354417\n",
            "P(decorative pillows, inserts & covers) = 0.00019532201476726347\n",
            "P(dehumidifiers) = 6.434136957039268e-06\n",
            "P(denim) = 6.709885683769522e-05\n",
            "P(desktops & all-in-ones) = 0.00011489530280427264\n",
            "P(diaper bag) = 2.757487267302543e-06\n",
            "P(diaper bags) = 0.00079139884571583\n",
            "P(diaper pails & refills) = 4.0443146587103965e-05\n",
            "P(diaper stackers & caddies) = 4.136230900953815e-06\n",
            "P(diapering) = 0.0024128013588897252\n",
            "P(digital cameras) = 0.0009246773969687861\n",
            "P(dining & entertaining) = 0.0034813276749694607\n",
            "P(dinnerware set) = 6.434136957039268e-06\n",
            "P(dishes) = 3.217068478519634e-06\n",
            "P(dishwashers) = 4.5958121121709056e-07\n",
            "P(disposable diapers) = 0.0007826668027027052\n",
            "P(dj, electronic music & karaoke) = 5.882639503578759e-05\n",
            "P(dogs) = 0.0017670897571297132\n",
            "P(doll) = 0.0007881817772373103\n",
            "P(doll clothes) = 4.5958121121709056e-07\n",
            "P(doll clothing) = 1.8383248448683623e-06\n",
            "P(dolls & accessories) = 0.009467832532283282\n",
            "P(dolls and miniatures) = 3.217068478519634e-05\n",
            "P(doormats) = 2.2979060560854525e-06\n",
            "P(doorstops) = 4.5958121121709056e-07\n",
            "P(double breasted) = 9.191624224341811e-07\n",
            "P(draft stoppers) = 9.191624224341811e-07\n",
            "P(drawings) = 0.0001461468251670348\n",
            "P(dress) = 8.548210528637884e-05\n",
            "P(dress - flat front) = 5.790723261335341e-05\n",
            "P(dress - pleat) = 1.3787436336512717e-05\n",
            "P(dress pants) = 0.0009067537297313196\n",
            "P(dress shirts) = 0.00029780862486867464\n",
            "P(dress shorts) = 1.5166179970163987e-05\n",
            "P(dress suit) = 1.4247017547729807e-05\n",
            "P(dress up & pretend play) = 0.0007431428185380354\n",
            "P(dresses) = 0.03651005058150811\n",
            "P(drives, storage & media) = 0.00045774288637222217\n",
            "P(drums & percussion) = 3.217068478519634e-05\n",
            "P(dusting) = 9.19162422434181e-06\n",
            "P(duvet covers & sets) = 0.00016223216755963297\n",
            "P(dvd) = 0.005027358869503754\n",
            "P(dvd & blu-ray players) = 0.0001553384493913766\n",
            "P(earrings) = 0.008092765548321747\n",
            "P(easter) = 0.0001654492360381526\n",
            "P(ebook access) = 0.0007123508773864903\n",
            "P(ebook readers) = 0.0013456537864436412\n",
            "P(edge & corner guards) = 9.191624224341811e-07\n",
            "P(education & teaching) = 0.0008658510019329985\n",
            "P(educational) = 9.191624224341811e-07\n",
            "P(electrical safety) = 5.514974534605086e-06\n",
            "P(electronic) = 0.00022473521228515728\n",
            "P(electronics) = 0.08529643447704714\n",
            "P(electronics for kids) = 0.0005138117941407073\n",
            "P(embroidery) = 2.1600316927203255e-05\n",
            "P(engineering & transportation) = 2.2979060560854525e-06\n",
            "P(entertaining) = 1.3787436336512716e-06\n",
            "P(entertainment) = 9.191624224341811e-07\n",
            "P(ephemera) = 4.5958121121709056e-07\n",
            "P(epilators) = 6.250304472552432e-05\n",
            "P(equipment) = 4.136230900953815e-06\n",
            "P(exercise) = 0.005398700488167162\n",
            "P(exterior accessories) = 0.00046463660454047854\n",
            "P(eyes) = 0.01764745892952506\n",
            "P(eyewear) = 0.00019302410871117803\n",
            "P(fabric) = 0.0001300614827744366\n",
            "P(fabric postcard) = 9.191624224341811e-07\n",
            "P(face) = 0.03379990017896092\n",
            "P(family planning tests) = 0.00020267531414673692\n",
            "P(fan shop) = 0.004247909135279568\n",
            "P(fans) = 7.123508773864903e-05\n",
            "P(fantasy) = 3.217068478519634e-06\n",
            "P(fashion dolls apparel) = 1.8383248448683623e-06\n",
            "P(fashion sneakers) = 0.010290482900361874\n",
            "P(favors) = 2.3438641772071617e-05\n",
            "P(feather beds) = 1.8383248448683623e-06\n",
            "P(feeding) = 0.0030419680370459222\n",
            "P(feet) = 0.0002389822298328871\n",
            "P(felted) = 1.8383248448683623e-06\n",
            "P(fiber art) = 9.191624224341811e-07\n",
            "P(fiction) = 5.928597624700468e-05\n",
            "P(figurine) = 0.0009016983364079316\n",
            "P(figurines) = 2.757487267302543e-06\n",
            "P(film photography) = 0.0006627161065750445\n",
            "P(finding) = 7.353299379473449e-06\n",
            "P(fireplaces & accessories) = 1.3787436336512716e-06\n",
            "P(fishing) = 0.0002716124958293005\n",
            "P(fitness accessories) = 0.0028705442452619475\n",
            "P(fitness technology) = 0.0013548454106679828\n",
            "P(fixture) = 1.8383248448683623e-06\n",
            "P(flare) = 0.0005096755632397534\n",
            "P(flashes & flash accessories) = 7.81288059069054e-06\n",
            "P(flats) = 0.003679407177004027\n",
            "P(flatware) = 5.974555745822177e-06\n",
            "P(fleece jacket) = 0.002512990062935051\n",
            "P(flight) = 0.00019256452749996094\n",
            "P(food) = 0.0002518505037469656\n",
            "P(food service equipment & supplies) = 6.066471988065595e-05\n",
            "P(football) = 0.0002706933334068663\n",
            "P(footwear) = 0.0003644479004951528\n",
            "P(formal) = 3.446859084128179e-05\n",
            "P(four button) = 1.3787436336512716e-06\n",
            "P(fragrance) = 0.016468173541542005\n",
            "P(frame) = 1.3787436336512717e-05\n",
            "P(frames) = 9.191624224341811e-07\n",
            "P(freezers & ice makers) = 1.8383248448683623e-06\n",
            "P(full skirt) = 0.00023116934924219653\n",
            "P(full zip) = 0.00209614990436115\n",
            "P(full-length) = 0.0037956812234419507\n",
            "P(furniture) = 0.00013879352578756134\n",
            "P(g-strings & thongs) = 0.0012836103229293338\n",
            "P(gadget) = 1.0110786646775991e-05\n",
            "P(gadgets) = 0.0007550919300296797\n",
            "P(game) = 0.00012086985855009481\n",
            "P(games) = 0.020892561861928935\n",
            "P(garage storage & organization) = 7.81288059069054e-06\n",
            "P(garbage disposals) = 9.191624224341811e-07\n",
            "P(garment steamers) = 4.0902727798321056e-05\n",
            "P(gates & doorways) = 9.6512054355589e-06\n",
            "P(gear) = 0.002026293560256152\n",
            "P(geekery) = 7.629048106203702e-05\n",
            "P(gift sets) = 2.481738540572289e-05\n",
            "P(gift wrap) = 5.3311420501182504e-05\n",
            "P(girls) = 0.0003690437126073237\n",
            "P(girls (4+)) = 0.01037320751838095\n",
            "P(girls 0-24 mos) = 0.012032295690874648\n",
            "P(girls 2t-5t) = 0.012366411231429472\n",
            "P(glass) = 0.0013226747258827866\n",
            "P(glassware) = 0.00010248661010141119\n",
            "P(gloves) = 0.00018796871538779002\n",
            "P(golf) = 0.0005317354613781737\n",
            "P(golf apparel) = 0.00021324568200473002\n",
            "P(golf bags) = 1.2868273914078535e-05\n",
            "P(golf balls) = 8.869917376489848e-05\n",
            "P(golf shoes) = 1.608534239259817e-05\n",
            "P(gps accessories & mounts) = 4.595812112170905e-05\n",
            "P(gps units & equipment) = 0.00012270818339496316\n",
            "P(graphic design) = 7.353299379473449e-06\n",
            "P(grooming) = 7.353299379473449e-06\n",
            "P(grooming & healthcare kits) = 1.5166179970163987e-05\n",
            "P(guest books) = 7.81288059069054e-06\n",
            "P(guitars) = 0.00011811237128279227\n",
            "P(hair) = 0.0008575785401310909\n",
            "P(hair & scalp treatments) = 0.0008529827280189201\n",
            "P(hair accessories) = 0.0035475073693847217\n",
            "P(hair care) = 0.005210731772779372\n",
            "P(hair color) = 0.0004338446633889335\n",
            "P(hair coloring tools) = 2.2979060560854525e-06\n",
            "P(hair loss products) = 7.996713075177375e-05\n",
            "P(hair perms & texturizers) = 4.595812112170905e-06\n",
            "P(hair relaxers) = 1.8383248448683623e-06\n",
            "P(hair styling tools) = 0.002527237080482781\n",
            "P(halloween) = 0.0014807706625414657\n",
            "P(halter) = 0.0009315711151370425\n",
            "P(handbag) = 0.0009007791739854974\n",
            "P(handkerchief) = 2.757487267302543e-06\n",
            "P(handmade) = 0.0207625003791545\n",
            "P(hands & nails) = 0.000492211477213504\n",
            "P(hanukkah) = 1.8383248448683623e-06\n",
            "P(harnesses & leashes) = 3.5387753263715975e-05\n",
            "P(hat) = 9.099707982098393e-05\n",
            "P(hats) = 0.008087250573787142\n",
            "P(hawaiian) = 4.0902727798321056e-05\n",
            "P(headphones) = 0.003142156741091248\n",
            "P(headsets) = 0.0012780953483947288\n",
            "P(health) = 1.7923667237466533e-05\n",
            "P(health & baby care) = 0.00037180119987462624\n",
            "P(health care) = 0.0018433802381917501\n",
            "P(henley) = 6.204346351430722e-05\n",
            "P(highchairs & booster seats) = 6.939676289378067e-05\n",
            "P(hiking & camping) = 0.0013387600682753847\n",
            "P(hip bag) = 9.053749860976684e-05\n",
            "P(historical, military) = 2.757487267302543e-06\n",
            "P(history) = 4.36602150656236e-05\n",
            "P(hobbies) = 0.0019329985743790827\n",
            "P(hobo) = 0.00022197772501785472\n",
            "P(hockey) = 3.9983565375886875e-05\n",
            "P(holiday décor storage) = 1.8383248448683623e-06\n",
            "P(holidays) = 0.00022887144318611109\n",
            "P(home) = 0.04588366896549188\n",
            "P(home appliances) = 0.0017689280819745815\n",
            "P(home audio) = 5.055393323387996e-05\n",
            "P(home bar furniture) = 3.6766496897367245e-06\n",
            "P(home brewing & wine making) = 8.27246180190763e-06\n",
            "P(home decor) = 0.0004632578609068273\n",
            "P(home décor) = 0.01700910062714452\n",
            "P(home décor accents) = 0.008799141869962416\n",
            "P(home entertainment furniture) = 5.974555745822177e-06\n",
            "P(home fragrance) = 0.0033439128928155508\n",
            "P(home office furniture) = 1.884282965990071e-05\n",
            "P(home speakers & subwoofers) = 0.0002513909225357485\n",
            "P(home surveillance) = 0.00010800158463601627\n",
            "P(hooded) = 0.007003558077737243\n",
            "P(hoodie) = 0.002502879276288275\n",
            "P(horror) = 1.8383248448683623e-06\n",
            "P(house) = 9.191624224341811e-07\n",
            "P(household cleaners) = 0.0011186206681023983\n",
            "P(household supplies) = 0.00025460799101426816\n",
            "P(housewares) = 0.001446761652911401\n",
            "P(how to) = 1.0110786646775991e-05\n",
            "P(human figure doll) = 2.2979060560854525e-06\n",
            "P(humidifiers) = 5.3771001712399595e-05\n",
            "P(humidifiers & vaporizers) = 5.285183928996541e-05\n",
            "P(humor) = 1.3787436336512716e-06\n",
            "P(illustrated) = 3.217068478519634e-06\n",
            "P(illustration) = 4.136230900953815e-06\n",
            "P(indoor) = 0.0002775870515751227\n",
            "P(inflatable beds) = 1.2868273914078535e-05\n",
            "P(ink & toner) = 0.00037593743077558005\n",
            "P(instructional) = 1.3787436336512717e-05\n",
            "P(instrument) = 9.6512054355589e-06\n",
            "P(instrument accessories) = 0.00010846116584723337\n",
            "P(interior accessories) = 0.00019945824566821728\n",
            "P(international publications) = 4.5958121121709056e-07\n",
            "P(invitations) = 5.514974534605086e-06\n",
            "P(ipad) = 0.0020580046638301315\n",
            "P(irons & ironing boards) = 3.125152236276216e-05\n",
            "P(jacket) = 0.00011305697795940428\n",
            "P(jackets) = 0.0067190773079938634\n",
            "P(jean jacket) = 0.0012275414151608488\n",
            "P(jeans) = 0.0257696376753647\n",
            "P(jerseys) = 0.0025414840980305105\n",
            "P(jewelry) = 0.04162564904356554\n",
            "P(jewelry boxes & organizers) = 0.001097020351175195\n",
            "P(joggers) = 6.434136957039268e-06\n",
            "P(journal) = 8.27246180190763e-05\n",
            "P(just married) = 2.2979060560854525e-06\n",
            "P(keyboards) = 5.147309565631414e-05\n",
            "P(keychain) = 0.0015198350654949185\n",
            "P(khakis, chinos) = 0.0005308162989557395\n",
            "P(kids) = 0.11585812544177244\n",
            "P(kids' bath) = 3.6766496897367245e-06\n",
            "P(kids' bedding) = 0.00015304054333529116\n",
            "P(kids' flatware) = 1.8383248448683623e-06\n",
            "P(kids' furniture) = 2.1140735715986164e-05\n",
            "P(kids' furniture, décor & storage) = 6.755843804891231e-05\n",
            "P(kids' home store) = 0.00047061116028630074\n",
            "P(kids' room décor) = 0.0002711529146180834\n",
            "P(kitchen) = 1.838324844868362e-05\n",
            "P(kitchen & dining) = 0.0149083549106712\n",
            "P(kitchen & table linens) = 0.0003106768987827532\n",
            "P(kitchen appliances) = 0.000562986983740936\n",
            "P(kitchen knives & cutlery accessories) = 0.00013741478215391006\n",
            "P(kitchen safety) = 3.6766496897367245e-06\n",
            "P(kitchen storage & organization) = 2.1600316927203255e-05\n",
            "P(kitchen utensils & gadgets) = 0.0016351899495104082\n",
            "P(knee-length) = 0.009952690710117312\n",
            "P(knit top) = 0.0022597608155544343\n",
            "P(knitting) = 0.00010983990948088464\n",
            "P(knitting supplies) = 8.686084892003012e-05\n",
            "P(lacrosse) = 5.239225807874832e-05\n",
            "P(lamps& accessories) = 0.0005082968196061022\n",
            "P(lanyard) = 0.0008856129940153335\n",
            "P(laptop) = 3.40090096300647e-05\n",
            "P(laptops & netbooks) = 0.0012165114660916386\n",
            "P(laundry storage & organization) = 4.963477081144578e-05\n",
            "P(learning & education) = 0.0007068359028518852\n",
            "P(leash) = 6.893718168256358e-06\n",
            "P(leather) = 4.825602717779451e-05\n",
            "P(leg warmers) = 8.869917376489848e-05\n",
            "P(leggings) = 0.004559964777695972\n",
            "P(lenses & filters) = 0.00012730399550713408\n",
            "P(lifestyle & cultures) = 0.00011765279007157518\n",
            "P(light) = 1.8383248448683623e-06\n",
            "P(lighting) = 1.838324844868362e-05\n",
            "P(lighting & studio) = 2.8953616306676705e-05\n",
            "P(lights & lighting accessories) = 0.000228411861974894\n",
            "P(lightweight) = 1.1029949069210173e-05\n",
            "P(linen) = 7.399257500595158e-05\n",
            "P(linens) = 4.136230900953815e-06\n",
            "P(lingerie) = 0.0017877709116344823\n",
            "P(lips) = 0.020895319349196237\n",
            "P(literature & fiction) = 0.002111316084331314\n",
            "P(lithographs, etchings & woodcuts) = 7.81288059069054e-06\n",
            "P(live sound & stage) = 1.8383248448683623e-06\n",
            "P(living room furniture) = 3.263026599641343e-05\n",
            "P(loafers & slip-ons) = 0.0036260957565028445\n",
            "P(luggage) = 0.00027391040188538596\n",
            "P(magazines) = 0.00014201059426608098\n",
            "P(magic) = 5.514974534605087e-05\n",
            "P(magnet) = 1.3327855125295626e-05\n",
            "P(magnets) = 2.3438641772071617e-05\n",
            "P(makeup) = 0.08412542155086598\n",
            "P(makeup brushes & tools) = 0.004890863249772277\n",
            "P(makeup palettes) = 0.01286597600802245\n",
            "P(makeup remover) = 0.00029780862486867464\n",
            "P(makeup sets) = 0.004125660533095822\n",
            "P(map) = 9.191624224341811e-07\n",
            "P(maternity) = 0.0022822802949040715\n",
            "P(maternity pillows) = 1.7923667237466533e-05\n",
            "P(mattress pads) = 5.514974534605087e-05\n",
            "P(maxi) = 0.0018360269388122768\n",
            "P(media) = 0.007865732429980505\n",
            "P(medical books) = 0.00023208851166463073\n",
            "P(medical supplies & equipment) = 0.0005855064630905733\n",
            "P(men) = 0.06485472178332216\n",
            "P(men's accessories) = 0.01260217639278384\n",
            "P(men's golf clubs) = 0.00015395970575772533\n",
            "P(messenger & crossbody) = 0.0060140797299868464\n",
            "P(microphones & accessories) = 0.000116733627649141\n",
            "P(microwaves) = 6.434136957039268e-06\n",
            "P(mid-calf) = 0.0006539840635619199\n",
            "P(military) = 0.0004025931410261713\n",
            "P(mini) = 0.0019077216077621427\n",
            "P(miniature) = 4.595812112170905e-06\n",
            "P(mirror) = 9.191624224341811e-07\n",
            "P(mirrors) = 0.0003065406678817994\n",
            "P(mixed media) = 9.19162422434181e-06\n",
            "P(mlb) = 0.0007128104585977075\n",
            "P(monitors) = 0.00015855551786989625\n",
            "P(mopping) = 4.411979627684069e-05\n",
            "P(motorcycle) = 0.0008516039843852688\n",
            "P(motorcycle & powersports) = 7.812880590690539e-05\n",
            "P(mug) = 0.000548280384981989\n",
            "P(mules & clogs) = 0.0006245708660440261\n",
            "P(music) = 0.0005988343182158689\n",
            "P(musical instruments) = 0.0006985634410499776\n",
            "P(nail care) = 5.514974534605086e-06\n",
            "P(nail tools) = 0.0003442263272016008\n",
            "P(nails) = 0.004084757805297501\n",
            "P(nan) = 0.004313169667272395\n",
            "P(nasal aspirators) = 1.7923667237466533e-05\n",
            "P(nba) = 0.00041086560282807896\n",
            "P(ncaa) = 0.0006806397738125111\n",
            "P(necklace) = 0.00027391040188538596\n",
            "P(necklaces) = 0.01329384611566556\n",
            "P(necktie) = 1.8383248448683623e-06\n",
            "P(needlecraft) = 0.00017785792874101404\n",
            "P(needlepoint) = 2.757487267302543e-06\n",
            "P(networking & connectivity) = 0.000218301075328118\n",
            "P(new year's) = 2.757487267302543e-06\n",
            "P(new years) = 1.8383248448683623e-06\n",
            "P(nfl) = 0.0022735482518909467\n",
            "P(nhl) = 0.0001360360385202588\n",
            "P(non-slip bath mats) = 9.191624224341811e-07\n",
            "P(nonfiction) = 2.619612903937416e-05\n",
            "P(notebook) = 5.009435202266287e-05\n",
            "P(novelty) = 2.2979060560854525e-06\n",
            "P(novelty & gag toys) = 0.0001213294397613119\n",
            "P(nursery) = 0.0011425188910856871\n",
            "P(nursery bedding) = 2.757487267302543e-06\n",
            "P(nursery décor) = 0.00012408692702861444\n",
            "P(nursery furniture) = 9.191624224341811e-07\n",
            "P(office) = 1.3787436336512716e-06\n",
            "P(office supplies) = 0.007110640499950825\n",
            "P(oils & fluids) = 1.8383248448683623e-06\n",
            "P(one button) = 6.893718168256358e-06\n",
            "P(one-piece) = 0.002532752055017386\n",
            "P(one-pieces) = 0.00784918750637669\n",
            "P(organization) = 0.0003892652859008757\n",
            "P(origami) = 3.217068478519634e-06\n",
            "P(ornaments) = 3.354942841884761e-05\n",
            "P(other) = 0.05871885303236279\n",
            "P(other accessories) = 2.573654782815707e-05\n",
            "P(other furniture) = 1.1489530280427263e-05\n",
            "P(others) = 0.000964660962344673\n",
            "P(outdoor) = 0.00011581446522670682\n",
            "P(outdoor games) = 0.0002775870515751227\n",
            "P(outdoor safety) = 2.0221573293551983e-05\n",
            "P(outdoors) = 0.0029109873918490513\n",
            "P(outerwear) = 7.353299379473449e-06\n",
            "P(overalls) = 0.00026425919644982703\n",
            "P(oxfords) = 0.000268855008561998\n",
            "P(pacifiers & accessories) = 0.0005289779741108712\n",
            "P(pad) = 4.5958121121709056e-07\n",
            "P(paint, body & trim) = 2.757487267302543e-06\n",
            "P(painting) = 0.00017234295420640895\n",
            "P(paintings) = 0.00015901509908111333\n",
            "P(pant suit) = 0.0002734508206741689\n",
            "P(panties) = 0.005843115519414089\n",
            "P(pants) = 0.006855572927725339\n",
            "P(pants, tights, leggings) = 0.04047853434036768\n",
            "P(paper) = 2.0681154504769073e-05\n",
            "P(paper ephemera) = 0.00010662284100236501\n",
            "P(paper goods) = 0.0042189555189728915\n",
            "P(paper towels) = 3.5387753263715975e-05\n",
            "P(papermaking) = 1.700450481503235e-05\n",
            "P(paperweights) = 2.757487267302543e-06\n",
            "P(parka) = 0.00021324568200473002\n",
            "P(party supplies) = 0.0006323837466347165\n",
            "P(patch) = 0.0005390887607576472\n",
            "P(patchwork) = 1.8383248448683623e-06\n",
            "P(patriotic) = 4.595812112170905e-06\n",
            "P(pattern) = 8.732043013124721e-06\n",
            "P(patterns) = 0.0001314402264080879\n",
            "P(peacoat) = 0.00044349586882449235\n",
            "P(peasant) = 1.1029949069210173e-05\n",
            "P(pendant) = 0.0003515796265810743\n",
            "P(performance parts & accessories) = 1.2408692702861445e-05\n",
            "P(personal care) = 0.003780974624683004\n",
            "P(personalized) = 3.4928172052498884e-05\n",
            "P(pet food) = 4.5958121121709056e-07\n",
            "P(pet lover) = 2.6655710250591252e-05\n",
            "P(pet supplies) = 0.0026531623323562637\n",
            "P(pets) = 0.0001755600226849286\n",
            "P(photo albums & frames) = 0.0005004839390154116\n",
            "P(photographs) = 1.0110786646775991e-05\n",
            "P(photography) = 9.19162422434181e-06\n",
            "P(pillow) = 1.0110786646775991e-05\n",
            "P(pillows) = 9.19162422434181e-06\n",
            "P(pillows & stools) = 6.893718168256358e-06\n",
            "P(pin) = 0.00015258096212407405\n",
            "P(pinback button) = 0.00019624117718969767\n",
            "P(pitcher) = 1.8383248448683623e-06\n",
            "P(planter) = 2.1600316927203255e-05\n",
            "P(planters) = 3.6766496897367245e-06\n",
            "P(plate) = 2.8034453884242524e-05\n",
            "P(platter) = 1.3787436336512716e-06\n",
            "P(playard bedding) = 1.8383248448683623e-06\n",
            "P(playards) = 2.8034453884242524e-05\n",
            "P(pleated) = 0.00032860056602021975\n",
            "P(plush) = 5.974555745822177e-06\n",
            "P(poetry) = 2.619612903937416e-05\n",
            "P(politics & social sciences) = 2.9872778729110887e-05\n",
            "P(polo) = 2.6655710250591252e-05\n",
            "P(polo shirt) = 0.0004503895869927487\n",
            "P(polo, rugby) = 0.0015657931866166275\n",
            "P(poncho) = 0.00028861700064433286\n",
            "P(porcelain) = 8.318419923029339e-05\n",
            "P(portable audio & accessories) = 0.0013594412227801538\n",
            "P(portraits) = 4.5958121121709056e-07\n",
            "P(postcard) = 1.2868273914078535e-05\n",
            "P(poster) = 1.5166179970163987e-05\n",
            "P(posters & prints) = 0.0005395483419688643\n",
            "P(pot holder) = 1.3787436336512716e-06\n",
            "P(potties & seats) = 6.34222071479585e-05\n",
            "P(potty training) = 9.972912283410864e-05\n",
            "P(pouch) = 9.651205435558901e-05\n",
            "P(powders & lotions) = 1.0570367857993082e-05\n",
            "P(prams) = 3.6766496897367245e-06\n",
            "P(pregnancy & maternity) = 0.0006061876175953424\n",
            "P(prenatal monitoring devices) = 6.80180192601294e-05\n",
            "P(presentation) = 4.136230900953815e-06\n",
            "P(pretend) = 4.5958121121709056e-07\n",
            "P(price guides & publications) = 9.191624224341811e-07\n",
            "P(primitive) = 9.191624224341811e-07\n",
            "P(print) = 6.112430109187304e-05\n",
            "P(printers, scanners & supplies) = 0.00020635196383647365\n",
            "P(printmaking) = 2.7115291461808343e-05\n",
            "P(professional & trade) = 4.5958121121709056e-07\n",
            "P(puffer) = 0.000705457159218234\n",
            "P(pumps) = 0.0050342525876720095\n",
            "P(purse) = 0.0013612795476250221\n",
            "P(puzzle) = 2.0221573293551983e-05\n",
            "P(puzzles) = 0.00047244948513116907\n",
            "P(quilt) = 1.3787436336512716e-06\n",
            "P(quilts) = 0.00011489530280427264\n",
            "P(racks, shelves & drawers) = 0.000208190288681342\n",
            "P(radio) = 2.619612903937416e-05\n",
            "P(rails & rail guards) = 4.5958121121709056e-07\n",
            "P(raincoat) = 0.00030837899272666774\n",
            "P(rainwear) = 5.698807019091923e-05\n",
            "P(reference) = 9.926954162289156e-05\n",
            "P(refrigerators) = 1.1949111491644354e-05\n",
            "P(relaxed) = 0.00021646275048324963\n",
            "P(religion) = 4.595812112170905e-06\n",
            "P(religion & spirituality) = 0.0001948624335560464\n",
            "P(religious) = 3.86048217422356e-05\n",
            "P(replacement parts) = 9.19162422434181e-06\n",
            "P(replacement parts & tools) = 3.079194115154507e-05\n",
            "P(ring) = 0.000314813129683707\n",
            "P(rings) = 0.007248055282104735\n",
            "P(rugs) = 4.5958121121709056e-07\n",
            "P(rv parts & accessories) = 4.5958121121709056e-07\n",
            "P(safety) = 0.00028402118853216197\n",
            "P(safety caps) = 9.191624224341811e-07\n",
            "P(salt and pepper shakers) = 7.353299379473448e-05\n",
            "P(sandals) = 0.01033046646573776\n",
            "P(satchel) = 0.0015566015623922856\n",
            "P(scale dollhouse miniature) = 6.434136957039268e-06\n",
            "P(scale models) = 2.2979060560854525e-06\n",
            "P(scarf) = 5.009435202266287e-05\n",
            "P(scarves & wraps) = 0.0017735238940867525\n",
            "P(school supplies) = 0.0012629291684245648\n",
            "P(sci-fi, fantasy) = 0.00018199415964196785\n",
            "P(science) = 2.573654782815707e-05\n",
            "P(science & math) = 9.880996041167446e-05\n",
            "P(scifi) = 1.8383248448683623e-06\n",
            "P(scoop neck) = 0.0002899957442779841\n",
            "P(scrapbooking) = 0.0007215425016108321\n",
            "P(screen protectors) = 0.0014449233280665326\n",
            "P(scrubs & body treatments) = 0.0005409270856025156\n",
            "P(sculptures) = 4.503895869927487e-05\n",
            "P(seasonal) = 1.3787436336512716e-06\n",
            "P(seasonal décor) = 0.0032768140359778555\n",
            "P(seat covers) = 1.8383248448683623e-06\n",
            "P(serving) = 0.0012748782799162093\n",
            "P(sets) = 0.0007688793663661925\n",
            "P(sets & kits) = 6.066471988065595e-05\n",
            "P(sewing) = 0.0001020270288901941\n",
            "P(shampoo) = 1.93024108711178e-05\n",
            "P(shampoo & conditioner sets) = 0.0012257030903159805\n",
            "P(shampoo plus conditioner) = 2.527696661693998e-05\n",
            "P(shampoos) = 0.0002899957442779841\n",
            "P(shams, bed skirts & bed frame draperies) = 1.838324844868362e-05\n",
            "P(shawl) = 1.884282965990071e-05\n",
            "P(sheets & pillowcases) = 0.0006204346351430723\n",
            "P(shelf) = 9.191624224341811e-07\n",
            "P(shipping supplies) = 0.0033076059771294007\n",
            "P(shirt) = 6.893718168256359e-05\n",
            "P(shirts & tops) = 0.011370958327933254\n",
            "P(shoes) = 0.08932006798125276\n",
            "P(shopping cart covers) = 8.640126770881302e-05\n",
            "P(shorts) = 0.01573422234722831\n",
            "P(shoulder bag) = 0.010372747937169734\n",
            "P(shrug) = 6.663927562647813e-05\n",
            "P(signs) = 2.3438641772071617e-05\n",
            "P(skateboard) = 0.00026977417098443215\n",
            "P(skin care) = 0.020211922088116424\n",
            "P(skirt) = 2.8494035095459615e-05\n",
            "P(skirt suit) = 6.020513866943886e-05\n",
            "P(skirts) = 0.0072048546482503285\n",
            "P(skirts, skorts & dresses) = 0.0007982925638840863\n",
            "P(sleep positioners) = 9.19162422434181e-06\n",
            "P(slim, skinny) = 0.00958962155325581\n",
            "P(slipcovers) = 8.732043013124721e-06\n",
            "P(slippers) = 0.001354385829456766\n",
            "P(small animal) = 8.27246180190763e-06\n",
            "P(small appliances) = 0.00024679511042357763\n",
            "P(snowboard) = 0.00019118578386630966\n",
            "P(snowsuits & bibs) = 5.974555745822177e-05\n",
            "P(soaps & cleansers) = 3.354942841884761e-05\n",
            "P(soccer) = 0.0003534179514259426\n",
            "P(socks) = 0.0030980369448144075\n",
            "P(something blue) = 4.5958121121709056e-07\n",
            "P(souvenir) = 0.0005818298134008367\n",
            "P(space heaters) = 4.228147143197233e-05\n",
            "P(sponges) = 3.6766496897367245e-06\n",
            "P(sport) = 3.217068478519634e-06\n",
            "P(sports) = 0.00189393417142563\n",
            "P(sports & outdoor play) = 0.00032262601027439755\n",
            "P(sports & outdoors) = 0.01711480430572445\n",
            "P(sports bras) = 0.006077961518346022\n",
            "P(sports nutrition) = 0.0009531714320642458\n",
            "P(st patrick's) = 1.884282965990071e-05\n",
            "P(st patricks) = 4.5958121121709056e-07\n",
            "P(stained glass) = 1.1489530280427263e-05\n",
            "P(stamps) = 6.480095078160976e-05\n",
            "P(standard) = 8.732043013124721e-06\n",
            "P(stationery) = 0.00019302410871117803\n",
            "P(stationery & party supplies) = 0.0001309806451968708\n",
            "P(step stools) = 1.3787436336512716e-06\n",
            "P(sticker) = 0.002814015756282245\n",
            "P(storage) = 9.191624224341811e-07\n",
            "P(storage & containers) = 0.00044901084335909747\n",
            "P(storage & organization) = 0.0025410245168192938\n",
            "P(storage cabinets) = 2.2979060560854525e-06\n",
            "P(storage solutions) = 4.5958121121709056e-07\n",
            "P(straight leg) = 0.0009527118508530287\n",
            "P(straight, pencil) = 0.0020391618341702306\n",
            "P(strategy guides) = 5.009435202266287e-05\n",
            "P(strength training) = 7.858838711812248e-05\n",
            "P(stringed instruments) = 7.031592531621485e-05\n",
            "P(strollers) = 0.0003258430787529172\n",
            "P(studio recording equipment) = 2.3438641772071617e-05\n",
            "P(stuffed animals & plush) = 0.003951479254044545\n",
            "P(styling products) = 0.0017064250372490573\n",
            "P(styling tools) = 0.00021646275048324963\n",
            "P(suits) = 4.6877283544143235e-05\n",
            "P(suits & blazers) = 0.0012905040410975902\n",
            "P(sun) = 0.0006117025921299475\n",
            "P(sun protection) = 5.974555745822177e-06\n",
            "P(sunglasses) = 0.005954334172528625\n",
            "P(supplies) = 0.0009062941485201026\n",
            "P(sweater) = 0.0009067537297313196\n",
            "P(sweatercoat) = 0.00017601960389614568\n",
            "P(sweaters) = 0.024083434211409196\n",
            "P(sweats & hoodies) = 0.0055940225029344265\n",
            "P(sweatshirt, pullover) = 0.0020120465427084224\n",
            "P(sweeping) = 4.595812112170905e-06\n",
            "P(swim briefs) = 3.171110357397925e-05\n",
            "P(swim trunks) = 0.00022519479349637436\n",
            "P(swimwear) = 0.013827419901888603\n",
            "P(swings, jumpers & bouncers) = 0.00020543280141403948\n",
            "P(t-shirts) = 0.04151534955287344\n",
            "P(table) = 2.757487267302543e-06\n",
            "P(tablet) = 0.0020580046638301315\n",
            "P(tag) = 5.055393323387996e-06\n",
            "P(tandem) = 9.191624224341811e-07\n",
            "P(tank) = 0.0002872382570106816\n",
            "P(tank, cami) = 0.013746533608714395\n",
            "P(tape) = 2.2519479349637436e-05\n",
            "P(tapestries) = 0.0004903731523686356\n",
            "P(teacup) = 2.3898222983288708e-05\n",
            "P(team sports) = 0.0014237825923505464\n",
            "P(teapot) = 1.3327855125295626e-05\n",
            "P(teethers) = 4.36602150656236e-05\n",
            "P(teething relief) = 7.169466894986613e-05\n",
            "P(telephone) = 6.434136957039268e-06\n",
            "P(television) = 3.217068478519634e-06\n",
            "P(televisions) = 0.0002725316582517347\n",
            "P(tennis & racquets) = 6.526053199282686e-05\n",
            "P(thanksgiving) = 0.00013281897004173917\n",
            "P(thermal underwear) = 0.00015717677423624497\n",
            "P(thermometers) = 4.136230900953815e-05\n",
            "P(three button) = 1.4706598758946898e-05\n",
            "P(tiered) = 9.19162422434181e-06\n",
            "P(ties) = 0.00028402118853216197\n",
            "P(tiles) = 4.5958121121709056e-07\n",
            "P(tires & wheels) = 1.4706598758946898e-05\n",
            "P(toddler) = 4.136230900953815e-06\n",
            "P(toiletry kits) = 1.1489530280427263e-05\n",
            "P(tools & accessories) = 0.008818903862044751\n",
            "P(tools & equipment) = 0.00039523984164669784\n",
            "P(toothbrushes) = 6.480095078160976e-05\n",
            "P(top & t-shirts) = 0.002745538155810899\n",
            "P(tops) = 0.01395288557255087\n",
            "P(tops & blouses) = 0.0729470277504327\n",
            "P(tops & t-shirts) = 0.009866289442408499\n",
            "P(tote) = 0.00020359447656917112\n",
            "P(totes & shoppers) = 0.0063261353724032516\n",
            "P(towel) = 4.5958121121709056e-07\n",
            "P(towels) = 0.00013741478215391006\n",
            "P(toy) = 0.005430411591741142\n",
            "P(toy remote control & play vehicles) = 0.0006833972610798137\n",
            "P(toys) = 0.039172864119299926\n",
            "P(track & field) = 1.3787436336512716e-06\n",
            "P(track & sweat pants) = 0.000985801698060659\n",
            "P(track & sweat suits) = 3.308984720763052e-05\n",
            "P(track jacket) = 3.5847334474933065e-05\n",
            "P(tracksuits & sweats) = 0.004400949678614859\n",
            "P(trading cards) = 0.004407383815571898\n",
            "P(training pants) = 2.9413197517893796e-05\n",
            "P(trash & recycling) = 4.136230900953815e-06\n",
            "P(trash bags) = 2.0221573293551983e-05\n",
            "P(travel bathing kits) = 5.514974534605086e-06\n",
            "P(travel beds) = 1.838324844868362e-05\n",
            "P(travel systems) = 6.34222071479585e-05\n",
            "P(tray) = 1.608534239259817e-05\n",
            "P(trench) = 0.00032446433511926594\n",
            "P(tricycles, scooters & wagons) = 3.768565931980142e-05\n",
            "P(trim) = 4.595812112170905e-06\n",
            "P(tripods & supports) = 9.513331072193775e-05\n",
            "P(tshirt) = 8.088629317420793e-05\n",
            "P(tumbler) = 0.0005528761970941599\n",
            "P(tunic) = 0.0054212199675168\n",
            "P(turtleneck) = 0.00016269174877085006\n",
            "P(turtleneck, mock) = 0.00024587594800114346\n",
            "P(tuxedo) = 2.757487267302543e-06\n",
            "P(tv, audio & surveillance) = 0.00612254089583408\n",
            "P(tweezers) = 6.112430109187304e-05\n",
            "P(two button) = 6.158388230309014e-05\n",
            "P(two-piece) = 0.008596006974604461\n",
            "P(underwear) = 0.022868761070162426\n",
            "P(v-neck) = 0.0006567415508292224\n",
            "P(vacuums & floor care) = 0.0001456872439558177\n",
            "P(valentine) = 0.0001842920656980533\n",
            "P(varsity) = 2.619612903937416e-05\n",
            "P(vase) = 1.4706598758946898e-05\n",
            "P(vases) = 0.00013511687609782462\n",
            "P(vest) = 0.0018613039054292168\n",
            "P(vest, sleeveless) = 0.0003786949180428826\n",
            "P(vests) = 2.8953616306676705e-05\n",
            "P(vhs) = 0.0002477142728460118\n",
            "P(video game) = 0.0015970447089793897\n",
            "P(video games & consoles) = 0.02436699581873014\n",
            "P(video gaming merchandise) = 0.0007808284778578369\n",
            "P(videogame) = 1.3787436336512716e-06\n",
            "P(vintage) = 0.00017601960389614568\n",
            "P(vintage & collectibles) = 0.03122394749008913\n",
            "P(vinyl) = 0.0005340333674342592\n",
            "P(volleyball) = 7.904796832933957e-05\n",
            "P(walkers) = 3.4928172052498884e-05\n",
            "P(wall decor) = 0.00017785792874101404\n",
            "P(wall hanging) = 0.00011029949069210173\n",
            "P(wallet) = 1.838324844868362e-05\n",
            "P(wallets) = 0.010026683285123265\n",
            "P(washcloths & towels) = 0.00014936389364555443\n",
            "P(washers & dryers) = 1.0110786646775991e-05\n",
            "P(watch) = 7.169466894986613e-05\n",
            "P(watches) = 0.005163394908024012\n",
            "P(water coolers & filters) = 0.00012546567066226572\n",
            "P(water sports) = 0.0001842920656980533\n",
            "P(waxing) = 0.00017096421057275767\n",
            "P(weddings) = 0.0004127039276729473\n",
            "P(wide leg) = 4.36602150656236e-05\n",
            "P(wind & woodwind instruments) = 4.503895869927487e-05\n",
            "P(windbreaker) = 0.0020377830905365796\n",
            "P(window treatments) = 0.00040075481618130295\n",
            "P(wine accessories) = 0.00020543280141403948\n",
            "P(wine, beer & beverage coolers) = 0.000731193707046391\n",
            "P(wipes & holders) = 0.0001999178268794344\n",
            "P(women) = 0.460685125286434\n",
            "P(women's accessories) = 0.02851977164328777\n",
            "P(women's golf clubs) = 2.2979060560854525e-06\n",
            "P(women's handbags) = 0.030909134360405426\n",
            "P(woodworking) = 8.134587438542503e-05\n",
            "P(wool) = 0.00014384891911094935\n",
            "P(work & safety) = 0.00012960190156321953\n",
            "P(wrap) = 0.0004081081155607764\n",
            "P(wristlet) = 0.0006944272101490238\n",
            "P(writing) = 0.0005832085570344879\n",
            "P(yarn) = 0.00011075907190331882\n",
            "P(yoga & pilates) = 0.0003410092587230812\n",
            "P(zipper) = 9.191624224341811e-07\n"
          ]
        }
      ]
    },
    {
      "cell_type": "code",
      "metadata": {
        "colab": {
          "base_uri": "https://localhost:8080/"
        },
        "id": "QqPfXTdFosnb",
        "outputId": "52e40720-b7c2-4e4b-f1c4-e957490c7f09"
      },
      "source": [
        "print(df[sub_categories])"
      ],
      "execution_count": null,
      "outputs": [
        {
          "output_type": "stream",
          "name": "stdout",
          "text": [
            "        100 years or older  50 to 75 years  ...  yoga & pilates  zipper\n",
            "0                    False           False  ...           False   False\n",
            "1                    False           False  ...           False   False\n",
            "2                    False           False  ...           False   False\n",
            "3                    False           False  ...           False   False\n",
            "4                    False           False  ...           False   False\n",
            "...                    ...             ...  ...             ...     ...\n",
            "693354               False           False  ...           False   False\n",
            "693355               False           False  ...           False   False\n",
            "693356               False           False  ...           False   False\n",
            "693357               False           False  ...           False   False\n",
            "693358               False           False  ...           False   False\n",
            "\n",
            "[2175894 rows x 961 columns]\n"
          ]
        }
      ]
    },
    {
      "cell_type": "code",
      "metadata": {
        "id": "Mzc5pk711fLU",
        "colab": {
          "base_uri": "https://localhost:8080/",
          "height": 419
        },
        "outputId": "a7a5b7f5-65fa-49b0-b180-75957c744d84"
      },
      "source": [
        "df[[\"category_1\", \"category_2\", \"category_3\", \"category_4\", \"category_5\"]]"
      ],
      "execution_count": null,
      "outputs": [
        {
          "output_type": "execute_result",
          "data": {
            "text/html": [
              "<div>\n",
              "<style scoped>\n",
              "    .dataframe tbody tr th:only-of-type {\n",
              "        vertical-align: middle;\n",
              "    }\n",
              "\n",
              "    .dataframe tbody tr th {\n",
              "        vertical-align: top;\n",
              "    }\n",
              "\n",
              "    .dataframe thead th {\n",
              "        text-align: right;\n",
              "    }\n",
              "</style>\n",
              "<table border=\"1\" class=\"dataframe\">\n",
              "  <thead>\n",
              "    <tr style=\"text-align: right;\">\n",
              "      <th></th>\n",
              "      <th>category_1</th>\n",
              "      <th>category_2</th>\n",
              "      <th>category_3</th>\n",
              "      <th>category_4</th>\n",
              "      <th>category_5</th>\n",
              "    </tr>\n",
              "  </thead>\n",
              "  <tbody>\n",
              "    <tr>\n",
              "      <th>0</th>\n",
              "      <td>men</td>\n",
              "      <td>tops</td>\n",
              "      <td>t-shirts</td>\n",
              "      <td>None</td>\n",
              "      <td>None</td>\n",
              "    </tr>\n",
              "    <tr>\n",
              "      <th>1</th>\n",
              "      <td>electronics</td>\n",
              "      <td>computers &amp; tablets</td>\n",
              "      <td>components &amp; parts</td>\n",
              "      <td>None</td>\n",
              "      <td>None</td>\n",
              "    </tr>\n",
              "    <tr>\n",
              "      <th>2</th>\n",
              "      <td>women</td>\n",
              "      <td>tops &amp; blouses</td>\n",
              "      <td>blouse</td>\n",
              "      <td>None</td>\n",
              "      <td>None</td>\n",
              "    </tr>\n",
              "    <tr>\n",
              "      <th>3</th>\n",
              "      <td>home</td>\n",
              "      <td>home décor</td>\n",
              "      <td>home décor accents</td>\n",
              "      <td>None</td>\n",
              "      <td>None</td>\n",
              "    </tr>\n",
              "    <tr>\n",
              "      <th>4</th>\n",
              "      <td>women</td>\n",
              "      <td>jewelry</td>\n",
              "      <td>necklaces</td>\n",
              "      <td>None</td>\n",
              "      <td>None</td>\n",
              "    </tr>\n",
              "    <tr>\n",
              "      <th>...</th>\n",
              "      <td>...</td>\n",
              "      <td>...</td>\n",
              "      <td>...</td>\n",
              "      <td>...</td>\n",
              "      <td>...</td>\n",
              "    </tr>\n",
              "    <tr>\n",
              "      <th>693354</th>\n",
              "      <td>home</td>\n",
              "      <td>home décor</td>\n",
              "      <td>home décor accents</td>\n",
              "      <td>None</td>\n",
              "      <td>None</td>\n",
              "    </tr>\n",
              "    <tr>\n",
              "      <th>693355</th>\n",
              "      <td>beauty</td>\n",
              "      <td>makeup</td>\n",
              "      <td>makeup sets</td>\n",
              "      <td>None</td>\n",
              "      <td>None</td>\n",
              "    </tr>\n",
              "    <tr>\n",
              "      <th>693356</th>\n",
              "      <td>electronics</td>\n",
              "      <td>cell phones &amp; accessories</td>\n",
              "      <td>cases, covers &amp; skins</td>\n",
              "      <td>None</td>\n",
              "      <td>None</td>\n",
              "    </tr>\n",
              "    <tr>\n",
              "      <th>693357</th>\n",
              "      <td>women</td>\n",
              "      <td>swimwear</td>\n",
              "      <td>cover-ups</td>\n",
              "      <td>None</td>\n",
              "      <td>None</td>\n",
              "    </tr>\n",
              "    <tr>\n",
              "      <th>693358</th>\n",
              "      <td>women</td>\n",
              "      <td>tops &amp; blouses</td>\n",
              "      <td>t-shirts</td>\n",
              "      <td>None</td>\n",
              "      <td>None</td>\n",
              "    </tr>\n",
              "  </tbody>\n",
              "</table>\n",
              "<p>2175894 rows × 5 columns</p>\n",
              "</div>"
            ],
            "text/plain": [
              "         category_1                 category_2  ... category_4 category_5\n",
              "0               men                       tops  ...       None       None\n",
              "1       electronics        computers & tablets  ...       None       None\n",
              "2             women             tops & blouses  ...       None       None\n",
              "3              home                 home décor  ...       None       None\n",
              "4             women                    jewelry  ...       None       None\n",
              "...             ...                        ...  ...        ...        ...\n",
              "693354         home                 home décor  ...       None       None\n",
              "693355       beauty                     makeup  ...       None       None\n",
              "693356  electronics  cell phones & accessories  ...       None       None\n",
              "693357        women                   swimwear  ...       None       None\n",
              "693358        women             tops & blouses  ...       None       None\n",
              "\n",
              "[2175894 rows x 5 columns]"
            ]
          },
          "metadata": {},
          "execution_count": 17
        }
      ]
    },
    {
      "cell_type": "code",
      "metadata": {
        "colab": {
          "base_uri": "https://localhost:8080/"
        },
        "id": "I6ATyfNiiJIn",
        "outputId": "f8581db5-7269-4101-950e-8498f38eb773"
      },
      "source": [
        "df.columns"
      ],
      "execution_count": null,
      "outputs": [
        {
          "output_type": "execute_result",
          "data": {
            "text/plain": [
              "Index(['train_id', 'name', 'item_condition_id', 'category_name', 'brand_name',\n",
              "       'price', 'shipping', 'item_description', 'test_id', 'category_1',\n",
              "       ...\n",
              "       'women's handbags', 'woodworking', 'wool', 'work & safety', 'wrap',\n",
              "       'wristlet', 'writing', 'yarn', 'yoga & pilates', 'zipper'],\n",
              "      dtype='object', length=975)"
            ]
          },
          "metadata": {},
          "execution_count": 16
        }
      ]
    },
    {
      "cell_type": "markdown",
      "metadata": {
        "id": "7R-oNxqrWMYu"
      },
      "source": [
        "# Data Preprocessing\n",
        "This section will output a dict of dataframes. Each dataframe will contain the cleaned data associated with a specific subcategory. The keys to the dict are the categories full names. The values are all the entries under that category."
      ]
    },
    {
      "cell_type": "markdown",
      "metadata": {
        "id": "_fil64CZpC3N"
      },
      "source": [
        "###Read in data"
      ]
    },
    {
      "cell_type": "code",
      "metadata": {
        "id": "sPnICfZ3jBLo"
      },
      "source": [
        "import numpy as np\n",
        "import pandas as pd\n",
        "import matplotlib.pyplot as plt\n",
        "\n",
        "df_train = pd.read_csv(\"train.tsv\", sep='\\t')\n",
        "df_test = pd.read_csv(\"test.tsv\", sep='\\t')"
      ],
      "execution_count": 128,
      "outputs": []
    },
    {
      "cell_type": "code",
      "metadata": {
        "colab": {
          "base_uri": "https://localhost:8080/"
        },
        "id": "HfsmAkgjYX8O",
        "outputId": "38ca7699-59e2-4f38-c3d8-80a167078527"
      },
      "source": [
        "print(df_train.shape)\n",
        "print(df_train.columns)\n",
        "print(\"null/nan count: {}\".format(len(df_train) - len(df_train['category_name'].dropna())))\n",
        "print(\"null/nan count: {}\".format(len(df_test) - len(df_test['category_name'].dropna())))"
      ],
      "execution_count": 129,
      "outputs": [
        {
          "output_type": "stream",
          "name": "stdout",
          "text": [
            "(1482535, 8)\n",
            "Index(['train_id', 'name', 'item_condition_id', 'category_name', 'brand_name',\n",
            "       'price', 'shipping', 'item_description'],\n",
            "      dtype='object')\n",
            "null/nan count: 6327\n",
            "null/nan count: 3058\n"
          ]
        }
      ]
    },
    {
      "cell_type": "markdown",
      "metadata": {
        "id": "2kvGErG2_l0Z"
      },
      "source": [
        "###Clean up raw dataset"
      ]
    },
    {
      "cell_type": "code",
      "metadata": {
        "colab": {
          "base_uri": "https://localhost:8080/"
        },
        "id": "HUPZ0jM-_pgf",
        "outputId": "47e0f3cb-6942-4019-8c70-6085107b87d7"
      },
      "source": [
        "df_train['brand_name'] = df_train['brand_name'].fillna(value='Other_Null')\n",
        "df_train['category_name'] = df_train['category_name'].fillna(value='Other_Null')\n",
        "df_train['item_description'] = df_train['item_description'].fillna(value='Other_Null')\n",
        "\n",
        "# 각 컬럼별로 Null값 건수 확인. 모두 0가 나와야 합니다.\n",
        "print(df_train.isnull().sum())\n",
        "\n",
        "df_test['brand_name'] = df_test['brand_name'].fillna(value='Other_Null')\n",
        "df_test['category_name'] = df_test['category_name'].fillna(value='Other_Null')\n",
        "df_test['item_description'] = df_test['item_description'].fillna(value='Other_Null')\n",
        "\n",
        "# 각 컬럼별로 Null값 건수 확인. 모두 0가 나와야 합니다.\n",
        "df_test.isnull().sum()"
      ],
      "execution_count": 130,
      "outputs": [
        {
          "output_type": "stream",
          "name": "stdout",
          "text": [
            "train_id             0\n",
            "name                 0\n",
            "item_condition_id    0\n",
            "category_name        0\n",
            "brand_name           0\n",
            "price                0\n",
            "shipping             0\n",
            "item_description     0\n",
            "dtype: int64\n"
          ]
        },
        {
          "output_type": "execute_result",
          "data": {
            "text/plain": [
              "test_id              0\n",
              "name                 0\n",
              "item_condition_id    0\n",
              "category_name        0\n",
              "brand_name           0\n",
              "shipping             0\n",
              "item_description     0\n",
              "dtype: int64"
            ]
          },
          "metadata": {},
          "execution_count": 130
        }
      ]
    },
    {
      "cell_type": "markdown",
      "metadata": {
        "id": "rr32skDdpKio"
      },
      "source": [
        "###Group based on category "
      ]
    },
    {
      "cell_type": "code",
      "metadata": {
        "colab": {
          "base_uri": "https://localhost:8080/"
        },
        "id": "dPKxzn-7am3K",
        "outputId": "665261fb-804a-454e-9cec-33020aca9cdb"
      },
      "source": [
        "training_grouped = df_train.groupby(df_train.category_name)\n",
        "testing_grouped = df_train.groupby(df_test.category_name)\n",
        "print(training_grouped.dtypes)\n",
        "print(testing_grouped.dtypes)"
      ],
      "execution_count": 131,
      "outputs": [
        {
          "output_type": "stream",
          "name": "stdout",
          "text": [
            "                                             train_id  ... item_description\n",
            "category_name                                          ...                 \n",
            "Beauty/Bath & Body/Bath                         int64  ...           object\n",
            "Beauty/Bath & Body/Bathing Accessories          int64  ...           object\n",
            "Beauty/Bath & Body/Cleansers                    int64  ...           object\n",
            "Beauty/Bath & Body/Other                        int64  ...           object\n",
            "Beauty/Bath & Body/Scrubs & Body Treatments     int64  ...           object\n",
            "...                                               ...  ...              ...\n",
            "Women/Women's Handbags/Messenger & Crossbody    int64  ...           object\n",
            "Women/Women's Handbags/Other                    int64  ...           object\n",
            "Women/Women's Handbags/Satchel                  int64  ...           object\n",
            "Women/Women's Handbags/Shoulder Bag             int64  ...           object\n",
            "Women/Women's Handbags/Totes & Shoppers         int64  ...           object\n",
            "\n",
            "[1288 rows x 7 columns]\n",
            "                                             train_id  ... item_description\n",
            "category_name                                          ...                 \n",
            "Beauty/Bath & Body/Bath                         int64  ...           object\n",
            "Beauty/Bath & Body/Bathing Accessories          int64  ...           object\n",
            "Beauty/Bath & Body/Cleansers                    int64  ...           object\n",
            "Beauty/Bath & Body/Other                        int64  ...           object\n",
            "Beauty/Bath & Body/Scrubs & Body Treatments     int64  ...           object\n",
            "...                                               ...  ...              ...\n",
            "Women/Women's Handbags/Messenger & Crossbody    int64  ...           object\n",
            "Women/Women's Handbags/Other                    int64  ...           object\n",
            "Women/Women's Handbags/Satchel                  int64  ...           object\n",
            "Women/Women's Handbags/Shoulder Bag             int64  ...           object\n",
            "Women/Women's Handbags/Totes & Shoppers         int64  ...           object\n",
            "\n",
            "[1224 rows x 8 columns]\n"
          ]
        }
      ]
    },
    {
      "cell_type": "markdown",
      "metadata": {
        "id": "KrpY3oOfpas_"
      },
      "source": [
        "###Get an array of category names"
      ]
    },
    {
      "cell_type": "code",
      "metadata": {
        "colab": {
          "base_uri": "https://localhost:8080/"
        },
        "id": "toAVskCpb9J5",
        "outputId": "f73b4ae8-2333-49f4-a170-28191a0da67d"
      },
      "source": [
        "id_array = []\n",
        "for t in training_grouped.category_name:\n",
        "  id_array.append(t)\n",
        "print(len(id_array))\n",
        "print(id_array[0][0])\n",
        "print(training_grouped.get_group(id_array[0][0]))\n",
        "\n",
        "id_array_testing = []\n",
        "for t in testing_grouped.category_name:\n",
        "  id_array_testing.append(t)\n",
        "print(len(id_array_testing))\n",
        "print(id_array_testing[0][0])\n",
        "print(testing_grouped.get_group(id_array_testing[0][0]))"
      ],
      "execution_count": 132,
      "outputs": [
        {
          "output_type": "stream",
          "name": "stdout",
          "text": [
            "1288\n",
            "Beauty/Bath & Body/Bath\n",
            "         train_id  ...                                   item_description\n",
            "245           245  ...  Price for 3 bottles Assorted selection Please ...\n",
            "499           499  ...                                 No description yet\n",
            "861           861  ...  Bourbon Strawberry & Vanilla Shipping is [rm] ...\n",
            "870           870  ...  Enjoy a luxurious bath with our Signature Bath...\n",
            "1019         1019  ...  Product never used. Body Lotion 6.5 fl oz Suga...\n",
            "...           ...  ...                                                ...\n",
            "1481599   1481599  ...  You choose the color! Just comment which one y...\n",
            "1481842   1481842  ...  I recently purchased Fun from Lush recently to...\n",
            "1482085   1482085  ...  These bubblebars are SO ADORABLE and smell ABS...\n",
            "1482128   1482128  ...  only available during Easter season candy scen...\n",
            "1482439   1482439  ...  3.5oz snow fairy x2 3.5oz elf 7oz Lord of Misrule\n",
            "\n",
            "[5049 rows x 7 columns]\n",
            "1224\n",
            "Beauty/Bath & Body/Bath\n",
            "        train_id  ...                                   item_description\n",
            "33            33  ...  New unused and authentic. Caudalie beauty elix...\n",
            "342          342  ...              LhAll in great condition, hardly used\n",
            "374          374  ...                                         Dark wash.\n",
            "396          396  ...  Lots more where left for these winter snow boo...\n",
            "1406        1406  ...                Bundle of duck boots and ski jacket\n",
            "...          ...  ...                                                ...\n",
            "692518    692518  ...            Handmade clips/ mam adapters. [rm] each\n",
            "692686    692686  ...  Only worn 3 times casually, great condition--j...\n",
            "692845    692845  ...  You are buying a brand new Mophie Juice Pack (...\n",
            "693185    693185  ...                                 24 hour Body Cream\n",
            "693339    693339  ...  ❗️I will not let you purchase if you dont have...\n",
            "\n",
            "[2285 rows x 8 columns]\n"
          ]
        }
      ]
    },
    {
      "cell_type": "markdown",
      "metadata": {
        "id": "dBExEGS3pfuG"
      },
      "source": [
        "###Isolate each category into separate Dataframe"
      ]
    },
    {
      "cell_type": "code",
      "metadata": {
        "colab": {
          "base_uri": "https://localhost:8080/"
        },
        "id": "R_sOjQlLlUkf",
        "outputId": "df9315de-9639-4495-f85b-766f87036c8c"
      },
      "source": [
        "df_array = {}\n",
        "for t in id_array:\n",
        "  #print(t[0])\n",
        "  df_array[t[0]] = (training_grouped.get_group(t[0]))\n",
        "print(len(df_array))\n",
        "print(df_array.keys())\n",
        "\n",
        "df_array_testing = {}\n",
        "for t in id_array_testing:\n",
        "  #print(t[0])\n",
        "  df_array_testing[t[0]] = (testing_grouped.get_group(t[0]))\n",
        "print(len(df_array_testing))\n",
        "print(df_array_testing.keys())"
      ],
      "execution_count": 133,
      "outputs": [
        {
          "output_type": "stream",
          "name": "stdout",
          "text": [
            "1288\n",
            "dict_keys(['Beauty/Bath & Body/Bath', 'Beauty/Bath & Body/Bathing Accessories', 'Beauty/Bath & Body/Cleansers', 'Beauty/Bath & Body/Other', 'Beauty/Bath & Body/Scrubs & Body Treatments', 'Beauty/Bath & Body/Sets', 'Beauty/Fragrance/Candles & Home Scents', 'Beauty/Fragrance/Kids', 'Beauty/Fragrance/Men', 'Beauty/Fragrance/Other', 'Beauty/Fragrance/Sets', 'Beauty/Fragrance/Women', 'Beauty/Hair Care/Conditioners', 'Beauty/Hair Care/Hair & Scalp Treatments', 'Beauty/Hair Care/Hair Color', 'Beauty/Hair Care/Hair Loss Products', 'Beauty/Hair Care/Hair Perms & Texturizers', 'Beauty/Hair Care/Hair Relaxers', 'Beauty/Hair Care/Other', 'Beauty/Hair Care/Shampoo & Conditioner Sets', 'Beauty/Hair Care/Shampoo Plus Conditioner', 'Beauty/Hair Care/Shampoos', 'Beauty/Hair Care/Styling Products', 'Beauty/Hair Care/Styling Tools', 'Beauty/Makeup/Body', 'Beauty/Makeup/Brushes & Applicators', 'Beauty/Makeup/Eyes', 'Beauty/Makeup/Face', 'Beauty/Makeup/Lips', 'Beauty/Makeup/Makeup Palettes', 'Beauty/Makeup/Makeup Remover', 'Beauty/Makeup/Makeup Sets', 'Beauty/Makeup/Nails', 'Beauty/Makeup/Other', 'Beauty/Other/Other', 'Beauty/Skin Care/Body', 'Beauty/Skin Care/Eyes', 'Beauty/Skin Care/Face', 'Beauty/Skin Care/Feet', 'Beauty/Skin Care/Hands & Nails', 'Beauty/Skin Care/Lips', 'Beauty/Skin Care/Maternity', 'Beauty/Skin Care/Other', 'Beauty/Skin Care/Sets & Kits', 'Beauty/Skin Care/Sun', 'Beauty/Tools & Accessories/Bags & Cases', 'Beauty/Tools & Accessories/Bathing Accessories', 'Beauty/Tools & Accessories/Cotton & Swabs', 'Beauty/Tools & Accessories/Epilators', 'Beauty/Tools & Accessories/Hair Coloring Tools', 'Beauty/Tools & Accessories/Hair Styling Tools', 'Beauty/Tools & Accessories/Makeup Brushes & Tools', 'Beauty/Tools & Accessories/Mirrors', 'Beauty/Tools & Accessories/Nail Tools', 'Beauty/Tools & Accessories/Other', 'Beauty/Tools & Accessories/Toiletry Kits', 'Beauty/Tools & Accessories/Tweezers', 'Beauty/Tools & Accessories/Waxing', 'Electronics/Cameras & Photography/Binoculars & Telescopes', 'Electronics/Cameras & Photography/Camcorders', 'Electronics/Cameras & Photography/Camera & Photo Accessories', 'Electronics/Cameras & Photography/Digital Cameras', 'Electronics/Cameras & Photography/Film Photography', 'Electronics/Cameras & Photography/Flashes & Flash Accessories', 'Electronics/Cameras & Photography/Lenses & Filters', 'Electronics/Cameras & Photography/Lighting & Studio', 'Electronics/Cameras & Photography/Other', 'Electronics/Cameras & Photography/Tripods & Supports', 'Electronics/Car Audio, Video & GPS/Car Security & Convenience', 'Electronics/Car Audio, Video & GPS/Car Speakers & Systems', 'Electronics/Car Audio, Video & GPS/Car Stereos & Components', 'Electronics/Car Audio, Video & GPS/Car Subwoofers', 'Electronics/Car Audio, Video & GPS/Car Video', 'Electronics/Car Audio, Video & GPS/GPS Accessories & Mounts', 'Electronics/Car Audio, Video & GPS/GPS Units & Equipment', 'Electronics/Car Audio, Video & GPS/Other', 'Electronics/Car Audio, Video & GPS/Other Accessories', 'Electronics/Cell Phones & Accessories/Batteries', 'Electronics/Cell Phones & Accessories/Cables & Adapters', 'Electronics/Cell Phones & Accessories/Cases, Covers & Skins', 'Electronics/Cell Phones & Accessories/Cell Phone Accessories', 'Electronics/Cell Phones & Accessories/Cell Phones & Smartphones', 'Electronics/Cell Phones & Accessories/Chargers & Cradles', 'Electronics/Cell Phones & Accessories/Headsets', 'Electronics/Cell Phones & Accessories/Other', 'Electronics/Cell Phones & Accessories/Screen Protectors', 'Electronics/Computers & Tablets/Components & Parts', 'Electronics/Computers & Tablets/Desktops & All-In-Ones', 'Electronics/Computers & Tablets/Drives, Storage & Media', 'Electronics/Computers & Tablets/Laptops & Netbooks', 'Electronics/Computers & Tablets/Networking & Connectivity', 'Electronics/Computers & Tablets/Other', 'Electronics/Computers & Tablets/Printers, Scanners & Supplies', 'Electronics/Computers & Tablets/iPad/Tablet/eBook Access', 'Electronics/Computers & Tablets/iPad/Tablet/eBook Readers', 'Electronics/Media/Blu-Ray', 'Electronics/Media/CD', 'Electronics/Media/DVD', 'Electronics/Media/Other', 'Electronics/Media/VHS', 'Electronics/Other/Other', 'Electronics/TV, Audio & Surveillance/DVD & Blu-ray Players', 'Electronics/TV, Audio & Surveillance/Gadgets', 'Electronics/TV, Audio & Surveillance/Headphones', 'Electronics/TV, Audio & Surveillance/Home Audio', 'Electronics/TV, Audio & Surveillance/Home Speakers & Subwoofers', 'Electronics/TV, Audio & Surveillance/Home Surveillance', 'Electronics/TV, Audio & Surveillance/Other', 'Electronics/TV, Audio & Surveillance/Portable Audio & Accessories', 'Electronics/TV, Audio & Surveillance/Televisions', 'Electronics/Video Games & Consoles/Accessories', 'Electronics/Video Games & Consoles/Consoles', 'Electronics/Video Games & Consoles/Games', 'Electronics/Video Games & Consoles/Other', 'Electronics/Video Games & Consoles/Replacement Parts & Tools', 'Electronics/Video Games & Consoles/Strategy Guides', 'Electronics/Video Games & Consoles/Video Gaming Merchandise', 'Handmade/Accessories/Apron', 'Handmade/Accessories/Belt', 'Handmade/Accessories/Case', 'Handmade/Accessories/Charm', 'Handmade/Accessories/Cozy', 'Handmade/Accessories/Cuff', 'Handmade/Accessories/Eyewear', 'Handmade/Accessories/Gloves', 'Handmade/Accessories/Hair', 'Handmade/Accessories/Hat', 'Handmade/Accessories/Keychain', 'Handmade/Accessories/Lanyard', 'Handmade/Accessories/Leg Warmers', 'Handmade/Accessories/Men', 'Handmade/Accessories/Mirror', 'Handmade/Accessories/Necktie', 'Handmade/Accessories/Other', 'Handmade/Accessories/Patch', 'Handmade/Accessories/Pin', 'Handmade/Accessories/Pinback Button', 'Handmade/Accessories/Scarf', 'Handmade/Accessories/Wallet', 'Handmade/Accessories/Watch', 'Handmade/Accessories/Women', 'Handmade/Art/Aceo', 'Handmade/Art/Collages', 'Handmade/Art/Drawings', 'Handmade/Art/Illustration', 'Handmade/Art/Mixed Media', 'Handmade/Art/Other', 'Handmade/Art/Painting', 'Handmade/Art/Photography', 'Handmade/Art/Print', 'Handmade/Art/Printmaking', 'Handmade/Art/Sculptures', 'Handmade/Bags and Purses/Backpack', 'Handmade/Bags and Purses/Clutch', 'Handmade/Bags and Purses/Diaper Bag', 'Handmade/Bags and Purses/Hip Bag', 'Handmade/Bags and Purses/Laptop', 'Handmade/Bags and Purses/Novelty', 'Handmade/Bags and Purses/Other', 'Handmade/Bags and Purses/Pouch', 'Handmade/Bags and Purses/Purse', 'Handmade/Bags and Purses/Tote', 'Handmade/Bags and Purses/Wallet', 'Handmade/Bags and Purses/Wristlet', 'Handmade/Books and Zines/Book', 'Handmade/Books and Zines/Bookmark', 'Handmade/Books and Zines/Comic', 'Handmade/Books and Zines/Journal', 'Handmade/Books and Zines/Other', 'Handmade/Candles/Other', 'Handmade/Candles/Scrapbooking', 'Handmade/Candles/Stationery', 'Handmade/Candles/Sticker', 'Handmade/Ceramics and Pottery/Bowls', 'Handmade/Ceramics and Pottery/Coasters', 'Handmade/Ceramics and Pottery/Home Decor', 'Handmade/Ceramics and Pottery/Jewelry', 'Handmade/Ceramics and Pottery/Kitchen', 'Handmade/Ceramics and Pottery/Other', 'Handmade/Ceramics and Pottery/Planters', 'Handmade/Ceramics and Pottery/Sculptures', 'Handmade/Ceramics and Pottery/Supplies', 'Handmade/Ceramics and Pottery/Tiles', 'Handmade/Ceramics and Pottery/Vases', 'Handmade/Children/Accessories', 'Handmade/Children/Art', 'Handmade/Children/Baby', 'Handmade/Children/Clothing', 'Handmade/Children/Furniture', 'Handmade/Children/Jewelry', 'Handmade/Children/Other', 'Handmade/Children/Toddler', 'Handmade/Children/Toy', 'Handmade/Clothing/Children', 'Handmade/Clothing/Corset', 'Handmade/Clothing/Costume', 'Handmade/Clothing/Dress', 'Handmade/Clothing/Lingerie', 'Handmade/Clothing/Other', 'Handmade/Clothing/Shirt', 'Handmade/Clothing/Shoes', 'Handmade/Clothing/Tshirt', 'Handmade/Clothing/Women', 'Handmade/Crochet/Accessories', 'Handmade/Crochet/Afghan', 'Handmade/Crochet/Bags and Purses', 'Handmade/Crochet/Clothing', 'Handmade/Crochet/Doll', 'Handmade/Crochet/Hat', 'Handmade/Crochet/Housewares', 'Handmade/Crochet/Other', 'Handmade/Crochet/Scarf', 'Handmade/Crochet/Supplies', 'Handmade/Dolls and Miniatures/Animals', 'Handmade/Dolls and Miniatures/Art Doll', 'Handmade/Dolls and Miniatures/Artist Bears', 'Handmade/Dolls and Miniatures/Child Friendly', 'Handmade/Dolls and Miniatures/Fantasy', 'Handmade/Dolls and Miniatures/Fashion Dolls Apparel', 'Handmade/Dolls and Miniatures/Figurines', 'Handmade/Dolls and Miniatures/Human Figure Doll', 'Handmade/Dolls and Miniatures/Miniature', 'Handmade/Dolls and Miniatures/Other', 'Handmade/Dolls and Miniatures/Plush', 'Handmade/Dolls and Miniatures/Primitive', 'Handmade/Dolls and Miniatures/Scale Dollhouse Miniature', 'Handmade/Dolls and Miniatures/Scale Models', 'Handmade/Furniture/Fixture', 'Handmade/Furniture/Other', 'Handmade/Furniture/Shelf', 'Handmade/Geekery/Accessory', 'Handmade/Geekery/Fantasy', 'Handmade/Geekery/Gadget', 'Handmade/Geekery/Horror', 'Handmade/Geekery/Housewares', 'Handmade/Geekery/Humor', 'Handmade/Geekery/Jewelry', 'Handmade/Geekery/Magic', 'Handmade/Geekery/Other', 'Handmade/Geekery/Science', 'Handmade/Geekery/Toy', 'Handmade/Geekery/Videogame', 'Handmade/Glass/Beads', 'Handmade/Glass/Bottles', 'Handmade/Glass/Bowls', 'Handmade/Glass/Dishes', 'Handmade/Glass/Glassware', 'Handmade/Glass/Home Decor', 'Handmade/Glass/Jewelry', 'Handmade/Glass/Mirrors', 'Handmade/Glass/Ornaments', 'Handmade/Glass/Other', 'Handmade/Glass/Paperweights', 'Handmade/Glass/Sculptures', 'Handmade/Glass/Stained Glass', 'Handmade/Glass/Supplies', 'Handmade/Glass/Vases', 'Handmade/Holidays/Birthday', 'Handmade/Holidays/Christmas', 'Handmade/Holidays/Easter', 'Handmade/Holidays/Halloween', 'Handmade/Holidays/New Years', 'Handmade/Holidays/Other', 'Handmade/Holidays/Patriotic', 'Handmade/Holidays/St Patricks', 'Handmade/Holidays/Thanksgiving', 'Handmade/Holidays/Valentine', 'Handmade/Housewares/Bathroom', 'Handmade/Housewares/Cleaning', 'Handmade/Housewares/Entertaining/Serving', 'Handmade/Housewares/Home Decor', 'Handmade/Housewares/Kitchen', 'Handmade/Housewares/Lighting', 'Handmade/Housewares/Magnets', 'Handmade/Housewares/Office', 'Handmade/Housewares/Other', 'Handmade/Housewares/Pillows', 'Handmade/Housewares/Storage Solutions', 'Handmade/Housewares/Wall Decor', 'Handmade/Jewelry/Books and Zines', 'Handmade/Jewelry/Clothing', 'Handmade/Jewelry/Jewelry', 'Handmade/Jewelry/Music', 'Handmade/Jewelry/Other', 'Handmade/Knitting/Accessories', 'Handmade/Knitting/Bags and Purses', 'Handmade/Knitting/Blanket', 'Handmade/Knitting/Cozy', 'Handmade/Knitting/Doll', 'Handmade/Knitting/Hat', 'Handmade/Knitting/Knitting Supplies', 'Handmade/Knitting/Other', 'Handmade/Knitting/Scarf', 'Handmade/Knitting/Women', 'Handmade/Music/Equipment', 'Handmade/Music/Instrument', 'Handmade/Music/Other', 'Handmade/Music/Poster', 'Handmade/Music/Tape', 'Handmade/Music/Vinyl', 'Handmade/Needlecraft/Accessories', 'Handmade/Needlecraft/Clothing', 'Handmade/Needlecraft/Cross Stitch', 'Handmade/Needlecraft/Doll', 'Handmade/Needlecraft/Embroidery', 'Handmade/Needlecraft/Felted', 'Handmade/Needlecraft/Needlepoint', 'Handmade/Needlecraft/Other', 'Handmade/Needlecraft/Pattern', 'Handmade/Needlecraft/Pillow', 'Handmade/Needlecraft/Supplies', 'Handmade/Other/Other', 'Handmade/Others/Custom', 'Handmade/Others/Educational', 'Handmade/Others/Graphic Design', 'Handmade/Others/Magic', 'Handmade/Others/Other', 'Handmade/Others/Personalized', 'Handmade/Others/Religious', 'Handmade/Paper Goods/Bookmark', 'Handmade/Paper Goods/Calendar', 'Handmade/Paper Goods/Cards', 'Handmade/Paper Goods/Gift Wrap', 'Handmade/Paper Goods/Journal', 'Handmade/Paper Goods/Notebook', 'Handmade/Paper Goods/Origami', 'Handmade/Paper Goods/Other', 'Handmade/Paper Goods/Pad', 'Handmade/Paper Goods/Papermaking', 'Handmade/Paper Goods/Scrapbooking', 'Handmade/Paper Goods/Stationery', 'Handmade/Paper Goods/Sticker', 'Handmade/Paper Goods/Tag', 'Handmade/Patterns/Accessories', 'Handmade/Patterns/Baby', 'Handmade/Patterns/Beading', 'Handmade/Patterns/Crochet', 'Handmade/Patterns/Cross Stitch', 'Handmade/Patterns/Doll Clothing', 'Handmade/Patterns/Embroidery', 'Handmade/Patterns/Handmade', 'Handmade/Patterns/Knitting', 'Handmade/Patterns/Other', 'Handmade/Patterns/Painting', 'Handmade/Patterns/Quilt', 'Handmade/Patterns/Sewing', 'Handmade/Pets/Accessories', 'Handmade/Pets/Bed', 'Handmade/Pets/Blanket', 'Handmade/Pets/Bowl', 'Handmade/Pets/Clothing', 'Handmade/Pets/Collar', 'Handmade/Pets/Feeding', 'Handmade/Pets/Grooming', 'Handmade/Pets/House', 'Handmade/Pets/Leash', 'Handmade/Pets/Other', 'Handmade/Pets/Pet Lover', 'Handmade/Pets/Small Animal', 'Handmade/Pets/Tag', 'Handmade/Pets/Toy', 'Handmade/Quilts/Baby', 'Handmade/Quilts/Bed', 'Handmade/Quilts/Fabric Postcard', 'Handmade/Quilts/Other', 'Handmade/Quilts/Patch', 'Handmade/Quilts/Patchwork', 'Handmade/Quilts/Pillow', 'Handmade/Quilts/Trim', 'Handmade/Quilts/Wall Hanging', 'Handmade/Toys/Bear', 'Handmade/Toys/Children', 'Handmade/Toys/Doll Clothes', 'Handmade/Toys/Food', 'Handmade/Toys/Game', 'Handmade/Toys/Other', 'Handmade/Toys/Plush', 'Handmade/Toys/Sports', 'Handmade/Weddings/Accessories', 'Handmade/Weddings/Bags and Purses', 'Handmade/Weddings/Bouquets', 'Handmade/Weddings/Cake Toppers', 'Handmade/Weddings/Candles', 'Handmade/Weddings/Cards', 'Handmade/Weddings/Clothing', 'Handmade/Weddings/Decorations', 'Handmade/Weddings/Favors', 'Handmade/Weddings/Frames', 'Handmade/Weddings/Guest Books', 'Handmade/Weddings/Invitations', 'Handmade/Weddings/Jewelry', 'Handmade/Weddings/Just Married', 'Handmade/Weddings/Men', 'Handmade/Weddings/Other', 'Handmade/Weddings/Pillows', 'Handmade/Weddings/Something Blue', 'Handmade/Woodworking/Accessories', 'Handmade/Woodworking/Boxes', 'Handmade/Woodworking/Burning', 'Handmade/Woodworking/Carving', 'Handmade/Woodworking/Home Decor', 'Handmade/Woodworking/Jewelry', 'Handmade/Woodworking/Other', 'Handmade/Woodworking/Outdoor', 'Handmade/Woodworking/Sculptures', 'Handmade/Woodworking/Seasonal', 'Handmade/Woodworking/Signs', 'Handmade/Woodworking/Sports', 'Handmade/Woodworking/Supplies', 'Handmade/Woodworking/Toys', 'Home/Artwork/Drawings', 'Home/Artwork/Lithographs, Etchings & Woodcuts', 'Home/Artwork/Other', 'Home/Artwork/Paintings', 'Home/Artwork/Photographs', 'Home/Artwork/Posters & Prints', 'Home/Bath/Bath Linen Sets', 'Home/Bath/Bath Rugs', 'Home/Bath/Bathroom Accessories', 'Home/Bath/Bathroom Furniture Sets', 'Home/Bath/Bathroom Shelves', 'Home/Bath/Other', 'Home/Bath/Towels', 'Home/Bedding/Bed Pillows', 'Home/Bedding/Bed in a Bag', 'Home/Bedding/Bedspreads & Coverlets', 'Home/Bedding/Blankets & Throws', 'Home/Bedding/Comforters & Sets', 'Home/Bedding/Decorative Pillows, Inserts & Covers', 'Home/Bedding/Duvet Covers & Sets', 'Home/Bedding/Feather Beds', 'Home/Bedding/Inflatable Beds', 'Home/Bedding/Mattress Pads', 'Home/Bedding/Other', 'Home/Bedding/Quilts', 'Home/Bedding/Shams, Bed Skirts & Bed Frame Draperies', 'Home/Bedding/Sheets & Pillowcases', 'Home/Cleaning Supplies/Air Fresheners', 'Home/Cleaning Supplies/Brushes', 'Home/Cleaning Supplies/Dusting', 'Home/Cleaning Supplies/Gloves', 'Home/Cleaning Supplies/Household Cleaners', 'Home/Cleaning Supplies/Jewelry Boxes & Organizers', 'Home/Cleaning Supplies/Mopping', 'Home/Cleaning Supplies/Other', 'Home/Cleaning Supplies/Paper Towels', 'Home/Cleaning Supplies/Sponges', 'Home/Cleaning Supplies/Sweeping', 'Home/Cleaning Supplies/Trash Bags', 'Home/Furniture/Bathroom Furniture', 'Home/Furniture/Bedroom Furniture', 'Home/Furniture/Home Bar Furniture', 'Home/Furniture/Home Entertainment Furniture', 'Home/Furniture/Home Office Furniture', 'Home/Furniture/Living Room Furniture', 'Home/Furniture/Other', 'Home/Furniture/Other Furniture', 'Home/Furniture/Replacement Parts', 'Home/Home Appliances/Air Conditioners', 'Home/Home Appliances/Air Purifiers', 'Home/Home Appliances/Dehumidifiers', 'Home/Home Appliances/Dishwashers', 'Home/Home Appliances/Fans', 'Home/Home Appliances/Freezers & Ice Makers', 'Home/Home Appliances/Garbage Disposals', 'Home/Home Appliances/Garment Steamers', 'Home/Home Appliances/Humidifiers', 'Home/Home Appliances/Irons & Ironing Boards', 'Home/Home Appliances/Kitchen Appliances', 'Home/Home Appliances/Microwaves', 'Home/Home Appliances/Refrigerators', 'Home/Home Appliances/Space Heaters', 'Home/Home Appliances/Vacuums & Floor Care', 'Home/Home Appliances/Washers & Dryers', 'Home/Home Appliances/Water Coolers & Filters', 'Home/Home Appliances/Wine, Beer & Beverage Coolers', 'Home/Home Décor/Area Rugs & Pads', 'Home/Home Décor/Baskets', 'Home/Home Décor/Candles & Holders', 'Home/Home Décor/Clocks', 'Home/Home Décor/Decorative Pillows', 'Home/Home Décor/Doormats', 'Home/Home Décor/Doorstops', 'Home/Home Décor/Draft Stoppers', 'Home/Home Décor/Fireplaces & Accessories', 'Home/Home Décor/Home Décor Accents', 'Home/Home Décor/Home Fragrance', 'Home/Home Décor/Lamps& Accessories', 'Home/Home Décor/Mirrors', 'Home/Home Décor/Other', 'Home/Home Décor/Photo Albums & Frames', 'Home/Home Décor/Slipcovers', 'Home/Home Décor/Tapestries', 'Home/Home Décor/Vases', 'Home/Home Décor/Window Treatments', \"Home/Kids' Home Store/Kids' Bath\", \"Home/Kids' Home Store/Kids' Bedding\", \"Home/Kids' Home Store/Kids' Flatware\", \"Home/Kids' Home Store/Kids' Furniture\", \"Home/Kids' Home Store/Kids' Room Décor\", \"Home/Kids' Home Store/Nursery Bedding\", \"Home/Kids' Home Store/Nursery Décor\", \"Home/Kids' Home Store/Nursery Furniture\", \"Home/Kids' Home Store/Other\", 'Home/Kitchen & Dining/Bakeware', 'Home/Kitchen & Dining/Coffee & Tea Accessories', 'Home/Kitchen & Dining/Cookware', 'Home/Kitchen & Dining/Dining & Entertaining', 'Home/Kitchen & Dining/Food Service Equipment & Supplies', 'Home/Kitchen & Dining/Home Brewing & Wine Making', 'Home/Kitchen & Dining/Kitchen & Table Linens', 'Home/Kitchen & Dining/Kitchen Knives & Cutlery Accessories', 'Home/Kitchen & Dining/Kitchen Utensils & Gadgets', 'Home/Kitchen & Dining/Other', 'Home/Kitchen & Dining/Small Appliances', 'Home/Kitchen & Dining/Storage & Organization', 'Home/Kitchen & Dining/Water Coolers & Filters', 'Home/Kitchen & Dining/Wine Accessories', 'Home/Other/Other', 'Home/Seasonal Décor/Birthday', 'Home/Seasonal Décor/Christmas', 'Home/Seasonal Décor/Day of the Dead', 'Home/Seasonal Décor/Easter', 'Home/Seasonal Décor/Halloween', 'Home/Seasonal Décor/Hanukkah', \"Home/Seasonal Décor/New Year's\", 'Home/Seasonal Décor/Other', 'Home/Seasonal Décor/Patriotic', \"Home/Seasonal Décor/St Patrick's\", 'Home/Seasonal Décor/Thanksgiving', 'Home/Seasonal Décor/Valentine', 'Home/Storage & Organization/Baskets & Bins', 'Home/Storage & Organization/Bathroom Storage & Organization', 'Home/Storage & Organization/Clothing & Closet Storage', 'Home/Storage & Organization/Garage Storage & Organization', 'Home/Storage & Organization/Holiday Décor Storage', 'Home/Storage & Organization/Jewelry Boxes & Organizers', 'Home/Storage & Organization/Kitchen Storage & Organization', 'Home/Storage & Organization/Laundry Storage & Organization', 'Home/Storage & Organization/Other', 'Home/Storage & Organization/Racks, Shelves & Drawers', 'Home/Storage & Organization/Storage Cabinets', 'Home/Storage & Organization/Trash & Recycling', 'Kids/Bathing & Skin Care/Bathing Tubs & Seats', 'Kids/Bathing & Skin Care/Bathroom Safety', 'Kids/Bathing & Skin Care/Bubble Bath', 'Kids/Bathing & Skin Care/Conditioners', 'Kids/Bathing & Skin Care/Grooming & Healthcare Kits', 'Kids/Bathing & Skin Care/Non-Slip Bath Mats', 'Kids/Bathing & Skin Care/Other', 'Kids/Bathing & Skin Care/Shampoo', 'Kids/Bathing & Skin Care/Skin Care', 'Kids/Bathing & Skin Care/Soaps & Cleansers', 'Kids/Bathing & Skin Care/Travel Bathing Kits', 'Kids/Bathing & Skin Care/Washcloths & Towels', 'Kids/Boys (4+)/Accessories', 'Kids/Boys (4+)/Bottoms', 'Kids/Boys (4+)/Coats & Jackets', 'Kids/Boys (4+)/Other', 'Kids/Boys (4+)/Shoes', 'Kids/Boys (4+)/Swimwear', 'Kids/Boys (4+)/Top & T-shirts', 'Kids/Boys 0-24 Mos/Accessories', 'Kids/Boys 0-24 Mos/Bottoms', 'Kids/Boys 0-24 Mos/Coats & Jackets', 'Kids/Boys 0-24 Mos/One-Pieces', 'Kids/Boys 0-24 Mos/Other', 'Kids/Boys 0-24 Mos/Shoes', 'Kids/Boys 0-24 Mos/Swimwear', 'Kids/Boys 0-24 Mos/Tops & T-Shirts', 'Kids/Boys 2T-5T/Accessories', 'Kids/Boys 2T-5T/Bottoms', 'Kids/Boys 2T-5T/Coats & Jackets', 'Kids/Boys 2T-5T/One-Pieces', 'Kids/Boys 2T-5T/Other', 'Kids/Boys 2T-5T/Shoes', 'Kids/Boys 2T-5T/Swimwear', 'Kids/Boys 2T-5T/Tops & T-Shirts', 'Kids/Car Seats & Accessories/Accessories', 'Kids/Car Seats & Accessories/Car Seats', 'Kids/Car Seats & Accessories/Other', 'Kids/Diapering/Changing Kits', 'Kids/Diapering/Changing Pads & Covers', 'Kids/Diapering/Cloth Diapers', 'Kids/Diapering/Diaper Bags', 'Kids/Diapering/Diaper Pails & Refills', 'Kids/Diapering/Diaper Stackers & Caddies', 'Kids/Diapering/Disposable Diapers', 'Kids/Diapering/Other', 'Kids/Diapering/Powders & Lotions', 'Kids/Diapering/Washcloths & Towels', 'Kids/Diapering/Wipes & Holders', 'Kids/Feeding/Bottle-Feeding', 'Kids/Feeding/Breastfeeding', 'Kids/Feeding/Gift Sets', 'Kids/Feeding/Highchairs & Booster Seats', 'Kids/Feeding/Other', 'Kids/Feeding/Pacifiers & Accessories', 'Kids/Feeding/Pillows & Stools', 'Kids/Feeding/Storage & Containers', 'Kids/Gear/Activity Centers & Entertainers', 'Kids/Gear/Baby Gyms & Playmats', 'Kids/Gear/Baby Seats', 'Kids/Gear/Backpacks & Carriers', 'Kids/Gear/Bicycle Child Seats & Trailers', 'Kids/Gear/Harnesses & Leashes', 'Kids/Gear/Other', 'Kids/Gear/Playard Bedding', 'Kids/Gear/Playards', 'Kids/Gear/Shopping Cart Covers', 'Kids/Gear/Swings, Jumpers & Bouncers', 'Kids/Gear/Travel Beds', 'Kids/Gear/Walkers', 'Kids/Girls (4+)/Accessories', 'Kids/Girls (4+)/Coats & Jackets', 'Kids/Girls (4+)/Dresses', 'Kids/Girls (4+)/Jeans', 'Kids/Girls (4+)/Other', 'Kids/Girls (4+)/Shoes', 'Kids/Girls (4+)/Swimwear', 'Kids/Girls (4+)/Tops & T-Shirts', 'Kids/Girls 0-24 Mos/Accessories', 'Kids/Girls 0-24 Mos/Bottoms', 'Kids/Girls 0-24 Mos/Coats & Jackets', 'Kids/Girls 0-24 Mos/Dresses', 'Kids/Girls 0-24 Mos/One-Pieces', 'Kids/Girls 0-24 Mos/Other', 'Kids/Girls 0-24 Mos/Shoes', 'Kids/Girls 0-24 Mos/Swimwear', 'Kids/Girls 0-24 Mos/Tops & T-Shirts', 'Kids/Girls 2T-5T/Accessories', 'Kids/Girls 2T-5T/Bottoms', 'Kids/Girls 2T-5T/Coats & Jackets', 'Kids/Girls 2T-5T/Dresses', 'Kids/Girls 2T-5T/One-Pieces', 'Kids/Girls 2T-5T/Other', 'Kids/Girls 2T-5T/Shoes', 'Kids/Girls 2T-5T/Swimwear', 'Kids/Girls 2T-5T/Tops & T-Shirts', 'Kids/Health & Baby Care/Humidifiers & Vaporizers', 'Kids/Health & Baby Care/Nail Care', 'Kids/Health & Baby Care/Nasal Aspirators', 'Kids/Health & Baby Care/Other', 'Kids/Health & Baby Care/Sun Protection', 'Kids/Health & Baby Care/Teethers', 'Kids/Health & Baby Care/Teething Relief', 'Kids/Health & Baby Care/Thermometers', 'Kids/Health & Baby Care/Toothbrushes', 'Kids/Nursery/Bedding', 'Kids/Nursery/Furniture', 'Kids/Nursery/Nursery Décor', 'Kids/Nursery/Other', 'Kids/Other/Other', 'Kids/Potty Training/Other', 'Kids/Potty Training/Potties & Seats', 'Kids/Potty Training/Seat Covers', 'Kids/Potty Training/Step Stools', 'Kids/Potty Training/Training Pants', 'Kids/Pregnancy & Maternity/Breastfeeding Pillows & Stools', 'Kids/Pregnancy & Maternity/Family Planning Tests', 'Kids/Pregnancy & Maternity/Maternity Pillows', 'Kids/Pregnancy & Maternity/Other', 'Kids/Pregnancy & Maternity/Prenatal Monitoring Devices', 'Kids/Safety/Bathroom Safety', 'Kids/Safety/Cabinet Locks & Straps', 'Kids/Safety/Crib Netting', 'Kids/Safety/Edge & Corner Guards', 'Kids/Safety/Electrical Safety', 'Kids/Safety/Gates & Doorways', 'Kids/Safety/Harnesses & Leashes', 'Kids/Safety/Kitchen Safety', 'Kids/Safety/Monitors', 'Kids/Safety/Other', 'Kids/Safety/Outdoor Safety', 'Kids/Safety/Safety Caps', 'Kids/Safety/Sleep Positioners', 'Kids/Strollers/Accessories', 'Kids/Strollers/Joggers', 'Kids/Strollers/Lightweight', 'Kids/Strollers/Other', 'Kids/Strollers/Prams', 'Kids/Strollers/Standard', 'Kids/Strollers/Travel Systems', 'Kids/Toys/Action Figures & Statues', 'Kids/Toys/Arts & Crafts', 'Kids/Toys/Baby & Toddler Toys', 'Kids/Toys/Building Toys', 'Kids/Toys/Dolls & Accessories', 'Kids/Toys/Dress Up & Pretend Play', 'Kids/Toys/Electronics for Kids', 'Kids/Toys/Games', 'Kids/Toys/Hobbies', \"Kids/Toys/Kids' Furniture, Décor & Storage\", 'Kids/Toys/Learning & Education', 'Kids/Toys/Novelty & Gag Toys', 'Kids/Toys/Other', 'Kids/Toys/Party Supplies', 'Kids/Toys/Puzzles', 'Kids/Toys/Sports & Outdoor Play', 'Kids/Toys/Stuffed Animals & Plush', 'Kids/Toys/Toy Remote Control & Play Vehicles', 'Kids/Toys/Tricycles, Scooters & Wagons', 'Men/Athletic Apparel/Competitive Swimwear', 'Men/Athletic Apparel/Jackets', 'Men/Athletic Apparel/Jerseys', 'Men/Athletic Apparel/Other', 'Men/Athletic Apparel/Pants', 'Men/Athletic Apparel/Shirts & Tops', 'Men/Athletic Apparel/Shorts', 'Men/Athletic Apparel/Snowsuits & Bibs', 'Men/Athletic Apparel/Socks', 'Men/Athletic Apparel/Tracksuits & Sweats', 'Men/Athletic Apparel/Vests', 'Men/Blazers & Sport Coats/Double Breasted', 'Men/Blazers & Sport Coats/One Button', 'Men/Blazers & Sport Coats/Other', 'Men/Blazers & Sport Coats/Three Button', 'Men/Blazers & Sport Coats/Two Button', 'Men/Coats & Jackets/Fleece Jacket', 'Men/Coats & Jackets/Flight/Bomber', 'Men/Coats & Jackets/Jean Jacket', 'Men/Coats & Jackets/Military', 'Men/Coats & Jackets/Motorcycle', 'Men/Coats & Jackets/Other', 'Men/Coats & Jackets/Parka', 'Men/Coats & Jackets/Peacoat', 'Men/Coats & Jackets/Poncho', 'Men/Coats & Jackets/Puffer', 'Men/Coats & Jackets/Rainwear', 'Men/Coats & Jackets/Trench', 'Men/Coats & Jackets/Varsity/Baseball', 'Men/Coats & Jackets/Vest', 'Men/Coats & Jackets/Windbreaker', 'Men/Coats & Jackets/Wool', 'Men/Jeans/Baggy, Loose', 'Men/Jeans/Boot Cut', 'Men/Jeans/Cargo', 'Men/Jeans/Carpenter', 'Men/Jeans/Classic, Straight Leg', 'Men/Jeans/Other', 'Men/Jeans/Overalls', 'Men/Jeans/Relaxed', 'Men/Jeans/Slim, Skinny', \"Men/Men's Accessories/Backpacks, Bags & Briefcases\", \"Men/Men's Accessories/Belts\", \"Men/Men's Accessories/Hats\", \"Men/Men's Accessories/Other\", \"Men/Men's Accessories/Sunglasses\", \"Men/Men's Accessories/Ties\", \"Men/Men's Accessories/Wallets\", \"Men/Men's Accessories/Watches\", 'Men/Other/Other', 'Men/Pants/Cargo', 'Men/Pants/Carpenter', 'Men/Pants/Casual Pants', 'Men/Pants/Corduroys', 'Men/Pants/Dress - Flat Front', 'Men/Pants/Dress - Pleat', 'Men/Pants/Khakis, Chinos', 'Men/Pants/Other', 'Men/Shoes/Athletic', 'Men/Shoes/Boots', 'Men/Shoes/Fashion Sneakers', 'Men/Shoes/Loafers & Slip-Ons', 'Men/Shoes/Mules & Clogs', 'Men/Shoes/Outdoor', 'Men/Shoes/Oxfords', 'Men/Shoes/Sandals', 'Men/Shoes/Slippers', 'Men/Shoes/Work & Safety', 'Men/Shorts/Athletic', 'Men/Shorts/Board, Surf', 'Men/Shorts/Cargo', 'Men/Shorts/Carpenter, Utility', 'Men/Shorts/Casual Shorts', 'Men/Shorts/Denim', 'Men/Shorts/Dress Shorts', 'Men/Shorts/Khakis, Chinos', 'Men/Shorts/Other', 'Men/Suits/Four Button', 'Men/Suits/One Button', 'Men/Suits/Other', 'Men/Suits/Three Button', 'Men/Suits/Tuxedo', 'Men/Suits/Two Button', 'Men/Sweaters/Cardigan', 'Men/Sweaters/Crewneck', 'Men/Sweaters/Full Zip', 'Men/Sweaters/Other', 'Men/Sweaters/Polo', 'Men/Sweaters/Turtleneck', 'Men/Sweaters/V-Neck', 'Men/Sweaters/Vest', 'Men/Sweats & Hoodies/Hoodie', 'Men/Sweats & Hoodies/Other', 'Men/Sweats & Hoodies/Sweatshirt, Pullover', 'Men/Sweats & Hoodies/Track & Sweat Pants', 'Men/Sweats & Hoodies/Track & Sweat Suits', 'Men/Sweats & Hoodies/Track Jacket', 'Men/Swimwear/Board Shorts', 'Men/Swimwear/Swim Briefs', 'Men/Swimwear/Swim Trunks', 'Men/Tops/Button-Front', 'Men/Tops/Dress Shirts', 'Men/Tops/Hawaiian', 'Men/Tops/Henley', 'Men/Tops/Other', 'Men/Tops/Polo, Rugby', 'Men/Tops/T-shirts', 'Men/Tops/Tank', 'Men/Tops/Turtleneck', 'Other/Automotive/Automotive Enthusiast Merchandise', 'Other/Automotive/Car Care', 'Other/Automotive/Car Electronics & Accessories', 'Other/Automotive/Exterior Accessories', 'Other/Automotive/Interior Accessories', 'Other/Automotive/Lights & Lighting Accessories', 'Other/Automotive/Motorcycle & Powersports', 'Other/Automotive/Oils & Fluids', 'Other/Automotive/Other', 'Other/Automotive/Paint, Body & Trim', 'Other/Automotive/Performance Parts & Accessories', 'Other/Automotive/RV Parts & Accessories', 'Other/Automotive/Replacement Parts', 'Other/Automotive/Tires & Wheels', 'Other/Automotive/Tools & Equipment', 'Other/Books/Arts & Photography', 'Other/Books/Biographies & Memoirs', 'Other/Books/Business & Money', \"Other/Books/Children's Books\", 'Other/Books/Christian Books & Bibles', 'Other/Books/Education & Teaching', 'Other/Books/Engineering & Transportation', 'Other/Books/History', 'Other/Books/Literature & Fiction', 'Other/Books/Medical Books', 'Other/Books/Other', 'Other/Books/Politics & Social Sciences', 'Other/Books/Reference', 'Other/Books/Religion & Spirituality', 'Other/Books/Science & Math', 'Other/Daily & Travel items/Baby & Child Care', 'Other/Daily & Travel items/Health Care', 'Other/Daily & Travel items/Household Supplies', 'Other/Daily & Travel items/Medical Supplies & Equipment', 'Other/Daily & Travel items/Other', 'Other/Daily & Travel items/Personal Care', 'Other/Daily & Travel items/Sports Nutrition', 'Other/Daily & Travel items/Stationery & Party Supplies', 'Other/Magazines/International Publications', 'Other/Magazines/Lifestyle & Cultures', 'Other/Magazines/Other', 'Other/Musical instruments/Amplifiers & Effects', 'Other/Musical instruments/Band & Orchestra', 'Other/Musical instruments/Bass Guitars', 'Other/Musical instruments/Brass Instruments', 'Other/Musical instruments/DJ, Electronic Music & Karaoke', 'Other/Musical instruments/Drums & Percussion', 'Other/Musical instruments/Guitars', 'Other/Musical instruments/Instrument Accessories', 'Other/Musical instruments/Keyboards', 'Other/Musical instruments/Live Sound & Stage', 'Other/Musical instruments/Microphones & Accessories', 'Other/Musical instruments/Other', 'Other/Musical instruments/Stringed Instruments', 'Other/Musical instruments/Studio Recording Equipment', 'Other/Musical instruments/Wind & Woodwind Instruments', 'Other/Office supplies/Basic Supplies', 'Other/Office supplies/Calendars', 'Other/Office supplies/Electronics', 'Other/Office supplies/Furniture', 'Other/Office supplies/Ink & Toner', 'Other/Office supplies/Organization', 'Other/Office supplies/Other', 'Other/Office supplies/Paper', 'Other/Office supplies/Presentation', 'Other/Office supplies/School Supplies', 'Other/Office supplies/Shipping Supplies', 'Other/Office supplies/Writing', 'Other/Other/Other', 'Other/Pet Supplies/Cage', 'Other/Pet Supplies/Dogs', 'Other/Pet Supplies/Others', 'Other/Pet Supplies/Pet Food', 'Other_Null', 'Sports & Outdoors/Apparel/Accessories', 'Sports & Outdoors/Apparel/Boys', 'Sports & Outdoors/Apparel/Girls', 'Sports & Outdoors/Apparel/Men', 'Sports & Outdoors/Apparel/Other', 'Sports & Outdoors/Apparel/Women', 'Sports & Outdoors/Exercise/Athletic Training', 'Sports & Outdoors/Exercise/Bowling', 'Sports & Outdoors/Exercise/Boxing & MMA', 'Sports & Outdoors/Exercise/Dance/Ballet', 'Sports & Outdoors/Exercise/Fitness accessories', 'Sports & Outdoors/Exercise/Fitness technology', 'Sports & Outdoors/Exercise/Other', 'Sports & Outdoors/Exercise/Strength training', 'Sports & Outdoors/Exercise/Track & Field', 'Sports & Outdoors/Exercise/Yoga & Pilates', 'Sports & Outdoors/Fan Shop/MLB', 'Sports & Outdoors/Fan Shop/NBA', 'Sports & Outdoors/Fan Shop/NCAA', 'Sports & Outdoors/Fan Shop/NFL', 'Sports & Outdoors/Fan Shop/NHL', 'Sports & Outdoors/Fan Shop/Other', 'Sports & Outdoors/Footwear/Cleats', 'Sports & Outdoors/Footwear/Kids', 'Sports & Outdoors/Footwear/Men', 'Sports & Outdoors/Footwear/Other', 'Sports & Outdoors/Footwear/Women', 'Sports & Outdoors/Golf/Electronics', 'Sports & Outdoors/Golf/Golf Apparel', 'Sports & Outdoors/Golf/Golf Bags', 'Sports & Outdoors/Golf/Golf Balls', 'Sports & Outdoors/Golf/Golf Shoes', \"Sports & Outdoors/Golf/Men's Golf Clubs\", 'Sports & Outdoors/Golf/Other', \"Sports & Outdoors/Golf/Women's Golf Clubs\", 'Sports & Outdoors/Other/Other', 'Sports & Outdoors/Outdoors/Bike & Skate', 'Sports & Outdoors/Outdoors/Boating', 'Sports & Outdoors/Outdoors/Fishing', 'Sports & Outdoors/Outdoors/Hiking & Camping', 'Sports & Outdoors/Outdoors/Indoor/Outdoor Games', 'Sports & Outdoors/Outdoors/Other', 'Sports & Outdoors/Outdoors/Skateboard', 'Sports & Outdoors/Outdoors/Snowboard', 'Sports & Outdoors/Outdoors/Water Sports', 'Sports & Outdoors/Team Sports/All Other Sports', 'Sports & Outdoors/Team Sports/Badminton', 'Sports & Outdoors/Team Sports/Baseball & Softball', 'Sports & Outdoors/Team Sports/Basketball', 'Sports & Outdoors/Team Sports/Football', 'Sports & Outdoors/Team Sports/Hockey', 'Sports & Outdoors/Team Sports/Lacrosse', 'Sports & Outdoors/Team Sports/Soccer', 'Sports & Outdoors/Team Sports/Tennis & Racquets', 'Sports & Outdoors/Team Sports/Volleyball', 'Vintage & Collectibles/Accessories/Apron', 'Vintage & Collectibles/Accessories/Belt', 'Vintage & Collectibles/Accessories/Brooch', 'Vintage & Collectibles/Accessories/Buckle', 'Vintage & Collectibles/Accessories/Compact', 'Vintage & Collectibles/Accessories/Cuff Links', 'Vintage & Collectibles/Accessories/Eyewear', 'Vintage & Collectibles/Accessories/Gloves', 'Vintage & Collectibles/Accessories/Handkerchief', 'Vintage & Collectibles/Accessories/Hat', 'Vintage & Collectibles/Accessories/Keychain', 'Vintage & Collectibles/Accessories/Necktie', 'Vintage & Collectibles/Accessories/Other', 'Vintage & Collectibles/Accessories/Scarf', 'Vintage & Collectibles/Accessories/Shoes', 'Vintage & Collectibles/Accessories/Wallet', 'Vintage & Collectibles/Antique/100 Years or Older', 'Vintage & Collectibles/Antique/50 To 75 Years', 'Vintage & Collectibles/Antique/75 To 100 Years', 'Vintage & Collectibles/Antique/Accessories', 'Vintage & Collectibles/Antique/Bags and Purses', 'Vintage & Collectibles/Antique/Book', 'Vintage & Collectibles/Antique/Collectibles', 'Vintage & Collectibles/Antique/Electronics', 'Vintage & Collectibles/Antique/Furniture', 'Vintage & Collectibles/Antique/Home Decor', 'Vintage & Collectibles/Antique/Housewares', 'Vintage & Collectibles/Antique/Jewelry', 'Vintage & Collectibles/Antique/Other', 'Vintage & Collectibles/Antique/Paper Ephemera', 'Vintage & Collectibles/Antique/Serving', 'Vintage & Collectibles/Antique/Supplies', 'Vintage & Collectibles/Antique/Toy', 'Vintage & Collectibles/Bags and Purses/Case', 'Vintage & Collectibles/Bags and Purses/Change Purse', 'Vintage & Collectibles/Bags and Purses/Clutch', 'Vintage & Collectibles/Bags and Purses/Diaper Bag', 'Vintage & Collectibles/Bags and Purses/Formal', 'Vintage & Collectibles/Bags and Purses/Handbag', 'Vintage & Collectibles/Bags and Purses/Leather', 'Vintage & Collectibles/Bags and Purses/Luggage', 'Vintage & Collectibles/Bags and Purses/Other', 'Vintage & Collectibles/Bags and Purses/Pouch', 'Vintage & Collectibles/Bags and Purses/Purse', 'Vintage & Collectibles/Bags and Purses/Tote', 'Vintage & Collectibles/Bags and Purses/Wallet', 'Vintage & Collectibles/Book/Art', 'Vintage & Collectibles/Book/Biography', 'Vintage & Collectibles/Book/Children', 'Vintage & Collectibles/Book/Comics', 'Vintage & Collectibles/Book/Cookbook', 'Vintage & Collectibles/Book/Crafting', 'Vintage & Collectibles/Book/Decorating', 'Vintage & Collectibles/Book/Fiction', 'Vintage & Collectibles/Book/Health', 'Vintage & Collectibles/Book/History', 'Vintage & Collectibles/Book/How to', 'Vintage & Collectibles/Book/Illustrated', 'Vintage & Collectibles/Book/Instructional', 'Vintage & Collectibles/Book/Nonfiction', 'Vintage & Collectibles/Book/Other', 'Vintage & Collectibles/Book/Poetry', 'Vintage & Collectibles/Book/Reference', 'Vintage & Collectibles/Book/Religion', 'Vintage & Collectibles/Book/Science', 'Vintage & Collectibles/Book/Scifi', 'Vintage & Collectibles/Clothing/Baby', 'Vintage & Collectibles/Clothing/Blouse', 'Vintage & Collectibles/Clothing/Children', 'Vintage & Collectibles/Clothing/Corset', 'Vintage & Collectibles/Clothing/Dress', 'Vintage & Collectibles/Clothing/Jacket', 'Vintage & Collectibles/Clothing/Other', 'Vintage & Collectibles/Clothing/Outerwear', 'Vintage & Collectibles/Clothing/Pants', 'Vintage & Collectibles/Clothing/Shawl', 'Vintage & Collectibles/Clothing/Shirt', 'Vintage & Collectibles/Clothing/Shorts', 'Vintage & Collectibles/Clothing/Skirt', 'Vintage & Collectibles/Clothing/Sweater', 'Vintage & Collectibles/Clothing/Swimwear', 'Vintage & Collectibles/Clothing/Tank', 'Vintage & Collectibles/Clothing/Tshirt', 'Vintage & Collectibles/Collectibles/Doll', 'Vintage & Collectibles/Collectibles/Figurine', 'Vintage & Collectibles/Collectibles/Glass', 'Vintage & Collectibles/Collectibles/Other', 'Vintage & Collectibles/Collectibles/Porcelain', 'Vintage & Collectibles/Collectibles/Souvenir', 'Vintage & Collectibles/Electronics/Camera', 'Vintage & Collectibles/Electronics/Clock', 'Vintage & Collectibles/Electronics/Game', 'Vintage & Collectibles/Electronics/Other', 'Vintage & Collectibles/Electronics/Radio', 'Vintage & Collectibles/Electronics/Telephone', 'Vintage & Collectibles/Electronics/Television', 'Vintage & Collectibles/Electronics/Video Game', 'Vintage & Collectibles/Furniture/Chair', 'Vintage & Collectibles/Furniture/Entertainment', 'Vintage & Collectibles/Furniture/Fixture', 'Vintage & Collectibles/Furniture/Other', 'Vintage & Collectibles/Furniture/Shelf', 'Vintage & Collectibles/Furniture/Storage', 'Vintage & Collectibles/Home Decor/Basket', 'Vintage & Collectibles/Home Decor/Bedding', 'Vintage & Collectibles/Home Decor/Box', 'Vintage & Collectibles/Home Decor/Candle Holder', 'Vintage & Collectibles/Home Decor/Frame', 'Vintage & Collectibles/Home Decor/Lighting', 'Vintage & Collectibles/Home Decor/Linens', 'Vintage & Collectibles/Home Decor/Other', 'Vintage & Collectibles/Home Decor/Pillow', 'Vintage & Collectibles/Home Decor/Planter', 'Vintage & Collectibles/Home Decor/Tray', 'Vintage & Collectibles/Home Decor/Vase', 'Vintage & Collectibles/Home Decor/Wall Hanging', 'Vintage & Collectibles/Housewares/Bowl', 'Vintage & Collectibles/Housewares/Box', 'Vintage & Collectibles/Housewares/Ceramic', 'Vintage & Collectibles/Housewares/Coaster', 'Vintage & Collectibles/Housewares/Cup', 'Vintage & Collectibles/Housewares/Glass', 'Vintage & Collectibles/Housewares/Light', 'Vintage & Collectibles/Housewares/Magnet', 'Vintage & Collectibles/Housewares/Other', 'Vintage & Collectibles/Housewares/Plate', 'Vintage & Collectibles/Housewares/Pot Holder', 'Vintage & Collectibles/Housewares/Table', 'Vintage & Collectibles/Housewares/Towel', 'Vintage & Collectibles/Housewares/Tray', 'Vintage & Collectibles/Jewelry/Bracelet', 'Vintage & Collectibles/Jewelry/Brooch', 'Vintage & Collectibles/Jewelry/Earrings', 'Vintage & Collectibles/Jewelry/Necklace', 'Vintage & Collectibles/Jewelry/Other', 'Vintage & Collectibles/Jewelry/Pendant', 'Vintage & Collectibles/Jewelry/Ring', 'Vintage & Collectibles/Jewelry/Watch', 'Vintage & Collectibles/Other/Other', 'Vintage & Collectibles/Paper Ephemera/Advertisement', 'Vintage & Collectibles/Paper Ephemera/Game', 'Vintage & Collectibles/Paper Ephemera/Map', 'Vintage & Collectibles/Paper Ephemera/Other', 'Vintage & Collectibles/Paper Ephemera/Postcard', 'Vintage & Collectibles/Paper Ephemera/Stamps', 'Vintage & Collectibles/Serving/Bowl', 'Vintage & Collectibles/Serving/Butter Dish', 'Vintage & Collectibles/Serving/Casserole', 'Vintage & Collectibles/Serving/Cream and Sugar Set', 'Vintage & Collectibles/Serving/Dinnerware Set', 'Vintage & Collectibles/Serving/Flatware', 'Vintage & Collectibles/Serving/Glassware', 'Vintage & Collectibles/Serving/Mug', 'Vintage & Collectibles/Serving/Other', 'Vintage & Collectibles/Serving/Pitcher', 'Vintage & Collectibles/Serving/Plate', 'Vintage & Collectibles/Serving/Platter', 'Vintage & Collectibles/Serving/Salt and Pepper Shakers', 'Vintage & Collectibles/Serving/Teacup', 'Vintage & Collectibles/Serving/Teapot', 'Vintage & Collectibles/Serving/Tray', 'Vintage & Collectibles/Serving/Tumbler', 'Vintage & Collectibles/Supplies/Bead', 'Vintage & Collectibles/Supplies/Button', 'Vintage & Collectibles/Supplies/Cabochon', 'Vintage & Collectibles/Supplies/Chain', 'Vintage & Collectibles/Supplies/Charm', 'Vintage & Collectibles/Supplies/Ephemera', 'Vintage & Collectibles/Supplies/Fabric', 'Vintage & Collectibles/Supplies/Finding', 'Vintage & Collectibles/Supplies/Other', 'Vintage & Collectibles/Supplies/Pattern', 'Vintage & Collectibles/Supplies/Trim', 'Vintage & Collectibles/Supplies/Yarn', 'Vintage & Collectibles/Supplies/Zipper', 'Vintage & Collectibles/Toy/Action Figure', 'Vintage & Collectibles/Toy/Animal', 'Vintage & Collectibles/Toy/Block', 'Vintage & Collectibles/Toy/Car', 'Vintage & Collectibles/Toy/Children', 'Vintage & Collectibles/Toy/Doll', 'Vintage & Collectibles/Toy/Electronic', 'Vintage & Collectibles/Toy/Game', 'Vintage & Collectibles/Toy/Other', 'Vintage & Collectibles/Toy/Puzzle', 'Vintage & Collectibles/Toy/Sport', 'Vintage & Collectibles/Trading Cards/Action, Adventure', 'Vintage & Collectibles/Trading Cards/Animation', 'Vintage & Collectibles/Trading Cards/Comic', 'Vintage & Collectibles/Trading Cards/Historical, Military', 'Vintage & Collectibles/Trading Cards/Other', 'Vintage & Collectibles/Trading Cards/Price Guides & Publications', 'Vintage & Collectibles/Trading Cards/Sci-Fi, Fantasy', 'Vintage & Collectibles/Trading Cards/Sports', 'Vintage & Collectibles/Trading Cards/Vintage', 'Women/Athletic Apparel/Jackets', 'Women/Athletic Apparel/Jerseys', 'Women/Athletic Apparel/Other', 'Women/Athletic Apparel/Pants, Tights, Leggings', 'Women/Athletic Apparel/Shirts & Tops', 'Women/Athletic Apparel/Shorts', 'Women/Athletic Apparel/Skirts, Skorts & Dresses', 'Women/Athletic Apparel/Snowsuits & Bibs', 'Women/Athletic Apparel/Socks', 'Women/Athletic Apparel/Sports Bras', 'Women/Athletic Apparel/Tracksuits & Sweats', 'Women/Athletic Apparel/Vests', 'Women/Coats & Jackets/Cape', 'Women/Coats & Jackets/Fleece Jacket', 'Women/Coats & Jackets/Jean Jacket', 'Women/Coats & Jackets/Military', 'Women/Coats & Jackets/Motorcycle', 'Women/Coats & Jackets/Other', 'Women/Coats & Jackets/Parka', 'Women/Coats & Jackets/Peacoat', 'Women/Coats & Jackets/Poncho', 'Women/Coats & Jackets/Puffer', 'Women/Coats & Jackets/Raincoat', 'Women/Coats & Jackets/Trench', 'Women/Coats & Jackets/Vest', 'Women/Coats & Jackets/Windbreaker', 'Women/Coats & Jackets/Wool', 'Women/Dresses/Above Knee, Mini', 'Women/Dresses/Asymmetrical Hem', 'Women/Dresses/Full-Length', 'Women/Dresses/Knee-Length', 'Women/Dresses/Mid-Calf', 'Women/Dresses/Other', 'Women/Jeans/Boot Cut', 'Women/Jeans/Boyfriend', 'Women/Jeans/Capri, Cropped', 'Women/Jeans/Cargo', 'Women/Jeans/Flare', 'Women/Jeans/Leggings', 'Women/Jeans/Other', 'Women/Jeans/Overalls', 'Women/Jeans/Relaxed', 'Women/Jeans/Slim, Skinny', 'Women/Jeans/Straight Leg', 'Women/Jeans/Wide Leg', 'Women/Jewelry/Bracelets', 'Women/Jewelry/Earrings', 'Women/Jewelry/Necklaces', 'Women/Jewelry/Rings', 'Women/Maternity/Athletic Apparel', 'Women/Maternity/Coats & Jackets', 'Women/Maternity/Dresses', 'Women/Maternity/Jeans', 'Women/Maternity/Other', 'Women/Maternity/Pants', 'Women/Maternity/Skirts', 'Women/Maternity/Suits & Blazers', 'Women/Maternity/Sweaters', 'Women/Maternity/Tops & Blouses', 'Women/Other/Other', 'Women/Pants/Capris, Cropped', 'Women/Pants/Cargo', 'Women/Pants/Casual Pants', 'Women/Pants/Corduroys', 'Women/Pants/Dress Pants', 'Women/Pants/Khakis, Chinos', 'Women/Pants/Leather', 'Women/Pants/Linen', 'Women/Pants/Other', 'Women/Shoes/Athletic', 'Women/Shoes/Boots', 'Women/Shoes/Fashion Sneakers', 'Women/Shoes/Flats', 'Women/Shoes/Loafers & Slip-Ons', 'Women/Shoes/Mules & Clogs', 'Women/Shoes/Other', 'Women/Shoes/Outdoor', 'Women/Shoes/Oxfords', 'Women/Shoes/Pumps', 'Women/Shoes/Sandals', 'Women/Shoes/Slippers', 'Women/Shoes/Work & Safety', 'Women/Skirts/A-Line', 'Women/Skirts/Asymmetrical', 'Women/Skirts/Bubble', 'Women/Skirts/Full Skirt', 'Women/Skirts/Maxi', 'Women/Skirts/Mini', 'Women/Skirts/Other', 'Women/Skirts/Peasant', 'Women/Skirts/Pleated', 'Women/Skirts/Straight, Pencil', 'Women/Skirts/Tiered', 'Women/Skirts/Wrap', 'Women/Suits & Blazers/Blazer', 'Women/Suits & Blazers/Dress Suit', 'Women/Suits & Blazers/Other', 'Women/Suits & Blazers/Pant Suit', 'Women/Suits & Blazers/Skirt Suit', 'Women/Sweaters/Cardigan', 'Women/Sweaters/Collared', 'Women/Sweaters/Cowl Neck', 'Women/Sweaters/Crewneck', 'Women/Sweaters/Full Zip', 'Women/Sweaters/Henley', 'Women/Sweaters/Hooded', 'Women/Sweaters/Other', 'Women/Sweaters/Poncho', 'Women/Sweaters/Scoop Neck', 'Women/Sweaters/Shrug', 'Women/Sweaters/Sweatercoat', 'Women/Sweaters/Tunic', 'Women/Sweaters/Turtleneck, Mock', 'Women/Sweaters/V-Neck', 'Women/Sweaters/Vest, Sleeveless', 'Women/Sweaters/Wrap', 'Women/Swimwear/Beach Accessories', 'Women/Swimwear/Cover-Ups', 'Women/Swimwear/One-Piece', 'Women/Swimwear/Two-Piece', 'Women/Tops & Blouses/Blouse', 'Women/Tops & Blouses/Button Down Shirt', 'Women/Tops & Blouses/Halter', 'Women/Tops & Blouses/Knit Top', 'Women/Tops & Blouses/Other', 'Women/Tops & Blouses/Polo Shirt', 'Women/Tops & Blouses/T-Shirts', 'Women/Tops & Blouses/Tank, Cami', 'Women/Tops & Blouses/Tunic', 'Women/Tops & Blouses/Turtleneck', 'Women/Tops & Blouses/Wrap', 'Women/Underwear/Bras', 'Women/Underwear/G-Strings & Thongs', 'Women/Underwear/Other', 'Women/Underwear/Panties', 'Women/Underwear/Thermal Underwear', \"Women/Women's Accessories/Belts\", \"Women/Women's Accessories/Hair Accessories\", \"Women/Women's Accessories/Hats\", \"Women/Women's Accessories/Other\", \"Women/Women's Accessories/Scarves & Wraps\", \"Women/Women's Accessories/Sunglasses\", \"Women/Women's Accessories/Wallets\", \"Women/Women's Accessories/Watches\", \"Women/Women's Handbags/Backpack Style\", \"Women/Women's Handbags/Baguette\", \"Women/Women's Handbags/Cosmetic Bags\", \"Women/Women's Handbags/Hobo\", \"Women/Women's Handbags/Messenger & Crossbody\", \"Women/Women's Handbags/Other\", \"Women/Women's Handbags/Satchel\", \"Women/Women's Handbags/Shoulder Bag\", \"Women/Women's Handbags/Totes & Shoppers\"])\n",
            "1224\n",
            "dict_keys(['Beauty/Bath & Body/Bath', 'Beauty/Bath & Body/Bathing Accessories', 'Beauty/Bath & Body/Cleansers', 'Beauty/Bath & Body/Other', 'Beauty/Bath & Body/Scrubs & Body Treatments', 'Beauty/Bath & Body/Sets', 'Beauty/Fragrance/Candles & Home Scents', 'Beauty/Fragrance/Kids', 'Beauty/Fragrance/Men', 'Beauty/Fragrance/Other', 'Beauty/Fragrance/Sets', 'Beauty/Fragrance/Women', 'Beauty/Hair Care/Conditioners', 'Beauty/Hair Care/Hair & Scalp Treatments', 'Beauty/Hair Care/Hair Color', 'Beauty/Hair Care/Hair Loss Products', 'Beauty/Hair Care/Hair Perms & Texturizers', 'Beauty/Hair Care/Hair Relaxers', 'Beauty/Hair Care/Other', 'Beauty/Hair Care/Shampoo & Conditioner Sets', 'Beauty/Hair Care/Shampoo Plus Conditioner', 'Beauty/Hair Care/Shampoos', 'Beauty/Hair Care/Styling Products', 'Beauty/Hair Care/Styling Tools', 'Beauty/Makeup/Body', 'Beauty/Makeup/Brushes & Applicators', 'Beauty/Makeup/Eyes', 'Beauty/Makeup/Face', 'Beauty/Makeup/Lips', 'Beauty/Makeup/Makeup Palettes', 'Beauty/Makeup/Makeup Remover', 'Beauty/Makeup/Makeup Sets', 'Beauty/Makeup/Nails', 'Beauty/Makeup/Other', 'Beauty/Other/Other', 'Beauty/Skin Care/Body', 'Beauty/Skin Care/Eyes', 'Beauty/Skin Care/Face', 'Beauty/Skin Care/Feet', 'Beauty/Skin Care/Hands & Nails', 'Beauty/Skin Care/Lips', 'Beauty/Skin Care/Maternity', 'Beauty/Skin Care/Other', 'Beauty/Skin Care/Sets & Kits', 'Beauty/Skin Care/Sun', 'Beauty/Tools & Accessories/Bags & Cases', 'Beauty/Tools & Accessories/Bathing Accessories', 'Beauty/Tools & Accessories/Cotton & Swabs', 'Beauty/Tools & Accessories/Epilators', 'Beauty/Tools & Accessories/Hair Coloring Tools', 'Beauty/Tools & Accessories/Hair Styling Tools', 'Beauty/Tools & Accessories/Makeup Brushes & Tools', 'Beauty/Tools & Accessories/Mirrors', 'Beauty/Tools & Accessories/Nail Tools', 'Beauty/Tools & Accessories/Other', 'Beauty/Tools & Accessories/Toiletry Kits', 'Beauty/Tools & Accessories/Tweezers', 'Beauty/Tools & Accessories/Waxing', 'Electronics/Cameras & Photography/Binoculars & Telescopes', 'Electronics/Cameras & Photography/Camcorders', 'Electronics/Cameras & Photography/Camera & Photo Accessories', 'Electronics/Cameras & Photography/Digital Cameras', 'Electronics/Cameras & Photography/Film Photography', 'Electronics/Cameras & Photography/Flashes & Flash Accessories', 'Electronics/Cameras & Photography/Lenses & Filters', 'Electronics/Cameras & Photography/Lighting & Studio', 'Electronics/Cameras & Photography/Other', 'Electronics/Cameras & Photography/Tripods & Supports', 'Electronics/Car Audio, Video & GPS/Car Security & Convenience', 'Electronics/Car Audio, Video & GPS/Car Speakers & Systems', 'Electronics/Car Audio, Video & GPS/Car Stereos & Components', 'Electronics/Car Audio, Video & GPS/Car Subwoofers', 'Electronics/Car Audio, Video & GPS/Car Video', 'Electronics/Car Audio, Video & GPS/GPS Accessories & Mounts', 'Electronics/Car Audio, Video & GPS/GPS Units & Equipment', 'Electronics/Car Audio, Video & GPS/Other', 'Electronics/Car Audio, Video & GPS/Other Accessories', 'Electronics/Cell Phones & Accessories/Batteries', 'Electronics/Cell Phones & Accessories/Cables & Adapters', 'Electronics/Cell Phones & Accessories/Cases, Covers & Skins', 'Electronics/Cell Phones & Accessories/Cell Phone Accessories', 'Electronics/Cell Phones & Accessories/Cell Phones & Smartphones', 'Electronics/Cell Phones & Accessories/Chargers & Cradles', 'Electronics/Cell Phones & Accessories/Headsets', 'Electronics/Cell Phones & Accessories/Other', 'Electronics/Cell Phones & Accessories/Screen Protectors', 'Electronics/Computers & Tablets/Components & Parts', 'Electronics/Computers & Tablets/Desktops & All-In-Ones', 'Electronics/Computers & Tablets/Drives, Storage & Media', 'Electronics/Computers & Tablets/Laptops & Netbooks', 'Electronics/Computers & Tablets/Networking & Connectivity', 'Electronics/Computers & Tablets/Other', 'Electronics/Computers & Tablets/Printers, Scanners & Supplies', 'Electronics/Computers & Tablets/iPad/Tablet/eBook Access', 'Electronics/Computers & Tablets/iPad/Tablet/eBook Readers', 'Electronics/Media/Blu-Ray', 'Electronics/Media/CD', 'Electronics/Media/DVD', 'Electronics/Media/Other', 'Electronics/Media/VHS', 'Electronics/Other/Other', 'Electronics/TV, Audio & Surveillance/DVD & Blu-ray Players', 'Electronics/TV, Audio & Surveillance/Gadgets', 'Electronics/TV, Audio & Surveillance/Headphones', 'Electronics/TV, Audio & Surveillance/Home Audio', 'Electronics/TV, Audio & Surveillance/Home Speakers & Subwoofers', 'Electronics/TV, Audio & Surveillance/Home Surveillance', 'Electronics/TV, Audio & Surveillance/Other', 'Electronics/TV, Audio & Surveillance/Portable Audio & Accessories', 'Electronics/TV, Audio & Surveillance/Televisions', 'Electronics/Video Games & Consoles/Accessories', 'Electronics/Video Games & Consoles/Consoles', 'Electronics/Video Games & Consoles/Games', 'Electronics/Video Games & Consoles/Other', 'Electronics/Video Games & Consoles/Replacement Parts & Tools', 'Electronics/Video Games & Consoles/Strategy Guides', 'Electronics/Video Games & Consoles/Video Gaming Merchandise', 'Handmade/Accessories/Apron', 'Handmade/Accessories/Case', 'Handmade/Accessories/Charm', 'Handmade/Accessories/Eyewear', 'Handmade/Accessories/Gloves', 'Handmade/Accessories/Hair', 'Handmade/Accessories/Hat', 'Handmade/Accessories/Keychain', 'Handmade/Accessories/Lanyard', 'Handmade/Accessories/Leg Warmers', 'Handmade/Accessories/Men', 'Handmade/Accessories/Mirror', 'Handmade/Accessories/Other', 'Handmade/Accessories/Patch', 'Handmade/Accessories/Pin', 'Handmade/Accessories/Pinback Button', 'Handmade/Accessories/Scarf', 'Handmade/Accessories/Wallet', 'Handmade/Accessories/Watch', 'Handmade/Accessories/Women', 'Handmade/Art/Collages', 'Handmade/Art/Drawings', 'Handmade/Art/Fiber Art', 'Handmade/Art/Illustration', 'Handmade/Art/Mixed Media', 'Handmade/Art/Other', 'Handmade/Art/Painting', 'Handmade/Art/Photography', 'Handmade/Art/Print', 'Handmade/Art/Printmaking', 'Handmade/Art/Sculptures', 'Handmade/Bags and Purses/Backpack', 'Handmade/Bags and Purses/Clutch', 'Handmade/Bags and Purses/Hip Bag', 'Handmade/Bags and Purses/Laptop', 'Handmade/Bags and Purses/Other', 'Handmade/Bags and Purses/Pouch', 'Handmade/Bags and Purses/Purse', 'Handmade/Bags and Purses/Tote', 'Handmade/Bags and Purses/Wallet', 'Handmade/Bags and Purses/Wristlet', 'Handmade/Books and Zines/Album', 'Handmade/Books and Zines/Book', 'Handmade/Books and Zines/Bookmark', 'Handmade/Books and Zines/Comic', 'Handmade/Books and Zines/Journal', 'Handmade/Books and Zines/Other', 'Handmade/Candles/Bookmark', 'Handmade/Candles/Cards', 'Handmade/Candles/Other', 'Handmade/Candles/Stationery', 'Handmade/Candles/Sticker', 'Handmade/Ceramics and Pottery/Bowls', 'Handmade/Ceramics and Pottery/Home Decor', 'Handmade/Ceramics and Pottery/Jewelry', 'Handmade/Ceramics and Pottery/Kitchen', 'Handmade/Ceramics and Pottery/Miniature', 'Handmade/Ceramics and Pottery/Other', 'Handmade/Ceramics and Pottery/Planters', 'Handmade/Ceramics and Pottery/Sculptures', 'Handmade/Ceramics and Pottery/Supplies', 'Handmade/Children/Accessories', 'Handmade/Children/Art', 'Handmade/Children/Baby', 'Handmade/Children/Clothing', 'Handmade/Children/Jewelry', 'Handmade/Children/Other', 'Handmade/Children/Toddler', 'Handmade/Children/Toy', 'Handmade/Clothing/Children', 'Handmade/Clothing/Corset', 'Handmade/Clothing/Costume', 'Handmade/Clothing/Dress', 'Handmade/Clothing/Lingerie', 'Handmade/Clothing/Other', 'Handmade/Clothing/Shirt', 'Handmade/Clothing/Shoes', 'Handmade/Clothing/Tshirt', 'Handmade/Clothing/Women', 'Handmade/Crochet/Accessories', 'Handmade/Crochet/Afghan', 'Handmade/Crochet/Bags and Purses', 'Handmade/Crochet/Clothing', 'Handmade/Crochet/Doll', 'Handmade/Crochet/Hat', 'Handmade/Crochet/Housewares', 'Handmade/Crochet/Jewelry', 'Handmade/Crochet/Other', 'Handmade/Crochet/Scarf', 'Handmade/Crochet/Supplies', 'Handmade/Dolls and Miniatures/Amigurumi', 'Handmade/Dolls and Miniatures/Art Doll', 'Handmade/Dolls and Miniatures/Fantasy', 'Handmade/Dolls and Miniatures/Figurines', 'Handmade/Dolls and Miniatures/Human Figure Doll', 'Handmade/Dolls and Miniatures/Miniature', 'Handmade/Dolls and Miniatures/Plush', 'Handmade/Dolls and Miniatures/Primitive', 'Handmade/Dolls and Miniatures/Scale Dollhouse Miniature', 'Handmade/Dolls and Miniatures/Scale Models', 'Handmade/Furniture/Chair', 'Handmade/Furniture/Other', 'Handmade/Geekery/Accessory', 'Handmade/Geekery/Computer', 'Handmade/Geekery/Fantasy', 'Handmade/Geekery/Gadget', 'Handmade/Geekery/Horror', 'Handmade/Geekery/Humor', 'Handmade/Geekery/Magic', 'Handmade/Geekery/Other', 'Handmade/Geekery/Science', 'Handmade/Geekery/Toy', 'Handmade/Geekery/Videogame', 'Handmade/Glass/Beads', 'Handmade/Glass/Bottles', 'Handmade/Glass/Bowls', 'Handmade/Glass/Dishes', 'Handmade/Glass/Glassware', 'Handmade/Glass/Home Decor', 'Handmade/Glass/Ornaments', 'Handmade/Glass/Other', 'Handmade/Glass/Sculptures', 'Handmade/Glass/Stained Glass', 'Handmade/Glass/Supplies', 'Handmade/Glass/Vases', 'Handmade/Holidays/Birthday', 'Handmade/Holidays/Christmas', 'Handmade/Holidays/Easter', 'Handmade/Holidays/Halloween', 'Handmade/Holidays/New Years', 'Handmade/Holidays/Other', 'Handmade/Holidays/Thanksgiving', 'Handmade/Holidays/Valentine', 'Handmade/Housewares/Bedroom', 'Handmade/Housewares/Cleaning', 'Handmade/Housewares/Entertaining/Serving', 'Handmade/Housewares/Home Decor', 'Handmade/Housewares/Kitchen', 'Handmade/Housewares/Lighting', 'Handmade/Housewares/Magnets', 'Handmade/Housewares/Office', 'Handmade/Housewares/Other', 'Handmade/Housewares/Outdoor', 'Handmade/Housewares/Pillows', 'Handmade/Housewares/Rugs', 'Handmade/Housewares/Wall Decor', 'Handmade/Jewelry/Books and Zines', 'Handmade/Jewelry/Jewelry', 'Handmade/Jewelry/Music', 'Handmade/Jewelry/Other', 'Handmade/Knitting/Accessories', 'Handmade/Knitting/Blanket', 'Handmade/Knitting/Hat', 'Handmade/Knitting/Knitting Supplies', 'Handmade/Knitting/Other', 'Handmade/Knitting/Scarf', 'Handmade/Music/Equipment', 'Handmade/Music/Instrument', 'Handmade/Music/Other', 'Handmade/Music/Poster', 'Handmade/Music/Tape', 'Handmade/Music/Vinyl', 'Handmade/Needlecraft/Accessories', 'Handmade/Needlecraft/Clothing', 'Handmade/Needlecraft/Cross Stitch', 'Handmade/Needlecraft/Embroidery', 'Handmade/Needlecraft/Felted', 'Handmade/Needlecraft/Needlepoint', 'Handmade/Needlecraft/Other', 'Handmade/Needlecraft/Pattern', 'Handmade/Needlecraft/Pillow', 'Handmade/Needlecraft/Supplies', 'Handmade/Other/Other', 'Handmade/Others/Custom', 'Handmade/Others/Educational', 'Handmade/Others/Graphic Design', 'Handmade/Others/Magic', 'Handmade/Others/Other', 'Handmade/Others/Personalized', 'Handmade/Others/Religious', 'Handmade/Paper Goods/Bookmark', 'Handmade/Paper Goods/Calendar', 'Handmade/Paper Goods/Cards', 'Handmade/Paper Goods/Gift Wrap', 'Handmade/Paper Goods/Journal', 'Handmade/Paper Goods/Notebook', 'Handmade/Paper Goods/Origami', 'Handmade/Paper Goods/Other', 'Handmade/Paper Goods/Papermaking', 'Handmade/Paper Goods/Scrapbooking', 'Handmade/Paper Goods/Stationery', 'Handmade/Paper Goods/Sticker', 'Handmade/Paper Goods/Tag', 'Handmade/Patterns/Accessories', 'Handmade/Patterns/Beading', 'Handmade/Patterns/Crochet', 'Handmade/Patterns/Handmade', 'Handmade/Patterns/Home', 'Handmade/Patterns/Knitting', 'Handmade/Patterns/Other', 'Handmade/Patterns/Painting', 'Handmade/Patterns/Quilt', 'Handmade/Patterns/Sewing', 'Handmade/Pets/Accessories', 'Handmade/Pets/Bed', 'Handmade/Pets/Blanket', 'Handmade/Pets/Bowl', 'Handmade/Pets/Clothing', 'Handmade/Pets/Collar', 'Handmade/Pets/Feeding', 'Handmade/Pets/Grooming', 'Handmade/Pets/Leash', 'Handmade/Pets/Other', 'Handmade/Pets/Pet Lover', 'Handmade/Pets/Small Animal', 'Handmade/Pets/Toy', 'Handmade/Quilts/Baby', 'Handmade/Quilts/Bed', 'Handmade/Quilts/Other', 'Handmade/Quilts/Patch', 'Handmade/Quilts/Patchwork', 'Handmade/Toys/Baby', 'Handmade/Toys/Children', 'Handmade/Toys/Doll', 'Handmade/Toys/Food', 'Handmade/Toys/Game', 'Handmade/Toys/Other', 'Handmade/Toys/Plush', 'Handmade/Toys/Pretend', 'Handmade/Weddings/Accessories', 'Handmade/Weddings/Bouquets', 'Handmade/Weddings/Cake Toppers', 'Handmade/Weddings/Cards', 'Handmade/Weddings/Clothing', 'Handmade/Weddings/Decorations', 'Handmade/Weddings/Favors', 'Handmade/Weddings/Frames', 'Handmade/Weddings/Guest Books', 'Handmade/Weddings/Invitations', 'Handmade/Weddings/Jewelry', 'Handmade/Weddings/Just Married', 'Handmade/Weddings/Men', 'Handmade/Weddings/Other', 'Handmade/Weddings/Pillows', 'Handmade/Weddings/Portraits', 'Handmade/Woodworking/Accessories', 'Handmade/Woodworking/Boxes', 'Handmade/Woodworking/Burning', 'Handmade/Woodworking/Carving', 'Handmade/Woodworking/Home Decor', 'Handmade/Woodworking/Jewelry', 'Handmade/Woodworking/Miniature', 'Handmade/Woodworking/Other', 'Handmade/Woodworking/Seasonal', 'Handmade/Woodworking/Signs', 'Handmade/Woodworking/Supplies', 'Handmade/Woodworking/Toys', 'Home/Artwork/Drawings', 'Home/Artwork/Lithographs, Etchings & Woodcuts', 'Home/Artwork/Other', 'Home/Artwork/Paintings', 'Home/Artwork/Photographs', 'Home/Artwork/Posters & Prints', 'Home/Bath/Bath Linen Sets', 'Home/Bath/Bath Rugs', 'Home/Bath/Bathroom Accessories', 'Home/Bath/Bathroom Furniture Sets', 'Home/Bath/Bathroom Shelves', 'Home/Bath/Other', 'Home/Bath/Towels', 'Home/Bedding/Bed Pillows', 'Home/Bedding/Bed in a Bag', 'Home/Bedding/Bedspreads & Coverlets', 'Home/Bedding/Blankets & Throws', 'Home/Bedding/Comforters & Sets', 'Home/Bedding/Decorative Pillows, Inserts & Covers', 'Home/Bedding/Duvet Covers & Sets', 'Home/Bedding/Inflatable Beds', 'Home/Bedding/Mattress Pads', 'Home/Bedding/Other', 'Home/Bedding/Quilts', 'Home/Bedding/Shams, Bed Skirts & Bed Frame Draperies', 'Home/Bedding/Sheets & Pillowcases', 'Home/Cleaning Supplies/Air Fresheners', 'Home/Cleaning Supplies/Brushes', 'Home/Cleaning Supplies/Dusting', 'Home/Cleaning Supplies/Gloves', 'Home/Cleaning Supplies/Household Cleaners', 'Home/Cleaning Supplies/Mopping', 'Home/Cleaning Supplies/Other', 'Home/Cleaning Supplies/Paper Towels', 'Home/Cleaning Supplies/Sponges', 'Home/Cleaning Supplies/Sweeping', 'Home/Cleaning Supplies/Trash Bags', 'Home/Furniture/Bathroom Furniture', 'Home/Furniture/Bedroom Furniture', 'Home/Furniture/Home Bar Furniture', 'Home/Furniture/Home Entertainment Furniture', 'Home/Furniture/Home Office Furniture', 'Home/Furniture/Living Room Furniture', 'Home/Furniture/Other', 'Home/Furniture/Other Furniture', 'Home/Furniture/Replacement Parts', 'Home/Home Appliances/Air Conditioners', 'Home/Home Appliances/Air Purifiers', 'Home/Home Appliances/Dehumidifiers', 'Home/Home Appliances/Fans', 'Home/Home Appliances/Freezers & Ice Makers', 'Home/Home Appliances/Garbage Disposals', 'Home/Home Appliances/Garment Steamers', 'Home/Home Appliances/Humidifiers', 'Home/Home Appliances/Irons & Ironing Boards', 'Home/Home Appliances/Kitchen Appliances', 'Home/Home Appliances/Microwaves', 'Home/Home Appliances/Refrigerators', 'Home/Home Appliances/Space Heaters', 'Home/Home Appliances/Vacuums & Floor Care', 'Home/Home Appliances/Washers & Dryers', 'Home/Home Appliances/Water Coolers & Filters', 'Home/Home Appliances/Wine, Beer & Beverage Coolers', 'Home/Home Décor/Area Rugs & Pads', 'Home/Home Décor/Baskets', 'Home/Home Décor/Candles & Holders', 'Home/Home Décor/Clocks', 'Home/Home Décor/Decorative Pillows', 'Home/Home Décor/Doormats', 'Home/Home Décor/Home Décor Accents', 'Home/Home Décor/Home Fragrance', 'Home/Home Décor/Lamps& Accessories', 'Home/Home Décor/Mirrors', 'Home/Home Décor/Other', 'Home/Home Décor/Photo Albums & Frames', 'Home/Home Décor/Slipcovers', 'Home/Home Décor/Tapestries', 'Home/Home Décor/Vases', 'Home/Home Décor/Window Treatments', \"Home/Kids' Home Store/Kids' Bath\", \"Home/Kids' Home Store/Kids' Bedding\", \"Home/Kids' Home Store/Kids' Flatware\", \"Home/Kids' Home Store/Kids' Furniture\", \"Home/Kids' Home Store/Kids' Room Décor\", \"Home/Kids' Home Store/Nursery Bedding\", \"Home/Kids' Home Store/Nursery Décor\", \"Home/Kids' Home Store/Nursery Furniture\", \"Home/Kids' Home Store/Other\", 'Home/Kitchen & Dining/Bakeware', 'Home/Kitchen & Dining/Coffee & Tea Accessories', 'Home/Kitchen & Dining/Cookware', 'Home/Kitchen & Dining/Dining & Entertaining', 'Home/Kitchen & Dining/Food Service Equipment & Supplies', 'Home/Kitchen & Dining/Home Brewing & Wine Making', 'Home/Kitchen & Dining/Kitchen & Table Linens', 'Home/Kitchen & Dining/Kitchen Knives & Cutlery Accessories', 'Home/Kitchen & Dining/Kitchen Utensils & Gadgets', 'Home/Kitchen & Dining/Other', 'Home/Kitchen & Dining/Small Appliances', 'Home/Kitchen & Dining/Storage & Organization', 'Home/Kitchen & Dining/Water Coolers & Filters', 'Home/Kitchen & Dining/Wine Accessories', 'Home/Other/Other', 'Home/Seasonal Décor/Birthday', 'Home/Seasonal Décor/Christmas', 'Home/Seasonal Décor/Day of the Dead', 'Home/Seasonal Décor/Easter', 'Home/Seasonal Décor/Halloween', \"Home/Seasonal Décor/New Year's\", 'Home/Seasonal Décor/Other', 'Home/Seasonal Décor/Patriotic', \"Home/Seasonal Décor/St Patrick's\", 'Home/Seasonal Décor/Thanksgiving', 'Home/Seasonal Décor/Valentine', 'Home/Storage & Organization/Baskets & Bins', 'Home/Storage & Organization/Bathroom Storage & Organization', 'Home/Storage & Organization/Clothing & Closet Storage', 'Home/Storage & Organization/Garage Storage & Organization', 'Home/Storage & Organization/Jewelry Boxes & Organizers', 'Home/Storage & Organization/Kitchen Storage & Organization', 'Home/Storage & Organization/Laundry Storage & Organization', 'Home/Storage & Organization/Other', 'Home/Storage & Organization/Racks, Shelves & Drawers', 'Home/Storage & Organization/Storage Cabinets', 'Home/Storage & Organization/Trash & Recycling', 'Kids/Bathing & Skin Care/Bathing Tubs & Seats', 'Kids/Bathing & Skin Care/Bathroom Safety', 'Kids/Bathing & Skin Care/Bubble Bath', 'Kids/Bathing & Skin Care/Conditioners', 'Kids/Bathing & Skin Care/Grooming & Healthcare Kits', 'Kids/Bathing & Skin Care/Other', 'Kids/Bathing & Skin Care/Shampoo', 'Kids/Bathing & Skin Care/Skin Care', 'Kids/Bathing & Skin Care/Soaps & Cleansers', 'Kids/Bathing & Skin Care/Travel Bathing Kits', 'Kids/Bathing & Skin Care/Washcloths & Towels', 'Kids/Boys (4+)/Accessories', 'Kids/Boys (4+)/Bottoms', 'Kids/Boys (4+)/Coats & Jackets', 'Kids/Boys (4+)/Other', 'Kids/Boys (4+)/Shoes', 'Kids/Boys (4+)/Swimwear', 'Kids/Boys (4+)/Top & T-shirts', 'Kids/Boys 0-24 Mos/Accessories', 'Kids/Boys 0-24 Mos/Bottoms', 'Kids/Boys 0-24 Mos/Coats & Jackets', 'Kids/Boys 0-24 Mos/One-Pieces', 'Kids/Boys 0-24 Mos/Other', 'Kids/Boys 0-24 Mos/Shoes', 'Kids/Boys 0-24 Mos/Swimwear', 'Kids/Boys 0-24 Mos/Tops & T-Shirts', 'Kids/Boys 2T-5T/Accessories', 'Kids/Boys 2T-5T/Bottoms', 'Kids/Boys 2T-5T/Coats & Jackets', 'Kids/Boys 2T-5T/One-Pieces', 'Kids/Boys 2T-5T/Other', 'Kids/Boys 2T-5T/Shoes', 'Kids/Boys 2T-5T/Swimwear', 'Kids/Boys 2T-5T/Tops & T-Shirts', 'Kids/Car Seats & Accessories/Accessories', 'Kids/Car Seats & Accessories/Car Seats', 'Kids/Car Seats & Accessories/Other', 'Kids/Diapering/Changing Kits', 'Kids/Diapering/Changing Pads & Covers', 'Kids/Diapering/Cloth Diapers', 'Kids/Diapering/Diaper Bags', 'Kids/Diapering/Diaper Pails & Refills', 'Kids/Diapering/Diaper Stackers & Caddies', 'Kids/Diapering/Disposable Diapers', 'Kids/Diapering/Other', 'Kids/Diapering/Powders & Lotions', 'Kids/Diapering/Washcloths & Towels', 'Kids/Diapering/Wipes & Holders', 'Kids/Feeding/Bottle-Feeding', 'Kids/Feeding/Breastfeeding', 'Kids/Feeding/Gift Sets', 'Kids/Feeding/Highchairs & Booster Seats', 'Kids/Feeding/Other', 'Kids/Feeding/Pacifiers & Accessories', 'Kids/Feeding/Pillows & Stools', 'Kids/Feeding/Storage & Containers', 'Kids/Gear/Activity Centers & Entertainers', 'Kids/Gear/Baby Gyms & Playmats', 'Kids/Gear/Baby Seats', 'Kids/Gear/Backpacks & Carriers', 'Kids/Gear/Harnesses & Leashes', 'Kids/Gear/Other', 'Kids/Gear/Playard Bedding', 'Kids/Gear/Playards', 'Kids/Gear/Shopping Cart Covers', 'Kids/Gear/Swings, Jumpers & Bouncers', 'Kids/Gear/Travel Beds', 'Kids/Gear/Walkers', 'Kids/Girls (4+)/Accessories', 'Kids/Girls (4+)/Coats & Jackets', 'Kids/Girls (4+)/Dresses', 'Kids/Girls (4+)/Jeans', 'Kids/Girls (4+)/Other', 'Kids/Girls (4+)/Shoes', 'Kids/Girls (4+)/Swimwear', 'Kids/Girls (4+)/Tops & T-Shirts', 'Kids/Girls 0-24 Mos/Accessories', 'Kids/Girls 0-24 Mos/Bottoms', 'Kids/Girls 0-24 Mos/Coats & Jackets', 'Kids/Girls 0-24 Mos/Dresses', 'Kids/Girls 0-24 Mos/One-Pieces', 'Kids/Girls 0-24 Mos/Other', 'Kids/Girls 0-24 Mos/Shoes', 'Kids/Girls 0-24 Mos/Swimwear', 'Kids/Girls 0-24 Mos/Tops & T-Shirts', 'Kids/Girls 2T-5T/Accessories', 'Kids/Girls 2T-5T/Bottoms', 'Kids/Girls 2T-5T/Coats & Jackets', 'Kids/Girls 2T-5T/Dresses', 'Kids/Girls 2T-5T/One-Pieces', 'Kids/Girls 2T-5T/Other', 'Kids/Girls 2T-5T/Shoes', 'Kids/Girls 2T-5T/Swimwear', 'Kids/Girls 2T-5T/Tops & T-Shirts', 'Kids/Health & Baby Care/Humidifiers & Vaporizers', 'Kids/Health & Baby Care/Nail Care', 'Kids/Health & Baby Care/Nasal Aspirators', 'Kids/Health & Baby Care/Other', 'Kids/Health & Baby Care/Sun Protection', 'Kids/Health & Baby Care/Teethers', 'Kids/Health & Baby Care/Teething Relief', 'Kids/Health & Baby Care/Thermometers', 'Kids/Health & Baby Care/Toothbrushes', 'Kids/Nursery/Bedding', 'Kids/Nursery/Furniture', 'Kids/Nursery/Nursery Décor', 'Kids/Nursery/Other', 'Kids/Other/Other', 'Kids/Potty Training/Potties & Seats', 'Kids/Potty Training/Seat Covers', 'Kids/Potty Training/Step Stools', 'Kids/Potty Training/Training Pants', 'Kids/Pregnancy & Maternity/Breastfeeding Pillows & Stools', 'Kids/Pregnancy & Maternity/Family Planning Tests', 'Kids/Pregnancy & Maternity/Maternity Pillows', 'Kids/Pregnancy & Maternity/Other', 'Kids/Pregnancy & Maternity/Prenatal Monitoring Devices', 'Kids/Safety/Bathroom Safety', 'Kids/Safety/Cabinet Locks & Straps', 'Kids/Safety/Electrical Safety', 'Kids/Safety/Gates & Doorways', 'Kids/Safety/Harnesses & Leashes', 'Kids/Safety/Kitchen Safety', 'Kids/Safety/Monitors', 'Kids/Safety/Other', 'Kids/Safety/Outdoor Safety', 'Kids/Safety/Rails & Rail Guards', 'Kids/Safety/Sleep Positioners', 'Kids/Strollers/Accessories', 'Kids/Strollers/Joggers', 'Kids/Strollers/Lightweight', 'Kids/Strollers/Other', 'Kids/Strollers/Prams', 'Kids/Strollers/Standard', 'Kids/Strollers/Tandem', 'Kids/Strollers/Travel Systems', 'Kids/Toys/Action Figures & Statues', 'Kids/Toys/Arts & Crafts', 'Kids/Toys/Baby & Toddler Toys', 'Kids/Toys/Building Toys', 'Kids/Toys/Dolls & Accessories', 'Kids/Toys/Dress Up & Pretend Play', 'Kids/Toys/Electronics for Kids', 'Kids/Toys/Games', 'Kids/Toys/Hobbies', \"Kids/Toys/Kids' Furniture, Décor & Storage\", 'Kids/Toys/Learning & Education', 'Kids/Toys/Novelty & Gag Toys', 'Kids/Toys/Other', 'Kids/Toys/Party Supplies', 'Kids/Toys/Puzzles', 'Kids/Toys/Sports & Outdoor Play', 'Kids/Toys/Stuffed Animals & Plush', 'Kids/Toys/Toy Remote Control & Play Vehicles', 'Kids/Toys/Tricycles, Scooters & Wagons', 'Men/Athletic Apparel/Jackets', 'Men/Athletic Apparel/Jerseys', 'Men/Athletic Apparel/Other', 'Men/Athletic Apparel/Pants', 'Men/Athletic Apparel/Shirts & Tops', 'Men/Athletic Apparel/Shorts', 'Men/Athletic Apparel/Snowsuits & Bibs', 'Men/Athletic Apparel/Socks', 'Men/Athletic Apparel/Tracksuits & Sweats', 'Men/Athletic Apparel/Vests', 'Men/Blazers & Sport Coats/Double Breasted', 'Men/Blazers & Sport Coats/One Button', 'Men/Blazers & Sport Coats/Other', 'Men/Blazers & Sport Coats/Three Button', 'Men/Blazers & Sport Coats/Two Button', 'Men/Coats & Jackets/Fleece Jacket', 'Men/Coats & Jackets/Flight/Bomber', 'Men/Coats & Jackets/Jean Jacket', 'Men/Coats & Jackets/Military', 'Men/Coats & Jackets/Motorcycle', 'Men/Coats & Jackets/Other', 'Men/Coats & Jackets/Parka', 'Men/Coats & Jackets/Peacoat', 'Men/Coats & Jackets/Poncho', 'Men/Coats & Jackets/Puffer', 'Men/Coats & Jackets/Rainwear', 'Men/Coats & Jackets/Trench', 'Men/Coats & Jackets/Varsity/Baseball', 'Men/Coats & Jackets/Vest', 'Men/Coats & Jackets/Windbreaker', 'Men/Coats & Jackets/Wool', 'Men/Jeans/Baggy, Loose', 'Men/Jeans/Boot Cut', 'Men/Jeans/Cargo', 'Men/Jeans/Carpenter', 'Men/Jeans/Classic, Straight Leg', 'Men/Jeans/Other', 'Men/Jeans/Overalls', 'Men/Jeans/Relaxed', 'Men/Jeans/Slim, Skinny', \"Men/Men's Accessories/Backpacks, Bags & Briefcases\", \"Men/Men's Accessories/Belts\", \"Men/Men's Accessories/Hats\", \"Men/Men's Accessories/Other\", \"Men/Men's Accessories/Sunglasses\", \"Men/Men's Accessories/Ties\", \"Men/Men's Accessories/Wallets\", \"Men/Men's Accessories/Watches\", 'Men/Other/Other', 'Men/Pants/Cargo', 'Men/Pants/Carpenter', 'Men/Pants/Casual Pants', 'Men/Pants/Corduroys', 'Men/Pants/Dress - Flat Front', 'Men/Pants/Dress - Pleat', 'Men/Pants/Khakis, Chinos', 'Men/Pants/Other', 'Men/Shoes/Athletic', 'Men/Shoes/Boots', 'Men/Shoes/Fashion Sneakers', 'Men/Shoes/Loafers & Slip-Ons', 'Men/Shoes/Mules & Clogs', 'Men/Shoes/Outdoor', 'Men/Shoes/Oxfords', 'Men/Shoes/Sandals', 'Men/Shoes/Slippers', 'Men/Shoes/Work & Safety', 'Men/Shorts/Athletic', 'Men/Shorts/Board, Surf', 'Men/Shorts/Cargo', 'Men/Shorts/Carpenter, Utility', 'Men/Shorts/Casual Shorts', 'Men/Shorts/Corduroys', 'Men/Shorts/Denim', 'Men/Shorts/Dress Shorts', 'Men/Shorts/Khakis, Chinos', 'Men/Shorts/Other', 'Men/Suits/Four Button', 'Men/Suits/One Button', 'Men/Suits/Other', 'Men/Suits/Three Button', 'Men/Suits/Tuxedo', 'Men/Suits/Two Button', 'Men/Sweaters/Cardigan', 'Men/Sweaters/Crewneck', 'Men/Sweaters/Full Zip', 'Men/Sweaters/Other', 'Men/Sweaters/Polo', 'Men/Sweaters/Turtleneck', 'Men/Sweaters/V-Neck', 'Men/Sweaters/Vest', 'Men/Sweats & Hoodies/Hoodie', 'Men/Sweats & Hoodies/Other', 'Men/Sweats & Hoodies/Sweatshirt, Pullover', 'Men/Sweats & Hoodies/Track & Sweat Pants', 'Men/Sweats & Hoodies/Track & Sweat Suits', 'Men/Sweats & Hoodies/Track Jacket', 'Men/Swimwear/Board Shorts', 'Men/Swimwear/Swim Briefs', 'Men/Swimwear/Swim Trunks', 'Men/Tops/Button-Front', 'Men/Tops/Dress Shirts', 'Men/Tops/Hawaiian', 'Men/Tops/Henley', 'Men/Tops/Other', 'Men/Tops/Polo, Rugby', 'Men/Tops/T-shirts', 'Men/Tops/Tank', 'Men/Tops/Turtleneck', 'Other/Automotive/Automotive Enthusiast Merchandise', 'Other/Automotive/Car Care', 'Other/Automotive/Car Electronics & Accessories', 'Other/Automotive/Exterior Accessories', 'Other/Automotive/Interior Accessories', 'Other/Automotive/Lights & Lighting Accessories', 'Other/Automotive/Motorcycle & Powersports', 'Other/Automotive/Oils & Fluids', 'Other/Automotive/Other', 'Other/Automotive/Paint, Body & Trim', 'Other/Automotive/Performance Parts & Accessories', 'Other/Automotive/Replacement Parts', 'Other/Automotive/Tires & Wheels', 'Other/Automotive/Tools & Equipment', 'Other/Books/Arts & Photography', 'Other/Books/Biographies & Memoirs', 'Other/Books/Business & Money', \"Other/Books/Children's Books\", 'Other/Books/Christian Books & Bibles', 'Other/Books/Education & Teaching', 'Other/Books/History', 'Other/Books/Literature & Fiction', 'Other/Books/Medical Books', 'Other/Books/Other', 'Other/Books/Politics & Social Sciences', 'Other/Books/Reference', 'Other/Books/Religion & Spirituality', 'Other/Books/Science & Math', 'Other/Daily & Travel items/Baby & Child Care', 'Other/Daily & Travel items/Health Care', 'Other/Daily & Travel items/Household Supplies', 'Other/Daily & Travel items/Medical Supplies & Equipment', 'Other/Daily & Travel items/Other', 'Other/Daily & Travel items/Personal Care', 'Other/Daily & Travel items/Sports Nutrition', 'Other/Daily & Travel items/Stationery & Party Supplies', 'Other/Magazines/Lifestyle & Cultures', 'Other/Magazines/Other', 'Other/Magazines/Professional & Trade', 'Other/Musical instruments/Amplifiers & Effects', 'Other/Musical instruments/Band & Orchestra', 'Other/Musical instruments/Brass Instruments', 'Other/Musical instruments/DJ, Electronic Music & Karaoke', 'Other/Musical instruments/Drums & Percussion', 'Other/Musical instruments/Guitars', 'Other/Musical instruments/Instrument Accessories', 'Other/Musical instruments/Keyboards', 'Other/Musical instruments/Microphones & Accessories', 'Other/Musical instruments/Other', 'Other/Musical instruments/Stringed Instruments', 'Other/Musical instruments/Studio Recording Equipment', 'Other/Musical instruments/Wind & Woodwind Instruments', 'Other/Office supplies/Basic Supplies', 'Other/Office supplies/Calendars', 'Other/Office supplies/Electronics', 'Other/Office supplies/Furniture', 'Other/Office supplies/Ink & Toner', 'Other/Office supplies/Organization', 'Other/Office supplies/Other', 'Other/Office supplies/Paper', 'Other/Office supplies/Presentation', 'Other/Office supplies/School Supplies', 'Other/Office supplies/Shipping Supplies', 'Other/Office supplies/Writing', 'Other/Other/Other', 'Other/Pet Supplies/Cage', 'Other/Pet Supplies/Dogs', 'Other/Pet Supplies/Others', 'Other_Null', 'Sports & Outdoors/Apparel/Accessories', 'Sports & Outdoors/Apparel/Boys', 'Sports & Outdoors/Apparel/Girls', 'Sports & Outdoors/Apparel/Men', 'Sports & Outdoors/Apparel/Other', 'Sports & Outdoors/Apparel/Women', 'Sports & Outdoors/Exercise/Athletic Training', 'Sports & Outdoors/Exercise/Bowling', 'Sports & Outdoors/Exercise/Boxing & MMA', 'Sports & Outdoors/Exercise/Dance/Ballet', 'Sports & Outdoors/Exercise/Fitness accessories', 'Sports & Outdoors/Exercise/Fitness technology', 'Sports & Outdoors/Exercise/Other', 'Sports & Outdoors/Exercise/Strength training', 'Sports & Outdoors/Exercise/Track & Field', 'Sports & Outdoors/Exercise/Yoga & Pilates', 'Sports & Outdoors/Fan Shop/MLB', 'Sports & Outdoors/Fan Shop/NBA', 'Sports & Outdoors/Fan Shop/NCAA', 'Sports & Outdoors/Fan Shop/NFL', 'Sports & Outdoors/Fan Shop/NHL', 'Sports & Outdoors/Fan Shop/Other', 'Sports & Outdoors/Footwear/Cleats', 'Sports & Outdoors/Footwear/Kids', 'Sports & Outdoors/Footwear/Men', 'Sports & Outdoors/Footwear/Other', 'Sports & Outdoors/Footwear/Women', 'Sports & Outdoors/Golf/Electronics', 'Sports & Outdoors/Golf/Golf Apparel', 'Sports & Outdoors/Golf/Golf Bags', 'Sports & Outdoors/Golf/Golf Balls', 'Sports & Outdoors/Golf/Golf Shoes', \"Sports & Outdoors/Golf/Men's Golf Clubs\", 'Sports & Outdoors/Golf/Other', \"Sports & Outdoors/Golf/Women's Golf Clubs\", 'Sports & Outdoors/Other/Other', 'Sports & Outdoors/Outdoors/Bike & Skate', 'Sports & Outdoors/Outdoors/Boating', 'Sports & Outdoors/Outdoors/Fishing', 'Sports & Outdoors/Outdoors/Hiking & Camping', 'Sports & Outdoors/Outdoors/Indoor/Outdoor Games', 'Sports & Outdoors/Outdoors/Other', 'Sports & Outdoors/Outdoors/Skateboard', 'Sports & Outdoors/Outdoors/Snowboard', 'Sports & Outdoors/Outdoors/Water Sports', 'Sports & Outdoors/Team Sports/All Other Sports', 'Sports & Outdoors/Team Sports/Badminton', 'Sports & Outdoors/Team Sports/Baseball & Softball', 'Sports & Outdoors/Team Sports/Basketball', 'Sports & Outdoors/Team Sports/Football', 'Sports & Outdoors/Team Sports/Hockey', 'Sports & Outdoors/Team Sports/Lacrosse', 'Sports & Outdoors/Team Sports/Soccer', 'Sports & Outdoors/Team Sports/Tennis & Racquets', 'Sports & Outdoors/Team Sports/Volleyball', 'Vintage & Collectibles/Accessories/Apron', 'Vintage & Collectibles/Accessories/Belt', 'Vintage & Collectibles/Accessories/Brooch', 'Vintage & Collectibles/Accessories/Buckle', 'Vintage & Collectibles/Accessories/Compact', 'Vintage & Collectibles/Accessories/Cuff Links', 'Vintage & Collectibles/Accessories/Eyewear', 'Vintage & Collectibles/Accessories/Gloves', 'Vintage & Collectibles/Accessories/Handkerchief', 'Vintage & Collectibles/Accessories/Hat', 'Vintage & Collectibles/Accessories/Keychain', 'Vintage & Collectibles/Accessories/Other', 'Vintage & Collectibles/Accessories/Scarf', 'Vintage & Collectibles/Accessories/Shawl', 'Vintage & Collectibles/Accessories/Shoes', 'Vintage & Collectibles/Accessories/Wallet', 'Vintage & Collectibles/Antique/100 Years or Older', 'Vintage & Collectibles/Antique/50 To 75 Years', 'Vintage & Collectibles/Antique/75 To 100 Years', 'Vintage & Collectibles/Antique/Accessories', 'Vintage & Collectibles/Antique/Bags and Purses', 'Vintage & Collectibles/Antique/Book', 'Vintage & Collectibles/Antique/Collectibles', 'Vintage & Collectibles/Antique/Electronics', 'Vintage & Collectibles/Antique/Home Decor', 'Vintage & Collectibles/Antique/Housewares', 'Vintage & Collectibles/Antique/Jewelry', 'Vintage & Collectibles/Antique/Other', 'Vintage & Collectibles/Antique/Paper Ephemera', 'Vintage & Collectibles/Antique/Toy', 'Vintage & Collectibles/Bags and Purses/Case', 'Vintage & Collectibles/Bags and Purses/Change Purse', 'Vintage & Collectibles/Bags and Purses/Clutch', 'Vintage & Collectibles/Bags and Purses/Diaper Bag', 'Vintage & Collectibles/Bags and Purses/Formal', 'Vintage & Collectibles/Bags and Purses/Handbag', 'Vintage & Collectibles/Bags and Purses/Leather', 'Vintage & Collectibles/Bags and Purses/Luggage', 'Vintage & Collectibles/Bags and Purses/Other', 'Vintage & Collectibles/Bags and Purses/Pouch', 'Vintage & Collectibles/Bags and Purses/Purse', 'Vintage & Collectibles/Bags and Purses/Tote', 'Vintage & Collectibles/Bags and Purses/Wallet', 'Vintage & Collectibles/Book/Art', 'Vintage & Collectibles/Book/Biography', 'Vintage & Collectibles/Book/Children', 'Vintage & Collectibles/Book/Comics', 'Vintage & Collectibles/Book/Cookbook', 'Vintage & Collectibles/Book/Crafting', 'Vintage & Collectibles/Book/Decorating', 'Vintage & Collectibles/Book/Fiction', 'Vintage & Collectibles/Book/Health', 'Vintage & Collectibles/Book/History', 'Vintage & Collectibles/Book/How to', 'Vintage & Collectibles/Book/Illustrated', 'Vintage & Collectibles/Book/Instructional', 'Vintage & Collectibles/Book/Nonfiction', 'Vintage & Collectibles/Book/Other', 'Vintage & Collectibles/Book/Poetry', 'Vintage & Collectibles/Book/Reference', 'Vintage & Collectibles/Book/Religion', 'Vintage & Collectibles/Book/Science', 'Vintage & Collectibles/Book/Scifi', 'Vintage & Collectibles/Clothing/Baby', 'Vintage & Collectibles/Clothing/Blouse', 'Vintage & Collectibles/Clothing/Children', 'Vintage & Collectibles/Clothing/Corset', 'Vintage & Collectibles/Clothing/Dress', 'Vintage & Collectibles/Clothing/Jacket', 'Vintage & Collectibles/Clothing/Other', 'Vintage & Collectibles/Clothing/Outerwear', 'Vintage & Collectibles/Clothing/Pants', 'Vintage & Collectibles/Clothing/Shawl', 'Vintage & Collectibles/Clothing/Shirt', 'Vintage & Collectibles/Clothing/Shorts', 'Vintage & Collectibles/Clothing/Skirt', 'Vintage & Collectibles/Clothing/Sweater', 'Vintage & Collectibles/Clothing/Swimwear', 'Vintage & Collectibles/Clothing/Tank', 'Vintage & Collectibles/Clothing/Tshirt', 'Vintage & Collectibles/Collectibles/Doll', 'Vintage & Collectibles/Collectibles/Figurine', 'Vintage & Collectibles/Collectibles/Glass', 'Vintage & Collectibles/Collectibles/Other', 'Vintage & Collectibles/Collectibles/Porcelain', 'Vintage & Collectibles/Collectibles/Souvenir', 'Vintage & Collectibles/Electronics/Camera', 'Vintage & Collectibles/Electronics/Clock', 'Vintage & Collectibles/Electronics/Game', 'Vintage & Collectibles/Electronics/Other', 'Vintage & Collectibles/Electronics/Radio', 'Vintage & Collectibles/Electronics/Telephone', 'Vintage & Collectibles/Electronics/Television', 'Vintage & Collectibles/Electronics/Video Game', 'Vintage & Collectibles/Furniture/Chair', 'Vintage & Collectibles/Furniture/Entertainment', 'Vintage & Collectibles/Furniture/Storage', 'Vintage & Collectibles/Home Decor/Basket', 'Vintage & Collectibles/Home Decor/Box', 'Vintage & Collectibles/Home Decor/Candle Holder', 'Vintage & Collectibles/Home Decor/Frame', 'Vintage & Collectibles/Home Decor/Lighting', 'Vintage & Collectibles/Home Decor/Linens', 'Vintage & Collectibles/Home Decor/Other', 'Vintage & Collectibles/Home Decor/Pillow', 'Vintage & Collectibles/Home Decor/Planter', 'Vintage & Collectibles/Home Decor/Tray', 'Vintage & Collectibles/Home Decor/Vase', 'Vintage & Collectibles/Home Decor/Wall Hanging', 'Vintage & Collectibles/Housewares/Bowl', 'Vintage & Collectibles/Housewares/Box', 'Vintage & Collectibles/Housewares/Ceramic', 'Vintage & Collectibles/Housewares/Coaster', 'Vintage & Collectibles/Housewares/Cup', 'Vintage & Collectibles/Housewares/Glass', 'Vintage & Collectibles/Housewares/Magnet', 'Vintage & Collectibles/Housewares/Other', 'Vintage & Collectibles/Housewares/Plate', 'Vintage & Collectibles/Housewares/Pot Holder', 'Vintage & Collectibles/Housewares/Table', 'Vintage & Collectibles/Housewares/Tray', 'Vintage & Collectibles/Jewelry/Bracelet', 'Vintage & Collectibles/Jewelry/Brooch', 'Vintage & Collectibles/Jewelry/Earrings', 'Vintage & Collectibles/Jewelry/Necklace', 'Vintage & Collectibles/Jewelry/Other', 'Vintage & Collectibles/Jewelry/Pendant', 'Vintage & Collectibles/Jewelry/Ring', 'Vintage & Collectibles/Jewelry/Watch', 'Vintage & Collectibles/Other/Other', 'Vintage & Collectibles/Paper Ephemera/Advertisement', 'Vintage & Collectibles/Paper Ephemera/Game', 'Vintage & Collectibles/Paper Ephemera/Map', 'Vintage & Collectibles/Paper Ephemera/Other', 'Vintage & Collectibles/Paper Ephemera/Postcard', 'Vintage & Collectibles/Paper Ephemera/Stamps', 'Vintage & Collectibles/Serving/Bowl', 'Vintage & Collectibles/Serving/Butter Dish', 'Vintage & Collectibles/Serving/Casserole', 'Vintage & Collectibles/Serving/Cream and Sugar Set', 'Vintage & Collectibles/Serving/Dinnerware Set', 'Vintage & Collectibles/Serving/Flatware', 'Vintage & Collectibles/Serving/Glassware', 'Vintage & Collectibles/Serving/Mug', 'Vintage & Collectibles/Serving/Other', 'Vintage & Collectibles/Serving/Pitcher', 'Vintage & Collectibles/Serving/Plate', 'Vintage & Collectibles/Serving/Platter', 'Vintage & Collectibles/Serving/Salt and Pepper Shakers', 'Vintage & Collectibles/Serving/Teacup', 'Vintage & Collectibles/Serving/Teapot', 'Vintage & Collectibles/Serving/Tray', 'Vintage & Collectibles/Serving/Tumbler', 'Vintage & Collectibles/Supplies/Bead', 'Vintage & Collectibles/Supplies/Button', 'Vintage & Collectibles/Supplies/Cabochon', 'Vintage & Collectibles/Supplies/Chain', 'Vintage & Collectibles/Supplies/Charm', 'Vintage & Collectibles/Supplies/Fabric', 'Vintage & Collectibles/Supplies/Finding', 'Vintage & Collectibles/Supplies/Other', 'Vintage & Collectibles/Supplies/Pattern', 'Vintage & Collectibles/Supplies/Trim', 'Vintage & Collectibles/Supplies/Yarn', 'Vintage & Collectibles/Supplies/Zipper', 'Vintage & Collectibles/Toy/Action Figure', 'Vintage & Collectibles/Toy/Animal', 'Vintage & Collectibles/Toy/Block', 'Vintage & Collectibles/Toy/Car', 'Vintage & Collectibles/Toy/Children', 'Vintage & Collectibles/Toy/Doll', 'Vintage & Collectibles/Toy/Electronic', 'Vintage & Collectibles/Toy/Game', 'Vintage & Collectibles/Toy/Other', 'Vintage & Collectibles/Toy/Puzzle', 'Vintage & Collectibles/Toy/Sport', 'Vintage & Collectibles/Trading Cards/Action, Adventure', 'Vintage & Collectibles/Trading Cards/Animation', 'Vintage & Collectibles/Trading Cards/Comic', 'Vintage & Collectibles/Trading Cards/Historical, Military', 'Vintage & Collectibles/Trading Cards/Other', 'Vintage & Collectibles/Trading Cards/Sci-Fi, Fantasy', 'Vintage & Collectibles/Trading Cards/Sports', 'Vintage & Collectibles/Trading Cards/Vintage', 'Women/Athletic Apparel/Jackets', 'Women/Athletic Apparel/Jerseys', 'Women/Athletic Apparel/Other', 'Women/Athletic Apparel/Pants, Tights, Leggings', 'Women/Athletic Apparel/Shirts & Tops', 'Women/Athletic Apparel/Shorts', 'Women/Athletic Apparel/Skirts, Skorts & Dresses', 'Women/Athletic Apparel/Snowsuits & Bibs', 'Women/Athletic Apparel/Socks', 'Women/Athletic Apparel/Sports Bras', 'Women/Athletic Apparel/Tracksuits & Sweats', 'Women/Athletic Apparel/Vests', 'Women/Coats & Jackets/Cape', 'Women/Coats & Jackets/Fleece Jacket', 'Women/Coats & Jackets/Jean Jacket', 'Women/Coats & Jackets/Military', 'Women/Coats & Jackets/Motorcycle', 'Women/Coats & Jackets/Other', 'Women/Coats & Jackets/Parka', 'Women/Coats & Jackets/Peacoat', 'Women/Coats & Jackets/Poncho', 'Women/Coats & Jackets/Puffer', 'Women/Coats & Jackets/Raincoat', 'Women/Coats & Jackets/Trench', 'Women/Coats & Jackets/Vest', 'Women/Coats & Jackets/Windbreaker', 'Women/Coats & Jackets/Wool', 'Women/Dresses/Above Knee, Mini', 'Women/Dresses/Asymmetrical Hem', 'Women/Dresses/Full-Length', 'Women/Dresses/Knee-Length', 'Women/Dresses/Mid-Calf', 'Women/Dresses/Other', 'Women/Jeans/Boot Cut', 'Women/Jeans/Boyfriend', 'Women/Jeans/Capri, Cropped', 'Women/Jeans/Cargo', 'Women/Jeans/Flare', 'Women/Jeans/Leggings', 'Women/Jeans/Other', 'Women/Jeans/Overalls', 'Women/Jeans/Relaxed', 'Women/Jeans/Slim, Skinny', 'Women/Jeans/Straight Leg', 'Women/Jeans/Wide Leg', 'Women/Jewelry/Bracelets', 'Women/Jewelry/Earrings', 'Women/Jewelry/Necklaces', 'Women/Jewelry/Rings', 'Women/Maternity/Athletic Apparel', 'Women/Maternity/Coats & Jackets', 'Women/Maternity/Dresses', 'Women/Maternity/Jeans', 'Women/Maternity/Other', 'Women/Maternity/Pants', 'Women/Maternity/Skirts', 'Women/Maternity/Suits & Blazers', 'Women/Maternity/Sweaters', 'Women/Maternity/Tops & Blouses', 'Women/Other/Other', 'Women/Pants/Capris, Cropped', 'Women/Pants/Cargo', 'Women/Pants/Casual Pants', 'Women/Pants/Corduroys', 'Women/Pants/Dress Pants', 'Women/Pants/Khakis, Chinos', 'Women/Pants/Leather', 'Women/Pants/Linen', 'Women/Pants/Other', 'Women/Shoes/Athletic', 'Women/Shoes/Boots', 'Women/Shoes/Fashion Sneakers', 'Women/Shoes/Flats', 'Women/Shoes/Loafers & Slip-Ons', 'Women/Shoes/Mules & Clogs', 'Women/Shoes/Other', 'Women/Shoes/Outdoor', 'Women/Shoes/Oxfords', 'Women/Shoes/Pumps', 'Women/Shoes/Sandals', 'Women/Shoes/Slippers', 'Women/Shoes/Work & Safety', 'Women/Skirts/A-Line', 'Women/Skirts/Asymmetrical', 'Women/Skirts/Bubble', 'Women/Skirts/Full Skirt', 'Women/Skirts/Maxi', 'Women/Skirts/Mini', 'Women/Skirts/Other', 'Women/Skirts/Peasant', 'Women/Skirts/Pleated', 'Women/Skirts/Straight, Pencil', 'Women/Skirts/Tiered', 'Women/Skirts/Wrap', 'Women/Suits & Blazers/Blazer', 'Women/Suits & Blazers/Dress Suit', 'Women/Suits & Blazers/Other', 'Women/Suits & Blazers/Pant Suit', 'Women/Suits & Blazers/Skirt Suit', 'Women/Sweaters/Cardigan', 'Women/Sweaters/Collared', 'Women/Sweaters/Cowl Neck', 'Women/Sweaters/Crewneck', 'Women/Sweaters/Full Zip', 'Women/Sweaters/Henley', 'Women/Sweaters/Hooded', 'Women/Sweaters/Other', 'Women/Sweaters/Poncho', 'Women/Sweaters/Scoop Neck', 'Women/Sweaters/Shrug', 'Women/Sweaters/Sweatercoat', 'Women/Sweaters/Tunic', 'Women/Sweaters/Turtleneck, Mock', 'Women/Sweaters/V-Neck', 'Women/Sweaters/Vest, Sleeveless', 'Women/Sweaters/Wrap', 'Women/Swimwear/Beach Accessories', 'Women/Swimwear/Cover-Ups', 'Women/Swimwear/One-Piece', 'Women/Swimwear/Two-Piece', 'Women/Tops & Blouses/Blouse', 'Women/Tops & Blouses/Button Down Shirt', 'Women/Tops & Blouses/Halter', 'Women/Tops & Blouses/Knit Top', 'Women/Tops & Blouses/Other', 'Women/Tops & Blouses/Polo Shirt', 'Women/Tops & Blouses/T-Shirts', 'Women/Tops & Blouses/Tank, Cami', 'Women/Tops & Blouses/Tunic', 'Women/Tops & Blouses/Turtleneck', 'Women/Tops & Blouses/Wrap', 'Women/Underwear/Bras', 'Women/Underwear/G-Strings & Thongs', 'Women/Underwear/Other', 'Women/Underwear/Panties', 'Women/Underwear/Thermal Underwear', \"Women/Women's Accessories/Belts\", \"Women/Women's Accessories/Hair Accessories\", \"Women/Women's Accessories/Hats\", \"Women/Women's Accessories/Other\", \"Women/Women's Accessories/Scarves & Wraps\", \"Women/Women's Accessories/Sunglasses\", \"Women/Women's Accessories/Wallets\", \"Women/Women's Accessories/Watches\", \"Women/Women's Handbags/Backpack Style\", \"Women/Women's Handbags/Baguette\", \"Women/Women's Handbags/Cosmetic Bags\", \"Women/Women's Handbags/Hobo\", \"Women/Women's Handbags/Messenger & Crossbody\", \"Women/Women's Handbags/Other\", \"Women/Women's Handbags/Satchel\", \"Women/Women's Handbags/Shoulder Bag\", \"Women/Women's Handbags/Totes & Shoppers\"])\n"
          ]
        }
      ]
    },
    {
      "cell_type": "markdown",
      "metadata": {
        "id": "mKVo-mg8tVYo"
      },
      "source": [
        "## Test Baseline Accuracy\n",
        "Take 10% of the training data as samples. Find the median (to avoid large outliers) price for each category. See our accuracy when each sample is assigned the average price. "
      ]
    },
    {
      "cell_type": "code",
      "metadata": {
        "id": "CvAxMyU4y0y6"
      },
      "source": [
        "def rmsle(y , y_pred):\n",
        "    # underflow, overflow를 막기 위해 log가 아닌 log1p로 rmsle 계산 \n",
        "    return np.sqrt(np.mean(np.power(np.log1p(y) - np.log1p(y_pred), 2)))\n",
        "\n",
        "def evaluate_org_price(y_test , preds): \n",
        "    \n",
        "    # 원본 데이터는 log1p로 변환되었으므로 exmpm1으로 원복 필요. \n",
        "    preds_exmpm = np.expm1(preds)\n",
        "    y_test_exmpm = np.expm1(y_test)\n",
        "    \n",
        "    # rmsle로 RMSLE 값 추출\n",
        "    rmsle_result = rmsle(y_test_exmpm, preds_exmpm)\n",
        "    return rmsle_result"
      ],
      "execution_count": 134,
      "outputs": []
    },
    {
      "cell_type": "markdown",
      "metadata": {
        "id": "72d4j6ZTw3mj"
      },
      "source": [
        "###Price Exploration"
      ]
    },
    {
      "cell_type": "code",
      "metadata": {
        "colab": {
          "base_uri": "https://localhost:8080/",
          "height": 465
        },
        "id": "ZFdG5qgRt8Zs",
        "outputId": "993031df-167e-4e8a-d599-07defd89a5fd"
      },
      "source": [
        "print(df_array['Beauty/Bath & Body/Bath']['price'].median())\n",
        "df_array['Beauty/Bath & Body/Bath'][\"price\"].plot.hist(grid=True, bins=100)\n",
        "plt.title('Price distribution')\n",
        "plt.xlabel('Price')\n",
        "plt.ylabel('Count')\n",
        "plt.grid(axis='y')\n",
        "print(df_array['Beauty/Bath & Body/Bath']['price'].describe())"
      ],
      "execution_count": 135,
      "outputs": [
        {
          "output_type": "stream",
          "name": "stdout",
          "text": [
            "14.0\n",
            "count    5049.000000\n",
            "mean       18.481878\n",
            "std        18.189663\n",
            "min         0.000000\n",
            "25%         9.000000\n",
            "50%        14.000000\n",
            "75%        22.000000\n",
            "max       565.000000\n",
            "Name: price, dtype: float64\n"
          ]
        },
        {
          "output_type": "display_data",
          "data": {
            "image/png": "[encoded data removed]",
            "text/plain": [
              "<Figure size 432x288 with 1 Axes>"
            ]
          },
          "metadata": {
            "needs_background": "light"
          }
        }
      ]
    },
    {
      "cell_type": "markdown",
      "metadata": {
        "id": "pTOV6l0Jw-hl"
      },
      "source": [
        "###Create dict of medians"
      ]
    },
    {
      "cell_type": "code",
      "metadata": {
        "colab": {
          "base_uri": "https://localhost:8080/"
        },
        "id": "BXefoK8ZxDGa",
        "outputId": "2a45485e-2e5d-4396-ac26-c3d61236d8f7"
      },
      "source": [
        "medians = {}\n",
        "for i in df_array:\n",
        "  #medians.append(i[\"price\"].median())\n",
        "  medians[i] = df_array[i]['price'].median()\n",
        "print(medians)"
      ],
      "execution_count": 136,
      "outputs": [
        {
          "output_type": "stream",
          "name": "stdout",
          "text": [
            "{'Beauty/Bath & Body/Bath': 14.0, 'Beauty/Bath & Body/Bathing Accessories': 20.0, 'Beauty/Bath & Body/Cleansers': 10.0, 'Beauty/Bath & Body/Other': 16.0, 'Beauty/Bath & Body/Scrubs & Body Treatments': 18.0, 'Beauty/Bath & Body/Sets': 17.0, 'Beauty/Fragrance/Candles & Home Scents': 18.0, 'Beauty/Fragrance/Kids': 8.0, 'Beauty/Fragrance/Men': 23.0, 'Beauty/Fragrance/Other': 16.0, 'Beauty/Fragrance/Sets': 20.0, 'Beauty/Fragrance/Women': 18.0, 'Beauty/Hair Care/Conditioners': 18.0, 'Beauty/Hair Care/Hair & Scalp Treatments': 14.0, 'Beauty/Hair Care/Hair Color': 10.0, 'Beauty/Hair Care/Hair Loss Products': 16.0, 'Beauty/Hair Care/Hair Perms & Texturizers': 13.0, 'Beauty/Hair Care/Hair Relaxers': 7.0, 'Beauty/Hair Care/Other': 17.0, 'Beauty/Hair Care/Shampoo & Conditioner Sets': 19.0, 'Beauty/Hair Care/Shampoo Plus Conditioner': 21.0, 'Beauty/Hair Care/Shampoos': 14.0, 'Beauty/Hair Care/Styling Products': 13.0, 'Beauty/Hair Care/Styling Tools': 20.0, 'Beauty/Makeup/Body': 8.0, 'Beauty/Makeup/Brushes & Applicators': 10.0, 'Beauty/Makeup/Eyes': 12.0, 'Beauty/Makeup/Face': 15.0, 'Beauty/Makeup/Lips': 14.0, 'Beauty/Makeup/Makeup Palettes': 22.0, 'Beauty/Makeup/Makeup Remover': 12.0, 'Beauty/Makeup/Makeup Sets': 16.0, 'Beauty/Makeup/Nails': 10.0, 'Beauty/Makeup/Other': 17.5, 'Beauty/Other/Other': 14.0, 'Beauty/Skin Care/Body': 14.0, 'Beauty/Skin Care/Eyes': 14.0, 'Beauty/Skin Care/Face': 15.0, 'Beauty/Skin Care/Feet': 12.0, 'Beauty/Skin Care/Hands & Nails': 10.0, 'Beauty/Skin Care/Lips': 10.0, 'Beauty/Skin Care/Maternity': 16.0, 'Beauty/Skin Care/Other': 13.0, 'Beauty/Skin Care/Sets & Kits': 14.0, 'Beauty/Skin Care/Sun': 16.0, 'Beauty/Tools & Accessories/Bags & Cases': 14.0, 'Beauty/Tools & Accessories/Bathing Accessories': 14.0, 'Beauty/Tools & Accessories/Cotton & Swabs': 6.0, 'Beauty/Tools & Accessories/Epilators': 31.0, 'Beauty/Tools & Accessories/Hair Coloring Tools': 12.0, 'Beauty/Tools & Accessories/Hair Styling Tools': 18.0, 'Beauty/Tools & Accessories/Makeup Brushes & Tools': 12.0, 'Beauty/Tools & Accessories/Mirrors': 16.0, 'Beauty/Tools & Accessories/Nail Tools': 12.0, 'Beauty/Tools & Accessories/Other': 11.0, 'Beauty/Tools & Accessories/Toiletry Kits': 14.5, 'Beauty/Tools & Accessories/Tweezers': 7.0, 'Beauty/Tools & Accessories/Waxing': 12.0, 'Electronics/Cameras & Photography/Binoculars & Telescopes': 18.0, 'Electronics/Cameras & Photography/Camcorders': 40.0, 'Electronics/Cameras & Photography/Camera & Photo Accessories': 34.0, 'Electronics/Cameras & Photography/Digital Cameras': 61.0, 'Electronics/Cameras & Photography/Film Photography': 30.0, 'Electronics/Cameras & Photography/Flashes & Flash Accessories': 26.0, 'Electronics/Cameras & Photography/Lenses & Filters': 70.0, 'Electronics/Cameras & Photography/Lighting & Studio': 22.0, 'Electronics/Cameras & Photography/Other': 45.0, 'Electronics/Cameras & Photography/Tripods & Supports': 12.0, 'Electronics/Car Audio, Video & GPS/Car Security & Convenience': 41.0, 'Electronics/Car Audio, Video & GPS/Car Speakers & Systems': 37.5, 'Electronics/Car Audio, Video & GPS/Car Stereos & Components': 30.0, 'Electronics/Car Audio, Video & GPS/Car Subwoofers': 59.0, 'Electronics/Car Audio, Video & GPS/Car Video': 24.5, 'Electronics/Car Audio, Video & GPS/GPS Accessories & Mounts': 10.0, 'Electronics/Car Audio, Video & GPS/GPS Units & Equipment': 28.0, 'Electronics/Car Audio, Video & GPS/Other': 15.0, 'Electronics/Car Audio, Video & GPS/Other Accessories': 14.0, 'Electronics/Cell Phones & Accessories/Batteries': 13.0, 'Electronics/Cell Phones & Accessories/Cables & Adapters': 9.0, 'Electronics/Cell Phones & Accessories/Cases, Covers & Skins': 10.0, 'Electronics/Cell Phones & Accessories/Cell Phone Accessories': 10.0, 'Electronics/Cell Phones & Accessories/Cell Phones & Smartphones': 65.0, 'Electronics/Cell Phones & Accessories/Chargers & Cradles': 10.0, 'Electronics/Cell Phones & Accessories/Headsets': 16.0, 'Electronics/Cell Phones & Accessories/Other': 18.0, 'Electronics/Cell Phones & Accessories/Screen Protectors': 7.0, 'Electronics/Computers & Tablets/Components & Parts': 25.0, 'Electronics/Computers & Tablets/Desktops & All-In-Ones': 89.5, 'Electronics/Computers & Tablets/Drives, Storage & Media': 18.0, 'Electronics/Computers & Tablets/Laptops & Netbooks': 100.0, 'Electronics/Computers & Tablets/Networking & Connectivity': 23.0, 'Electronics/Computers & Tablets/Other': 19.0, 'Electronics/Computers & Tablets/Printers, Scanners & Supplies': 30.0, 'Electronics/Computers & Tablets/iPad/Tablet/eBook Access': 36.0, 'Electronics/Computers & Tablets/iPad/Tablet/eBook Readers': 46.0, 'Electronics/Media/Blu-Ray': 14.0, 'Electronics/Media/CD': 10.0, 'Electronics/Media/DVD': 10.0, 'Electronics/Media/Other': 20.0, 'Electronics/Media/VHS': 8.0, 'Electronics/Other/Other': 21.0, 'Electronics/TV, Audio & Surveillance/DVD & Blu-ray Players': 24.0, 'Electronics/TV, Audio & Surveillance/Gadgets': 34.0, 'Electronics/TV, Audio & Surveillance/Headphones': 24.0, 'Electronics/TV, Audio & Surveillance/Home Audio': 43.0, 'Electronics/TV, Audio & Surveillance/Home Speakers & Subwoofers': 26.0, 'Electronics/TV, Audio & Surveillance/Home Surveillance': 42.5, 'Electronics/TV, Audio & Surveillance/Other': 18.0, 'Electronics/TV, Audio & Surveillance/Portable Audio & Accessories': 25.0, 'Electronics/TV, Audio & Surveillance/Televisions': 38.0, 'Electronics/Video Games & Consoles/Accessories': 16.0, 'Electronics/Video Games & Consoles/Consoles': 56.0, 'Electronics/Video Games & Consoles/Games': 16.0, 'Electronics/Video Games & Consoles/Other': 24.0, 'Electronics/Video Games & Consoles/Replacement Parts & Tools': 9.0, 'Electronics/Video Games & Consoles/Strategy Guides': 13.0, 'Electronics/Video Games & Consoles/Video Gaming Merchandise': 19.0, 'Handmade/Accessories/Apron': 10.0, 'Handmade/Accessories/Belt': 8.0, 'Handmade/Accessories/Case': 10.0, 'Handmade/Accessories/Charm': 14.0, 'Handmade/Accessories/Cozy': 29.0, 'Handmade/Accessories/Cuff': 19.0, 'Handmade/Accessories/Eyewear': 45.0, 'Handmade/Accessories/Gloves': 11.0, 'Handmade/Accessories/Hair': 28.0, 'Handmade/Accessories/Hat': 18.0, 'Handmade/Accessories/Keychain': 7.0, 'Handmade/Accessories/Lanyard': 9.0, 'Handmade/Accessories/Leg Warmers': 10.0, 'Handmade/Accessories/Men': 16.0, 'Handmade/Accessories/Mirror': 5.0, 'Handmade/Accessories/Necktie': 8.5, 'Handmade/Accessories/Other': 10.5, 'Handmade/Accessories/Patch': 5.0, 'Handmade/Accessories/Pin': 7.0, 'Handmade/Accessories/Pinback Button': 6.0, 'Handmade/Accessories/Scarf': 12.5, 'Handmade/Accessories/Wallet': 14.0, 'Handmade/Accessories/Watch': 29.0, 'Handmade/Accessories/Women': 7.0, 'Handmade/Art/Aceo': 12.0, 'Handmade/Art/Collages': 9.0, 'Handmade/Art/Drawings': 8.0, 'Handmade/Art/Illustration': 16.5, 'Handmade/Art/Mixed Media': 15.0, 'Handmade/Art/Other': 9.0, 'Handmade/Art/Painting': 12.0, 'Handmade/Art/Photography': 13.5, 'Handmade/Art/Print': 6.0, 'Handmade/Art/Printmaking': 8.0, 'Handmade/Art/Sculptures': 14.0, 'Handmade/Bags and Purses/Backpack': 26.0, 'Handmade/Bags and Purses/Clutch': 40.0, 'Handmade/Bags and Purses/Diaper Bag': 58.0, 'Handmade/Bags and Purses/Hip Bag': 14.0, 'Handmade/Bags and Purses/Laptop': 18.5, 'Handmade/Bags and Purses/Novelty': 12.0, 'Handmade/Bags and Purses/Other': 9.0, 'Handmade/Bags and Purses/Pouch': 14.0, 'Handmade/Bags and Purses/Purse': 34.0, 'Handmade/Bags and Purses/Tote': 20.0, 'Handmade/Bags and Purses/Wallet': 11.0, 'Handmade/Bags and Purses/Wristlet': 20.0, 'Handmade/Books and Zines/Book': 10.0, 'Handmade/Books and Zines/Bookmark': 5.0, 'Handmade/Books and Zines/Comic': 13.0, 'Handmade/Books and Zines/Journal': 9.0, 'Handmade/Books and Zines/Other': 21.0, 'Handmade/Candles/Other': 17.0, 'Handmade/Candles/Scrapbooking': 15.5, 'Handmade/Candles/Stationery': 11.0, 'Handmade/Candles/Sticker': 5.0, 'Handmade/Ceramics and Pottery/Bowls': 23.0, 'Handmade/Ceramics and Pottery/Coasters': 6.0, 'Handmade/Ceramics and Pottery/Home Decor': 15.0, 'Handmade/Ceramics and Pottery/Jewelry': 19.0, 'Handmade/Ceramics and Pottery/Kitchen': 27.0, 'Handmade/Ceramics and Pottery/Other': 10.0, 'Handmade/Ceramics and Pottery/Planters': 9.0, 'Handmade/Ceramics and Pottery/Sculptures': 43.0, 'Handmade/Ceramics and Pottery/Supplies': 10.0, 'Handmade/Ceramics and Pottery/Tiles': 44.0, 'Handmade/Ceramics and Pottery/Vases': 12.0, 'Handmade/Children/Accessories': 11.0, 'Handmade/Children/Art': 6.0, 'Handmade/Children/Baby': 13.0, 'Handmade/Children/Clothing': 18.0, 'Handmade/Children/Furniture': 14.0, 'Handmade/Children/Jewelry': 3.0, 'Handmade/Children/Other': 18.0, 'Handmade/Children/Toddler': 15.5, 'Handmade/Children/Toy': 8.0, 'Handmade/Clothing/Children': 20.0, 'Handmade/Clothing/Corset': 14.0, 'Handmade/Clothing/Costume': 16.0, 'Handmade/Clothing/Dress': 45.5, 'Handmade/Clothing/Lingerie': 14.0, 'Handmade/Clothing/Other': 13.0, 'Handmade/Clothing/Shirt': 15.0, 'Handmade/Clothing/Shoes': 22.5, 'Handmade/Clothing/Tshirt': 15.0, 'Handmade/Clothing/Women': 16.0, 'Handmade/Crochet/Accessories': 10.0, 'Handmade/Crochet/Afghan': 16.0, 'Handmade/Crochet/Bags and Purses': 22.0, 'Handmade/Crochet/Clothing': 10.0, 'Handmade/Crochet/Doll': 18.0, 'Handmade/Crochet/Hat': 14.0, 'Handmade/Crochet/Housewares': 16.5, 'Handmade/Crochet/Other': 10.0, 'Handmade/Crochet/Scarf': 13.0, 'Handmade/Crochet/Supplies': 14.5, 'Handmade/Dolls and Miniatures/Animals': 6.5, 'Handmade/Dolls and Miniatures/Art Doll': 49.5, 'Handmade/Dolls and Miniatures/Artist Bears': 5.0, 'Handmade/Dolls and Miniatures/Child Friendly': 25.0, 'Handmade/Dolls and Miniatures/Fantasy': 56.5, 'Handmade/Dolls and Miniatures/Fashion Dolls Apparel': 16.5, 'Handmade/Dolls and Miniatures/Figurines': 15.0, 'Handmade/Dolls and Miniatures/Human Figure Doll': 18.0, 'Handmade/Dolls and Miniatures/Miniature': 25.5, 'Handmade/Dolls and Miniatures/Other': 13.5, 'Handmade/Dolls and Miniatures/Plush': 32.5, 'Handmade/Dolls and Miniatures/Primitive': 12.0, 'Handmade/Dolls and Miniatures/Scale Dollhouse Miniature': 10.0, 'Handmade/Dolls and Miniatures/Scale Models': 27.0, 'Handmade/Furniture/Fixture': 12.0, 'Handmade/Furniture/Other': 13.0, 'Handmade/Furniture/Shelf': 10.0, 'Handmade/Geekery/Accessory': 7.0, 'Handmade/Geekery/Fantasy': 10.0, 'Handmade/Geekery/Gadget': 20.0, 'Handmade/Geekery/Horror': 24.5, 'Handmade/Geekery/Housewares': 10.0, 'Handmade/Geekery/Humor': 13.5, 'Handmade/Geekery/Jewelry': 10.0, 'Handmade/Geekery/Magic': 13.0, 'Handmade/Geekery/Other': 9.0, 'Handmade/Geekery/Science': 7.5, 'Handmade/Geekery/Toy': 15.0, 'Handmade/Geekery/Videogame': 9.0, 'Handmade/Glass/Beads': 10.0, 'Handmade/Glass/Bottles': 16.0, 'Handmade/Glass/Bowls': 12.0, 'Handmade/Glass/Dishes': 10.0, 'Handmade/Glass/Glassware': 18.0, 'Handmade/Glass/Home Decor': 25.0, 'Handmade/Glass/Jewelry': 12.0, 'Handmade/Glass/Mirrors': 10.0, 'Handmade/Glass/Ornaments': 13.5, 'Handmade/Glass/Other': 15.0, 'Handmade/Glass/Paperweights': 12.0, 'Handmade/Glass/Sculptures': 13.0, 'Handmade/Glass/Stained Glass': 15.0, 'Handmade/Glass/Supplies': 12.0, 'Handmade/Glass/Vases': 11.0, 'Handmade/Holidays/Birthday': 14.0, 'Handmade/Holidays/Christmas': 13.0, 'Handmade/Holidays/Easter': 15.0, 'Handmade/Holidays/Halloween': 14.0, 'Handmade/Holidays/New Years': 15.0, 'Handmade/Holidays/Other': 18.0, 'Handmade/Holidays/Patriotic': 25.0, 'Handmade/Holidays/St Patricks': 10.0, 'Handmade/Holidays/Thanksgiving': 10.0, 'Handmade/Holidays/Valentine': 10.0, 'Handmade/Housewares/Bathroom': 39.0, 'Handmade/Housewares/Cleaning': 18.0, 'Handmade/Housewares/Entertaining/Serving': 51.5, 'Handmade/Housewares/Home Decor': 15.0, 'Handmade/Housewares/Kitchen': 10.5, 'Handmade/Housewares/Lighting': 16.0, 'Handmade/Housewares/Magnets': 7.0, 'Handmade/Housewares/Office': 8.5, 'Handmade/Housewares/Other': 7.0, 'Handmade/Housewares/Pillows': 12.0, 'Handmade/Housewares/Storage Solutions': 14.0, 'Handmade/Housewares/Wall Decor': 15.0, 'Handmade/Jewelry/Books and Zines': 5.5, 'Handmade/Jewelry/Clothing': 4.0, 'Handmade/Jewelry/Jewelry': 7.0, 'Handmade/Jewelry/Music': 19.0, 'Handmade/Jewelry/Other': 12.0, 'Handmade/Knitting/Accessories': 9.5, 'Handmade/Knitting/Bags and Purses': 36.0, 'Handmade/Knitting/Blanket': 32.0, 'Handmade/Knitting/Cozy': 9.0, 'Handmade/Knitting/Doll': 5.0, 'Handmade/Knitting/Hat': 40.0, 'Handmade/Knitting/Knitting Supplies': 16.0, 'Handmade/Knitting/Other': 13.0, 'Handmade/Knitting/Scarf': 6.0, 'Handmade/Knitting/Women': 8.0, 'Handmade/Music/Equipment': 18.0, 'Handmade/Music/Instrument': 19.0, 'Handmade/Music/Other': 13.0, 'Handmade/Music/Poster': 11.5, 'Handmade/Music/Tape': 8.0, 'Handmade/Music/Vinyl': 16.0, 'Handmade/Needlecraft/Accessories': 7.0, 'Handmade/Needlecraft/Clothing': 8.0, 'Handmade/Needlecraft/Cross Stitch': 10.0, 'Handmade/Needlecraft/Doll': 7.0, 'Handmade/Needlecraft/Embroidery': 11.5, 'Handmade/Needlecraft/Felted': 12.0, 'Handmade/Needlecraft/Needlepoint': 18.0, 'Handmade/Needlecraft/Other': 9.0, 'Handmade/Needlecraft/Pattern': 13.0, 'Handmade/Needlecraft/Pillow': 10.0, 'Handmade/Needlecraft/Supplies': 10.0, 'Handmade/Other/Other': 10.0, 'Handmade/Others/Custom': 7.5, 'Handmade/Others/Educational': 50.0, 'Handmade/Others/Graphic Design': 6.0, 'Handmade/Others/Magic': 16.0, 'Handmade/Others/Other': 9.5, 'Handmade/Others/Personalized': 7.0, 'Handmade/Others/Religious': 14.0, 'Handmade/Paper Goods/Bookmark': 7.0, 'Handmade/Paper Goods/Calendar': 12.0, 'Handmade/Paper Goods/Cards': 13.0, 'Handmade/Paper Goods/Gift Wrap': 9.0, 'Handmade/Paper Goods/Journal': 10.0, 'Handmade/Paper Goods/Notebook': 9.0, 'Handmade/Paper Goods/Origami': 20.0, 'Handmade/Paper Goods/Other': 11.0, 'Handmade/Paper Goods/Pad': 20.0, 'Handmade/Paper Goods/Papermaking': 12.0, 'Handmade/Paper Goods/Scrapbooking': 14.0, 'Handmade/Paper Goods/Stationery': 9.0, 'Handmade/Paper Goods/Sticker': 4.0, 'Handmade/Paper Goods/Tag': 7.5, 'Handmade/Patterns/Accessories': 8.0, 'Handmade/Patterns/Baby': 16.0, 'Handmade/Patterns/Beading': 18.5, 'Handmade/Patterns/Crochet': 15.5, 'Handmade/Patterns/Cross Stitch': 9.5, 'Handmade/Patterns/Doll Clothing': 14.0, 'Handmade/Patterns/Embroidery': 10.0, 'Handmade/Patterns/Handmade': 6.5, 'Handmade/Patterns/Knitting': 21.0, 'Handmade/Patterns/Other': 9.0, 'Handmade/Patterns/Painting': 9.0, 'Handmade/Patterns/Quilt': 34.5, 'Handmade/Patterns/Sewing': 12.5, 'Handmade/Pets/Accessories': 14.0, 'Handmade/Pets/Bed': 18.0, 'Handmade/Pets/Blanket': 71.0, 'Handmade/Pets/Bowl': 10.0, 'Handmade/Pets/Clothing': 11.0, 'Handmade/Pets/Collar': 15.0, 'Handmade/Pets/Feeding': 15.5, 'Handmade/Pets/Grooming': 19.0, 'Handmade/Pets/House': 17.0, 'Handmade/Pets/Leash': 8.0, 'Handmade/Pets/Other': 21.0, 'Handmade/Pets/Pet Lover': 11.0, 'Handmade/Pets/Small Animal': 9.0, 'Handmade/Pets/Tag': 12.0, 'Handmade/Pets/Toy': 9.5, 'Handmade/Quilts/Baby': 16.0, 'Handmade/Quilts/Bed': 25.0, 'Handmade/Quilts/Fabric Postcard': 13.0, 'Handmade/Quilts/Other': 18.5, 'Handmade/Quilts/Patch': 5.0, 'Handmade/Quilts/Patchwork': 10.0, 'Handmade/Quilts/Pillow': 14.0, 'Handmade/Quilts/Trim': 5.0, 'Handmade/Quilts/Wall Hanging': 15.0, 'Handmade/Toys/Bear': 11.0, 'Handmade/Toys/Children': 7.0, 'Handmade/Toys/Doll Clothes': 6.0, 'Handmade/Toys/Food': 12.0, 'Handmade/Toys/Game': 18.0, 'Handmade/Toys/Other': 8.0, 'Handmade/Toys/Plush': 10.0, 'Handmade/Toys/Sports': 51.0, 'Handmade/Weddings/Accessories': 12.0, 'Handmade/Weddings/Bags and Purses': 9.0, 'Handmade/Weddings/Bouquets': 22.5, 'Handmade/Weddings/Cake Toppers': 13.0, 'Handmade/Weddings/Candles': 15.0, 'Handmade/Weddings/Cards': 13.5, 'Handmade/Weddings/Clothing': 20.5, 'Handmade/Weddings/Decorations': 15.0, 'Handmade/Weddings/Favors': 14.0, 'Handmade/Weddings/Frames': 10.0, 'Handmade/Weddings/Guest Books': 12.0, 'Handmade/Weddings/Invitations': 10.0, 'Handmade/Weddings/Jewelry': 13.0, 'Handmade/Weddings/Just Married': 21.0, 'Handmade/Weddings/Men': 24.0, 'Handmade/Weddings/Other': 14.0, 'Handmade/Weddings/Pillows': 11.0, 'Handmade/Weddings/Something Blue': 24.0, 'Handmade/Woodworking/Accessories': 16.0, 'Handmade/Woodworking/Boxes': 11.5, 'Handmade/Woodworking/Burning': 8.0, 'Handmade/Woodworking/Carving': 6.5, 'Handmade/Woodworking/Home Decor': 21.0, 'Handmade/Woodworking/Jewelry': 5.0, 'Handmade/Woodworking/Other': 13.0, 'Handmade/Woodworking/Outdoor': 33.0, 'Handmade/Woodworking/Sculptures': 30.0, 'Handmade/Woodworking/Seasonal': 12.0, 'Handmade/Woodworking/Signs': 18.0, 'Handmade/Woodworking/Sports': 86.0, 'Handmade/Woodworking/Supplies': 9.0, 'Handmade/Woodworking/Toys': 9.5, 'Home/Artwork/Drawings': 12.0, 'Home/Artwork/Lithographs, Etchings & Woodcuts': 17.0, 'Home/Artwork/Other': 14.0, 'Home/Artwork/Paintings': 15.0, 'Home/Artwork/Photographs': 16.0, 'Home/Artwork/Posters & Prints': 8.0, 'Home/Bath/Bath Linen Sets': 16.0, 'Home/Bath/Bath Rugs': 15.0, 'Home/Bath/Bathroom Accessories': 14.0, 'Home/Bath/Bathroom Furniture Sets': 17.0, 'Home/Bath/Bathroom Shelves': 20.0, 'Home/Bath/Other': 14.5, 'Home/Bath/Towels': 15.0, 'Home/Bedding/Bed Pillows': 18.0, 'Home/Bedding/Bed in a Bag': 30.0, 'Home/Bedding/Bedspreads & Coverlets': 37.0, 'Home/Bedding/Blankets & Throws': 25.0, 'Home/Bedding/Comforters & Sets': 36.0, 'Home/Bedding/Decorative Pillows, Inserts & Covers': 12.0, 'Home/Bedding/Duvet Covers & Sets': 31.0, 'Home/Bedding/Feather Beds': 60.0, 'Home/Bedding/Inflatable Beds': 30.0, 'Home/Bedding/Mattress Pads': 23.0, 'Home/Bedding/Other': 18.5, 'Home/Bedding/Quilts': 36.0, 'Home/Bedding/Shams, Bed Skirts & Bed Frame Draperies': 14.0, 'Home/Bedding/Sheets & Pillowcases': 21.0, 'Home/Cleaning Supplies/Air Fresheners': 14.0, 'Home/Cleaning Supplies/Brushes': 12.0, 'Home/Cleaning Supplies/Dusting': 18.0, 'Home/Cleaning Supplies/Gloves': 9.0, 'Home/Cleaning Supplies/Household Cleaners': 22.0, 'Home/Cleaning Supplies/Jewelry Boxes & Organizers': 14.0, 'Home/Cleaning Supplies/Mopping': 24.0, 'Home/Cleaning Supplies/Other': 16.0, 'Home/Cleaning Supplies/Paper Towels': 16.0, 'Home/Cleaning Supplies/Sponges': 9.0, 'Home/Cleaning Supplies/Sweeping': 15.0, 'Home/Cleaning Supplies/Trash Bags': 21.0, 'Home/Furniture/Bathroom Furniture': 16.0, 'Home/Furniture/Bedroom Furniture': 28.0, 'Home/Furniture/Home Bar Furniture': 35.0, 'Home/Furniture/Home Entertainment Furniture': 34.0, 'Home/Furniture/Home Office Furniture': 15.5, 'Home/Furniture/Living Room Furniture': 30.0, 'Home/Furniture/Other': 24.0, 'Home/Furniture/Other Furniture': 22.0, 'Home/Furniture/Replacement Parts': 12.0, 'Home/Home Appliances/Air Conditioners': 131.0, 'Home/Home Appliances/Air Purifiers': 34.0, 'Home/Home Appliances/Dehumidifiers': 24.0, 'Home/Home Appliances/Dishwashers': 6.0, 'Home/Home Appliances/Fans': 14.0, 'Home/Home Appliances/Freezers & Ice Makers': 31.0, 'Home/Home Appliances/Garbage Disposals': 60.0, 'Home/Home Appliances/Garment Steamers': 20.0, 'Home/Home Appliances/Humidifiers': 21.0, 'Home/Home Appliances/Irons & Ironing Boards': 14.5, 'Home/Home Appliances/Kitchen Appliances': 29.0, 'Home/Home Appliances/Microwaves': 29.0, 'Home/Home Appliances/Refrigerators': 29.0, 'Home/Home Appliances/Space Heaters': 20.0, 'Home/Home Appliances/Vacuums & Floor Care': 44.5, 'Home/Home Appliances/Washers & Dryers': 14.0, 'Home/Home Appliances/Water Coolers & Filters': 22.0, 'Home/Home Appliances/Wine, Beer & Beverage Coolers': 22.0, 'Home/Home Décor/Area Rugs & Pads': 23.0, 'Home/Home Décor/Baskets': 18.0, 'Home/Home Décor/Candles & Holders': 18.0, 'Home/Home Décor/Clocks': 14.0, 'Home/Home Décor/Decorative Pillows': 15.0, 'Home/Home Décor/Doormats': 13.5, 'Home/Home Décor/Doorstops': 8.0, 'Home/Home Décor/Draft Stoppers': 7.0, 'Home/Home Décor/Fireplaces & Accessories': 10.0, 'Home/Home Décor/Home Décor Accents': 16.0, 'Home/Home Décor/Home Fragrance': 17.0, 'Home/Home Décor/Lamps& Accessories': 16.0, 'Home/Home Décor/Mirrors': 16.0, 'Home/Home Décor/Other': 14.0, 'Home/Home Décor/Photo Albums & Frames': 10.0, 'Home/Home Décor/Slipcovers': 21.5, 'Home/Home Décor/Tapestries': 18.0, 'Home/Home Décor/Vases': 15.0, 'Home/Home Décor/Window Treatments': 16.0, \"Home/Kids' Home Store/Kids' Bath\": 6.5, \"Home/Kids' Home Store/Kids' Bedding\": 20.0, \"Home/Kids' Home Store/Kids' Flatware\": 16.0, \"Home/Kids' Home Store/Kids' Furniture\": 19.0, \"Home/Kids' Home Store/Kids' Room Décor\": 11.0, \"Home/Kids' Home Store/Nursery Bedding\": 18.0, \"Home/Kids' Home Store/Nursery Décor\": 16.0, \"Home/Kids' Home Store/Nursery Furniture\": 18.0, \"Home/Kids' Home Store/Other\": 15.5, 'Home/Kitchen & Dining/Bakeware': 16.0, 'Home/Kitchen & Dining/Coffee & Tea Accessories': 22.0, 'Home/Kitchen & Dining/Cookware': 22.0, 'Home/Kitchen & Dining/Dining & Entertaining': 28.0, 'Home/Kitchen & Dining/Food Service Equipment & Supplies': 14.0, 'Home/Kitchen & Dining/Home Brewing & Wine Making': 15.0, 'Home/Kitchen & Dining/Kitchen & Table Linens': 13.0, 'Home/Kitchen & Dining/Kitchen Knives & Cutlery Accessories': 19.0, 'Home/Kitchen & Dining/Kitchen Utensils & Gadgets': 14.0, 'Home/Kitchen & Dining/Other': 15.0, 'Home/Kitchen & Dining/Small Appliances': 23.0, 'Home/Kitchen & Dining/Storage & Organization': 16.0, 'Home/Kitchen & Dining/Water Coolers & Filters': 15.0, 'Home/Kitchen & Dining/Wine Accessories': 14.0, 'Home/Other/Other': 15.0, 'Home/Seasonal Décor/Birthday': 11.0, 'Home/Seasonal Décor/Christmas': 14.0, 'Home/Seasonal Décor/Day of the Dead': 21.0, 'Home/Seasonal Décor/Easter': 18.0, 'Home/Seasonal Décor/Halloween': 14.0, 'Home/Seasonal Décor/Hanukkah': 21.0, \"Home/Seasonal Décor/New Year's\": 14.0, 'Home/Seasonal Décor/Other': 13.5, 'Home/Seasonal Décor/Patriotic': 22.0, \"Home/Seasonal Décor/St Patrick's\": 12.0, 'Home/Seasonal Décor/Thanksgiving': 29.0, 'Home/Seasonal Décor/Valentine': 9.0, 'Home/Storage & Organization/Baskets & Bins': 16.0, 'Home/Storage & Organization/Bathroom Storage & Organization': 15.0, 'Home/Storage & Organization/Clothing & Closet Storage': 15.0, 'Home/Storage & Organization/Garage Storage & Organization': 13.0, 'Home/Storage & Organization/Holiday Décor Storage': 11.5, 'Home/Storage & Organization/Jewelry Boxes & Organizers': 14.0, 'Home/Storage & Organization/Kitchen Storage & Organization': 16.0, 'Home/Storage & Organization/Laundry Storage & Organization': 11.5, 'Home/Storage & Organization/Other': 12.0, 'Home/Storage & Organization/Racks, Shelves & Drawers': 18.0, 'Home/Storage & Organization/Storage Cabinets': 9.0, 'Home/Storage & Organization/Trash & Recycling': 10.5, 'Kids/Bathing & Skin Care/Bathing Tubs & Seats': 18.0, 'Kids/Bathing & Skin Care/Bathroom Safety': 10.0, 'Kids/Bathing & Skin Care/Bubble Bath': 15.0, 'Kids/Bathing & Skin Care/Conditioners': 20.0, 'Kids/Bathing & Skin Care/Grooming & Healthcare Kits': 12.0, 'Kids/Bathing & Skin Care/Non-Slip Bath Mats': 11.0, 'Kids/Bathing & Skin Care/Other': 9.0, 'Kids/Bathing & Skin Care/Shampoo': 14.0, 'Kids/Bathing & Skin Care/Skin Care': 16.0, 'Kids/Bathing & Skin Care/Soaps & Cleansers': 15.0, 'Kids/Bathing & Skin Care/Travel Bathing Kits': 11.0, 'Kids/Bathing & Skin Care/Washcloths & Towels': 10.0, 'Kids/Boys (4+)/Accessories': 10.0, 'Kids/Boys (4+)/Bottoms': 14.0, 'Kids/Boys (4+)/Coats & Jackets': 18.0, 'Kids/Boys (4+)/Other': 15.0, 'Kids/Boys (4+)/Shoes': 35.0, 'Kids/Boys (4+)/Swimwear': 11.0, 'Kids/Boys (4+)/Top & T-shirts': 12.0, 'Kids/Boys 0-24 Mos/Accessories': 10.0, 'Kids/Boys 0-24 Mos/Bottoms': 12.0, 'Kids/Boys 0-24 Mos/Coats & Jackets': 14.0, 'Kids/Boys 0-24 Mos/One-Pieces': 12.0, 'Kids/Boys 0-24 Mos/Other': 15.0, 'Kids/Boys 0-24 Mos/Shoes': 18.0, 'Kids/Boys 0-24 Mos/Swimwear': 10.0, 'Kids/Boys 0-24 Mos/Tops & T-Shirts': 12.0, 'Kids/Boys 2T-5T/Accessories': 10.0, 'Kids/Boys 2T-5T/Bottoms': 13.0, 'Kids/Boys 2T-5T/Coats & Jackets': 14.0, 'Kids/Boys 2T-5T/One-Pieces': 12.0, 'Kids/Boys 2T-5T/Other': 14.0, 'Kids/Boys 2T-5T/Shoes': 18.0, 'Kids/Boys 2T-5T/Swimwear': 10.0, 'Kids/Boys 2T-5T/Tops & T-Shirts': 12.0, 'Kids/Car Seats & Accessories/Accessories': 12.0, 'Kids/Car Seats & Accessories/Car Seats': 32.0, 'Kids/Car Seats & Accessories/Other': 19.0, 'Kids/Diapering/Changing Kits': 24.0, 'Kids/Diapering/Changing Pads & Covers': 11.0, 'Kids/Diapering/Cloth Diapers': 19.0, 'Kids/Diapering/Diaper Bags': 31.0, 'Kids/Diapering/Diaper Pails & Refills': 16.0, 'Kids/Diapering/Diaper Stackers & Caddies': 8.5, 'Kids/Diapering/Disposable Diapers': 23.0, 'Kids/Diapering/Other': 13.0, 'Kids/Diapering/Powders & Lotions': 10.5, 'Kids/Diapering/Washcloths & Towels': 4.0, 'Kids/Diapering/Wipes & Holders': 16.0, 'Kids/Feeding/Bottle-Feeding': 12.0, 'Kids/Feeding/Breastfeeding': 16.0, 'Kids/Feeding/Gift Sets': 11.5, 'Kids/Feeding/Highchairs & Booster Seats': 24.0, 'Kids/Feeding/Other': 12.0, 'Kids/Feeding/Pacifiers & Accessories': 10.0, 'Kids/Feeding/Pillows & Stools': 15.0, 'Kids/Feeding/Storage & Containers': 12.0, 'Kids/Gear/Activity Centers & Entertainers': 10.0, 'Kids/Gear/Baby Gyms & Playmats': 18.0, 'Kids/Gear/Baby Seats': 21.0, 'Kids/Gear/Backpacks & Carriers': 19.0, 'Kids/Gear/Bicycle Child Seats & Trailers': 20.5, 'Kids/Gear/Harnesses & Leashes': 11.5, 'Kids/Gear/Other': 16.0, 'Kids/Gear/Playard Bedding': 33.0, 'Kids/Gear/Playards': 39.5, 'Kids/Gear/Shopping Cart Covers': 13.0, 'Kids/Gear/Swings, Jumpers & Bouncers': 34.0, 'Kids/Gear/Travel Beds': 25.0, 'Kids/Gear/Walkers': 23.0, 'Kids/Girls (4+)/Accessories': 10.0, 'Kids/Girls (4+)/Coats & Jackets': 16.0, 'Kids/Girls (4+)/Dresses': 14.0, 'Kids/Girls (4+)/Jeans': 14.0, 'Kids/Girls (4+)/Other': 14.0, 'Kids/Girls (4+)/Shoes': 20.0, 'Kids/Girls (4+)/Swimwear': 11.0, 'Kids/Girls (4+)/Tops & T-Shirts': 12.0, 'Kids/Girls 0-24 Mos/Accessories': 10.0, 'Kids/Girls 0-24 Mos/Bottoms': 10.0, 'Kids/Girls 0-24 Mos/Coats & Jackets': 13.0, 'Kids/Girls 0-24 Mos/Dresses': 12.0, 'Kids/Girls 0-24 Mos/One-Pieces': 12.0, 'Kids/Girls 0-24 Mos/Other': 15.0, 'Kids/Girls 0-24 Mos/Shoes': 14.0, 'Kids/Girls 0-24 Mos/Swimwear': 10.0, 'Kids/Girls 0-24 Mos/Tops & T-Shirts': 12.0, 'Kids/Girls 2T-5T/Accessories': 10.0, 'Kids/Girls 2T-5T/Bottoms': 16.0, 'Kids/Girls 2T-5T/Coats & Jackets': 14.0, 'Kids/Girls 2T-5T/Dresses': 14.0, 'Kids/Girls 2T-5T/One-Pieces': 12.0, 'Kids/Girls 2T-5T/Other': 14.0, 'Kids/Girls 2T-5T/Shoes': 15.0, 'Kids/Girls 2T-5T/Swimwear': 11.0, 'Kids/Girls 2T-5T/Tops & T-Shirts': 12.0, 'Kids/Health & Baby Care/Humidifiers & Vaporizers': 16.0, 'Kids/Health & Baby Care/Nail Care': 12.5, 'Kids/Health & Baby Care/Nasal Aspirators': 10.5, 'Kids/Health & Baby Care/Other': 13.0, 'Kids/Health & Baby Care/Sun Protection': 11.0, 'Kids/Health & Baby Care/Teethers': 12.0, 'Kids/Health & Baby Care/Teething Relief': 12.0, 'Kids/Health & Baby Care/Thermometers': 14.0, 'Kids/Health & Baby Care/Toothbrushes': 13.0, 'Kids/Nursery/Bedding': 16.0, 'Kids/Nursery/Furniture': 45.0, 'Kids/Nursery/Nursery Décor': 15.0, 'Kids/Nursery/Other': 14.0, 'Kids/Other/Other': 15.0, 'Kids/Potty Training/Other': 15.5, 'Kids/Potty Training/Potties & Seats': 14.0, 'Kids/Potty Training/Seat Covers': 11.0, 'Kids/Potty Training/Step Stools': 18.5, 'Kids/Potty Training/Training Pants': 12.0, 'Kids/Pregnancy & Maternity/Breastfeeding Pillows & Stools': 16.0, 'Kids/Pregnancy & Maternity/Family Planning Tests': 12.0, 'Kids/Pregnancy & Maternity/Maternity Pillows': 29.5, 'Kids/Pregnancy & Maternity/Other': 14.0, 'Kids/Pregnancy & Maternity/Prenatal Monitoring Devices': 30.0, 'Kids/Safety/Bathroom Safety': 35.0, 'Kids/Safety/Cabinet Locks & Straps': 10.0, 'Kids/Safety/Crib Netting': 15.0, 'Kids/Safety/Edge & Corner Guards': 11.0, 'Kids/Safety/Electrical Safety': 8.0, 'Kids/Safety/Gates & Doorways': 40.0, 'Kids/Safety/Harnesses & Leashes': 10.0, 'Kids/Safety/Kitchen Safety': 10.0, 'Kids/Safety/Monitors': 40.0, 'Kids/Safety/Other': 12.0, 'Kids/Safety/Outdoor Safety': 12.0, 'Kids/Safety/Safety Caps': 8.0, 'Kids/Safety/Sleep Positioners': 16.0, 'Kids/Strollers/Accessories': 26.0, 'Kids/Strollers/Joggers': 40.0, 'Kids/Strollers/Lightweight': 105.0, 'Kids/Strollers/Other': 29.0, 'Kids/Strollers/Prams': 30.0, 'Kids/Strollers/Standard': 145.0, 'Kids/Strollers/Travel Systems': 95.0, 'Kids/Toys/Action Figures & Statues': 18.0, 'Kids/Toys/Arts & Crafts': 8.0, 'Kids/Toys/Baby & Toddler Toys': 15.0, 'Kids/Toys/Building Toys': 18.0, 'Kids/Toys/Dolls & Accessories': 18.0, 'Kids/Toys/Dress Up & Pretend Play': 14.0, 'Kids/Toys/Electronics for Kids': 54.5, 'Kids/Toys/Games': 10.0, 'Kids/Toys/Hobbies': 13.0, \"Kids/Toys/Kids' Furniture, Décor & Storage\": 14.0, 'Kids/Toys/Learning & Education': 15.0, 'Kids/Toys/Novelty & Gag Toys': 8.0, 'Kids/Toys/Other': 14.0, 'Kids/Toys/Party Supplies': 13.0, 'Kids/Toys/Puzzles': 10.0, 'Kids/Toys/Sports & Outdoor Play': 17.0, 'Kids/Toys/Stuffed Animals & Plush': 12.0, 'Kids/Toys/Toy Remote Control & Play Vehicles': 19.0, 'Kids/Toys/Tricycles, Scooters & Wagons': 31.0, 'Men/Athletic Apparel/Competitive Swimwear': 17.5, 'Men/Athletic Apparel/Jackets': 26.0, 'Men/Athletic Apparel/Jerseys': 26.0, 'Men/Athletic Apparel/Other': 14.0, 'Men/Athletic Apparel/Pants': 19.0, 'Men/Athletic Apparel/Shirts & Tops': 14.0, 'Men/Athletic Apparel/Shorts': 15.0, 'Men/Athletic Apparel/Snowsuits & Bibs': 28.5, 'Men/Athletic Apparel/Socks': 14.0, 'Men/Athletic Apparel/Tracksuits & Sweats': 20.0, 'Men/Athletic Apparel/Vests': 14.0, 'Men/Blazers & Sport Coats/Double Breasted': 15.0, 'Men/Blazers & Sport Coats/One Button': 23.5, 'Men/Blazers & Sport Coats/Other': 19.0, 'Men/Blazers & Sport Coats/Three Button': 21.0, 'Men/Blazers & Sport Coats/Two Button': 25.5, 'Men/Coats & Jackets/Fleece Jacket': 29.0, 'Men/Coats & Jackets/Flight/Bomber': 30.0, 'Men/Coats & Jackets/Jean Jacket': 26.0, 'Men/Coats & Jackets/Military': 18.0, 'Men/Coats & Jackets/Motorcycle': 32.0, 'Men/Coats & Jackets/Other': 28.0, 'Men/Coats & Jackets/Parka': 42.0, 'Men/Coats & Jackets/Peacoat': 32.0, 'Men/Coats & Jackets/Poncho': 38.5, 'Men/Coats & Jackets/Puffer': 34.0, 'Men/Coats & Jackets/Rainwear': 31.0, 'Men/Coats & Jackets/Trench': 35.5, 'Men/Coats & Jackets/Varsity/Baseball': 30.0, 'Men/Coats & Jackets/Vest': 23.0, 'Men/Coats & Jackets/Windbreaker': 25.0, 'Men/Coats & Jackets/Wool': 26.0, 'Men/Jeans/Baggy, Loose': 16.5, 'Men/Jeans/Boot Cut': 24.0, 'Men/Jeans/Cargo': 29.0, 'Men/Jeans/Carpenter': 14.0, 'Men/Jeans/Classic, Straight Leg': 21.0, 'Men/Jeans/Other': 21.0, 'Men/Jeans/Overalls': 26.0, 'Men/Jeans/Relaxed': 18.0, 'Men/Jeans/Slim, Skinny': 20.0, \"Men/Men's Accessories/Backpacks, Bags & Briefcases\": 29.0, \"Men/Men's Accessories/Belts\": 49.0, \"Men/Men's Accessories/Hats\": 15.0, \"Men/Men's Accessories/Other\": 16.0, \"Men/Men's Accessories/Sunglasses\": 35.0, \"Men/Men's Accessories/Ties\": 12.0, \"Men/Men's Accessories/Wallets\": 19.0, \"Men/Men's Accessories/Watches\": 32.0, 'Men/Other/Other': 16.0, 'Men/Pants/Cargo': 16.0, 'Men/Pants/Carpenter': 16.0, 'Men/Pants/Casual Pants': 15.0, 'Men/Pants/Corduroys': 16.0, 'Men/Pants/Dress - Flat Front': 14.0, 'Men/Pants/Dress - Pleat': 14.5, 'Men/Pants/Khakis, Chinos': 16.0, 'Men/Pants/Other': 16.0, 'Men/Shoes/Athletic': 50.0, 'Men/Shoes/Boots': 44.0, 'Men/Shoes/Fashion Sneakers': 40.0, 'Men/Shoes/Loafers & Slip-Ons': 25.0, 'Men/Shoes/Mules & Clogs': 16.0, 'Men/Shoes/Outdoor': 21.5, 'Men/Shoes/Oxfords': 26.0, 'Men/Shoes/Sandals': 24.0, 'Men/Shoes/Slippers': 17.0, 'Men/Shoes/Work & Safety': 31.0, 'Men/Shorts/Athletic': 16.0, 'Men/Shorts/Board, Surf': 19.0, 'Men/Shorts/Cargo': 14.0, 'Men/Shorts/Carpenter, Utility': 16.0, 'Men/Shorts/Casual Shorts': 14.0, 'Men/Shorts/Denim': 16.0, 'Men/Shorts/Dress Shorts': 16.0, 'Men/Shorts/Khakis, Chinos': 15.0, 'Men/Shorts/Other': 14.0, 'Men/Suits/Four Button': 20.0, 'Men/Suits/One Button': 22.0, 'Men/Suits/Other': 27.0, 'Men/Suits/Three Button': 25.0, 'Men/Suits/Tuxedo': 20.0, 'Men/Suits/Two Button': 35.0, 'Men/Sweaters/Cardigan': 17.0, 'Men/Sweaters/Crewneck': 18.0, 'Men/Sweaters/Full Zip': 20.0, 'Men/Sweaters/Other': 18.0, 'Men/Sweaters/Polo': 21.0, 'Men/Sweaters/Turtleneck': 20.5, 'Men/Sweaters/V-Neck': 15.0, 'Men/Sweaters/Vest': 16.0, 'Men/Sweats & Hoodies/Hoodie': 22.0, 'Men/Sweats & Hoodies/Other': 19.0, 'Men/Sweats & Hoodies/Sweatshirt, Pullover': 21.0, 'Men/Sweats & Hoodies/Track & Sweat Pants': 19.0, 'Men/Sweats & Hoodies/Track & Sweat Suits': 66.0, 'Men/Sweats & Hoodies/Track Jacket': 27.0, 'Men/Swimwear/Board Shorts': 14.0, 'Men/Swimwear/Swim Briefs': 14.0, 'Men/Swimwear/Swim Trunks': 14.0, 'Men/Tops/Button-Front': 15.0, 'Men/Tops/Dress Shirts': 15.0, 'Men/Tops/Hawaiian': 14.0, 'Men/Tops/Henley': 15.0, 'Men/Tops/Other': 15.0, 'Men/Tops/Polo, Rugby': 17.0, 'Men/Tops/T-shirts': 14.0, 'Men/Tops/Tank': 11.0, 'Men/Tops/Turtleneck': 16.0, 'Other/Automotive/Automotive Enthusiast Merchandise': 10.0, 'Other/Automotive/Car Care': 9.5, 'Other/Automotive/Car Electronics & Accessories': 15.0, 'Other/Automotive/Exterior Accessories': 6.0, 'Other/Automotive/Interior Accessories': 12.0, 'Other/Automotive/Lights & Lighting Accessories': 13.0, 'Other/Automotive/Motorcycle & Powersports': 34.0, 'Other/Automotive/Oils & Fluids': 85.0, 'Other/Automotive/Other': 11.5, 'Other/Automotive/Paint, Body & Trim': 17.0, 'Other/Automotive/Performance Parts & Accessories': 25.0, 'Other/Automotive/RV Parts & Accessories': 25.0, 'Other/Automotive/Replacement Parts': 22.0, 'Other/Automotive/Tires & Wheels': 11.0, 'Other/Automotive/Tools & Equipment': 22.0, 'Other/Books/Arts & Photography': 10.0, 'Other/Books/Biographies & Memoirs': 9.0, 'Other/Books/Business & Money': 17.0, \"Other/Books/Children's Books\": 10.0, 'Other/Books/Christian Books & Bibles': 10.0, 'Other/Books/Education & Teaching': 16.0, 'Other/Books/Engineering & Transportation': 24.0, 'Other/Books/History': 10.0, 'Other/Books/Literature & Fiction': 10.0, 'Other/Books/Medical Books': 19.0, 'Other/Books/Other': 10.0, 'Other/Books/Politics & Social Sciences': 13.5, 'Other/Books/Reference': 10.0, 'Other/Books/Religion & Spirituality': 11.0, 'Other/Books/Science & Math': 29.0, 'Other/Daily & Travel items/Baby & Child Care': 18.0, 'Other/Daily & Travel items/Health Care': 17.0, 'Other/Daily & Travel items/Household Supplies': 22.0, 'Other/Daily & Travel items/Medical Supplies & Equipment': 25.0, 'Other/Daily & Travel items/Other': 14.0, 'Other/Daily & Travel items/Personal Care': 14.0, 'Other/Daily & Travel items/Sports Nutrition': 26.0, 'Other/Daily & Travel items/Stationery & Party Supplies': 8.0, 'Other/Magazines/International Publications': 14.0, 'Other/Magazines/Lifestyle & Cultures': 9.0, 'Other/Magazines/Other': 10.5, 'Other/Musical instruments/Amplifiers & Effects': 33.5, 'Other/Musical instruments/Band & Orchestra': 48.5, 'Other/Musical instruments/Bass Guitars': 49.0, 'Other/Musical instruments/Brass Instruments': 48.0, 'Other/Musical instruments/DJ, Electronic Music & Karaoke': 39.5, 'Other/Musical instruments/Drums & Percussion': 21.0, 'Other/Musical instruments/Guitars': 35.0, 'Other/Musical instruments/Instrument Accessories': 10.0, 'Other/Musical instruments/Keyboards': 49.5, 'Other/Musical instruments/Live Sound & Stage': 33.0, 'Other/Musical instruments/Microphones & Accessories': 34.0, 'Other/Musical instruments/Other': 13.0, 'Other/Musical instruments/Stringed Instruments': 36.0, 'Other/Musical instruments/Studio Recording Equipment': 39.0, 'Other/Musical instruments/Wind & Woodwind Instruments': 64.0, 'Other/Office supplies/Basic Supplies': 9.0, 'Other/Office supplies/Calendars': 12.0, 'Other/Office supplies/Electronics': 30.0, 'Other/Office supplies/Furniture': 13.0, 'Other/Office supplies/Ink & Toner': 19.0, 'Other/Office supplies/Organization': 15.0, 'Other/Office supplies/Other': 11.0, 'Other/Office supplies/Paper': 12.0, 'Other/Office supplies/Presentation': 15.0, 'Other/Office supplies/School Supplies': 14.0, 'Other/Office supplies/Shipping Supplies': 9.0, 'Other/Office supplies/Writing': 12.0, 'Other/Other/Other': 14.0, 'Other/Pet Supplies/Cage': 18.0, 'Other/Pet Supplies/Dogs': 12.0, 'Other/Pet Supplies/Others': 13.0, 'Other/Pet Supplies/Pet Food': 9.0, 'Other_Null': 16.0, 'Sports & Outdoors/Apparel/Accessories': 10.0, 'Sports & Outdoors/Apparel/Boys': 14.0, 'Sports & Outdoors/Apparel/Girls': 14.0, 'Sports & Outdoors/Apparel/Men': 19.0, 'Sports & Outdoors/Apparel/Other': 16.0, 'Sports & Outdoors/Apparel/Women': 14.0, 'Sports & Outdoors/Exercise/Athletic Training': 24.5, 'Sports & Outdoors/Exercise/Bowling': 18.5, 'Sports & Outdoors/Exercise/Boxing & MMA': 18.0, 'Sports & Outdoors/Exercise/Dance/Ballet': 12.0, 'Sports & Outdoors/Exercise/Fitness accessories': 15.0, 'Sports & Outdoors/Exercise/Fitness technology': 46.0, 'Sports & Outdoors/Exercise/Other': 21.5, 'Sports & Outdoors/Exercise/Strength training': 26.0, 'Sports & Outdoors/Exercise/Track & Field': 53.5, 'Sports & Outdoors/Exercise/Yoga & Pilates': 16.0, 'Sports & Outdoors/Fan Shop/MLB': 14.0, 'Sports & Outdoors/Fan Shop/NBA': 14.0, 'Sports & Outdoors/Fan Shop/NCAA': 15.0, 'Sports & Outdoors/Fan Shop/NFL': 14.0, 'Sports & Outdoors/Fan Shop/NHL': 16.0, 'Sports & Outdoors/Fan Shop/Other': 17.0, 'Sports & Outdoors/Footwear/Cleats': 31.0, 'Sports & Outdoors/Footwear/Kids': 23.0, 'Sports & Outdoors/Footwear/Men': 18.0, 'Sports & Outdoors/Footwear/Other': 11.5, 'Sports & Outdoors/Footwear/Women': 22.0, 'Sports & Outdoors/Golf/Electronics': 64.0, 'Sports & Outdoors/Golf/Golf Apparel': 16.0, 'Sports & Outdoors/Golf/Golf Bags': 52.0, 'Sports & Outdoors/Golf/Golf Balls': 20.5, 'Sports & Outdoors/Golf/Golf Shoes': 31.0, \"Sports & Outdoors/Golf/Men's Golf Clubs\": 50.0, 'Sports & Outdoors/Golf/Other': 16.0, \"Sports & Outdoors/Golf/Women's Golf Clubs\": 100.0, 'Sports & Outdoors/Other/Other': 16.0, 'Sports & Outdoors/Outdoors/Bike & Skate': 20.0, 'Sports & Outdoors/Outdoors/Boating': 25.0, 'Sports & Outdoors/Outdoors/Fishing': 17.0, 'Sports & Outdoors/Outdoors/Hiking & Camping': 18.0, 'Sports & Outdoors/Outdoors/Indoor/Outdoor Games': 26.0, 'Sports & Outdoors/Outdoors/Other': 18.0, 'Sports & Outdoors/Outdoors/Skateboard': 21.0, 'Sports & Outdoors/Outdoors/Snowboard': 29.0, 'Sports & Outdoors/Outdoors/Water Sports': 15.0, 'Sports & Outdoors/Team Sports/All Other Sports': 15.0, 'Sports & Outdoors/Team Sports/Badminton': 24.5, 'Sports & Outdoors/Team Sports/Baseball & Softball': 18.0, 'Sports & Outdoors/Team Sports/Basketball': 19.0, 'Sports & Outdoors/Team Sports/Football': 17.0, 'Sports & Outdoors/Team Sports/Hockey': 20.5, 'Sports & Outdoors/Team Sports/Lacrosse': 19.0, 'Sports & Outdoors/Team Sports/Soccer': 19.5, 'Sports & Outdoors/Team Sports/Tennis & Racquets': 25.0, 'Sports & Outdoors/Team Sports/Volleyball': 12.0, 'Vintage & Collectibles/Accessories/Apron': 12.0, 'Vintage & Collectibles/Accessories/Belt': 17.5, 'Vintage & Collectibles/Accessories/Brooch': 10.0, 'Vintage & Collectibles/Accessories/Buckle': 14.5, 'Vintage & Collectibles/Accessories/Compact': 15.5, 'Vintage & Collectibles/Accessories/Cuff Links': 14.5, 'Vintage & Collectibles/Accessories/Eyewear': 24.0, 'Vintage & Collectibles/Accessories/Gloves': 16.0, 'Vintage & Collectibles/Accessories/Handkerchief': 10.0, 'Vintage & Collectibles/Accessories/Hat': 14.0, 'Vintage & Collectibles/Accessories/Keychain': 10.0, 'Vintage & Collectibles/Accessories/Necktie': 20.0, 'Vintage & Collectibles/Accessories/Other': 11.0, 'Vintage & Collectibles/Accessories/Scarf': 15.0, 'Vintage & Collectibles/Accessories/Shoes': 15.0, 'Vintage & Collectibles/Accessories/Wallet': 13.0, 'Vintage & Collectibles/Antique/100 Years or Older': 16.0, 'Vintage & Collectibles/Antique/50 To 75 Years': 20.0, 'Vintage & Collectibles/Antique/75 To 100 Years': 23.5, 'Vintage & Collectibles/Antique/Accessories': 14.0, 'Vintage & Collectibles/Antique/Bags and Purses': 21.0, 'Vintage & Collectibles/Antique/Book': 11.0, 'Vintage & Collectibles/Antique/Collectibles': 16.0, 'Vintage & Collectibles/Antique/Electronics': 36.5, 'Vintage & Collectibles/Antique/Furniture': 195.0, 'Vintage & Collectibles/Antique/Home Decor': 30.0, 'Vintage & Collectibles/Antique/Housewares': 16.0, 'Vintage & Collectibles/Antique/Jewelry': 20.0, 'Vintage & Collectibles/Antique/Other': 15.0, 'Vintage & Collectibles/Antique/Paper Ephemera': 16.0, 'Vintage & Collectibles/Antique/Serving': 19.0, 'Vintage & Collectibles/Antique/Supplies': 20.0, 'Vintage & Collectibles/Antique/Toy': 30.0, 'Vintage & Collectibles/Bags and Purses/Case': 11.5, 'Vintage & Collectibles/Bags and Purses/Change Purse': 10.0, 'Vintage & Collectibles/Bags and Purses/Clutch': 16.0, 'Vintage & Collectibles/Bags and Purses/Diaper Bag': 26.0, 'Vintage & Collectibles/Bags and Purses/Formal': 54.0, 'Vintage & Collectibles/Bags and Purses/Handbag': 55.0, 'Vintage & Collectibles/Bags and Purses/Leather': 40.0, 'Vintage & Collectibles/Bags and Purses/Luggage': 30.0, 'Vintage & Collectibles/Bags and Purses/Other': 18.0, 'Vintage & Collectibles/Bags and Purses/Pouch': 10.0, 'Vintage & Collectibles/Bags and Purses/Purse': 34.0, 'Vintage & Collectibles/Bags and Purses/Tote': 23.5, 'Vintage & Collectibles/Bags and Purses/Wallet': 11.5, 'Vintage & Collectibles/Book/Art': 12.0, 'Vintage & Collectibles/Book/Biography': 10.0, 'Vintage & Collectibles/Book/Children': 8.0, 'Vintage & Collectibles/Book/Comics': 15.0, 'Vintage & Collectibles/Book/Cookbook': 12.0, 'Vintage & Collectibles/Book/Crafting': 10.0, 'Vintage & Collectibles/Book/Decorating': 18.0, 'Vintage & Collectibles/Book/Fiction': 9.0, 'Vintage & Collectibles/Book/Health': 10.0, 'Vintage & Collectibles/Book/History': 10.0, 'Vintage & Collectibles/Book/How to': 10.0, 'Vintage & Collectibles/Book/Illustrated': 17.0, 'Vintage & Collectibles/Book/Instructional': 9.0, 'Vintage & Collectibles/Book/Nonfiction': 9.0, 'Vintage & Collectibles/Book/Other': 12.0, 'Vintage & Collectibles/Book/Poetry': 14.0, 'Vintage & Collectibles/Book/Reference': 9.5, 'Vintage & Collectibles/Book/Religion': 12.5, 'Vintage & Collectibles/Book/Science': 30.5, 'Vintage & Collectibles/Book/Scifi': 8.0, 'Vintage & Collectibles/Clothing/Baby': 14.5, 'Vintage & Collectibles/Clothing/Blouse': 13.0, 'Vintage & Collectibles/Clothing/Children': 22.0, 'Vintage & Collectibles/Clothing/Corset': 11.0, 'Vintage & Collectibles/Clothing/Dress': 34.0, 'Vintage & Collectibles/Clothing/Jacket': 26.0, 'Vintage & Collectibles/Clothing/Other': 14.0, 'Vintage & Collectibles/Clothing/Outerwear': 18.5, 'Vintage & Collectibles/Clothing/Pants': 21.0, 'Vintage & Collectibles/Clothing/Shawl': 10.0, 'Vintage & Collectibles/Clothing/Shirt': 14.0, 'Vintage & Collectibles/Clothing/Shorts': 14.0, 'Vintage & Collectibles/Clothing/Skirt': 12.0, 'Vintage & Collectibles/Clothing/Sweater': 14.0, 'Vintage & Collectibles/Clothing/Swimwear': 14.0, 'Vintage & Collectibles/Clothing/Tank': 12.5, 'Vintage & Collectibles/Clothing/Tshirt': 13.0, 'Vintage & Collectibles/Collectibles/Doll': 20.0, 'Vintage & Collectibles/Collectibles/Figurine': 17.0, 'Vintage & Collectibles/Collectibles/Glass': 16.0, 'Vintage & Collectibles/Collectibles/Other': 16.0, 'Vintage & Collectibles/Collectibles/Porcelain': 19.0, 'Vintage & Collectibles/Collectibles/Souvenir': 15.0, 'Vintage & Collectibles/Electronics/Camera': 32.0, 'Vintage & Collectibles/Electronics/Clock': 17.0, 'Vintage & Collectibles/Electronics/Game': 13.0, 'Vintage & Collectibles/Electronics/Other': 16.0, 'Vintage & Collectibles/Electronics/Radio': 21.0, 'Vintage & Collectibles/Electronics/Telephone': 16.5, 'Vintage & Collectibles/Electronics/Television': 14.0, 'Vintage & Collectibles/Electronics/Video Game': 17.0, 'Vintage & Collectibles/Furniture/Chair': 25.0, 'Vintage & Collectibles/Furniture/Entertainment': 9.0, 'Vintage & Collectibles/Furniture/Fixture': 6.0, 'Vintage & Collectibles/Furniture/Other': 13.0, 'Vintage & Collectibles/Furniture/Shelf': 26.0, 'Vintage & Collectibles/Furniture/Storage': 55.0, 'Vintage & Collectibles/Home Decor/Basket': 26.0, 'Vintage & Collectibles/Home Decor/Bedding': 31.0, 'Vintage & Collectibles/Home Decor/Box': 12.0, 'Vintage & Collectibles/Home Decor/Candle Holder': 16.0, 'Vintage & Collectibles/Home Decor/Frame': 21.0, 'Vintage & Collectibles/Home Decor/Lighting': 21.5, 'Vintage & Collectibles/Home Decor/Linens': 20.0, 'Vintage & Collectibles/Home Decor/Other': 17.0, 'Vintage & Collectibles/Home Decor/Pillow': 20.0, 'Vintage & Collectibles/Home Decor/Planter': 13.0, 'Vintage & Collectibles/Home Decor/Tray': 18.5, 'Vintage & Collectibles/Home Decor/Vase': 16.0, 'Vintage & Collectibles/Home Decor/Wall Hanging': 16.0, 'Vintage & Collectibles/Housewares/Bowl': 22.5, 'Vintage & Collectibles/Housewares/Box': 14.0, 'Vintage & Collectibles/Housewares/Ceramic': 25.0, 'Vintage & Collectibles/Housewares/Coaster': 9.0, 'Vintage & Collectibles/Housewares/Cup': 22.0, 'Vintage & Collectibles/Housewares/Glass': 20.0, 'Vintage & Collectibles/Housewares/Light': 22.0, 'Vintage & Collectibles/Housewares/Magnet': 6.0, 'Vintage & Collectibles/Housewares/Other': 16.0, 'Vintage & Collectibles/Housewares/Plate': 17.0, 'Vintage & Collectibles/Housewares/Pot Holder': 27.5, 'Vintage & Collectibles/Housewares/Table': 23.0, 'Vintage & Collectibles/Housewares/Towel': 31.0, 'Vintage & Collectibles/Housewares/Tray': 17.0, 'Vintage & Collectibles/Jewelry/Bracelet': 16.0, 'Vintage & Collectibles/Jewelry/Brooch': 12.0, 'Vintage & Collectibles/Jewelry/Earrings': 15.0, 'Vintage & Collectibles/Jewelry/Necklace': 15.0, 'Vintage & Collectibles/Jewelry/Other': 15.0, 'Vintage & Collectibles/Jewelry/Pendant': 20.0, 'Vintage & Collectibles/Jewelry/Ring': 22.0, 'Vintage & Collectibles/Jewelry/Watch': 19.0, 'Vintage & Collectibles/Other/Other': 14.0, 'Vintage & Collectibles/Paper Ephemera/Advertisement': 12.0, 'Vintage & Collectibles/Paper Ephemera/Game': 22.5, 'Vintage & Collectibles/Paper Ephemera/Map': 26.0, 'Vintage & Collectibles/Paper Ephemera/Other': 10.0, 'Vintage & Collectibles/Paper Ephemera/Postcard': 7.0, 'Vintage & Collectibles/Paper Ephemera/Stamps': 13.5, 'Vintage & Collectibles/Serving/Bowl': 31.0, 'Vintage & Collectibles/Serving/Butter Dish': 14.0, 'Vintage & Collectibles/Serving/Casserole': 21.5, 'Vintage & Collectibles/Serving/Cream and Sugar Set': 21.0, 'Vintage & Collectibles/Serving/Dinnerware Set': 29.0, 'Vintage & Collectibles/Serving/Flatware': 30.0, 'Vintage & Collectibles/Serving/Glassware': 16.0, 'Vintage & Collectibles/Serving/Mug': 21.0, 'Vintage & Collectibles/Serving/Other': 22.0, 'Vintage & Collectibles/Serving/Pitcher': 21.0, 'Vintage & Collectibles/Serving/Plate': 22.5, 'Vintage & Collectibles/Serving/Platter': 11.5, 'Vintage & Collectibles/Serving/Salt and Pepper Shakers': 12.0, 'Vintage & Collectibles/Serving/Teacup': 17.0, 'Vintage & Collectibles/Serving/Teapot': 16.0, 'Vintage & Collectibles/Serving/Tray': 19.0, 'Vintage & Collectibles/Serving/Tumbler': 23.0, 'Vintage & Collectibles/Supplies/Bead': 11.5, 'Vintage & Collectibles/Supplies/Button': 12.0, 'Vintage & Collectibles/Supplies/Cabochon': 9.0, 'Vintage & Collectibles/Supplies/Chain': 14.0, 'Vintage & Collectibles/Supplies/Charm': 20.0, 'Vintage & Collectibles/Supplies/Ephemera': 6.0, 'Vintage & Collectibles/Supplies/Fabric': 14.0, 'Vintage & Collectibles/Supplies/Finding': 16.0, 'Vintage & Collectibles/Supplies/Other': 16.0, 'Vintage & Collectibles/Supplies/Pattern': 10.0, 'Vintage & Collectibles/Supplies/Trim': 9.5, 'Vintage & Collectibles/Supplies/Yarn': 18.0, 'Vintage & Collectibles/Supplies/Zipper': 16.0, 'Vintage & Collectibles/Toy/Action Figure': 18.0, 'Vintage & Collectibles/Toy/Animal': 14.0, 'Vintage & Collectibles/Toy/Block': 12.0, 'Vintage & Collectibles/Toy/Car': 12.0, 'Vintage & Collectibles/Toy/Children': 19.0, 'Vintage & Collectibles/Toy/Doll': 21.0, 'Vintage & Collectibles/Toy/Electronic': 10.0, 'Vintage & Collectibles/Toy/Game': 16.0, 'Vintage & Collectibles/Toy/Other': 17.5, 'Vintage & Collectibles/Toy/Puzzle': 12.0, 'Vintage & Collectibles/Toy/Sport': 25.0, 'Vintage & Collectibles/Trading Cards/Action, Adventure': 14.5, 'Vintage & Collectibles/Trading Cards/Animation': 9.0, 'Vintage & Collectibles/Trading Cards/Comic': 10.0, 'Vintage & Collectibles/Trading Cards/Historical, Military': 19.0, 'Vintage & Collectibles/Trading Cards/Other': 12.0, 'Vintage & Collectibles/Trading Cards/Price Guides & Publications': 9.0, 'Vintage & Collectibles/Trading Cards/Sci-Fi, Fantasy': 14.0, 'Vintage & Collectibles/Trading Cards/Sports': 6.0, 'Vintage & Collectibles/Trading Cards/Vintage': 11.5, 'Women/Athletic Apparel/Jackets': 26.0, 'Women/Athletic Apparel/Jerseys': 20.0, 'Women/Athletic Apparel/Other': 20.0, 'Women/Athletic Apparel/Pants, Tights, Leggings': 29.0, 'Women/Athletic Apparel/Shirts & Tops': 18.0, 'Women/Athletic Apparel/Shorts': 14.0, 'Women/Athletic Apparel/Skirts, Skorts & Dresses': 18.0, 'Women/Athletic Apparel/Snowsuits & Bibs': 31.0, 'Women/Athletic Apparel/Socks': 12.0, 'Women/Athletic Apparel/Sports Bras': 16.0, 'Women/Athletic Apparel/Tracksuits & Sweats': 24.0, 'Women/Athletic Apparel/Vests': 29.0, 'Women/Coats & Jackets/Cape': 25.0, 'Women/Coats & Jackets/Fleece Jacket': 31.0, 'Women/Coats & Jackets/Jean Jacket': 18.0, 'Women/Coats & Jackets/Military': 20.0, 'Women/Coats & Jackets/Motorcycle': 24.0, 'Women/Coats & Jackets/Other': 26.0, 'Women/Coats & Jackets/Parka': 42.0, 'Women/Coats & Jackets/Peacoat': 21.0, 'Women/Coats & Jackets/Poncho': 20.0, 'Women/Coats & Jackets/Puffer': 35.0, 'Women/Coats & Jackets/Raincoat': 26.0, 'Women/Coats & Jackets/Trench': 24.5, 'Women/Coats & Jackets/Vest': 19.0, 'Women/Coats & Jackets/Windbreaker': 35.0, 'Women/Coats & Jackets/Wool': 30.0, 'Women/Dresses/Above Knee, Mini': 16.0, 'Women/Dresses/Asymmetrical Hem': 44.0, 'Women/Dresses/Full-Length': 24.0, 'Women/Dresses/Knee-Length': 25.0, 'Women/Dresses/Mid-Calf': 26.0, 'Women/Dresses/Other': 19.0, 'Women/Jeans/Boot Cut': 24.0, 'Women/Jeans/Boyfriend': 20.0, 'Women/Jeans/Capri, Cropped': 19.0, 'Women/Jeans/Cargo': 16.0, 'Women/Jeans/Flare': 18.0, 'Women/Jeans/Leggings': 29.0, 'Women/Jeans/Other': 18.0, 'Women/Jeans/Overalls': 16.0, 'Women/Jeans/Relaxed': 19.5, 'Women/Jeans/Slim, Skinny': 17.0, 'Women/Jeans/Straight Leg': 21.0, 'Women/Jeans/Wide Leg': 16.0, 'Women/Jewelry/Bracelets': 18.0, 'Women/Jewelry/Earrings': 14.0, 'Women/Jewelry/Necklaces': 12.0, 'Women/Jewelry/Rings': 15.0, 'Women/Maternity/Athletic Apparel': 14.0, 'Women/Maternity/Coats & Jackets': 18.5, 'Women/Maternity/Dresses': 28.0, 'Women/Maternity/Jeans': 15.0, 'Women/Maternity/Other': 15.0, 'Women/Maternity/Pants': 13.0, 'Women/Maternity/Skirts': 13.0, 'Women/Maternity/Suits & Blazers': 11.5, 'Women/Maternity/Sweaters': 14.0, 'Women/Maternity/Tops & Blouses': 12.0, 'Women/Other/Other': 17.0, 'Women/Pants/Capris, Cropped': 15.0, 'Women/Pants/Cargo': 14.0, 'Women/Pants/Casual Pants': 14.0, 'Women/Pants/Corduroys': 14.0, 'Women/Pants/Dress Pants': 14.0, 'Women/Pants/Khakis, Chinos': 12.0, 'Women/Pants/Leather': 18.0, 'Women/Pants/Linen': 12.0, 'Women/Pants/Other': 17.0, 'Women/Shoes/Athletic': 35.0, 'Women/Shoes/Boots': 31.0, 'Women/Shoes/Fashion Sneakers': 27.0, 'Women/Shoes/Flats': 18.0, 'Women/Shoes/Loafers & Slip-Ons': 21.0, 'Women/Shoes/Mules & Clogs': 26.0, 'Women/Shoes/Other': 21.0, 'Women/Shoes/Outdoor': 35.0, 'Women/Shoes/Oxfords': 19.0, 'Women/Shoes/Pumps': 20.0, 'Women/Shoes/Sandals': 21.0, 'Women/Shoes/Slippers': 20.0, 'Women/Shoes/Work & Safety': 25.0, 'Women/Skirts/A-Line': 21.0, 'Women/Skirts/Asymmetrical': 12.0, 'Women/Skirts/Bubble': 13.5, 'Women/Skirts/Full Skirt': 15.0, 'Women/Skirts/Maxi': 20.0, 'Women/Skirts/Mini': 12.0, 'Women/Skirts/Other': 16.0, 'Women/Skirts/Peasant': 10.5, 'Women/Skirts/Pleated': 29.0, 'Women/Skirts/Straight, Pencil': 21.0, 'Women/Skirts/Tiered': 17.0, 'Women/Skirts/Wrap': 14.0, 'Women/Suits & Blazers/Blazer': 15.0, 'Women/Suits & Blazers/Dress Suit': 20.0, 'Women/Suits & Blazers/Other': 14.0, 'Women/Suits & Blazers/Pant Suit': 19.0, 'Women/Suits & Blazers/Skirt Suit': 22.0, 'Women/Sweaters/Cardigan': 17.0, 'Women/Sweaters/Collared': 30.0, 'Women/Sweaters/Cowl Neck': 26.0, 'Women/Sweaters/Crewneck': 20.0, 'Women/Sweaters/Full Zip': 23.0, 'Women/Sweaters/Henley': 16.0, 'Women/Sweaters/Hooded': 21.0, 'Women/Sweaters/Other': 20.0, 'Women/Sweaters/Poncho': 20.0, 'Women/Sweaters/Scoop Neck': 14.0, 'Women/Sweaters/Shrug': 12.0, 'Women/Sweaters/Sweatercoat': 54.5, 'Women/Sweaters/Tunic': 15.0, 'Women/Sweaters/Turtleneck, Mock': 15.0, 'Women/Sweaters/V-Neck': 14.0, 'Women/Sweaters/Vest, Sleeveless': 40.0, 'Women/Sweaters/Wrap': 16.0, 'Women/Swimwear/Beach Accessories': 16.0, 'Women/Swimwear/Cover-Ups': 14.0, 'Women/Swimwear/One-Piece': 18.0, 'Women/Swimwear/Two-Piece': 16.0, 'Women/Tops & Blouses/Blouse': 12.0, 'Women/Tops & Blouses/Button Down Shirt': 12.0, 'Women/Tops & Blouses/Halter': 12.0, 'Women/Tops & Blouses/Knit Top': 15.0, 'Women/Tops & Blouses/Other': 15.0, 'Women/Tops & Blouses/Polo Shirt': 13.0, 'Women/Tops & Blouses/T-Shirts': 15.0, 'Women/Tops & Blouses/Tank, Cami': 12.0, 'Women/Tops & Blouses/Tunic': 26.0, 'Women/Tops & Blouses/Turtleneck': 12.0, 'Women/Tops & Blouses/Wrap': 24.0, 'Women/Underwear/Bras': 15.0, 'Women/Underwear/G-Strings & Thongs': 12.0, 'Women/Underwear/Other': 14.0, 'Women/Underwear/Panties': 13.0, 'Women/Underwear/Thermal Underwear': 25.0, \"Women/Women's Accessories/Belts\": 14.0, \"Women/Women's Accessories/Hair Accessories\": 13.0, \"Women/Women's Accessories/Hats\": 14.0, \"Women/Women's Accessories/Other\": 14.0, \"Women/Women's Accessories/Scarves & Wraps\": 14.0, \"Women/Women's Accessories/Sunglasses\": 19.0, \"Women/Women's Accessories/Wallets\": 24.0, \"Women/Women's Accessories/Watches\": 32.0, \"Women/Women's Handbags/Backpack Style\": 30.0, \"Women/Women's Handbags/Baguette\": 20.0, \"Women/Women's Handbags/Cosmetic Bags\": 13.0, \"Women/Women's Handbags/Hobo\": 36.0, \"Women/Women's Handbags/Messenger & Crossbody\": 36.0, \"Women/Women's Handbags/Other\": 20.0, \"Women/Women's Handbags/Satchel\": 90.0, \"Women/Women's Handbags/Shoulder Bag\": 36.0, \"Women/Women's Handbags/Totes & Shoppers\": 28.0}\n"
          ]
        }
      ]
    },
    {
      "cell_type": "markdown",
      "metadata": {
        "id": "kXN5EuB9xfTW"
      },
      "source": [
        "###Create samples dataframe"
      ]
    },
    {
      "cell_type": "code",
      "metadata": {
        "colab": {
          "base_uri": "https://localhost:8080/"
        },
        "id": "y3XWixrexkBT",
        "outputId": "09b31070-aacc-49cc-c1e4-83cf09a62ef6"
      },
      "source": [
        "sample_set = df_train.sample(frac=0.1, replace=True, random_state=1)\n",
        "targets = np.array(sample_set['price'].array)\n",
        "print(targets)"
      ],
      "execution_count": 142,
      "outputs": [
        {
          "output_type": "stream",
          "name": "stdout",
          "text": [
            "[16. 17. 30. ... 10. 16.  6.]\n"
          ]
        }
      ]
    },
    {
      "cell_type": "markdown",
      "metadata": {
        "id": "VFRQCXVR060l"
      },
      "source": [
        "###Create predictions for samples"
      ]
    },
    {
      "cell_type": "code",
      "metadata": {
        "colab": {
          "base_uri": "https://localhost:8080/"
        },
        "id": "q42p5xzM0-8L",
        "outputId": "9895e883-949b-4c81-cf0f-2e03455d564d"
      },
      "source": [
        "predictions = []\n",
        "for s in sample_set['category_name']:\n",
        "  #print(medians[s])\n",
        "  predictions.append(medians[s])\n",
        "\n",
        "predictions = np.array(predictions)\n",
        "print(predictions)"
      ],
      "execution_count": 143,
      "outputs": [
        {
          "output_type": "stream",
          "name": "stdout",
          "text": [
            "[12. 12. 18. ... 13. 14.  9.]\n"
          ]
        }
      ]
    },
    {
      "cell_type": "markdown",
      "metadata": {
        "id": "1B4Sa74iCsb5"
      },
      "source": [
        "###Calculate RMSLE"
      ]
    },
    {
      "cell_type": "code",
      "metadata": {
        "colab": {
          "base_uri": "https://localhost:8080/"
        },
        "id": "tWCMukBHCxZL",
        "outputId": "064a2026-eb31-4189-fd3b-ac5f4920eacb"
      },
      "source": [
        "print(np.sqrt(np.mean(np.power(np.log1p(predictions) - np.log1p(targets), 2))))"
      ],
      "execution_count": 146,
      "outputs": [
        {
          "output_type": "stream",
          "name": "stdout",
          "text": [
            "0.6562286004932496\n"
          ]
        }
      ]
    }
  ]
}